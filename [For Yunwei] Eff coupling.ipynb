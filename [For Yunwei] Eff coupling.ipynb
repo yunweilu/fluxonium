{
 "cells": [
  {
   "cell_type": "markdown",
   "metadata": {},
   "source": [
    "Install chencrafts:\n",
    "`pip install chencrafts`"
   ]
  },
  {
   "cell_type": "code",
   "execution_count": 6,
   "metadata": {},
   "outputs": [],
   "source": [
    "import numpy as np\n",
    "import scqubits as scq\n",
    "import matplotlib.pyplot as plt\n",
    "import qutip as qt\n",
    "import chencrafts as cc"
   ]
  },
  {
   "cell_type": "code",
   "execution_count": 7,
   "metadata": {},
   "outputs": [],
   "source": [
    "exp_params = {\n",
    "    'E_Ja': 5.645,\n",
    "    'E_Jb': 4.85,\n",
    "    'E_Ca': 0.952,\n",
    "    'E_Cb': 0.9,\n",
    "    'E_J': 4.246,\n",
    "    'E_C': 12,\n",
    "    'ECm': 8,\n",
    "    'E_L1': 3.52,\n",
    "    'E_L2': 3.52,\n",
    "    # 'E_La': 0.292,\n",
    "    # 'E_Lb': 0.287,\n",
    "    'E_La': 0.29,\n",
    "    'E_Lb': 0.29,\n",
    "\n",
    "    'flux_s': 0.5 - 0.4483319171817633,\n",
    "    'flux_c': 0.31710517597502225,\n",
    "}\n",
    "\n",
    "para = exp_params\n",
    "para[\"flux_a\"] = 0.5 + para[\"flux_s\"]\n",
    "para[\"flux_b\"] = 0.5 - para[\"flux_s\"]"
   ]
  },
  {
   "cell_type": "code",
   "execution_count": 8,
   "metadata": {},
   "outputs": [],
   "source": [
    "sim_params = {\n",
    "    \"qa_cutoff\": 110,\n",
    "    \"qb_cutoff\": 110,\n",
    "    \"p_cutoff\": 110,\n",
    "    \"m_cutoff\": 110,\n",
    "    \"qa_dim\": 5,\n",
    "    \"qb_dim\": 5,\n",
    "    \"p_dim\": 5,\n",
    "    \"m_dim\": 7,\n",
    "}"
   ]
  },
  {
   "cell_type": "code",
   "execution_count": 9,
   "metadata": {},
   "outputs": [
    {
     "data": {
      "text/latex": [
       "$ \\left(24.0 Q_{3}^{2} + 96.0 Q_{4}^{2} + 3.6 Q_{2}^{2} + 3.808 Q_{1}^{2}\\right) - \\left(- 0.145 θ_{1}^{2} - 0.145 θ_{2}^{2} - 0.9525 θ_{3}^{2} - 0.9525 θ_{4}^{2} + E_{J} \\cos{\\left((2πΦ_{3}) - 1.0 θ_{3} \\right)} + E_{Ja} \\cos{\\left((2πΦ_{1}) + θ_{1} \\right)} + E_{Jb} \\cos{\\left((2πΦ_{2}) + θ_{2} \\right)} + 0.145 θ_{1} θ_{3} + 0.145 θ_{1} θ_{4} + 0.145 θ_{2} θ_{4} - 0.145 θ_{2} θ_{3}\\right) $"
      ],
      "text/plain": [
       "<IPython.core.display.Latex object>"
      ]
     },
     "metadata": {},
     "output_type": "display_data"
    }
   ],
   "source": [
    "circ_yaml = f\"\"\"\n",
    "branches:\n",
    "# qubit a\n",
    "- [\"JJ\", 0, 1, E_Ja = {para[\"E_Ja\"]}, E_Ca = {para[\"E_Ca\"]}]\n",
    "- [\"L\", 1, 2, E_La = {para[\"E_La\"]}]\n",
    "\n",
    "# coupler\n",
    "- [\"C\", 0, 2, E_C = {para[\"E_C\"]}]\n",
    "- [\"L\", 0, 2, E_L1 = {para[\"E_L1\"]}]\n",
    "- [\"C\", 0, 3, E_C]\n",
    "- [\"L\", 0, 3, E_L2 = {para[\"E_L2\"]}]\n",
    "- [\"JJ\", 2, 3, E_J = {para[\"E_J\"]}, ECm = {para[\"ECm\"]}]\n",
    "\n",
    "# qubit b\n",
    "- [\"JJ\", 0, 4, E_Jb = {para[\"E_Jb\"]}, E_Cb = {para[\"E_Cb\"]}]\n",
    "- [\"L\", 3, 4, E_Lb = {para[\"E_Lb\"]}]\n",
    "\"\"\"\n",
    "\n",
    "ftc = scq.Circuit(circ_yaml, from_file=False)\n",
    "\n",
    "trans_mat = np.linalg.inv([\n",
    "    [1, 0, 0, 0],\n",
    "    [0, 0, 0, 1],\n",
    "    [0, 1, -1, 0],\n",
    "    [0, 1, 1, 0],\n",
    "])\n",
    "\n",
    "ftc.cutoff_ext_1 = sim_params[\"qa_cutoff\"]\n",
    "ftc.cutoff_ext_2 = sim_params[\"qb_cutoff\"]\n",
    "ftc.cutoff_ext_3 = sim_params[\"m_cutoff\"]\n",
    "ftc.cutoff_ext_4 = sim_params[\"p_cutoff\"]\n",
    "\n",
    "brch = ftc.branches\n",
    "ftc.configure(\n",
    "    transformation_matrix=trans_mat, \n",
    "    # system_hierarchy=[[1], [2], [3], [4]], \n",
    "    system_hierarchy=[[1], [2], [[3], [4]]], \n",
    "    subsystem_trunc_dims=[\n",
    "        sim_params[\"qa_dim\"], \n",
    "        sim_params[\"qb_dim\"],\n",
    "        [sim_params[\"m_dim\"] * 2, [\n",
    "            sim_params[\"m_dim\"], \n",
    "            sim_params[\"p_dim\"]\n",
    "        ]], \n",
    "        # sim_params[\"m_dim\"], \n",
    "        # sim_params[\"p_dim\"],\n",
    "    ],\n",
    "    closure_branches=[\n",
    "        brch[0], brch[7], brch[6]   # flux in junctions\n",
    "    ],\n",
    "    # closure_branches=[circ.branches[1], circ.branches[4]]   # flux in inductors\n",
    ")\n",
    "\n",
    "ftc.Φ1 = -para[\"flux_a\"]\n",
    "ftc.Φ2 = -para[\"flux_b\"]\n",
    "ftc.Φ3 = para[\"flux_c\"]\n",
    "\n",
    "ftc.sym_hamiltonian()"
   ]
  },
  {
   "cell_type": "code",
   "execution_count": 10,
   "metadata": {},
   "outputs": [
    {
     "data": {
      "text/plain": [
       "array([0.      , 0.048191, 0.062287, 0.110434])"
      ]
     },
     "execution_count": 10,
     "metadata": {},
     "output_type": "execute_result"
    }
   ],
   "source": [
    "evals = ftc.eigenvals(4)\n",
    "evals - evals[0]"
   ]
  },
  {
   "cell_type": "markdown",
   "metadata": {},
   "source": [
    "## Sweet spot identification"
   ]
  },
  {
   "cell_type": "code",
   "execution_count": 4,
   "metadata": {},
   "outputs": [],
   "source": [
    "from typing import Tuple\n",
    "\n",
    "def find_sweetspot_by_spectrum(\n",
    "    self,   # the ftc circuit\n",
    "    flux_c = None, \n",
    "    evals_count=4,\n",
    "    ftol = 1e-8,\n",
    "    gtol = 1e-8,\n",
    "    eps = 1e-11,\n",
    "    mode = \"l3\",\n",
    "    flux_s_bounds = [0, 0.1],\n",
    "    flux_sb_bounds = None,      # if not None, flux_a and b are independent\n",
    "    flux_c_bounds = [0.25, 0.3],\n",
    "    run_num = 1,\n",
    "    **kwargs\n",
    ") -> Tuple[float, float, float]:\n",
    "    \n",
    "    def freq_ab(params, evals_count, mode):\n",
    "        try:\n",
    "            self.flux_a = 0.5 + params[\"flux_s\"]\n",
    "            self.flux_c = params[\"flux_c\"]\n",
    "            if flux_sb_bounds is None:\n",
    "                self.flux_b = 0.5 - params[\"flux_s\"]\n",
    "            else:\n",
    "                self.flux_b = 0.5 + params[\"flux_sb\"]\n",
    "        except Exception:\n",
    "            self.Φ1 = 0.5 + params[\"flux_s\"]\n",
    "            if flux_sb_bounds is None:\n",
    "                self.Φ2 = 0.5 - params[\"flux_s\"]\n",
    "            else:\n",
    "                self.Φ2 = 0.5 + params[\"flux_sb\"]\n",
    "            self.Φ3 = params[\"flux_c\"]\n",
    "\n",
    "        eigs = self.eigenvals(evals_count)\n",
    "        if mode == \"l3\":\n",
    "            return eigs[3] - eigs[0]\n",
    "        elif mode == \"l1+l2\":\n",
    "            return eigs[1] + eigs[2] - 2 * eigs[0]\n",
    "        elif mode == \"l2-l1\":\n",
    "            return np.abs(eigs[2] - eigs[1])\n",
    "        elif mode == \"zz\":\n",
    "            abszz = np.abs(eigs[3] - eigs[2] - eigs[1] + eigs[0])\n",
    "            return abszz\n",
    "        elif mode == \"l1+l2+zz\":\n",
    "            abszz = np.abs(eigs[3] - eigs[2] - eigs[1] + eigs[0])\n",
    "            return eigs[1] + eigs[2] - 2 * eigs[0] + abszz\n",
    "        else:\n",
    "            raise ValueError(\"mode not supported\")\n",
    "        \n",
    "    free_params = {\"flux_s\": flux_s_bounds, \"flux_c\": flux_c_bounds}\n",
    "    if flux_sb_bounds is not None:\n",
    "        free_params[\"flux_sb\"] = flux_sb_bounds\n",
    "    \n",
    "    opt = cc.tb.Optimization(\n",
    "        {}, free_params,\n",
    "        freq_ab,\n",
    "        optimizer=\"L-BFGS-B\",\n",
    "        target_kwargs={\"evals_count\": evals_count, \"mode\": mode},\n",
    "        opt_options={\"ftol\": ftol, \"gtol\": gtol, \"disp\": False, \"eps\": eps, \"maxls\": 100}\n",
    "    )\n",
    "\n",
    "    if flux_c is not None:\n",
    "        opt.fix(flux_c=flux_c)\n",
    "    \n",
    "    multi_opt = cc.tb.MultiOpt(opt)\n",
    "    multi_traj = multi_opt.run(run_num)\n",
    "    traj = multi_traj.best_traj()\n",
    "\n",
    "    try:\n",
    "        self.flux_a = 0.5 + traj.final_full_para[\"flux_s\"]\n",
    "        self.flux_c = traj.final_full_para[\"flux_c\"]\n",
    "        if flux_sb_bounds is None:\n",
    "            self.flux_b = 0.5 - traj.final_full_para[\"flux_s\"]\n",
    "        else:\n",
    "            self.flux_b = 0.5 + traj.final_full_para[\"flux_sb\"]\n",
    "        \n",
    "        return self.flux_a, self.flux_b, self.flux_c\n",
    "    except Exception:\n",
    "        self.Φ1 = 0.5 + traj.final_full_para[\"flux_s\"]\n",
    "        if flux_sb_bounds is None:\n",
    "            self.Φ2 = 0.5 - traj.final_full_para[\"flux_s\"]\n",
    "        else:\n",
    "            self.Φ2 = 0.5 + traj.final_full_para[\"flux_sb\"]\n",
    "        self.Φ3 = traj.final_full_para[\"flux_c\"]\n",
    "        \n",
    "        return self.Φ1, self.Φ2, self.Φ3\n"
   ]
  },
  {
   "cell_type": "code",
   "execution_count": 11,
   "metadata": {},
   "outputs": [
    {
     "name": "stderr",
     "output_type": "stream",
     "text": [
      "SyntaxWarning: invalid escape sequence '\\ '\n",
      " /Users/apple/PycharmProjects/scqubits/scqubits/core/circuit_routines.py: 2700"
     ]
    },
    {
     "ename": "KeyboardInterrupt",
     "evalue": "",
     "output_type": "error",
     "traceback": [
      "\u001b[0;31m---------------------------------------------------------------------------\u001b[0m",
      "\u001b[0;31mKeyboardInterrupt\u001b[0m                         Traceback (most recent call last)",
      "Cell \u001b[0;32mIn[11], line 1\u001b[0m\n\u001b[0;32m----> 1\u001b[0m phi1, phi2, phi3 \u001b[38;5;241m=\u001b[39m find_sweetspot_by_spectrum(\n\u001b[1;32m      2\u001b[0m     ftc, \n\u001b[1;32m      3\u001b[0m     \u001b[38;5;66;03m# flux_c = 0.1,\u001b[39;00m\n\u001b[1;32m      4\u001b[0m     flux_s_bounds \u001b[38;5;241m=\u001b[39m [\u001b[38;5;241m-\u001b[39m\u001b[38;5;241m0.1\u001b[39m, \u001b[38;5;241m0.1\u001b[39m],\n\u001b[1;32m      5\u001b[0m     flux_c_bounds \u001b[38;5;241m=\u001b[39m [\u001b[38;5;241m0.0\u001b[39m, \u001b[38;5;241m0.5\u001b[39m],\n\u001b[1;32m      6\u001b[0m     run_num\u001b[38;5;241m=\u001b[39m\u001b[38;5;241m10\u001b[39m,\n\u001b[1;32m      7\u001b[0m )\n",
      "Cell \u001b[0;32mIn[4], line 66\u001b[0m, in \u001b[0;36mfind_sweetspot_by_spectrum\u001b[0;34m(self, flux_c, evals_count, ftol, gtol, eps, mode, flux_s_bounds, flux_sb_bounds, flux_c_bounds, run_num, **kwargs)\u001b[0m\n\u001b[1;32m     63\u001b[0m     opt\u001b[38;5;241m.\u001b[39mfix(flux_c\u001b[38;5;241m=\u001b[39mflux_c)\n\u001b[1;32m     65\u001b[0m multi_opt \u001b[38;5;241m=\u001b[39m cc\u001b[38;5;241m.\u001b[39mtb\u001b[38;5;241m.\u001b[39mMultiOpt(opt)\n\u001b[0;32m---> 66\u001b[0m multi_traj \u001b[38;5;241m=\u001b[39m multi_opt\u001b[38;5;241m.\u001b[39mrun(run_num)\n\u001b[1;32m     67\u001b[0m traj \u001b[38;5;241m=\u001b[39m multi_traj\u001b[38;5;241m.\u001b[39mbest_traj()\n\u001b[1;32m     69\u001b[0m \u001b[38;5;28;01mtry\u001b[39;00m:\n",
      "File \u001b[0;32m~/miniconda3/envs/flux/lib/python3.12/site-packages/chencrafts/toolbox/optimize.py:1226\u001b[0m, in \u001b[0;36mMultiOpt.run\u001b[0;34m(self, run_num, call_back, check_func, check_kwargs, save_path, cpu_num)\u001b[0m\n\u001b[1;32m   1224\u001b[0m \u001b[38;5;66;03m# Filter out None results and append valid ones to multi_result\u001b[39;00m\n\u001b[1;32m   1225\u001b[0m multi_result \u001b[38;5;241m=\u001b[39m MultiTraj()\n\u001b[0;32m-> 1226\u001b[0m \u001b[38;5;28;01mfor\u001b[39;00m result \u001b[38;5;129;01min\u001b[39;00m results:\n\u001b[1;32m   1227\u001b[0m     \u001b[38;5;28;01mif\u001b[39;00m result \u001b[38;5;129;01mis\u001b[39;00m \u001b[38;5;129;01mnot\u001b[39;00m \u001b[38;5;28;01mNone\u001b[39;00m:\n\u001b[1;32m   1228\u001b[0m         multi_result\u001b[38;5;241m.\u001b[39mappend(result)\n",
      "File \u001b[0;32m~/miniconda3/envs/flux/lib/python3.12/site-packages/chencrafts/toolbox/optimize.py:1157\u001b[0m, in \u001b[0;36mMultiOpt._worker\u001b[0;34m(self, args)\u001b[0m\n\u001b[1;32m   1154\u001b[0m     save_kwargs \u001b[38;5;241m=\u001b[39m {}\n\u001b[1;32m   1156\u001b[0m \u001b[38;5;28;01mtry\u001b[39;00m: \n\u001b[0;32m-> 1157\u001b[0m     result \u001b[38;5;241m=\u001b[39m \u001b[38;5;28mself\u001b[39m\u001b[38;5;241m.\u001b[39moptimize\u001b[38;5;241m.\u001b[39mrun(\n\u001b[1;32m   1158\u001b[0m         init_x\u001b[38;5;241m=\u001b[39minit_x,  \n\u001b[1;32m   1159\u001b[0m         call_back\u001b[38;5;241m=\u001b[39mcall_back,\n\u001b[1;32m   1160\u001b[0m         check_func\u001b[38;5;241m=\u001b[39mcheck_func,\n\u001b[1;32m   1161\u001b[0m         check_kwargs\u001b[38;5;241m=\u001b[39mcheck_kwargs,\n\u001b[1;32m   1162\u001b[0m         \u001b[38;5;241m*\u001b[39m\u001b[38;5;241m*\u001b[39msave_kwargs,\n\u001b[1;32m   1163\u001b[0m     )\n\u001b[1;32m   1165\u001b[0m \u001b[38;5;28;01mexcept\u001b[39;00m \u001b[38;5;167;01mValueError\u001b[39;00m \u001b[38;5;28;01mas\u001b[39;00m e:\n\u001b[1;32m   1166\u001b[0m     \u001b[38;5;28mprint\u001b[39m(\u001b[38;5;124mf\u001b[39m\u001b[38;5;124m\"\u001b[39m\u001b[38;5;124mCapture a ValueError from optimization: \u001b[39m\u001b[38;5;132;01m{\u001b[39;00me\u001b[38;5;132;01m}\u001b[39;00m\u001b[38;5;124m\"\u001b[39m)\n",
      "File \u001b[0;32m~/miniconda3/envs/flux/lib/python3.12/site-packages/chencrafts/toolbox/optimize.py:1077\u001b[0m, in \u001b[0;36mOptimization.run\u001b[0;34m(self, init_x, call_back, check_func, check_kwargs, file_name, fixed_para_file_name)\u001b[0m\n\u001b[1;32m   1075\u001b[0m \u001b[38;5;66;03m# run the scipy optimizer\u001b[39;00m\n\u001b[1;32m   1076\u001b[0m \u001b[38;5;28;01mif\u001b[39;00m \u001b[38;5;28mself\u001b[39m\u001b[38;5;241m.\u001b[39moptimizer \u001b[38;5;129;01min\u001b[39;00m (\u001b[38;5;124m\"\u001b[39m\u001b[38;5;124mL-BFGS-B\u001b[39m\u001b[38;5;124m\"\u001b[39m, \u001b[38;5;124m\"\u001b[39m\u001b[38;5;124mNelder-Mead\u001b[39m\u001b[38;5;124m\"\u001b[39m, \u001b[38;5;124m\"\u001b[39m\u001b[38;5;124mPowell\u001b[39m\u001b[38;5;124m\"\u001b[39m, \u001b[38;5;124m\"\u001b[39m\u001b[38;5;124mTNC\u001b[39m\u001b[38;5;124m\"\u001b[39m, \u001b[38;5;124m\"\u001b[39m\u001b[38;5;124mSLSQP\u001b[39m\u001b[38;5;124m\"\u001b[39m):\n\u001b[0;32m-> 1077\u001b[0m     scipy_res \u001b[38;5;241m=\u001b[39m minimize(\n\u001b[1;32m   1078\u001b[0m         fun\u001b[38;5;241m=\u001b[39m\u001b[38;5;28mself\u001b[39m\u001b[38;5;241m.\u001b[39m_opt_func,\n\u001b[1;32m   1079\u001b[0m         \u001b[38;5;241m*\u001b[39m\u001b[38;5;241m*\u001b[39mopt_kwargs,\n\u001b[1;32m   1080\u001b[0m         x0\u001b[38;5;241m=\u001b[39minit_x_arr,\n\u001b[1;32m   1081\u001b[0m         method\u001b[38;5;241m=\u001b[39m\u001b[38;5;28mself\u001b[39m\u001b[38;5;241m.\u001b[39moptimizer,\n\u001b[1;32m   1082\u001b[0m         options\u001b[38;5;241m=\u001b[39m\u001b[38;5;28mself\u001b[39m\u001b[38;5;241m.\u001b[39mopt_options,\n\u001b[1;32m   1083\u001b[0m     )\n\u001b[1;32m   1084\u001b[0m \u001b[38;5;28;01melif\u001b[39;00m \u001b[38;5;28mself\u001b[39m\u001b[38;5;241m.\u001b[39moptimizer \u001b[38;5;241m==\u001b[39m \u001b[38;5;124m\"\u001b[39m\u001b[38;5;124mshgo\u001b[39m\u001b[38;5;124m\"\u001b[39m:\n\u001b[1;32m   1085\u001b[0m     opt_options \u001b[38;5;241m=\u001b[39m \u001b[38;5;28mself\u001b[39m\u001b[38;5;241m.\u001b[39mopt_options\u001b[38;5;241m.\u001b[39mcopy()\n",
      "File \u001b[0;32m~/miniconda3/envs/flux/lib/python3.12/site-packages/scipy/optimize/_minimize.py:731\u001b[0m, in \u001b[0;36mminimize\u001b[0;34m(fun, x0, args, method, jac, hess, hessp, bounds, constraints, tol, callback, options)\u001b[0m\n\u001b[1;32m    728\u001b[0m     res \u001b[38;5;241m=\u001b[39m _minimize_newtoncg(fun, x0, args, jac, hess, hessp, callback,\n\u001b[1;32m    729\u001b[0m                              \u001b[38;5;241m*\u001b[39m\u001b[38;5;241m*\u001b[39moptions)\n\u001b[1;32m    730\u001b[0m \u001b[38;5;28;01melif\u001b[39;00m meth \u001b[38;5;241m==\u001b[39m \u001b[38;5;124m'\u001b[39m\u001b[38;5;124ml-bfgs-b\u001b[39m\u001b[38;5;124m'\u001b[39m:\n\u001b[0;32m--> 731\u001b[0m     res \u001b[38;5;241m=\u001b[39m _minimize_lbfgsb(fun, x0, args, jac, bounds,\n\u001b[1;32m    732\u001b[0m                            callback\u001b[38;5;241m=\u001b[39mcallback, \u001b[38;5;241m*\u001b[39m\u001b[38;5;241m*\u001b[39moptions)\n\u001b[1;32m    733\u001b[0m \u001b[38;5;28;01melif\u001b[39;00m meth \u001b[38;5;241m==\u001b[39m \u001b[38;5;124m'\u001b[39m\u001b[38;5;124mtnc\u001b[39m\u001b[38;5;124m'\u001b[39m:\n\u001b[1;32m    734\u001b[0m     res \u001b[38;5;241m=\u001b[39m _minimize_tnc(fun, x0, args, jac, bounds, callback\u001b[38;5;241m=\u001b[39mcallback,\n\u001b[1;32m    735\u001b[0m                         \u001b[38;5;241m*\u001b[39m\u001b[38;5;241m*\u001b[39moptions)\n",
      "File \u001b[0;32m~/miniconda3/envs/flux/lib/python3.12/site-packages/scipy/optimize/_lbfgsb_py.py:413\u001b[0m, in \u001b[0;36m_minimize_lbfgsb\u001b[0;34m(fun, x0, args, jac, bounds, disp, maxcor, ftol, gtol, eps, maxfun, maxiter, iprint, callback, maxls, finite_diff_rel_step, **unknown_options)\u001b[0m\n\u001b[1;32m    410\u001b[0m n_iterations \u001b[38;5;241m+\u001b[39m\u001b[38;5;241m=\u001b[39m \u001b[38;5;241m1\u001b[39m\n\u001b[1;32m    412\u001b[0m intermediate_result \u001b[38;5;241m=\u001b[39m OptimizeResult(x\u001b[38;5;241m=\u001b[39mx, fun\u001b[38;5;241m=\u001b[39mf)\n\u001b[0;32m--> 413\u001b[0m \u001b[38;5;28;01mif\u001b[39;00m _call_callback_maybe_halt(callback, intermediate_result):\n\u001b[1;32m    414\u001b[0m     task[:] \u001b[38;5;241m=\u001b[39m \u001b[38;5;124m'\u001b[39m\u001b[38;5;124mSTOP: CALLBACK REQUESTED HALT\u001b[39m\u001b[38;5;124m'\u001b[39m\n\u001b[1;32m    415\u001b[0m \u001b[38;5;28;01mif\u001b[39;00m n_iterations \u001b[38;5;241m>\u001b[39m\u001b[38;5;241m=\u001b[39m maxiter:\n",
      "File \u001b[0;32m~/miniconda3/envs/flux/lib/python3.12/site-packages/scipy/_lib/_util.py:855\u001b[0m, in \u001b[0;36m_call_callback_maybe_halt\u001b[0;34m(callback, res)\u001b[0m\n\u001b[1;32m    853\u001b[0m     \u001b[38;5;28;01mreturn\u001b[39;00m \u001b[38;5;28;01mFalse\u001b[39;00m\n\u001b[1;32m    854\u001b[0m \u001b[38;5;28;01mtry\u001b[39;00m:\n\u001b[0;32m--> 855\u001b[0m     callback(res)\n\u001b[1;32m    856\u001b[0m     \u001b[38;5;28;01mreturn\u001b[39;00m \u001b[38;5;28;01mFalse\u001b[39;00m\n\u001b[1;32m    857\u001b[0m \u001b[38;5;28;01mexcept\u001b[39;00m \u001b[38;5;167;01mStopIteration\u001b[39;00m:\n",
      "File \u001b[0;32m~/miniconda3/envs/flux/lib/python3.12/site-packages/scipy/optimize/_optimize.py:105\u001b[0m, in \u001b[0;36m_wrap_callback.<locals>.wrapped_callback\u001b[0;34m(res)\u001b[0m\n\u001b[1;32m    104\u001b[0m \u001b[38;5;28;01mdef\u001b[39;00m \u001b[38;5;21mwrapped_callback\u001b[39m(res):\n\u001b[0;32m--> 105\u001b[0m     \u001b[38;5;28;01mreturn\u001b[39;00m callback(np\u001b[38;5;241m.\u001b[39mcopy(res\u001b[38;5;241m.\u001b[39mx))\n",
      "File \u001b[0;32m~/miniconda3/envs/flux/lib/python3.12/site-packages/chencrafts/toolbox/optimize.py:986\u001b[0m, in \u001b[0;36mOptimization._construct_call_back.<locals>.opt_call_back\u001b[0;34m(x, convergence)\u001b[0m\n\u001b[1;32m    984\u001b[0m \u001b[38;5;28;01mdef\u001b[39;00m \u001b[38;5;21mopt_call_back\u001b[39m(x, convergence\u001b[38;5;241m=\u001b[39m\u001b[38;5;28;01mNone\u001b[39;00m):\n\u001b[1;32m    985\u001b[0m     \u001b[38;5;66;03m# record the result\u001b[39;00m\n\u001b[0;32m--> 986\u001b[0m     denorm_x, target, constr \u001b[38;5;241m=\u001b[39m \u001b[38;5;28mself\u001b[39m\u001b[38;5;241m.\u001b[39m_evaluate_record(x)\n\u001b[1;32m    987\u001b[0m     result\u001b[38;5;241m.\u001b[39mappend(\n\u001b[1;32m    988\u001b[0m         denorm_x,\n\u001b[1;32m    989\u001b[0m         target,\n\u001b[1;32m    990\u001b[0m         constr\n\u001b[1;32m    991\u001b[0m     )\n\u001b[1;32m    993\u001b[0m     \u001b[38;5;66;03m# save the result on the fly\u001b[39;00m\n",
      "File \u001b[0;32m~/miniconda3/envs/flux/lib/python3.12/site-packages/chencrafts/toolbox/optimize.py:962\u001b[0m, in \u001b[0;36mOptimization._evaluate_record\u001b[0;34m(self, x)\u001b[0m\n\u001b[1;32m    959\u001b[0m x_dict \u001b[38;5;241m=\u001b[39m \u001b[38;5;28mself\u001b[39m\u001b[38;5;241m.\u001b[39m_x_arr_2_dict(x)\n\u001b[1;32m    960\u001b[0m denorm_x \u001b[38;5;241m=\u001b[39m \u001b[38;5;28mself\u001b[39m\u001b[38;5;241m.\u001b[39m_denormalize_input(x_dict)\n\u001b[0;32m--> 962\u001b[0m target \u001b[38;5;241m=\u001b[39m \u001b[38;5;28mself\u001b[39m\u001b[38;5;241m.\u001b[39mtarget_func(\n\u001b[1;32m    963\u001b[0m     \u001b[38;5;28mself\u001b[39m\u001b[38;5;241m.\u001b[39mfixed_variables \u001b[38;5;241m|\u001b[39m denorm_x, \u001b[38;5;241m*\u001b[39m\u001b[38;5;241m*\u001b[39m\u001b[38;5;28mself\u001b[39m\u001b[38;5;241m.\u001b[39mtarget_kwargs)\n\u001b[1;32m    964\u001b[0m constr \u001b[38;5;241m=\u001b[39m \u001b[38;5;241m0\u001b[39m\n\u001b[1;32m    966\u001b[0m \u001b[38;5;28;01mreturn\u001b[39;00m denorm_x, target, constr\n",
      "Cell \u001b[0;32mIn[4], line 34\u001b[0m, in \u001b[0;36mfind_sweetspot_by_spectrum.<locals>.freq_ab\u001b[0;34m(params, evals_count, mode)\u001b[0m\n\u001b[1;32m     31\u001b[0m         \u001b[38;5;28mself\u001b[39m\u001b[38;5;241m.\u001b[39mΦ2 \u001b[38;5;241m=\u001b[39m \u001b[38;5;241m0.5\u001b[39m \u001b[38;5;241m+\u001b[39m params[\u001b[38;5;124m\"\u001b[39m\u001b[38;5;124mflux_sb\u001b[39m\u001b[38;5;124m\"\u001b[39m]\n\u001b[1;32m     32\u001b[0m     \u001b[38;5;28mself\u001b[39m\u001b[38;5;241m.\u001b[39mΦ3 \u001b[38;5;241m=\u001b[39m params[\u001b[38;5;124m\"\u001b[39m\u001b[38;5;124mflux_c\u001b[39m\u001b[38;5;124m\"\u001b[39m]\n\u001b[0;32m---> 34\u001b[0m eigs \u001b[38;5;241m=\u001b[39m \u001b[38;5;28mself\u001b[39m\u001b[38;5;241m.\u001b[39meigenvals(evals_count)\n\u001b[1;32m     35\u001b[0m \u001b[38;5;28;01mif\u001b[39;00m mode \u001b[38;5;241m==\u001b[39m \u001b[38;5;124m\"\u001b[39m\u001b[38;5;124ml3\u001b[39m\u001b[38;5;124m\"\u001b[39m:\n\u001b[1;32m     36\u001b[0m     \u001b[38;5;28;01mreturn\u001b[39;00m eigs[\u001b[38;5;241m3\u001b[39m] \u001b[38;5;241m-\u001b[39m eigs[\u001b[38;5;241m0\u001b[39m]\n",
      "File \u001b[0;32m~/PycharmProjects/scqubits/scqubits/core/qubit_base.py:369\u001b[0m, in \u001b[0;36mQubitBaseClass.eigenvals\u001b[0;34m(self, evals_count, filename, return_spectrumdata)\u001b[0m\n\u001b[1;32m    350\u001b[0m \u001b[38;5;250m\u001b[39m\u001b[38;5;124;03m\"\"\"Calculates eigenvalues using `scipy.linalg.eigh`, returns numpy array of\u001b[39;00m\n\u001b[1;32m    351\u001b[0m \u001b[38;5;124;03meigenvalues.\u001b[39;00m\n\u001b[1;32m    352\u001b[0m \n\u001b[0;32m   (...)\u001b[0m\n\u001b[1;32m    366\u001b[0m \u001b[38;5;124;03m    eigenvalues as ndarray or in form of a SpectrumData object\u001b[39;00m\n\u001b[1;32m    367\u001b[0m \u001b[38;5;124;03m\"\"\"\u001b[39;00m\n\u001b[1;32m    368\u001b[0m \u001b[38;5;28;01mif\u001b[39;00m \u001b[38;5;129;01mnot\u001b[39;00m \u001b[38;5;28mhasattr\u001b[39m(\u001b[38;5;28mself\u001b[39m, \u001b[38;5;124m\"\u001b[39m\u001b[38;5;124mevals_method\u001b[39m\u001b[38;5;124m\"\u001b[39m) \u001b[38;5;129;01mor\u001b[39;00m \u001b[38;5;28mself\u001b[39m\u001b[38;5;241m.\u001b[39mevals_method \u001b[38;5;129;01mis\u001b[39;00m \u001b[38;5;28;01mNone\u001b[39;00m:\n\u001b[0;32m--> 369\u001b[0m     evals \u001b[38;5;241m=\u001b[39m \u001b[38;5;28mself\u001b[39m\u001b[38;5;241m.\u001b[39m_evals_calc(evals_count)\n\u001b[1;32m    370\u001b[0m \u001b[38;5;28;01melse\u001b[39;00m:\n\u001b[1;32m    371\u001b[0m     diagonalizer \u001b[38;5;241m=\u001b[39m (\n\u001b[1;32m    372\u001b[0m         diag\u001b[38;5;241m.\u001b[39mDIAG_METHODS\u001b[38;5;241m.\u001b[39mget(\u001b[38;5;28mself\u001b[39m\u001b[38;5;241m.\u001b[39mevals_method)\n\u001b[1;32m    373\u001b[0m         \u001b[38;5;28;01mif\u001b[39;00m \u001b[38;5;28misinstance\u001b[39m(\u001b[38;5;28mself\u001b[39m\u001b[38;5;241m.\u001b[39mevals_method, \u001b[38;5;28mstr\u001b[39m)\n\u001b[1;32m    374\u001b[0m         \u001b[38;5;28;01melse\u001b[39;00m \u001b[38;5;28mself\u001b[39m\u001b[38;5;241m.\u001b[39mevals_method\n\u001b[1;32m    375\u001b[0m     )\n",
      "File \u001b[0;32m~/PycharmProjects/scqubits/scqubits/core/circuit_routines.py:2608\u001b[0m, in \u001b[0;36mCircuitRoutines._evals_calc\u001b[0;34m(self, evals_count)\u001b[0m\n\u001b[1;32m   2605\u001b[0m \u001b[38;5;28;01mif\u001b[39;00m \u001b[38;5;28mself\u001b[39m\u001b[38;5;241m.\u001b[39mis_purely_harmonic \u001b[38;5;129;01mand\u001b[39;00m \u001b[38;5;129;01mnot\u001b[39;00m \u001b[38;5;28mself\u001b[39m\u001b[38;5;241m.\u001b[39mhierarchical_diagonalization:\n\u001b[1;32m   2606\u001b[0m     \u001b[38;5;28;01mreturn\u001b[39;00m \u001b[38;5;28mself\u001b[39m\u001b[38;5;241m.\u001b[39m_eigenvals_for_purely_harmonic(evals_count\u001b[38;5;241m=\u001b[39mevals_count)\n\u001b[0;32m-> 2608\u001b[0m hamiltonian_mat \u001b[38;5;241m=\u001b[39m \u001b[38;5;28mself\u001b[39m\u001b[38;5;241m.\u001b[39mhamiltonian()\n\u001b[1;32m   2609\u001b[0m \u001b[38;5;28;01mif\u001b[39;00m \u001b[38;5;28mself\u001b[39m\u001b[38;5;241m.\u001b[39mtype_of_matrices \u001b[38;5;241m==\u001b[39m \u001b[38;5;124m\"\u001b[39m\u001b[38;5;124msparse\u001b[39m\u001b[38;5;124m\"\u001b[39m:\n\u001b[1;32m   2610\u001b[0m     evals \u001b[38;5;241m=\u001b[39m utils\u001b[38;5;241m.\u001b[39meigsh_safe(\n\u001b[1;32m   2611\u001b[0m         hamiltonian_mat,\n\u001b[1;32m   2612\u001b[0m         return_eigenvectors\u001b[38;5;241m=\u001b[39m\u001b[38;5;28;01mFalse\u001b[39;00m,\n\u001b[1;32m   2613\u001b[0m         k\u001b[38;5;241m=\u001b[39mevals_count,\n\u001b[1;32m   2614\u001b[0m         which\u001b[38;5;241m=\u001b[39m\u001b[38;5;124m\"\u001b[39m\u001b[38;5;124mSA\u001b[39m\u001b[38;5;124m\"\u001b[39m,\n\u001b[1;32m   2615\u001b[0m     )\n",
      "File \u001b[0;32m~/PycharmProjects/scqubits/scqubits/utils/misc.py:194\u001b[0m, in \u001b[0;36mcheck_sync_status_circuit.<locals>.wrapper\u001b[0;34m(self, *args, **kwargs)\u001b[0m\n\u001b[1;32m    187\u001b[0m \u001b[38;5;129m@functools\u001b[39m\u001b[38;5;241m.\u001b[39mwraps(func)\n\u001b[1;32m    188\u001b[0m \u001b[38;5;28;01mdef\u001b[39;00m \u001b[38;5;21mwrapper\u001b[39m(\u001b[38;5;28mself\u001b[39m, \u001b[38;5;241m*\u001b[39margs, \u001b[38;5;241m*\u001b[39m\u001b[38;5;241m*\u001b[39mkwargs):\n\u001b[1;32m    189\u001b[0m     \u001b[38;5;66;03m# update the circuit if necessary\u001b[39;00m\n\u001b[1;32m    190\u001b[0m     \u001b[38;5;28;01mif\u001b[39;00m (\u001b[38;5;28mself\u001b[39m\u001b[38;5;241m.\u001b[39m_user_changed_parameter) \u001b[38;5;129;01mor\u001b[39;00m (\n\u001b[1;32m    191\u001b[0m         \u001b[38;5;28mself\u001b[39m\u001b[38;5;241m.\u001b[39mhierarchical_diagonalization\n\u001b[1;32m    192\u001b[0m         \u001b[38;5;129;01mand\u001b[39;00m (\u001b[38;5;28mself\u001b[39m\u001b[38;5;241m.\u001b[39m_out_of_sync \u001b[38;5;129;01mor\u001b[39;00m \u001b[38;5;28mlen\u001b[39m(\u001b[38;5;28mself\u001b[39m\u001b[38;5;241m.\u001b[39maffected_subsystem_indices) \u001b[38;5;241m>\u001b[39m \u001b[38;5;241m0\u001b[39m)\n\u001b[1;32m    193\u001b[0m     ):\n\u001b[0;32m--> 194\u001b[0m         \u001b[38;5;28mself\u001b[39m\u001b[38;5;241m.\u001b[39mupdate()\n\u001b[1;32m    195\u001b[0m     \u001b[38;5;28;01mreturn\u001b[39;00m func(\u001b[38;5;28mself\u001b[39m, \u001b[38;5;241m*\u001b[39margs, \u001b[38;5;241m*\u001b[39m\u001b[38;5;241m*\u001b[39mkwargs)\n",
      "File \u001b[0;32m~/PycharmProjects/scqubits/scqubits/core/circuit_routines.py:769\u001b[0m, in \u001b[0;36mCircuitRoutines.update\u001b[0;34m(self, calculate_bare_esys)\u001b[0m\n\u001b[1;32m    765\u001b[0m \u001b[38;5;250m\u001b[39m\u001b[38;5;124;03m\"\"\"\u001b[39;00m\n\u001b[1;32m    766\u001b[0m \u001b[38;5;124;03mSyncs all the parameters of the subsystems with the current instance.\u001b[39;00m\n\u001b[1;32m    767\u001b[0m \u001b[38;5;124;03m\"\"\"\u001b[39;00m\n\u001b[1;32m    768\u001b[0m \u001b[38;5;28mself\u001b[39m\u001b[38;5;241m.\u001b[39m_frozen \u001b[38;5;241m=\u001b[39m \u001b[38;5;28;01mFalse\u001b[39;00m\n\u001b[0;32m--> 769\u001b[0m \u001b[38;5;28mself\u001b[39m\u001b[38;5;241m.\u001b[39m_perform_internal_updates(calculate_bare_esys\u001b[38;5;241m=\u001b[39mcalculate_bare_esys)\n\u001b[1;32m    770\u001b[0m \u001b[38;5;28mself\u001b[39m\u001b[38;5;241m.\u001b[39m_set_sync_status_to_True()\n\u001b[1;32m    771\u001b[0m \u001b[38;5;28mself\u001b[39m\u001b[38;5;241m.\u001b[39m_frozen \u001b[38;5;241m=\u001b[39m \u001b[38;5;28;01mTrue\u001b[39;00m\n",
      "File \u001b[0;32m~/PycharmProjects/scqubits/scqubits/core/circuit_routines.py:808\u001b[0m, in \u001b[0;36mCircuitRoutines._perform_internal_updates\u001b[0;34m(self, fetch_hamiltonian, calculate_bare_esys)\u001b[0m\n\u001b[1;32m    804\u001b[0m         subsys\u001b[38;5;241m.\u001b[39m_perform_internal_updates(\n\u001b[1;32m    805\u001b[0m             fetch_hamiltonian\u001b[38;5;241m=\u001b[39m\u001b[38;5;28;01mFalse\u001b[39;00m, calculate_bare_esys\u001b[38;5;241m=\u001b[39mcalculate_bare_esys\n\u001b[1;32m    806\u001b[0m         )\n\u001b[1;32m    807\u001b[0m     \u001b[38;5;28;01mif\u001b[39;00m calculate_bare_esys:\n\u001b[0;32m--> 808\u001b[0m         \u001b[38;5;28mself\u001b[39m\u001b[38;5;241m.\u001b[39m_update_bare_esys()\n\u001b[1;32m    809\u001b[0m \u001b[38;5;28mself\u001b[39m\u001b[38;5;241m.\u001b[39m_user_changed_parameter \u001b[38;5;241m=\u001b[39m \u001b[38;5;28;01mFalse\u001b[39;00m\n",
      "File \u001b[0;32m~/PycharmProjects/scqubits/scqubits/core/circuit_routines.py:816\u001b[0m, in \u001b[0;36mCircuitRoutines._update_bare_esys\u001b[0;34m(self)\u001b[0m\n\u001b[1;32m    812\u001b[0m \u001b[38;5;28;01mif\u001b[39;00m \u001b[38;5;129;01mnot\u001b[39;00m \u001b[38;5;28mself\u001b[39m\u001b[38;5;241m.\u001b[39mhierarchical_diagonalization:\n\u001b[1;32m    813\u001b[0m     \u001b[38;5;28;01mraise\u001b[39;00m \u001b[38;5;167;01mException\u001b[39;00m(\n\u001b[1;32m    814\u001b[0m         \u001b[38;5;124m\"\u001b[39m\u001b[38;5;124mHierarchical diagonalization is not used in the current instance of Subsystem/Circuit.\u001b[39m\u001b[38;5;124m\"\u001b[39m\n\u001b[1;32m    815\u001b[0m     )\n\u001b[0;32m--> 816\u001b[0m _ \u001b[38;5;241m=\u001b[39m \u001b[38;5;28mself\u001b[39m\u001b[38;5;241m.\u001b[39mhilbert_space\u001b[38;5;241m.\u001b[39mgenerate_bare_esys(\n\u001b[1;32m    817\u001b[0m     update_subsystem_indices\u001b[38;5;241m=\u001b[39m\u001b[38;5;28mself\u001b[39m\u001b[38;5;241m.\u001b[39maffected_subsystem_indices\n\u001b[1;32m    818\u001b[0m )\n\u001b[1;32m    819\u001b[0m \u001b[38;5;28mself\u001b[39m\u001b[38;5;241m.\u001b[39m_out_of_sync \u001b[38;5;241m=\u001b[39m \u001b[38;5;28;01mFalse\u001b[39;00m\n\u001b[1;32m    820\u001b[0m \u001b[38;5;28mself\u001b[39m\u001b[38;5;241m.\u001b[39mhilbert_space\u001b[38;5;241m.\u001b[39m_out_of_sync \u001b[38;5;241m=\u001b[39m \u001b[38;5;28;01mFalse\u001b[39;00m\n",
      "File \u001b[0;32m~/PycharmProjects/scqubits/scqubits/core/hilbert_space.py:700\u001b[0m, in \u001b[0;36mHilbertSpace.generate_bare_esys\u001b[0;34m(self, update_subsystem_indices)\u001b[0m\n\u001b[1;32m    698\u001b[0m \u001b[38;5;66;03m# diagonalizing only those subsystems present in update_subsystem_indices\u001b[39;00m\n\u001b[1;32m    699\u001b[0m \u001b[38;5;28;01mif\u001b[39;00m subsys_index \u001b[38;5;129;01min\u001b[39;00m update_subsystem_indices:\n\u001b[0;32m--> 700\u001b[0m     bare_esys \u001b[38;5;241m=\u001b[39m subsys\u001b[38;5;241m.\u001b[39meigensys(evals_count\u001b[38;5;241m=\u001b[39msubsys\u001b[38;5;241m.\u001b[39mtruncated_dim)\n\u001b[1;32m    701\u001b[0m \u001b[38;5;28;01melse\u001b[39;00m:\n\u001b[1;32m    702\u001b[0m     bare_esys \u001b[38;5;241m=\u001b[39m (\n\u001b[1;32m    703\u001b[0m         \u001b[38;5;28mself\u001b[39m[\u001b[38;5;124m\"\u001b[39m\u001b[38;5;124mbare_evals\u001b[39m\u001b[38;5;124m\"\u001b[39m][subsys_index][\u001b[38;5;241m0\u001b[39m],\n\u001b[1;32m    704\u001b[0m         \u001b[38;5;28mself\u001b[39m[\u001b[38;5;124m\"\u001b[39m\u001b[38;5;124mbare_evecs\u001b[39m\u001b[38;5;124m\"\u001b[39m][subsys_index][\u001b[38;5;241m0\u001b[39m],\n\u001b[1;32m    705\u001b[0m     )\n",
      "File \u001b[0;32m~/PycharmProjects/scqubits/scqubits/core/qubit_base.py:434\u001b[0m, in \u001b[0;36mQubitBaseClass.eigensys\u001b[0;34m(self, evals_count, filename, return_spectrumdata)\u001b[0m\n\u001b[1;32m    415\u001b[0m \u001b[38;5;250m\u001b[39m\u001b[38;5;124;03m\"\"\"Calculates eigenvalues and corresponding eigenvectors using\u001b[39;00m\n\u001b[1;32m    416\u001b[0m \u001b[38;5;124;03m`scipy.linalg.eigh`. Returns two numpy arrays containing the eigenvalues and\u001b[39;00m\n\u001b[1;32m    417\u001b[0m \u001b[38;5;124;03meigenvectors, respectively.\u001b[39;00m\n\u001b[0;32m   (...)\u001b[0m\n\u001b[1;32m    431\u001b[0m \u001b[38;5;124;03m    eigenvalues, eigenvectors as numpy arrays or in form of a SpectrumData object\u001b[39;00m\n\u001b[1;32m    432\u001b[0m \u001b[38;5;124;03m\"\"\"\u001b[39;00m\n\u001b[1;32m    433\u001b[0m \u001b[38;5;28;01mif\u001b[39;00m \u001b[38;5;129;01mnot\u001b[39;00m \u001b[38;5;28mhasattr\u001b[39m(\u001b[38;5;28mself\u001b[39m, \u001b[38;5;124m\"\u001b[39m\u001b[38;5;124mesys_method\u001b[39m\u001b[38;5;124m\"\u001b[39m) \u001b[38;5;129;01mor\u001b[39;00m \u001b[38;5;28mself\u001b[39m\u001b[38;5;241m.\u001b[39mesys_method \u001b[38;5;129;01mis\u001b[39;00m \u001b[38;5;28;01mNone\u001b[39;00m:\n\u001b[0;32m--> 434\u001b[0m     evals, evecs \u001b[38;5;241m=\u001b[39m \u001b[38;5;28mself\u001b[39m\u001b[38;5;241m.\u001b[39m_esys_calc(evals_count)\n\u001b[1;32m    435\u001b[0m \u001b[38;5;28;01melse\u001b[39;00m:\n\u001b[1;32m    436\u001b[0m     diagonalizer \u001b[38;5;241m=\u001b[39m (\n\u001b[1;32m    437\u001b[0m         diag\u001b[38;5;241m.\u001b[39mDIAG_METHODS\u001b[38;5;241m.\u001b[39mget(\u001b[38;5;28mself\u001b[39m\u001b[38;5;241m.\u001b[39mesys_method)\n\u001b[1;32m    438\u001b[0m         \u001b[38;5;28;01mif\u001b[39;00m \u001b[38;5;28misinstance\u001b[39m(\u001b[38;5;28mself\u001b[39m\u001b[38;5;241m.\u001b[39mesys_method, \u001b[38;5;28mstr\u001b[39m)\n\u001b[1;32m    439\u001b[0m         \u001b[38;5;28;01melse\u001b[39;00m \u001b[38;5;28mself\u001b[39m\u001b[38;5;241m.\u001b[39mesys_method\n\u001b[1;32m    440\u001b[0m     )\n",
      "File \u001b[0;32m~/PycharmProjects/scqubits/scqubits/core/circuit_routines.py:2625\u001b[0m, in \u001b[0;36mCircuitRoutines._esys_calc\u001b[0;34m(self, evals_count)\u001b[0m\n\u001b[1;32m   2622\u001b[0m \u001b[38;5;28;01mdef\u001b[39;00m \u001b[38;5;21m_esys_calc\u001b[39m(\u001b[38;5;28mself\u001b[39m, evals_count: \u001b[38;5;28mint\u001b[39m) \u001b[38;5;241m-\u001b[39m\u001b[38;5;241m>\u001b[39m Tuple[ndarray, ndarray]:\n\u001b[1;32m   2623\u001b[0m     \u001b[38;5;66;03m# dimension of the hamiltonian\u001b[39;00m\n\u001b[0;32m-> 2625\u001b[0m     hamiltonian_mat \u001b[38;5;241m=\u001b[39m \u001b[38;5;28mself\u001b[39m\u001b[38;5;241m.\u001b[39mhamiltonian()\n\u001b[1;32m   2626\u001b[0m     \u001b[38;5;28;01mif\u001b[39;00m \u001b[38;5;28mself\u001b[39m\u001b[38;5;241m.\u001b[39mtype_of_matrices \u001b[38;5;241m==\u001b[39m \u001b[38;5;124m\"\u001b[39m\u001b[38;5;124msparse\u001b[39m\u001b[38;5;124m\"\u001b[39m:\n\u001b[1;32m   2627\u001b[0m         evals, evecs \u001b[38;5;241m=\u001b[39m utils\u001b[38;5;241m.\u001b[39meigsh_safe(\n\u001b[1;32m   2628\u001b[0m             hamiltonian_mat,\n\u001b[1;32m   2629\u001b[0m             return_eigenvectors\u001b[38;5;241m=\u001b[39m\u001b[38;5;28;01mTrue\u001b[39;00m,\n\u001b[1;32m   2630\u001b[0m             k\u001b[38;5;241m=\u001b[39mevals_count,\n\u001b[1;32m   2631\u001b[0m             which\u001b[38;5;241m=\u001b[39m\u001b[38;5;124m\"\u001b[39m\u001b[38;5;124mSA\u001b[39m\u001b[38;5;124m\"\u001b[39m,\n\u001b[1;32m   2632\u001b[0m         )\n",
      "File \u001b[0;32m~/PycharmProjects/scqubits/scqubits/utils/misc.py:195\u001b[0m, in \u001b[0;36mcheck_sync_status_circuit.<locals>.wrapper\u001b[0;34m(self, *args, **kwargs)\u001b[0m\n\u001b[1;32m    190\u001b[0m \u001b[38;5;28;01mif\u001b[39;00m (\u001b[38;5;28mself\u001b[39m\u001b[38;5;241m.\u001b[39m_user_changed_parameter) \u001b[38;5;129;01mor\u001b[39;00m (\n\u001b[1;32m    191\u001b[0m     \u001b[38;5;28mself\u001b[39m\u001b[38;5;241m.\u001b[39mhierarchical_diagonalization\n\u001b[1;32m    192\u001b[0m     \u001b[38;5;129;01mand\u001b[39;00m (\u001b[38;5;28mself\u001b[39m\u001b[38;5;241m.\u001b[39m_out_of_sync \u001b[38;5;129;01mor\u001b[39;00m \u001b[38;5;28mlen\u001b[39m(\u001b[38;5;28mself\u001b[39m\u001b[38;5;241m.\u001b[39maffected_subsystem_indices) \u001b[38;5;241m>\u001b[39m \u001b[38;5;241m0\u001b[39m)\n\u001b[1;32m    193\u001b[0m ):\n\u001b[1;32m    194\u001b[0m     \u001b[38;5;28mself\u001b[39m\u001b[38;5;241m.\u001b[39mupdate()\n\u001b[0;32m--> 195\u001b[0m \u001b[38;5;28;01mreturn\u001b[39;00m func(\u001b[38;5;28mself\u001b[39m, \u001b[38;5;241m*\u001b[39margs, \u001b[38;5;241m*\u001b[39m\u001b[38;5;241m*\u001b[39mkwargs)\n",
      "File \u001b[0;32m~/PycharmProjects/scqubits/scqubits/core/circuit_routines.py:2442\u001b[0m, in \u001b[0;36mCircuitRoutines.hamiltonian\u001b[0;34m(self)\u001b[0m\n\u001b[1;32m   2440\u001b[0m         \u001b[38;5;28;01mreturn\u001b[39;00m \u001b[38;5;28mself\u001b[39m\u001b[38;5;241m.\u001b[39m_hamiltonian_for_purely_harmonic()\n\u001b[1;32m   2441\u001b[0m     \u001b[38;5;28;01melse\u001b[39;00m:\n\u001b[0;32m-> 2442\u001b[0m         \u001b[38;5;28;01mreturn\u001b[39;00m \u001b[38;5;28mself\u001b[39m\u001b[38;5;241m.\u001b[39m_evaluate_hamiltonian()\n\u001b[1;32m   2444\u001b[0m \u001b[38;5;28;01melse\u001b[39;00m:\n\u001b[1;32m   2445\u001b[0m     bare_esys \u001b[38;5;241m=\u001b[39m {\n\u001b[1;32m   2446\u001b[0m         sys_index: (\n\u001b[1;32m   2447\u001b[0m             \u001b[38;5;28mself\u001b[39m\u001b[38;5;241m.\u001b[39mhilbert_space[\u001b[38;5;124m\"\u001b[39m\u001b[38;5;124mbare_evals\u001b[39m\u001b[38;5;124m\"\u001b[39m][sys_index][\u001b[38;5;241m0\u001b[39m],\n\u001b[0;32m   (...)\u001b[0m\n\u001b[1;32m   2450\u001b[0m         \u001b[38;5;28;01mfor\u001b[39;00m sys_index, sys \u001b[38;5;129;01min\u001b[39;00m \u001b[38;5;28menumerate\u001b[39m(\u001b[38;5;28mself\u001b[39m\u001b[38;5;241m.\u001b[39mhilbert_space\u001b[38;5;241m.\u001b[39msubsystem_list)\n\u001b[1;32m   2451\u001b[0m     }\n",
      "File \u001b[0;32m~/PycharmProjects/scqubits/scqubits/core/circuit_routines.py:2367\u001b[0m, in \u001b[0;36mCircuitRoutines._evaluate_hamiltonian\u001b[0;34m(self)\u001b[0m\n\u001b[1;32m   2355\u001b[0m hamiltonian \u001b[38;5;241m=\u001b[39m hamiltonian\u001b[38;5;241m.\u001b[39msubs(\n\u001b[1;32m   2356\u001b[0m     [\n\u001b[1;32m   2357\u001b[0m         (param, \u001b[38;5;28mgetattr\u001b[39m(\u001b[38;5;28mself\u001b[39m, \u001b[38;5;28mstr\u001b[39m(param)))\n\u001b[0;32m   (...)\u001b[0m\n\u001b[1;32m   2362\u001b[0m     ]\n\u001b[1;32m   2363\u001b[0m )\n\u001b[1;32m   2364\u001b[0m hamiltonian \u001b[38;5;241m=\u001b[39m hamiltonian\u001b[38;5;241m.\u001b[39msubs(\u001b[38;5;124m\"\u001b[39m\u001b[38;5;124mI\u001b[39m\u001b[38;5;124m\"\u001b[39m, \u001b[38;5;241m1\u001b[39m)\n\u001b[1;32m   2366\u001b[0m \u001b[38;5;28;01mreturn\u001b[39;00m \u001b[38;5;28mself\u001b[39m\u001b[38;5;241m.\u001b[39m_sparsity_adaptive(\n\u001b[0;32m-> 2367\u001b[0m     Qobj_to_scipy_csc_matrix(\u001b[38;5;28mself\u001b[39m\u001b[38;5;241m.\u001b[39m_evaluate_symbolic_expr(hamiltonian))\n\u001b[1;32m   2368\u001b[0m )\n",
      "File \u001b[0;32m~/PycharmProjects/scqubits/scqubits/utils/misc.py:195\u001b[0m, in \u001b[0;36mcheck_sync_status_circuit.<locals>.wrapper\u001b[0;34m(self, *args, **kwargs)\u001b[0m\n\u001b[1;32m    190\u001b[0m \u001b[38;5;28;01mif\u001b[39;00m (\u001b[38;5;28mself\u001b[39m\u001b[38;5;241m.\u001b[39m_user_changed_parameter) \u001b[38;5;129;01mor\u001b[39;00m (\n\u001b[1;32m    191\u001b[0m     \u001b[38;5;28mself\u001b[39m\u001b[38;5;241m.\u001b[39mhierarchical_diagonalization\n\u001b[1;32m    192\u001b[0m     \u001b[38;5;129;01mand\u001b[39;00m (\u001b[38;5;28mself\u001b[39m\u001b[38;5;241m.\u001b[39m_out_of_sync \u001b[38;5;129;01mor\u001b[39;00m \u001b[38;5;28mlen\u001b[39m(\u001b[38;5;28mself\u001b[39m\u001b[38;5;241m.\u001b[39maffected_subsystem_indices) \u001b[38;5;241m>\u001b[39m \u001b[38;5;241m0\u001b[39m)\n\u001b[1;32m    193\u001b[0m ):\n\u001b[1;32m    194\u001b[0m     \u001b[38;5;28mself\u001b[39m\u001b[38;5;241m.\u001b[39mupdate()\n\u001b[0;32m--> 195\u001b[0m \u001b[38;5;28;01mreturn\u001b[39;00m func(\u001b[38;5;28mself\u001b[39m, \u001b[38;5;241m*\u001b[39margs, \u001b[38;5;241m*\u001b[39m\u001b[38;5;241m*\u001b[39mkwargs)\n",
      "File \u001b[0;32m~/PycharmProjects/scqubits/scqubits/core/circuit_routines.py:1238\u001b[0m, in \u001b[0;36mCircuitRoutines._evaluate_symbolic_expr\u001b[0;34m(self, sym_expr, bare_esys)\u001b[0m\n\u001b[1;32m   1235\u001b[0m free_sym \u001b[38;5;241m=\u001b[39m \u001b[38;5;28mlist\u001b[39m(factor\u001b[38;5;241m.\u001b[39mfree_symbols)[\u001b[38;5;241m0\u001b[39m]\n\u001b[1;32m   1236\u001b[0m \u001b[38;5;28;01mif\u001b[39;00m \u001b[38;5;129;01mnot\u001b[39;00m \u001b[38;5;28mself\u001b[39m\u001b[38;5;241m.\u001b[39mhierarchical_diagonalization:\n\u001b[1;32m   1237\u001b[0m     factor_op_list\u001b[38;5;241m.\u001b[39mappend(\n\u001b[0;32m-> 1238\u001b[0m         \u001b[38;5;28mself\u001b[39m\u001b[38;5;241m.\u001b[39mget_operator_by_name(\n\u001b[1;32m   1239\u001b[0m             free_sym\u001b[38;5;241m.\u001b[39mname,\n\u001b[1;32m   1240\u001b[0m             bare_esys\u001b[38;5;241m=\u001b[39mbare_esys,\n\u001b[1;32m   1241\u001b[0m             power\u001b[38;5;241m=\u001b[39mpower_dict[free_sym],\n\u001b[1;32m   1242\u001b[0m         )\n\u001b[1;32m   1243\u001b[0m     )\n\u001b[1;32m   1244\u001b[0m \u001b[38;5;28;01melse\u001b[39;00m:\n\u001b[1;32m   1245\u001b[0m     subsys \u001b[38;5;241m=\u001b[39m \u001b[38;5;28mself\u001b[39m\u001b[38;5;241m.\u001b[39mreturn_root_child(\n\u001b[1;32m   1246\u001b[0m         get_trailing_number(free_sym\u001b[38;5;241m.\u001b[39mname)\n\u001b[1;32m   1247\u001b[0m     )\n",
      "File \u001b[0;32m~/PycharmProjects/scqubits/scqubits/utils/misc.py:195\u001b[0m, in \u001b[0;36mcheck_sync_status_circuit.<locals>.wrapper\u001b[0;34m(self, *args, **kwargs)\u001b[0m\n\u001b[1;32m    190\u001b[0m \u001b[38;5;28;01mif\u001b[39;00m (\u001b[38;5;28mself\u001b[39m\u001b[38;5;241m.\u001b[39m_user_changed_parameter) \u001b[38;5;129;01mor\u001b[39;00m (\n\u001b[1;32m    191\u001b[0m     \u001b[38;5;28mself\u001b[39m\u001b[38;5;241m.\u001b[39mhierarchical_diagonalization\n\u001b[1;32m    192\u001b[0m     \u001b[38;5;129;01mand\u001b[39;00m (\u001b[38;5;28mself\u001b[39m\u001b[38;5;241m.\u001b[39m_out_of_sync \u001b[38;5;129;01mor\u001b[39;00m \u001b[38;5;28mlen\u001b[39m(\u001b[38;5;28mself\u001b[39m\u001b[38;5;241m.\u001b[39maffected_subsystem_indices) \u001b[38;5;241m>\u001b[39m \u001b[38;5;241m0\u001b[39m)\n\u001b[1;32m    193\u001b[0m ):\n\u001b[1;32m    194\u001b[0m     \u001b[38;5;28mself\u001b[39m\u001b[38;5;241m.\u001b[39mupdate()\n\u001b[0;32m--> 195\u001b[0m \u001b[38;5;28;01mreturn\u001b[39;00m func(\u001b[38;5;28mself\u001b[39m, \u001b[38;5;241m*\u001b[39margs, \u001b[38;5;241m*\u001b[39m\u001b[38;5;241m*\u001b[39mkwargs)\n",
      "File \u001b[0;32m~/PycharmProjects/scqubits/scqubits/core/circuit_routines.py:2122\u001b[0m, in \u001b[0;36mCircuitRoutines.get_operator_by_name\u001b[0;34m(self, operator_name, power, bare_esys)\u001b[0m\n\u001b[1;32m   2119\u001b[0m         var_index \u001b[38;5;241m=\u001b[39m get_trailing_number(operator_name)\n\u001b[1;32m   2120\u001b[0m         \u001b[38;5;28;01mreturn\u001b[39;00m \u001b[38;5;28mself\u001b[39m\u001b[38;5;241m.\u001b[39mget_operator_by_name(\u001b[38;5;124mf\u001b[39m\u001b[38;5;124m\"\u001b[39m\u001b[38;5;124mQ\u001b[39m\u001b[38;5;132;01m{\u001b[39;00mvar_index\u001b[38;5;132;01m}\u001b[39;00m\u001b[38;5;124m\"\u001b[39m) \u001b[38;5;241m*\u001b[39m\u001b[38;5;241m*\u001b[39m \u001b[38;5;241m2\u001b[39m\n\u001b[0;32m-> 2122\u001b[0m     \u001b[38;5;28;01mreturn\u001b[39;00m qt\u001b[38;5;241m.\u001b[39mQobj(\u001b[38;5;28mgetattr\u001b[39m(\u001b[38;5;28mself\u001b[39m, operator_name \u001b[38;5;241m+\u001b[39m \u001b[38;5;124m\"\u001b[39m\u001b[38;5;124m_operator\u001b[39m\u001b[38;5;124m\"\u001b[39m)()) \u001b[38;5;241m*\u001b[39m\u001b[38;5;241m*\u001b[39m (\n\u001b[1;32m   2123\u001b[0m         power \u001b[38;5;28;01mif\u001b[39;00m power \u001b[38;5;28;01melse\u001b[39;00m \u001b[38;5;241m1\u001b[39m\n\u001b[1;32m   2124\u001b[0m     )\n\u001b[1;32m   2126\u001b[0m var_index \u001b[38;5;241m=\u001b[39m get_trailing_number(operator_name)\n\u001b[1;32m   2127\u001b[0m \u001b[38;5;28;01massert\u001b[39;00m var_index\n",
      "File \u001b[0;32m~/miniconda3/envs/flux/lib/python3.12/site-packages/qutip/core/qobj.py:525\u001b[0m, in \u001b[0;36mQobj.__pow__\u001b[0;34m(self, n, m)\u001b[0m\n\u001b[1;32m    517\u001b[0m \u001b[38;5;28;01mif\u001b[39;00m (\n\u001b[1;32m    518\u001b[0m     \u001b[38;5;28mself\u001b[39m\u001b[38;5;241m.\u001b[39mtype \u001b[38;5;129;01mnot\u001b[39;00m \u001b[38;5;129;01min\u001b[39;00m (\u001b[38;5;124m'\u001b[39m\u001b[38;5;124moper\u001b[39m\u001b[38;5;124m'\u001b[39m, \u001b[38;5;124m'\u001b[39m\u001b[38;5;124msuper\u001b[39m\u001b[38;5;124m'\u001b[39m)\n\u001b[1;32m    519\u001b[0m     \u001b[38;5;129;01mor\u001b[39;00m \u001b[38;5;28mself\u001b[39m\u001b[38;5;241m.\u001b[39m_dims[\u001b[38;5;241m0\u001b[39m] \u001b[38;5;241m!=\u001b[39m \u001b[38;5;28mself\u001b[39m\u001b[38;5;241m.\u001b[39m_dims[\u001b[38;5;241m1\u001b[39m]\n\u001b[0;32m   (...)\u001b[0m\n\u001b[1;32m    522\u001b[0m     \u001b[38;5;129;01mor\u001b[39;00m n \u001b[38;5;241m<\u001b[39m \u001b[38;5;241m0\u001b[39m\n\u001b[1;32m    523\u001b[0m ):\n\u001b[1;32m    524\u001b[0m     \u001b[38;5;28;01mreturn\u001b[39;00m \u001b[38;5;28mNotImplemented\u001b[39m\n\u001b[0;32m--> 525\u001b[0m \u001b[38;5;28;01mreturn\u001b[39;00m Qobj(_data\u001b[38;5;241m.\u001b[39mpow(\u001b[38;5;28mself\u001b[39m\u001b[38;5;241m.\u001b[39m_data, n),\n\u001b[1;32m    526\u001b[0m             dims\u001b[38;5;241m=\u001b[39m\u001b[38;5;28mself\u001b[39m\u001b[38;5;241m.\u001b[39m_dims,\n\u001b[1;32m    527\u001b[0m             isherm\u001b[38;5;241m=\u001b[39m\u001b[38;5;28mself\u001b[39m\u001b[38;5;241m.\u001b[39m_isherm,\n\u001b[1;32m    528\u001b[0m             isunitary\u001b[38;5;241m=\u001b[39m\u001b[38;5;28mself\u001b[39m\u001b[38;5;241m.\u001b[39m_isunitary,\n\u001b[1;32m    529\u001b[0m             copy\u001b[38;5;241m=\u001b[39m\u001b[38;5;28;01mFalse\u001b[39;00m)\n",
      "File \u001b[0;32m~/miniconda3/envs/flux/lib/python3.12/site-packages/qutip/core/data/dispatch.pyx:392\u001b[0m, in \u001b[0;36mqutip.core.data.dispatch.Dispatcher.__call__\u001b[0;34m()\u001b[0m\n",
      "File \u001b[0;32m~/miniconda3/envs/flux/lib/python3.12/site-packages/qutip/core/data/pow.pyx:72\u001b[0m, in \u001b[0;36mqutip.core.data.pow.pow_dense\u001b[0;34m()\u001b[0m\n",
      "File \u001b[0;32m~/miniconda3/envs/flux/lib/python3.12/site-packages/qutip/core/data/pow.pyx:79\u001b[0m, in \u001b[0;36mqutip.core.data.pow.pow_dense\u001b[0;34m()\u001b[0m\n",
      "File \u001b[0;32m~/miniconda3/envs/flux/lib/python3.12/site-packages/numpy/linalg/linalg.py:667\u001b[0m, in \u001b[0;36mmatrix_power\u001b[0;34m(a, n)\u001b[0m\n\u001b[1;32m    664\u001b[0m     \u001b[38;5;28;01mreturn\u001b[39;00m a\n\u001b[1;32m    666\u001b[0m \u001b[38;5;28;01melif\u001b[39;00m n \u001b[38;5;241m==\u001b[39m \u001b[38;5;241m2\u001b[39m:\n\u001b[0;32m--> 667\u001b[0m     \u001b[38;5;28;01mreturn\u001b[39;00m fmatmul(a, a)\n\u001b[1;32m    669\u001b[0m \u001b[38;5;28;01melif\u001b[39;00m n \u001b[38;5;241m==\u001b[39m \u001b[38;5;241m3\u001b[39m:\n\u001b[1;32m    670\u001b[0m     \u001b[38;5;28;01mreturn\u001b[39;00m fmatmul(fmatmul(a, a), a)\n",
      "\u001b[0;31mKeyboardInterrupt\u001b[0m: "
     ]
    }
   ],
   "source": [
    "phi1, phi2, phi3 = find_sweetspot_by_spectrum(\n",
    "    ftc, \n",
    "    # flux_c = 0.1,\n",
    "    flux_s_bounds = [-0.1, 0.1],\n",
    "    flux_c_bounds = [0.0, 0.5],\n",
    "    run_num=10,\n",
    ")\n",
    "# print(phi1, phi2, phi3)"
   ]
  },
  {
   "cell_type": "code",
   "execution_count": 12,
   "metadata": {},
   "outputs": [
    {
     "data": {
      "text/plain": [
       "array([0.      , 0.041009, 0.073856, 0.114413])"
      ]
     },
     "execution_count": 12,
     "metadata": {},
     "output_type": "execute_result"
    }
   ],
   "source": [
    "evals = ftc.eigenvals(4)\n",
    "evals - evals[0]\n"
   ]
  },
  {
   "cell_type": "markdown",
   "metadata": {},
   "source": [
    "## Drive & eff coupling"
   ]
  },
  {
   "cell_type": "code",
   "execution_count": 13,
   "metadata": {},
   "outputs": [],
   "source": [
    "hspace = ftc.hilbert_space\n",
    "dims = hspace.subsystem_dims\n",
    "hamiltonian = qt.Qobj(ftc.hamiltonian(), dims=[dims, dims])\n",
    "\n",
    "theta1_op = qt.Qobj(ftc.θ1_operator(), dims=[dims, dims])\n",
    "theta2_op = qt.Qobj(ftc.θ2_operator(), dims=[dims, dims])\n",
    "theta3_op = qt.Qobj(ftc.θ3_operator(), dims=[dims, dims])\n",
    "drive_op = (\n",
    "    (ftc.E_La + ftc.E_Lb) / 2 * (theta1_op - theta2_op) / 2\n",
    "    - (ftc.E_L1 + ftc.E_L2 + ftc.E_La + ftc.E_Lb) / 4 * theta3_op\n",
    ")\n",
    "\n",
    "# Q2_op = qt.Qobj(ftc.Q2_operator(), dims=[dims, dims])\n",
    "# drive_op = Q2_op"
   ]
  },
  {
   "cell_type": "code",
   "execution_count": 20,
   "metadata": {},
   "outputs": [
    {
     "data": {
      "text/latex": [
       "Quantum object: dims=[[5, 5, 14], [5, 5, 14]], shape=(350, 350), type='oper', dtype=CSR, isherm=True$$\\left(\\begin{array}{cc}-2.611 & 0 & 0 & 0 & 0 & \\cdots & 0 & 0 & 0 & 0 & 0\\\\0 & -2.611 & 0 & 0 & 0 & \\cdots & 0 & 0 & 0 & 0 & 0\\\\0 & 0 & -2.611 & 0 & 0 & \\cdots & 0 & 0 & 0 & 0 & 0\\\\0 & 0 & 0 & -2.611 & 0 & \\cdots & 0 & 0 & 0 & 0 & 0\\\\0 & 0 & 0 & 0 & -2.611 & \\cdots & 0 & 0 & 0 & 0 & 0\\\\\\vdots & \\vdots & \\vdots & \\vdots & \\vdots & \\ddots & \\vdots & \\vdots & \\vdots & \\vdots & \\vdots\\\\0 & 0 & 0 & 0 & 0 & \\cdots & -0.509 & 0 & 0 & 0 & 0\\\\0 & 0 & 0 & 0 & 0 & \\cdots & 0 & -0.509 & 0 & 0 & 0\\\\0 & 0 & 0 & 0 & 0 & \\cdots & 0 & 0 & -0.509 & 0 & 0\\\\0 & 0 & 0 & 0 & 0 & \\cdots & 0 & 0 & 0 & -0.509 & 0\\\\0 & 0 & 0 & 0 & 0 & \\cdots & 0 & 0 & 0 & 0 & -0.509\\end{array}\\right)$$"
      ],
      "text/plain": [
       "Quantum object: dims=[[5, 5, 14], [5, 5, 14]], shape=(350, 350), type='oper', dtype=CSR, isherm=True\n",
       "Qobj data =\n",
       "[[-2.611284  0.        0.       ...  0.        0.        0.      ]\n",
       " [ 0.       -2.611284  0.       ...  0.        0.        0.      ]\n",
       " [ 0.        0.       -2.611284 ...  0.        0.        0.      ]\n",
       " ...\n",
       " [ 0.        0.        0.       ... -0.508956  0.        0.      ]\n",
       " [ 0.        0.        0.       ...  0.       -0.508956  0.      ]\n",
       " [ 0.        0.        0.       ...  0.        0.       -0.508956]]"
      ]
     },
     "execution_count": 20,
     "metadata": {},
     "output_type": "execute_result"
    }
   ],
   "source": [
    "theta1_op"
   ]
  },
  {
   "cell_type": "code",
   "execution_count": 14,
   "metadata": {},
   "outputs": [
    {
     "name": "stderr",
     "output_type": "stream",
     "text": [
      "UserWarning: Cannot confirm that the unperturbed Hamiltonian is diagonal, which is required if ``solve_sylvester`` is not provided. The algorithm will assume that it is diagonal.\n",
      " /Users/apple/miniconda3/envs/flux/lib/python3.12/site-packages/pymablock/block_diagonalization.py: 1091"
     ]
    }
   ],
   "source": [
    "flux_shift = 0.1\n",
    "\n",
    "evals, evecs = hamiltonian.eigenstates(hspace.dimension, tol=1e-10)\n",
    "\n",
    "subspace_state_idx = [0, 1, 2, 3]\n",
    "subspace1_evecs = [evecs[idx] for idx in subspace_state_idx]\n",
    "subspace2_evecs = [evec for idx, evec in enumerate(evecs) if idx not in subspace_state_idx]\n",
    "\n",
    "H_sw, _, _ = cc.cqed.block_diagonalize_pymablock(\n",
    "    [hamiltonian, drive_op * flux_shift * np.pi * 2],     \n",
    "    # flux drive amp\n",
    "    subspace_eigenvectors=[subspace1_evecs, subspace2_evecs],\n",
    "    atol=1e-10,\n",
    ")"
   ]
  },
  {
   "cell_type": "code",
   "execution_count": 19,
   "metadata": {},
   "outputs": [
    {
     "data": {
      "text/latex": [
       "Quantum object: dims=[[5, 5, 14], [5, 5, 14]], shape=(350, 350), type='oper', dtype=CSR, isherm=True$$\\left(\\begin{array}{cc}-1.901 & 3.048 & -0.651 & 8.544\\times10^{ -14 } & 0 & \\cdots & 0 & 0 & 0 & 0 & 0\\\\3.048 & 1.003 & 4.086 & -5.250\\times10^{ -13 } & 0 & \\cdots & 0 & 0 & 0 & 0 & 0\\\\-0.651 & 4.086 & -0.279 & -2.049\\times10^{ -13 } & 3.317\\times10^{ -13 } & \\cdots & 0 & 0 & 0 & 0 & 0\\\\8.544\\times10^{ -14 } & -5.250\\times10^{ -13 } & -2.049\\times10^{ -13 } & -1.901 & 3.048 & \\cdots & 0 & 0 & 0 & 0 & 0\\\\0 & 0 & 3.317\\times10^{ -13 } & 3.048 & 1.003 & \\cdots & 0 & 0 & 0 & 0 & 0\\\\\\vdots & \\vdots & \\vdots & \\vdots & \\vdots & \\ddots & \\vdots & \\vdots & \\vdots & \\vdots & \\vdots\\\\0 & 0 & 0 & 0 & 0 & \\cdots & 1.648 & 0 & -1.904\\times10^{ -13 } & 4.086 & 2.076\\times10^{ -13 }\\\\0 & 0 & 0 & 0 & 0 & \\cdots & 0 & -0.106 & 9.801\\times10^{ -14 } & -2.117\\times10^{ -14 } & 3.987\\times10^{ -13 }\\\\0 & 0 & 0 & 0 & 0 & \\cdots & -1.904\\times10^{ -13 } & 9.801\\times10^{ -14 } & -1.314 & -4.385\\times10^{ -13 } & 3.564\\times10^{ -12 }\\\\0 & 0 & 0 & 0 & 0 & \\cdots & 4.086 & -2.117\\times10^{ -14 } & -4.385\\times10^{ -13 } & 0.365 & 8.060\\times10^{ -14 }\\\\0 & 0 & 0 & 0 & 0 & \\cdots & 2.076\\times10^{ -13 } & 3.987\\times10^{ -13 } & 3.564\\times10^{ -12 } & 8.060\\times10^{ -14 } & -1.257\\end{array}\\right)$$"
      ],
      "text/plain": [
       "Quantum object: dims=[[5, 5, 14], [5, 5, 14]], shape=(350, 350), type='oper', dtype=CSR, isherm=True\n",
       "Qobj data =\n",
       "[[-1.901168e+00  3.048116e+00 -6.511733e-01 ...  0.000000e+00  0.000000e+00  0.000000e+00]\n",
       " [ 3.048116e+00  1.002994e+00  4.086250e+00 ...  0.000000e+00  0.000000e+00  0.000000e+00]\n",
       " [-6.511733e-01  4.086250e+00 -2.794648e-01 ...  0.000000e+00  0.000000e+00  0.000000e+00]\n",
       " ...\n",
       " [ 0.000000e+00  0.000000e+00  0.000000e+00 ... -1.313851e+00 -4.385411e-13  3.563676e-12]\n",
       " [ 0.000000e+00  0.000000e+00  0.000000e+00 ... -4.385411e-13  3.651534e-01  8.060460e-14]\n",
       " [ 0.000000e+00  0.000000e+00  0.000000e+00 ...  3.563676e-12  8.060460e-14 -1.256549e+00]]"
      ]
     },
     "execution_count": 19,
     "metadata": {},
     "output_type": "execute_result"
    }
   ],
   "source": [
    "drive_op"
   ]
  },
  {
   "cell_type": "code",
   "execution_count": 15,
   "metadata": {},
   "outputs": [
    {
     "data": {
      "text/plain": [
       "array([[ 1.231803e+01+4.700016e-16j, -3.926052e-13+4.600174e-13j,  3.628972e-13+1.043392e-13j, -6.769908e-13+4.808773e-14j],\n",
       "       [-3.865996e-13-4.592886e-13j,  1.235904e+01+2.359549e-15j, -4.152916e-13-1.481080e-12j,  4.866723e-14-1.701380e-13j],\n",
       "       [ 3.604209e-13-1.053665e-13j, -4.142938e-13+1.480925e-12j,  1.239188e+01+7.749877e-16j,  1.267992e-13-5.634490e-13j],\n",
       "       [-6.762773e-13-5.271499e-14j,  5.028248e-14+1.730025e-13j,  1.283771e-13+5.617000e-13j,  1.243244e+01-2.017483e-15j]])"
      ]
     },
     "execution_count": 15,
     "metadata": {},
     "output_type": "execute_result"
    }
   ],
   "source": [
    "H_sw[0, 0, 0]"
   ]
  },
  {
   "cell_type": "code",
   "execution_count": 16,
   "metadata": {},
   "outputs": [
    {
     "data": {
      "text/plain": [
       "array([[-0.654984+7.141165e-17j,  0.069927-2.875929e-02j,  0.017262+1.640791e-03j, -0.014874+4.612415e-02j],\n",
       "       [ 0.069927+2.875929e-02j, -0.64724 +4.301572e-17j,  0.017194+9.060010e-03j, -0.030216+3.571841e-02j],\n",
       "       [ 0.017262-1.640791e-03j,  0.017194-9.060010e-03j, -0.725805-5.196717e-17j, -0.002442+1.106788e-02j],\n",
       "       [-0.014874-4.612415e-02j, -0.030216-3.571841e-02j, -0.002442-1.106788e-02j, -0.698891-7.874018e-18j]])"
      ]
     },
     "execution_count": 16,
     "metadata": {},
     "output_type": "execute_result"
    }
   ],
   "source": [
    "H_sw[0, 0, 1]"
   ]
  },
  {
   "cell_type": "code",
   "execution_count": 17,
   "metadata": {},
   "outputs": [
    {
     "data": {
      "text/plain": [
       "array([[-0.469558+0.j      , -0.097794+0.04022j , -0.023071-0.002193j,  0.004898-0.015188j],\n",
       "       [-0.097794-0.04022j , -0.444271+0.j      , -0.003927-0.002069j,  0.050597-0.05981j ],\n",
       "       [-0.023071+0.002193j, -0.003927+0.002069j, -0.432491+0.j      ,  0.003905-0.017696j],\n",
       "       [ 0.004898+0.015188j,  0.050597+0.05981j ,  0.003905+0.017696j, -0.433482+0.j      ]])"
      ]
     },
     "execution_count": 17,
     "metadata": {},
     "output_type": "execute_result"
    }
   ],
   "source": [
    "H_sw[0, 0, 2]"
   ]
  },
  {
   "cell_type": "code",
   "execution_count": 18,
   "metadata": {},
   "outputs": [
    {
     "data": {
      "text/plain": [
       "array([[ 0.065716-8.552915e-18j,  0.015565-6.401320e-03j,  0.003568+3.391723e-04j,  0.000552-1.710527e-03j],\n",
       "       [ 0.015565+6.401320e-03j,  0.058758+6.881349e-18j, -0.001054-5.556137e-04j, -0.008768+1.036407e-02j],\n",
       "       [ 0.003568-3.391723e-04j, -0.001054+5.556137e-04j,  0.065174-9.546061e-18j, -0.00067 +3.037315e-03j],\n",
       "       [ 0.000552+1.710527e-03j, -0.008768-1.036407e-02j, -0.00067 -3.037315e-03j,  0.062345-1.065695e-17j]])"
      ]
     },
     "execution_count": 18,
     "metadata": {},
     "output_type": "execute_result"
    }
   ],
   "source": [
    "H_sw[0, 0, 3]"
   ]
  },
  {
   "cell_type": "code",
   "execution_count": 8,
   "metadata": {},
   "outputs": [
    {
     "ename": "NameError",
     "evalue": "name 'H_sw' is not defined",
     "output_type": "error",
     "traceback": [
      "\u001b[0;31m---------------------------------------------------------------------------\u001b[0m",
      "\u001b[0;31mNameError\u001b[0m                                 Traceback (most recent call last)",
      "Cell \u001b[0;32mIn[8], line 1\u001b[0m\n\u001b[0;32m----> 1\u001b[0m H_sw[\u001b[38;5;241m0\u001b[39m, \u001b[38;5;241m0\u001b[39m, \u001b[38;5;241m4\u001b[39m]\n",
      "\u001b[0;31mNameError\u001b[0m: name 'H_sw' is not defined"
     ]
    }
   ],
   "source": [
    "H_sw[0, 0, 4]"
   ]
  },
  {
   "cell_type": "code",
   "execution_count": null,
   "metadata": {},
   "outputs": [
    {
     "data": {
      "text/plain": [
       "array([[-0.000335+8.819492e-19j,  0.000241+1.307243e-03j,  0.00112 +8.592790e-05j,  0.001016-4.974699e-04j],\n",
       "       [ 0.000241-1.307243e-03j, -0.000527-2.024955e-18j, -0.000292+1.102070e-03j,  0.000352+1.255994e-03j],\n",
       "       [ 0.00112 -8.592790e-05j, -0.000292-1.102070e-03j, -0.000154-2.424863e-18j, -0.000963+5.670819e-04j],\n",
       "       [ 0.001016+4.974699e-04j,  0.000352-1.255994e-03j, -0.000963-5.670819e-04j, -0.000297-2.299607e-18j]])"
      ]
     },
     "execution_count": 22,
     "metadata": {},
     "output_type": "execute_result"
    }
   ],
   "source": [
    "H_sw[0, 0, 5]"
   ]
  },
  {
   "cell_type": "code",
   "execution_count": null,
   "metadata": {},
   "outputs": [],
   "source": []
  }
 ],
 "metadata": {
  "kernelspec": {
   "display_name": "Python 3 (ipykernel)",
   "language": "python",
   "name": "python3"
  },
  "language_info": {
   "codemirror_mode": {
    "name": "ipython",
    "version": 3
   },
   "file_extension": ".py",
   "mimetype": "text/x-python",
   "name": "python",
   "nbconvert_exporter": "python",
   "pygments_lexer": "ipython3",
   "version": "3.12.2"
  }
 },
 "nbformat": 4,
 "nbformat_minor": 4
}
