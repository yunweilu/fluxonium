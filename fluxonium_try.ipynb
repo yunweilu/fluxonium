{
 "cells": [
  {
   "cell_type": "code",
   "execution_count": 35,
   "metadata": {},
   "outputs": [],
   "source": [
    "import scqubits as scq\n",
    "import numpy as np\n",
    "import qutip as qt"
   ]
  },
  {
   "cell_type": "code",
   "execution_count": 127,
   "metadata": {},
   "outputs": [],
   "source": [
    "fluxonium1 = scq.Fluxonium(\n",
    "    EJ=4.6,\n",
    "    EC=0.9,\n",
    "    EL=0.21,\n",
    "    cutoff = 20,\n",
    "    flux = 0.5,\n",
    "    truncated_dim=5\n",
    ")\n",
    "fluxonium2 = scq.Fluxonium(\n",
    "    EJ=4.6,\n",
    "    EC=0.9,\n",
    "    EL=0.21,\n",
    "    cutoff = 20,\n",
    "    flux = 0.51,\n",
    "    truncated_dim=5\n",
    ")"
   ]
  },
  {
   "cell_type": "code",
   "execution_count": 128,
   "metadata": {},
   "outputs": [
    {
     "data": {
      "text/plain": [
       "array([0.        , 0.10062238, 4.44098152, 5.24896294, 7.57476678,\n",
       "       7.78706112])"
      ]
     },
     "execution_count": 128,
     "metadata": {},
     "output_type": "execute_result"
    }
   ],
   "source": [
    "evals = fluxonium2.eigenvals()\n",
    "evals - evals[0]"
   ]
  },
  {
   "cell_type": "code",
   "execution_count": 134,
   "metadata": {},
   "outputs": [],
   "source": [
    "hamiltonian = fluxonium1.hamiltonian(energy_esys=True) - 0.21*fluxonium1.phi_operator(energy_esys=True)*0.01*2*np.pi\n",
    "hamiltonian = qt.Qobj(hamiltonian)"
   ]
  },
  {
   "cell_type": "code",
   "execution_count": 135,
   "metadata": {},
   "outputs": [
    {
     "data": {
      "text/plain": [
       "array([0.        , 0.09913075, 4.44219508, 5.25154041, 7.61001674])"
      ]
     },
     "execution_count": 135,
     "metadata": {},
     "output_type": "execute_result"
    }
   ],
   "source": [
    "evals, evecs = hamiltonian.eigenstates(tol=1e-10)\n",
    "evals - evals[0]"
   ]
  },
  {
   "cell_type": "code",
   "execution_count": 131,
   "metadata": {},
   "outputs": [
    {
     "data": {
      "text/plain": [
       "array([0.        , 0.06195051, 4.42502847, 5.23162226, 7.59119335,\n",
       "       7.74587769])"
      ]
     },
     "execution_count": 131,
     "metadata": {},
     "output_type": "execute_result"
    }
   ],
   "source": [
    "evals = fluxonium1.eigenvals()\n",
    "evals - evals[0]"
   ]
  },
  {
   "cell_type": "code",
   "execution_count": null,
   "metadata": {},
   "outputs": [],
   "source": []
  }
 ],
 "metadata": {
  "kernelspec": {
   "display_name": "flux",
   "language": "python",
   "name": "python3"
  },
  "language_info": {
   "codemirror_mode": {
    "name": "ipython",
    "version": 3
   },
   "file_extension": ".py",
   "mimetype": "text/x-python",
   "name": "python",
   "nbconvert_exporter": "python",
   "pygments_lexer": "ipython3",
   "version": "3.12.2"
  }
 },
 "nbformat": 4,
 "nbformat_minor": 2
}
