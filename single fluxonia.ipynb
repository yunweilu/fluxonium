{
 "cells": [
  {
   "cell_type": "code",
   "execution_count": 2,
   "id": "af9e7855",
   "metadata": {},
   "outputs": [],
   "source": [
    "import scqubits as scq\n",
    "import numpy as np\n",
    "from systemclass import SNAIL\n",
    "def sort_eigenpairs(eigenvalues, eigenvectors):\n",
    "    n = eigenvectors.shape[0]\n",
    "    sorted_indices = []\n",
    "\n",
    "    for i in range(n):\n",
    "        max_abs_vals = np.abs(eigenvectors[i, :])\n",
    "        max_index = np.argmax(max_abs_vals)\n",
    "        while max_index in sorted_indices:\n",
    "            max_abs_vals[max_index] = -np.inf\n",
    "            max_index = np.argmax(max_abs_vals)\n",
    "        sorted_indices.append(max_index)\n",
    "\n",
    "    sorted_eigenvalues = eigenvalues[sorted_indices]\n",
    "    sorted_eigenvectors = eigenvectors[:, sorted_indices]\n",
    "\n",
    "    return sorted_eigenvalues, sorted_eigenvectors\n",
    "d1=d2=2\n",
    "fluxonium1 = scq.Fluxonium(\n",
    "    EJ=4.6,\n",
    "    EC=0.9,\n",
    "    EL=0.21,\n",
    "    cutoff = 110,\n",
    "    flux = 0.5,\n",
    "    truncated_dim=d1\n",
    ")\n",
    "fluxonium2 = scq.Fluxonium(\n",
    "    EJ=5.5,\n",
    "    EC=0.9,\n",
    "    EL=0.21,\n",
    "    cutoff = 110,\n",
    "    flux = 0.5,\n",
    "    truncated_dim=d2\n",
    ")\n",
    "# EJ = 80*2*np.pi\n",
    "# EC = 0.2*2*np.pi\n",
    "# beta = 0.15\n",
    "# ng = 0\n",
    "# ncut = 100\n",
    "# flux = 0.22\n",
    "# N = 3\n",
    "# dims = 10\n",
    "\n",
    "# # truncated_dim:int = 6\n",
    "# snail = SNAIL(EJ,EC,beta,ng,ncut,flux,N,dims)\n",
    "# Hs , charge_op = snail.spectrum_charge()"
   ]
  },
  {
   "cell_type": "code",
   "execution_count": 3,
   "id": "3feea492",
   "metadata": {},
   "outputs": [],
   "source": [
    "def annihilation(dim):\n",
    "    return np.diag(np.sqrt(np.arange(1,dim)),1)\n",
    "def creation(dim):\n",
    "    return np.diag(np.sqrt(np.arange(1,dim)),-1)\n",
    "dims = 10\n",
    "sd = creation(dims)\n",
    "s = annihilation(dims)\n",
    "omega_s = 5*2*np.pi\n",
    "g3 = 0.05*2*np.pi\n",
    "Hs = omega_s*sd@s\n",
    "Is = 1*np.identity(dims)\n",
    "\n",
    "H3 = g3*(s-Is+sd-Is)@(s-Is+sd-Is)@(s-Is+sd-Is)\n",
    "charge_op = -1j*(s-sd)"
   ]
  },
  {
   "cell_type": "code",
   "execution_count": 4,
   "id": "ecc8eac4",
   "metadata": {},
   "outputs": [],
   "source": [
    "phi1 = fluxonium1.phi_operator(energy_esys=True)\n",
    "phi2 = fluxonium2.phi_operator(energy_esys=True)"
   ]
  },
  {
   "cell_type": "code",
   "execution_count": 5,
   "id": "6e6d4444",
   "metadata": {},
   "outputs": [],
   "source": [
    "H1 = fluxonium1.hamiltonian(energy_esys=True)*2*np.pi\n",
    "H2 = fluxonium2.hamiltonian(energy_esys=True)*2*np.pi\n",
    "H1 = H1-np.identity(d1)*H1[0,0]\n",
    "H2 = H2-np.identity(d2)*H2[0,0]"
   ]
  },
  {
   "cell_type": "code",
   "execution_count": 8,
   "id": "9ac65916",
   "metadata": {},
   "outputs": [],
   "source": [
    "If1 = np.identity(d1)\n",
    "If2 = np.identity(d2)\n",
    "Is = np.identity(dims)"
   ]
  },
  {
   "cell_type": "code",
   "execution_count": 9,
   "id": "f0f0555b",
   "metadata": {},
   "outputs": [],
   "source": [
    "Hs = np.kron(np.kron(Hs,If1),If2)\n",
    "H3 = np.kron(np.kron(H3,If1),If2)\n",
    "H1 = np.kron(np.kron(Is,H1),If2)\n",
    "H2 = np.kron(np.kron(Is,If1),H2)"
   ]
  },
  {
   "cell_type": "code",
   "execution_count": 20,
   "id": "bfaca3f9",
   "metadata": {},
   "outputs": [],
   "source": [
    "g_int1 = 0.13*2*np.pi\n",
    "g_int2 = 0.13*2*np.pi\n",
    "H_int1 = g_int1 * np.kron(np.kron(charge_op,phi1),If2) \n",
    "H_int2 = g_int2 * np.kron(np.kron(charge_op,If1),phi2)"
   ]
  },
  {
   "cell_type": "code",
   "execution_count": 21,
   "id": "0fcc8ee2",
   "metadata": {},
   "outputs": [],
   "source": [
    "H = Hs + H1 + H2 + H_int1 + H_int2\n",
    "Hc  =  np.kron(np.kron(charge_op,If1),If2)\n",
    "energy0,U = np.linalg.eigh(H)\n",
    "energy0,U = sort_eigenpairs(energy0, U)\n",
    "Ud = U.transpose().conjugate()\n",
    "H = Ud@H@U\n",
    "H3 = Ud@H3@U\n",
    "Hc = Ud@Hc@U"
   ]
  },
  {
   "cell_type": "code",
   "execution_count": 22,
   "id": "5412f3d2",
   "metadata": {},
   "outputs": [
    {
     "data": {
      "text/plain": [
       "array([0.00000000e+00, 1.64321328e-02, 1.36891745e-01, 1.53323249e-01,\n",
       "       5.00072937e+00, 5.01648506e+00, 5.13683985e+00, 5.15259368e+00,\n",
       "       1.00014398e+01, 1.00165363e+01, 1.01367896e+01, 1.01518831e+01,\n",
       "       1.50021314e+01, 1.50165858e+01, 1.51367411e+01, 1.51511913e+01,\n",
       "       2.00028044e+01, 2.00166336e+01, 2.01366941e+01, 2.01505182e+01,\n",
       "       2.50034591e+01, 2.50166803e+01, 2.51366487e+01, 2.51498637e+01,\n",
       "       3.00041387e+01, 3.00167730e+01, 3.01366053e+01, 3.01492325e+01,\n",
       "       3.50077320e+01, 3.50200969e+01, 3.51365895e+01, 3.51489478e+01,\n",
       "       4.00826277e+01, 4.01104668e+01, 4.01397617e+01, 4.01676109e+01,\n",
       "       4.51336815e+01, 4.51356347e+01, 4.60983182e+01, 4.61002842e+01])"
      ]
     },
     "execution_count": 22,
     "metadata": {},
     "output_type": "execute_result"
    }
   ],
   "source": [
    "(energy0 - energy0[0])/2/np.pi"
   ]
  },
  {
   "cell_type": "code",
   "execution_count": 23,
   "id": "c7162f53",
   "metadata": {},
   "outputs": [
    {
     "data": {
      "text/plain": [
       "array([-4.17678143e-01-1.06988269e-20j, -1.22679644e-14+4.45823933e-16j,\n",
       "       -2.05391260e-15+4.85722573e-17j, -9.02018157e-01-1.63375390e-20j,\n",
       "        1.54043445e-15-2.06432094e-16j, -1.07925651e-01-4.24659461e-19j,\n",
       "        1.10253716e-02-7.89578186e-18j,  9.78384040e-16-1.55257751e-16j,\n",
       "       -1.11357171e-02-3.89528410e-19j, -8.77770079e-16+2.29850861e-17j,\n",
       "       -3.75405002e-16-4.43845264e-19j,  3.69021326e-03-7.41284063e-19j,\n",
       "        5.07948718e-17-5.25838054e-18j, -1.03481066e-03+1.26999393e-20j,\n",
       "        9.22862680e-05+9.57591125e-20j,  2.03287907e-17+3.57786717e-18j,\n",
       "       -7.61433681e-05-9.85589692e-19j, -4.09625133e-18+8.06375366e-19j,\n",
       "       -2.96461532e-20+3.81164826e-20j,  2.38362199e-05+1.30378325e-19j,\n",
       "        1.91852963e-19+8.47032947e-21j, -5.45954125e-06+8.99271829e-19j,\n",
       "        4.59383684e-07-1.70254484e-19j, -2.25522522e-20+4.46346659e-21j,\n",
       "       -3.29499620e-07+3.92458186e-19j, -4.89690923e-21+5.10124869e-22j,\n",
       "       -3.93737972e-22+6.89888018e-23j,  9.79764894e-08-1.50336451e-19j,\n",
       "        2.71315241e-22-3.85527558e-23j, -1.98735628e-08+8.00011988e-20j,\n",
       "        1.63162634e-09-1.24796870e-20j,  8.10637000e-23-1.29036944e-23j,\n",
       "       -8.46606008e-10+5.09961514e-21j, -1.38552753e-23+3.37829367e-24j,\n",
       "        5.45422216e-24-1.36698866e-24j,  6.25175176e-10-4.82221324e-21j,\n",
       "        3.87740912e-26-5.25482513e-27j, -6.70210699e-13-9.61307172e-23j,\n",
       "        3.47838424e-11-1.71199237e-21j,  7.39938907e-25+9.60816805e-26j])"
      ]
     },
     "execution_count": 23,
     "metadata": {},
     "output_type": "execute_result"
    }
   ],
   "source": [
    "U[3]"
   ]
  },
  {
   "cell_type": "code",
   "execution_count": 24,
   "id": "e65fee29",
   "metadata": {},
   "outputs": [
    {
     "data": {
      "text/plain": [
       "array([[4.50583952e+00, 1.24102008e+00, 1.44011691e-01, 3.67536028e-03],\n",
       "       [1.24102008e+00, 4.40278348e+00, 5.58902042e-03, 4.14016453e-01],\n",
       "       [1.44011691e-01, 5.58902042e-03, 4.39808190e+00, 5.88038151e-02],\n",
       "       [3.67536028e-03, 4.14016453e-01, 5.88038151e-02, 4.38029573e+00]])"
      ]
     },
     "execution_count": 24,
     "metadata": {},
     "output_type": "execute_result"
    }
   ],
   "source": [
    "np.abs(H3[0:4,0:4])"
   ]
  },
  {
   "cell_type": "code",
   "execution_count": 25,
   "id": "cdfdb50a",
   "metadata": {},
   "outputs": [
    {
     "data": {
      "text/plain": [
       "array([[-4.40034408e-15-7.16604610e-34j,  2.87579384e-01-1.08056112e-02j,\n",
       "        -2.80139607e-02+8.51782299e-04j, -2.01928662e-15+6.31682997e-17j],\n",
       "       [ 2.87579384e-01+1.08056112e-02j,  5.20572545e-15-5.86446045e-33j,\n",
       "         1.84268374e-16+3.21894556e-16j,  1.03515131e-01+3.88951476e-03j],\n",
       "       [-2.80139607e-02-8.51782299e-04j,  1.84268374e-16-3.21894556e-16j,\n",
       "        -5.23577748e-16-2.08334121e-32j, -1.23073825e-02-3.74213794e-04j],\n",
       "       [-2.01928662e-15-6.31682997e-17j,  1.03515131e-01-3.88951476e-03j,\n",
       "        -1.23073825e-02+3.74213794e-04j, -9.59210115e-16+3.90517380e-33j]])"
      ]
     },
     "execution_count": 25,
     "metadata": {},
     "output_type": "execute_result"
    }
   ],
   "source": [
    "Hc[0:4,0:4]"
   ]
  },
  {
   "cell_type": "code",
   "execution_count": 30,
   "id": "8870d55f",
   "metadata": {},
   "outputs": [
    {
     "data": {
      "text/plain": [
       "array([0.00000000e+00+0.00000000e+00j, 7.43551710e-03+2.40663628e-19j,\n",
       "       2.24023997e-01+1.54195693e-18j, 2.31025421e-01-2.35423674e-33j,\n",
       "       7.99595604e-01+7.71693486e-18j, 8.04056326e-01-1.11635509e-31j,\n",
       "       1.01956578e+00-3.90956183e-30j, 1.02294572e+00-7.06891662e-18j,\n",
       "       1.59779881e+00+3.57259230e-32j, 1.60031968e+00-1.18717446e-17j,\n",
       "       1.81519647e+00+5.24688399e-18j, 1.81635885e+00-2.43782435e-31j,\n",
       "       2.39497130e+00-5.75392124e-17j, 2.39634269e+00+7.92814591e-33j,\n",
       "       2.61086707e+00+1.43307629e-16j, 2.61089098e+00-3.36802731e-30j,\n",
       "       3.19165866e+00-4.07227501e-32j, 3.19244811e+00-1.94149208e-17j,\n",
       "       3.40613682e+00+1.80922925e-31j, 3.40662994e+00+3.66873645e-17j,\n",
       "       3.99195883e+00+4.09806590e-19j, 3.99254065e+00-1.89924274e-32j,\n",
       "       4.20190758e+00-2.65632106e-17j, 4.20239916e+00+3.48144913e-30j,\n",
       "       4.82355378e+00-2.11529080e-32j, 4.82408895e+00+6.83994222e-18j,\n",
       "       4.99795253e+00+1.84291858e-30j, 4.99818655e+00-8.80951423e-18j,\n",
       "       5.76726618e+00+8.09977694e-20j, 5.76763161e+00-4.76952092e-32j,\n",
       "       5.79397941e+00-1.29821061e-29j, 5.79418255e+00-5.76807066e-18j,\n",
       "       6.58977261e+00+4.89634418e-19j, 6.59012043e+00+9.90202564e-32j,\n",
       "       6.93834733e+00+2.93713772e-19j, 6.93955101e+00-1.47500026e-32j,\n",
       "       7.38567416e+00-1.66160580e-32j, 7.38652196e+00-5.52179632e-19j,\n",
       "       8.52385029e+00-1.46543219e-32j, 8.52442139e+00-2.76089816e-19j])"
      ]
     },
     "execution_count": 30,
     "metadata": {},
     "output_type": "execute_result"
    }
   ],
   "source": [
    "np.diag(H)/2/np.pi - (np.diag(H)/2/np.pi)[0]"
   ]
  },
  {
   "cell_type": "code",
   "execution_count": null,
   "id": "6bb6d56b",
   "metadata": {},
   "outputs": [],
   "source": []
  },
  {
   "cell_type": "code",
   "execution_count": null,
   "id": "0f38fa07",
   "metadata": {},
   "outputs": [],
   "source": []
  }
 ],
 "metadata": {
  "kernelspec": {
   "display_name": "Python 3 (ipykernel)",
   "language": "python",
   "name": "python3"
  },
  "language_info": {
   "codemirror_mode": {
    "name": "ipython",
    "version": 3
   },
   "file_extension": ".py",
   "mimetype": "text/x-python",
   "name": "python",
   "nbconvert_exporter": "python",
   "pygments_lexer": "ipython3",
   "version": "3.12.2"
  }
 },
 "nbformat": 4,
 "nbformat_minor": 5
}
