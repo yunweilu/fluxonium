{
 "cells": [
  {
   "cell_type": "code",
   "execution_count": null,
   "metadata": {},
   "outputs": [],
   "source": []
  },
  {
   "cell_type": "code",
   "execution_count": 4,
   "metadata": {},
   "outputs": [],
   "source": [
    "import numpy as np\n",
    "import cmath\n",
    "import scqubits as scq\n",
    "import matplotlib.pyplot as plt\n",
    "\n",
    "import chencrafts.toolbox as tb\n",
    "import chencrafts.cqed as cqed\n",
    "\n",
    "import qutip as qt\n",
    "\n",
    "from fluxonium_tunable_coupler import FluxoniumTunableCouplerGrounded, ConstructFullPulse\n",
    "\n",
    "scq.settings.PROGRESSBAR_DISABLED = True\n",
    "import chencrafts\n",
    "chencrafts.settings.PROGRESSBAR_DISABLED = True\n"
   ]
  },
  {
   "cell_type": "code",
   "execution_count": 8,
   "metadata": {},
   "outputs": [],
   "source": [
    "def FTC_system(\n",
    "    E_Ja, E_Jb, \n",
    "    E_Ca, E_Cb, \n",
    "    E_La, E_Lb,\n",
    "    E_C, ECm, E_L1, E_L2, E_J,\n",
    "    flux_a, flux_b, flux_c, \n",
    "    **kwargs\n",
    "):\n",
    "    FTC_grounded = FluxoniumTunableCouplerGrounded(\n",
    "        EJa=E_Ja, EJb=E_Jb, EC_twoqubit=np.inf,\n",
    "        ECq1=E_Ca, ECq2=E_Cb, ELa=E_La, ELb=E_Lb,\n",
    "        flux_a=flux_a, flux_b=flux_b, flux_c=flux_c,\n",
    "        fluxonium_cutoff=130, fluxonium_truncated_dim=6,\n",
    "        ECc=E_C, ECm=ECm, EL1=E_L1, EL2=E_L2, EJC=E_J,\n",
    "        fluxonium_minus_truncated_dim=3, h_o_truncated_dim=3\n",
    "    )\n",
    "\n",
    "    return FTC_grounded\n"
   ]
  },
  {
   "cell_type": "code",
   "execution_count": 22,
   "metadata": {},
   "outputs": [],
   "source": [
    "para_exp = {\n",
    "    'E_Ja': 4.6,\n",
    "    'E_Jb': 5.5,\n",
    "    'E_Ca': 0.9,\n",
    "    'E_Cb': 0.9,\n",
    "    'E_L1': 2,\n",
    "    'E_J': 3,\n",
    "    'E_C': 100,\n",
    "    'ECm': 14.3,\n",
    "    'E_L2': 2,\n",
    "    'E_La': 0.21,\n",
    "    'E_Lb': 0.21,\n",
    "}\n",
    "FTC_grounded = FTC_system(\n",
    "    **para_exp,\n",
    "    flux_a = 0.4823993253847567,\n",
    "    flux_b = 0.5176006746152433,\n",
    "    flux_c = 0.27578709780859395,\n",
    ")"
   ]
  },
  {
   "cell_type": "code",
   "execution_count": 23,
   "metadata": {},
   "outputs": [],
   "source": [
    "# FTC_grounded.find_sweetspot_by_spectrum()"
   ]
  },
  {
   "cell_type": "code",
   "execution_count": 24,
   "metadata": {},
   "outputs": [
    {
     "data": {
      "text/plain": [
       "Fluxonium(**{'EJ': 3, 'EC': 22.239502332814933, 'EL': 1.105, 'flux': 0.27578709780859395, 'cutoff': 130, 'truncated_dim': 3, 'id_str': 'fluxonium_minus', 'evals_method': None, 'evals_method_options': None, 'esys_method': None, 'esys_method_options': None})"
      ]
     },
     "execution_count": 24,
     "metadata": {},
     "output_type": "execute_result"
    }
   ],
   "source": [
    "FTC_grounded.fluxonium_minus()"
   ]
  },
  {
   "cell_type": "code",
   "execution_count": null,
   "metadata": {},
   "outputs": [],
   "source": []
  }
 ],
 "metadata": {
  "kernelspec": {
   "display_name": "flux",
   "language": "python",
   "name": "python3"
  },
  "language_info": {
   "codemirror_mode": {
    "name": "ipython",
    "version": 3
   },
   "file_extension": ".py",
   "mimetype": "text/x-python",
   "name": "python",
   "nbconvert_exporter": "python",
   "pygments_lexer": "ipython3",
   "version": "3.12.2"
  }
 },
 "nbformat": 4,
 "nbformat_minor": 2
}
