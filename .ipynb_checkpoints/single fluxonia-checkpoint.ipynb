{
 "cells": [
  {
   "cell_type": "code",
   "execution_count": 1,
   "id": "680b6a39",
   "metadata": {},
   "outputs": [],
   "source": [
    "import scqubits as scqubits\n",
    "import numpy as np\n",
    "fluxonium = scqubits.Fluxonium(EJ = 8.9,\n",
    "                               EC = 2.5,\n",
    "                               EL = 0.5,\n",
    "                               flux = 0.33,\n",
    "                               cutoff = 110)"
   ]
  },
  {
   "cell_type": "code",
   "execution_count": 2,
   "id": "bf30087a",
   "metadata": {},
   "outputs": [
    {
     "data": {
      "text/plain": [
       "array([-1.72737703,  1.343799  ,  8.49448413, 12.13437429, 13.34329487,\n",
       "       17.70414565])"
      ]
     },
     "execution_count": 2,
     "metadata": {},
     "output_type": "execute_result"
    }
   ],
   "source": [
    "fluxonium.eigenvals()"
   ]
  },
  {
   "cell_type": "code",
   "execution_count": 6,
   "id": "479e92b7",
   "metadata": {},
   "outputs": [
    {
     "data": {
      "application/vnd.jupyter.widget-view+json": {
       "model_id": "",
       "version_major": 2,
       "version_minor": 0
      },
      "text/plain": [
       "HBox(children=(HTML(value='Spectral data'), FloatProgress(value=0.0), HTML(value='')))"
      ]
     },
     "metadata": {},
     "output_type": "display_data"
    },
    {
     "ename": "KeyError",
     "evalue": "'a0a6f1ed3dac41d2b4b23b135e15a165'",
     "output_type": "error",
     "traceback": [
      "\u001b[0;31m---------------------------------------------------------------------------\u001b[0m",
      "\u001b[0;31mKeyError\u001b[0m                                  Traceback (most recent call last)",
      "Input \u001b[0;32mIn [6]\u001b[0m, in \u001b[0;36m<module>\u001b[0;34m\u001b[0m\n\u001b[0;32m----> 1\u001b[0m \u001b[43mfluxonium\u001b[49m\u001b[38;5;241;43m.\u001b[39;49m\u001b[43mplot_t2_effective_vs_paramvals\u001b[49m\u001b[43m(\u001b[49m\u001b[43mparam_name\u001b[49m\u001b[38;5;241;43m=\u001b[39;49m\u001b[38;5;124;43m'\u001b[39;49m\u001b[38;5;124;43mflux\u001b[39;49m\u001b[38;5;124;43m'\u001b[39;49m\u001b[43m,\u001b[49m\n\u001b[1;32m      2\u001b[0m \u001b[43m                                     \u001b[49m\u001b[43mparam_vals\u001b[49m\u001b[38;5;241;43m=\u001b[39;49m\u001b[43mnp\u001b[49m\u001b[38;5;241;43m.\u001b[39;49m\u001b[43mlinspace\u001b[49m\u001b[43m(\u001b[49m\u001b[38;5;241;43m-\u001b[39;49m\u001b[38;5;241;43m0.5\u001b[39;49m\u001b[43m,\u001b[49m\u001b[43m \u001b[49m\u001b[38;5;241;43m0.5\u001b[39;49m\u001b[43m,\u001b[49m\u001b[43m \u001b[49m\u001b[38;5;241;43m100\u001b[39;49m\u001b[43m)\u001b[49m\u001b[43m,\u001b[49m\n\u001b[1;32m      3\u001b[0m \u001b[43m                                    \u001b[49m\u001b[43m)\u001b[49m\n",
      "File \u001b[0;32m~/miniconda3/lib/python3.8/contextlib.py:75\u001b[0m, in \u001b[0;36mContextDecorator.__call__.<locals>.inner\u001b[0;34m(*args, **kwds)\u001b[0m\n\u001b[1;32m     72\u001b[0m \u001b[38;5;129m@wraps\u001b[39m(func)\n\u001b[1;32m     73\u001b[0m \u001b[38;5;28;01mdef\u001b[39;00m \u001b[38;5;21minner\u001b[39m(\u001b[38;5;241m*\u001b[39margs, \u001b[38;5;241m*\u001b[39m\u001b[38;5;241m*\u001b[39mkwds):\n\u001b[1;32m     74\u001b[0m     \u001b[38;5;28;01mwith\u001b[39;00m \u001b[38;5;28mself\u001b[39m\u001b[38;5;241m.\u001b[39m_recreate_cm():\n\u001b[0;32m---> 75\u001b[0m         \u001b[38;5;28;01mreturn\u001b[39;00m \u001b[43mfunc\u001b[49m\u001b[43m(\u001b[49m\u001b[38;5;241;43m*\u001b[39;49m\u001b[43margs\u001b[49m\u001b[43m,\u001b[49m\u001b[43m \u001b[49m\u001b[38;5;241;43m*\u001b[39;49m\u001b[38;5;241;43m*\u001b[39;49m\u001b[43mkwds\u001b[49m\u001b[43m)\u001b[49m\n",
      "File \u001b[0;32m~/miniconda3/lib/python3.8/site-packages/scqubits/core/noise.py:587\u001b[0m, in \u001b[0;36mNoisySystem.plot_t2_effective_vs_paramvals\u001b[0;34m(self, param_name, param_vals, noise_channels, common_noise_options, spectrum_data, get_rate, scale, num_cpus, **kwargs)\u001b[0m\n\u001b[1;32m    584\u001b[0m             opts \u001b[38;5;241m=\u001b[39m noise_channel[\u001b[38;5;241m1\u001b[39m]\n\u001b[1;32m    585\u001b[0m             max_level \u001b[38;5;241m=\u001b[39m \u001b[38;5;28mmax\u001b[39m(max_level, opts\u001b[38;5;241m.\u001b[39mget(\u001b[38;5;124m\"\u001b[39m\u001b[38;5;124mi\u001b[39m\u001b[38;5;124m\"\u001b[39m, \u001b[38;5;241m1\u001b[39m), opts\u001b[38;5;241m.\u001b[39mget(\u001b[38;5;124m\"\u001b[39m\u001b[38;5;124mj\u001b[39m\u001b[38;5;124m\"\u001b[39m, \u001b[38;5;241m1\u001b[39m))\n\u001b[0;32m--> 587\u001b[0m     spectrum_data \u001b[38;5;241m=\u001b[39m \u001b[38;5;28;43mself\u001b[39;49m\u001b[38;5;241;43m.\u001b[39;49m\u001b[43mget_spectrum_vs_paramvals\u001b[49m\u001b[43m(\u001b[49m\u001b[43m  \u001b[49m\u001b[38;5;66;43;03m# type:ignore\u001b[39;49;00m\n\u001b[1;32m    588\u001b[0m \u001b[43m        \u001b[49m\u001b[43mparam_name\u001b[49m\u001b[43m,\u001b[49m\n\u001b[1;32m    589\u001b[0m \u001b[43m        \u001b[49m\u001b[43mparam_vals\u001b[49m\u001b[43m,\u001b[49m\n\u001b[1;32m    590\u001b[0m \u001b[43m        \u001b[49m\u001b[43mevals_count\u001b[49m\u001b[38;5;241;43m=\u001b[39;49m\u001b[43mmax_level\u001b[49m\u001b[43m \u001b[49m\u001b[38;5;241;43m+\u001b[39;49m\u001b[43m \u001b[49m\u001b[38;5;241;43m1\u001b[39;49m\u001b[43m,\u001b[49m\u001b[43m  \u001b[49m\u001b[38;5;66;43;03m# type: ignore\u001b[39;49;00m\n\u001b[1;32m    591\u001b[0m \u001b[43m        \u001b[49m\u001b[43msubtract_ground\u001b[49m\u001b[38;5;241;43m=\u001b[39;49m\u001b[38;5;28;43;01mTrue\u001b[39;49;00m\u001b[43m,\u001b[49m\n\u001b[1;32m    592\u001b[0m \u001b[43m        \u001b[49m\u001b[43mget_eigenstates\u001b[49m\u001b[38;5;241;43m=\u001b[39;49m\u001b[38;5;28;43;01mTrue\u001b[39;49;00m\u001b[43m,\u001b[49m\n\u001b[1;32m    593\u001b[0m \u001b[43m        \u001b[49m\u001b[43mfilename\u001b[49m\u001b[38;5;241;43m=\u001b[39;49m\u001b[38;5;28;43;01mNone\u001b[39;49;00m\u001b[43m,\u001b[49m\n\u001b[1;32m    594\u001b[0m \u001b[43m        \u001b[49m\u001b[43mnum_cpus\u001b[49m\u001b[38;5;241;43m=\u001b[39;49m\u001b[43mnum_cpus\u001b[49m\u001b[43m,\u001b[49m\n\u001b[1;32m    595\u001b[0m \u001b[43m    \u001b[49m\u001b[43m)\u001b[49m\n\u001b[1;32m    597\u001b[0m \u001b[38;5;66;03m# remember current value of param_name\u001b[39;00m\n\u001b[1;32m    598\u001b[0m current_val \u001b[38;5;241m=\u001b[39m \u001b[38;5;28mgetattr\u001b[39m(\u001b[38;5;28mself\u001b[39m, param_name)\n",
      "File \u001b[0;32m~/miniconda3/lib/python3.8/site-packages/scqubits/core/qubit_base.py:669\u001b[0m, in \u001b[0;36mQubitBaseClass.get_spectrum_vs_paramvals\u001b[0;34m(self, param_name, param_vals, evals_count, subtract_ground, get_eigenstates, filename, num_cpus)\u001b[0m\n\u001b[1;32m    659\u001b[0m     func_esys \u001b[38;5;241m=\u001b[39m functools\u001b[38;5;241m.\u001b[39mpartial(\n\u001b[1;32m    660\u001b[0m         \u001b[38;5;28mself\u001b[39m\u001b[38;5;241m.\u001b[39m_esys_for_paramval, param_name\u001b[38;5;241m=\u001b[39mparam_name, evals_count\u001b[38;5;241m=\u001b[39mevals_count\n\u001b[1;32m    661\u001b[0m     )\n\u001b[1;32m    662\u001b[0m     \u001b[38;5;28;01mwith\u001b[39;00m InfoBar(\n\u001b[1;32m    663\u001b[0m         \u001b[38;5;124m\"\u001b[39m\u001b[38;5;124mParallel computation of eigenvalues [num_cpus=\u001b[39m\u001b[38;5;132;01m{}\u001b[39;00m\u001b[38;5;124m]\u001b[39m\u001b[38;5;124m\"\u001b[39m\u001b[38;5;241m.\u001b[39mformat(num_cpus),\n\u001b[1;32m    664\u001b[0m         num_cpus,\n\u001b[0;32m   (...)\u001b[0m\n\u001b[1;32m    667\u001b[0m         \u001b[38;5;66;03m# a list, as for certain applications the necessary hilbert space\u001b[39;00m\n\u001b[1;32m    668\u001b[0m         \u001b[38;5;66;03m# dimension can vary with paramvals\u001b[39;00m\n\u001b[0;32m--> 669\u001b[0m         eigensystem_mapdata \u001b[38;5;241m=\u001b[39m \u001b[38;5;28;43mlist\u001b[39;49m\u001b[43m(\u001b[49m\n\u001b[1;32m    670\u001b[0m \u001b[43m            \u001b[49m\u001b[43mtarget_map\u001b[49m\u001b[43m(\u001b[49m\n\u001b[1;32m    671\u001b[0m \u001b[43m                \u001b[49m\u001b[43mfunc_esys\u001b[49m\u001b[43m,\u001b[49m\n\u001b[1;32m    672\u001b[0m \u001b[43m                \u001b[49m\u001b[43mtqdm\u001b[49m\u001b[43m(\u001b[49m\n\u001b[1;32m    673\u001b[0m \u001b[43m                    \u001b[49m\u001b[43mparam_vals\u001b[49m\u001b[43m,\u001b[49m\n\u001b[1;32m    674\u001b[0m \u001b[43m                    \u001b[49m\u001b[43mdesc\u001b[49m\u001b[38;5;241;43m=\u001b[39;49m\u001b[38;5;124;43m\"\u001b[39;49m\u001b[38;5;124;43mSpectral data\u001b[39;49m\u001b[38;5;124;43m\"\u001b[39;49m\u001b[43m,\u001b[49m\n\u001b[1;32m    675\u001b[0m \u001b[43m                    \u001b[49m\u001b[43mleave\u001b[49m\u001b[38;5;241;43m=\u001b[39;49m\u001b[38;5;28;43;01mFalse\u001b[39;49;00m\u001b[43m,\u001b[49m\n\u001b[1;32m    676\u001b[0m \u001b[43m                    \u001b[49m\u001b[43mdisable\u001b[49m\u001b[38;5;241;43m=\u001b[39;49m\u001b[43mtqdm_disable\u001b[49m\u001b[43m,\u001b[49m\n\u001b[1;32m    677\u001b[0m \u001b[43m                \u001b[49m\u001b[43m)\u001b[49m\u001b[43m,\u001b[49m\n\u001b[1;32m    678\u001b[0m \u001b[43m            \u001b[49m\u001b[43m)\u001b[49m\n\u001b[1;32m    679\u001b[0m \u001b[43m        \u001b[49m\u001b[43m)\u001b[49m\n\u001b[1;32m    680\u001b[0m     eigenvalue_table, eigenstate_table \u001b[38;5;241m=\u001b[39m recast_esys_mapdata(\n\u001b[1;32m    681\u001b[0m         eigensystem_mapdata\n\u001b[1;32m    682\u001b[0m     )\n\u001b[1;32m    684\u001b[0m \u001b[38;5;28;01mif\u001b[39;00m subtract_ground:\n",
      "File \u001b[0;32m~/miniconda3/lib/python3.8/site-packages/tqdm/notebook.py:234\u001b[0m, in \u001b[0;36mtqdm_notebook.__iter__\u001b[0;34m(self, *args, **kwargs)\u001b[0m\n\u001b[1;32m    232\u001b[0m \u001b[38;5;28;01mdef\u001b[39;00m \u001b[38;5;21m__iter__\u001b[39m(\u001b[38;5;28mself\u001b[39m, \u001b[38;5;241m*\u001b[39margs, \u001b[38;5;241m*\u001b[39m\u001b[38;5;241m*\u001b[39mkwargs):\n\u001b[1;32m    233\u001b[0m     \u001b[38;5;28;01mtry\u001b[39;00m:\n\u001b[0;32m--> 234\u001b[0m         \u001b[38;5;28;01mfor\u001b[39;00m obj \u001b[38;5;129;01min\u001b[39;00m \u001b[38;5;28msuper\u001b[39m(tqdm_notebook, \u001b[38;5;28mself\u001b[39m)\u001b[38;5;241m.\u001b[39m\u001b[38;5;21m__iter__\u001b[39m(\u001b[38;5;241m*\u001b[39margs, \u001b[38;5;241m*\u001b[39m\u001b[38;5;241m*\u001b[39mkwargs):\n\u001b[1;32m    235\u001b[0m             \u001b[38;5;66;03m# return super(tqdm...) will not catch exception\u001b[39;00m\n\u001b[1;32m    236\u001b[0m             \u001b[38;5;28;01myield\u001b[39;00m obj\n\u001b[1;32m    237\u001b[0m     \u001b[38;5;66;03m# NB: except ... [ as ...] breaks IPython async KeyboardInterrupt\u001b[39;00m\n",
      "File \u001b[0;32m~/miniconda3/lib/python3.8/site-packages/tqdm/std.py:1218\u001b[0m, in \u001b[0;36mtqdm.__iter__\u001b[0;34m(self)\u001b[0m\n\u001b[1;32m   1216\u001b[0m \u001b[38;5;28mself\u001b[39m\u001b[38;5;241m.\u001b[39mn \u001b[38;5;241m=\u001b[39m n\n\u001b[1;32m   1217\u001b[0m \u001b[38;5;28mself\u001b[39m\u001b[38;5;241m.\u001b[39mminiters \u001b[38;5;241m=\u001b[39m miniters\n\u001b[0;32m-> 1218\u001b[0m \u001b[38;5;28;43mself\u001b[39;49m\u001b[38;5;241;43m.\u001b[39;49m\u001b[43mclose\u001b[49m\u001b[43m(\u001b[49m\u001b[43m)\u001b[49m\n",
      "File \u001b[0;32m~/miniconda3/lib/python3.8/site-packages/tqdm/notebook.py:266\u001b[0m, in \u001b[0;36mtqdm_notebook.close\u001b[0;34m(self, *args, **kwargs)\u001b[0m\n\u001b[1;32m    264\u001b[0m     \u001b[38;5;28mself\u001b[39m\u001b[38;5;241m.\u001b[39msp(bar_style\u001b[38;5;241m=\u001b[39m\u001b[38;5;124m'\u001b[39m\u001b[38;5;124msuccess\u001b[39m\u001b[38;5;124m'\u001b[39m)\n\u001b[1;32m    265\u001b[0m \u001b[38;5;28;01melse\u001b[39;00m:\n\u001b[0;32m--> 266\u001b[0m     \u001b[38;5;28;43mself\u001b[39;49m\u001b[38;5;241;43m.\u001b[39;49m\u001b[43msp\u001b[49m\u001b[43m(\u001b[49m\u001b[43mclose\u001b[49m\u001b[38;5;241;43m=\u001b[39;49m\u001b[38;5;28;43;01mTrue\u001b[39;49;00m\u001b[43m)\u001b[49m\n",
      "File \u001b[0;32m~/miniconda3/lib/python3.8/site-packages/tqdm/notebook.py:183\u001b[0m, in \u001b[0;36mtqdm_notebook.display\u001b[0;34m(self, msg, pos, close, bar_style)\u001b[0m\n\u001b[1;32m    181\u001b[0m \u001b[38;5;28;01mif\u001b[39;00m close \u001b[38;5;129;01mand\u001b[39;00m pbar\u001b[38;5;241m.\u001b[39mbar_style \u001b[38;5;241m!=\u001b[39m \u001b[38;5;124m'\u001b[39m\u001b[38;5;124mdanger\u001b[39m\u001b[38;5;124m'\u001b[39m:  \u001b[38;5;66;03m# hide only if no error\u001b[39;00m\n\u001b[1;32m    182\u001b[0m     \u001b[38;5;28;01mtry\u001b[39;00m:\n\u001b[0;32m--> 183\u001b[0m         \u001b[38;5;28;43mself\u001b[39;49m\u001b[38;5;241;43m.\u001b[39;49m\u001b[43mcontainer\u001b[49m\u001b[38;5;241;43m.\u001b[39;49m\u001b[43mclose\u001b[49m\u001b[43m(\u001b[49m\u001b[43m)\u001b[49m\n\u001b[1;32m    184\u001b[0m     \u001b[38;5;28;01mexcept\u001b[39;00m \u001b[38;5;167;01mAttributeError\u001b[39;00m:\n\u001b[1;32m    185\u001b[0m         \u001b[38;5;28mself\u001b[39m\u001b[38;5;241m.\u001b[39mcontainer\u001b[38;5;241m.\u001b[39mvisible \u001b[38;5;241m=\u001b[39m \u001b[38;5;28;01mFalse\u001b[39;00m\n",
      "File \u001b[0;32m~/miniconda3/lib/python3.8/site-packages/ipywidgets/widgets/widget.py:500\u001b[0m, in \u001b[0;36mWidget.close\u001b[0;34m(self)\u001b[0m\n\u001b[1;32m    498\u001b[0m \u001b[38;5;28;01mif\u001b[39;00m \u001b[38;5;28mself\u001b[39m\u001b[38;5;241m.\u001b[39mcomm \u001b[38;5;129;01mis\u001b[39;00m \u001b[38;5;129;01mnot\u001b[39;00m \u001b[38;5;28;01mNone\u001b[39;00m:\n\u001b[1;32m    499\u001b[0m     Widget\u001b[38;5;241m.\u001b[39m_active_widgets\u001b[38;5;241m.\u001b[39mpop(\u001b[38;5;28mself\u001b[39m\u001b[38;5;241m.\u001b[39mmodel_id, \u001b[38;5;28;01mNone\u001b[39;00m)\n\u001b[0;32m--> 500\u001b[0m     \u001b[38;5;28;43mself\u001b[39;49m\u001b[38;5;241;43m.\u001b[39;49m\u001b[43mcomm\u001b[49m\u001b[38;5;241;43m.\u001b[39;49m\u001b[43mclose\u001b[49m\u001b[43m(\u001b[49m\u001b[43m)\u001b[49m\n\u001b[1;32m    501\u001b[0m     \u001b[38;5;28mself\u001b[39m\u001b[38;5;241m.\u001b[39mcomm \u001b[38;5;241m=\u001b[39m \u001b[38;5;28;01mNone\u001b[39;00m\n\u001b[1;32m    502\u001b[0m     \u001b[38;5;28mself\u001b[39m\u001b[38;5;241m.\u001b[39m_repr_mimebundle_ \u001b[38;5;241m=\u001b[39m \u001b[38;5;28;01mNone\u001b[39;00m\n",
      "File \u001b[0;32m~/miniconda3/lib/python3.8/site-packages/comm/base_comm.py:109\u001b[0m, in \u001b[0;36mBaseComm.close\u001b[0;34m(self, data, metadata, buffers, deleting)\u001b[0m\n\u001b[1;32m    101\u001b[0m \u001b[38;5;28mself\u001b[39m\u001b[38;5;241m.\u001b[39mpublish_msg(\n\u001b[1;32m    102\u001b[0m     \u001b[38;5;124m\"\u001b[39m\u001b[38;5;124mcomm_close\u001b[39m\u001b[38;5;124m\"\u001b[39m,\n\u001b[1;32m    103\u001b[0m     data\u001b[38;5;241m=\u001b[39mdata,\n\u001b[1;32m    104\u001b[0m     metadata\u001b[38;5;241m=\u001b[39mmetadata,\n\u001b[1;32m    105\u001b[0m     buffers\u001b[38;5;241m=\u001b[39mbuffers,\n\u001b[1;32m    106\u001b[0m )\n\u001b[1;32m    107\u001b[0m \u001b[38;5;28;01mif\u001b[39;00m \u001b[38;5;129;01mnot\u001b[39;00m deleting:\n\u001b[1;32m    108\u001b[0m     \u001b[38;5;66;03m# If deleting, the comm can't be registered\u001b[39;00m\n\u001b[0;32m--> 109\u001b[0m     \u001b[43mcomm\u001b[49m\u001b[38;5;241;43m.\u001b[39;49m\u001b[43mget_comm_manager\u001b[49m\u001b[43m(\u001b[49m\u001b[43m)\u001b[49m\u001b[38;5;241;43m.\u001b[39;49m\u001b[43munregister_comm\u001b[49m\u001b[43m(\u001b[49m\u001b[38;5;28;43mself\u001b[39;49m\u001b[43m)\u001b[49m\n",
      "File \u001b[0;32m~/miniconda3/lib/python3.8/site-packages/comm/base_comm.py:199\u001b[0m, in \u001b[0;36mCommManager.unregister_comm\u001b[0;34m(self, comm)\u001b[0m\n\u001b[1;32m    197\u001b[0m \u001b[38;5;250m\u001b[39m\u001b[38;5;124;03m\"\"\"Unregister a comm, and close its counterpart\"\"\"\u001b[39;00m\n\u001b[1;32m    198\u001b[0m \u001b[38;5;66;03m# unlike get_comm, this should raise a KeyError\u001b[39;00m\n\u001b[0;32m--> 199\u001b[0m comm \u001b[38;5;241m=\u001b[39m \u001b[38;5;28;43mself\u001b[39;49m\u001b[38;5;241;43m.\u001b[39;49m\u001b[43mcomms\u001b[49m\u001b[38;5;241;43m.\u001b[39;49m\u001b[43mpop\u001b[49m\u001b[43m(\u001b[49m\u001b[43mcomm\u001b[49m\u001b[38;5;241;43m.\u001b[39;49m\u001b[43mcomm_id\u001b[49m\u001b[43m)\u001b[49m\n",
      "\u001b[0;31mKeyError\u001b[0m: 'a0a6f1ed3dac41d2b4b23b135e15a165'"
     ]
    }
   ],
   "source": [
    "fluxonium.plot_t2_effective_vs_paramvals(param_name='flux',\n",
    "                                     param_vals=np.linspace(-0.5, 0.5, 100),\n",
    "                                    )"
   ]
  },
  {
   "cell_type": "code",
   "execution_count": 10,
   "id": "006712dd",
   "metadata": {},
   "outputs": [
    {
     "data": {
      "text/plain": [
       "array([[0.+1.55812337e-18j, 0.-5.66262318e-02j, 0.-4.56401197e-01j,\n",
       "        0.-1.83445582e-01j, 0.+1.10035694e-01j, 0.-2.77944704e-02j],\n",
       "       [0.+5.66262318e-02j, 0.+3.90836292e-18j, 0.+2.64320488e-01j,\n",
       "        0.-3.65141796e-01j, 0.+1.54440777e-01j, 0.+1.61719812e-01j],\n",
       "       [0.+4.56401197e-01j, 0.-2.64320488e-01j, 0.-1.07795361e-17j,\n",
       "        0.+4.03279900e-01j, 0.-4.25158508e-02j, 0.+2.32905015e-01j],\n",
       "       [0.+1.83445582e-01j, 0.+3.65141796e-01j, 0.-4.03279900e-01j,\n",
       "        0.-6.68795482e-18j, 0.+2.04656212e-01j, 0.+4.85832987e-01j],\n",
       "       [0.-1.10035694e-01j, 0.-1.54440777e-01j, 0.+4.25158508e-02j,\n",
       "        0.-2.04656212e-01j, 0.+1.22583243e-17j, 0.-4.83263585e-01j],\n",
       "       [0.+2.77944704e-02j, 0.-1.61719812e-01j, 0.-2.32905015e-01j,\n",
       "        0.-4.85832987e-01j, 0.+4.83263585e-01j, 0.+2.59979704e-17j]])"
      ]
     },
     "execution_count": 10,
     "metadata": {},
     "output_type": "execute_result"
    }
   ],
   "source": [
    "fluxonium.n_operator(energy_esys=True)"
   ]
  },
  {
   "cell_type": "code",
   "execution_count": 12,
   "id": "24628f16",
   "metadata": {},
   "outputs": [
    {
     "name": "stdout",
     "output_type": "stream",
     "text": [
      "Requirement already satisfied: scqubits in /Users/apple/miniconda3/lib/python3.8/site-packages (3.3.0)\n",
      "Collecting scqubits\n",
      "  Obtaining dependency information for scqubits from https://files.pythonhosted.org/packages/b2/0a/eab86eeaaf3aebfff13f6944814cea5e7ef3d68b35113ccbe62a563b77dc/scqubits-4.1.0-py3-none-any.whl.metadata\n",
      "  Downloading scqubits-4.1.0-py3-none-any.whl.metadata (2.5 kB)\n",
      "Requirement already satisfied: cycler in /Users/apple/miniconda3/lib/python3.8/site-packages (from scqubits) (0.11.0)\n",
      "Requirement already satisfied: cython>=0.29.20 in /Users/apple/miniconda3/lib/python3.8/site-packages (from scqubits) (0.29.36)\n",
      "Requirement already satisfied: matplotlib>=3.5.1 in /Users/apple/miniconda3/lib/python3.8/site-packages (from scqubits) (3.6.3)\n",
      "Requirement already satisfied: numpy>=1.14.2 in /Users/apple/miniconda3/lib/python3.8/site-packages (from scqubits) (1.24.4)\n",
      "Requirement already satisfied: scipy>=1.5 in /Users/apple/miniconda3/lib/python3.8/site-packages (from scqubits) (1.10.0)\n",
      "Requirement already satisfied: dill in /Users/apple/miniconda3/lib/python3.8/site-packages (from scqubits) (0.3.5.1)\n",
      "Requirement already satisfied: sympy in /Users/apple/miniconda3/lib/python3.8/site-packages (from scqubits) (1.11.1)\n",
      "Requirement already satisfied: tqdm in /Users/apple/miniconda3/lib/python3.8/site-packages (from scqubits) (4.50.2)\n",
      "Requirement already satisfied: typing-extensions in /Users/apple/miniconda3/lib/python3.8/site-packages (from scqubits) (4.12.2)\n",
      "Requirement already satisfied: qutip<5.0 in /Users/apple/miniconda3/lib/python3.8/site-packages (from scqubits) (4.7.1)\n",
      "Requirement already satisfied: contourpy>=1.0.1 in /Users/apple/miniconda3/lib/python3.8/site-packages (from matplotlib>=3.5.1->scqubits) (1.0.7)\n",
      "Requirement already satisfied: fonttools>=4.22.0 in /Users/apple/miniconda3/lib/python3.8/site-packages (from matplotlib>=3.5.1->scqubits) (4.34.4)\n",
      "Requirement already satisfied: kiwisolver>=1.0.1 in /Users/apple/miniconda3/lib/python3.8/site-packages (from matplotlib>=3.5.1->scqubits) (1.4.4)\n",
      "Requirement already satisfied: packaging>=20.0 in /Users/apple/miniconda3/lib/python3.8/site-packages (from matplotlib>=3.5.1->scqubits) (23.2)\n",
      "Requirement already satisfied: pillow>=6.2.0 in /Users/apple/miniconda3/lib/python3.8/site-packages (from matplotlib>=3.5.1->scqubits) (9.2.0)\n",
      "Requirement already satisfied: pyparsing>=2.2.1 in /Users/apple/miniconda3/lib/python3.8/site-packages (from matplotlib>=3.5.1->scqubits) (3.0.9)\n",
      "Requirement already satisfied: python-dateutil>=2.7 in /Users/apple/miniconda3/lib/python3.8/site-packages (from matplotlib>=3.5.1->scqubits) (2.8.2)\n",
      "Requirement already satisfied: mpmath>=0.19 in /Users/apple/miniconda3/lib/python3.8/site-packages (from sympy->scqubits) (1.2.1)\n",
      "Requirement already satisfied: six>=1.5 in /Users/apple/miniconda3/lib/python3.8/site-packages (from python-dateutil>=2.7->matplotlib>=3.5.1->scqubits) (1.15.0)\n",
      "Downloading scqubits-4.1.0-py3-none-any.whl (6.5 MB)\n",
      "\u001b[2K   \u001b[90m━━━━━━━━━━━━━━━━━━━━━━━━━━━━━━━━━━━━━━━━\u001b[0m \u001b[32m6.5/6.5 MB\u001b[0m \u001b[31m2.5 MB/s\u001b[0m eta \u001b[36m0:00:00\u001b[0m00:01\u001b[0m00:01\u001b[0m\n",
      "\u001b[?25hInstalling collected packages: scqubits\n",
      "  Attempting uninstall: scqubits\n",
      "    Found existing installation: scqubits 3.3.0\n",
      "    Uninstalling scqubits-3.3.0:\n",
      "      Successfully uninstalled scqubits-3.3.0\n",
      "Successfully installed scqubits-4.1.0\n",
      "Note: you may need to restart the kernel to use updated packages.\n"
     ]
    }
   ],
   "source": [
    "pip install --upgrade scqubits\n"
   ]
  },
  {
   "cell_type": "code",
   "execution_count": null,
   "id": "fd6ebdc1",
   "metadata": {},
   "outputs": [],
   "source": []
  }
 ],
 "metadata": {
  "kernelspec": {
   "display_name": "Python 3 (ipykernel)",
   "language": "python",
   "name": "python3"
  },
  "language_info": {
   "codemirror_mode": {
    "name": "ipython",
    "version": 3
   },
   "file_extension": ".py",
   "mimetype": "text/x-python",
   "name": "python",
   "nbconvert_exporter": "python",
   "pygments_lexer": "ipython3",
   "version": "3.8.3"
  }
 },
 "nbformat": 4,
 "nbformat_minor": 5
}
