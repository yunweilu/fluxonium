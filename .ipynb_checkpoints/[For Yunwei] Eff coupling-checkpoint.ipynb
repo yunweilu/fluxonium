{
 "cells": [
  {
   "cell_type": "markdown",
   "metadata": {},
   "source": [
    "Install chencrafts:\n",
    "`pip install chencrafts`"
   ]
  },
  {
   "cell_type": "code",
   "execution_count": 1,
   "metadata": {},
   "outputs": [
    {
     "name": "stdout",
     "output_type": "stream",
     "text": [
      "Collecting chencrafts\n",
      "  Obtaining dependency information for chencrafts from https://files.pythonhosted.org/packages/3d/99/d381ca945b7c0aa94d33c212c197e428718e352ac49892d78c79b6b5f17d/chencrafts-1.3-py3-none-any.whl.metadata\n",
      "  Downloading chencrafts-1.3-py3-none-any.whl.metadata (2.6 kB)\n",
      "Requirement already satisfied: numpy in /Users/apple/miniconda3/lib/python3.8/site-packages (from chencrafts) (1.24.4)\n",
      "Requirement already satisfied: matplotlib in /Users/apple/miniconda3/lib/python3.8/site-packages (from chencrafts) (3.6.3)\n",
      "Requirement already satisfied: scipy in /Users/apple/miniconda3/lib/python3.8/site-packages (from chencrafts) (1.10.0)\n",
      "Requirement already satisfied: pandas in /Users/apple/miniconda3/lib/python3.8/site-packages (from chencrafts) (1.0.5)\n",
      "Requirement already satisfied: tqdm in /Users/apple/miniconda3/lib/python3.8/site-packages (from chencrafts) (4.50.2)\n",
      "Requirement already satisfied: dill in /Users/apple/miniconda3/lib/python3.8/site-packages (from chencrafts) (0.3.5.1)\n",
      "Requirement already satisfied: pathos in /Users/apple/miniconda3/lib/python3.8/site-packages (from chencrafts) (0.2.9)\n",
      "Requirement already satisfied: scqubits in /Users/apple/miniconda3/lib/python3.8/site-packages (from chencrafts) (4.1.0)\n",
      "Requirement already satisfied: IPython in /Users/apple/miniconda3/lib/python3.8/site-packages (from chencrafts) (8.0.1)\n",
      "Requirement already satisfied: setuptools>=18.5 in /Users/apple/miniconda3/lib/python3.8/site-packages (from IPython->chencrafts) (50.3.0.post20201103)\n",
      "Requirement already satisfied: jedi>=0.16 in /Users/apple/miniconda3/lib/python3.8/site-packages (from IPython->chencrafts) (0.18.1)\n",
      "Requirement already satisfied: black in /Users/apple/miniconda3/lib/python3.8/site-packages (from IPython->chencrafts) (22.1.0)\n",
      "Requirement already satisfied: decorator in /Users/apple/miniconda3/lib/python3.8/site-packages (from IPython->chencrafts) (5.1.1)\n",
      "Requirement already satisfied: pickleshare in /Users/apple/miniconda3/lib/python3.8/site-packages (from IPython->chencrafts) (0.7.5)\n",
      "Requirement already satisfied: traitlets>=5 in /Users/apple/miniconda3/lib/python3.8/site-packages (from IPython->chencrafts) (5.9.0)\n",
      "Requirement already satisfied: prompt-toolkit!=3.0.0,!=3.0.1,<3.1.0,>=2.0.0 in /Users/apple/miniconda3/lib/python3.8/site-packages (from IPython->chencrafts) (3.0.28)\n",
      "Requirement already satisfied: pygments in /Users/apple/miniconda3/lib/python3.8/site-packages (from IPython->chencrafts) (2.13.0)\n",
      "Requirement already satisfied: backcall in /Users/apple/miniconda3/lib/python3.8/site-packages (from IPython->chencrafts) (0.2.0)\n",
      "Requirement already satisfied: stack-data in /Users/apple/miniconda3/lib/python3.8/site-packages (from IPython->chencrafts) (0.2.0)\n",
      "Requirement already satisfied: matplotlib-inline in /Users/apple/miniconda3/lib/python3.8/site-packages (from IPython->chencrafts) (0.1.3)\n",
      "Requirement already satisfied: pexpect>4.3 in /Users/apple/miniconda3/lib/python3.8/site-packages (from IPython->chencrafts) (4.8.0)\n",
      "Requirement already satisfied: appnope in /Users/apple/miniconda3/lib/python3.8/site-packages (from IPython->chencrafts) (0.1.2)\n",
      "Requirement already satisfied: contourpy>=1.0.1 in /Users/apple/miniconda3/lib/python3.8/site-packages (from matplotlib->chencrafts) (1.0.7)\n",
      "Requirement already satisfied: cycler>=0.10 in /Users/apple/miniconda3/lib/python3.8/site-packages (from matplotlib->chencrafts) (0.11.0)\n",
      "Requirement already satisfied: fonttools>=4.22.0 in /Users/apple/miniconda3/lib/python3.8/site-packages (from matplotlib->chencrafts) (4.34.4)\n",
      "Requirement already satisfied: kiwisolver>=1.0.1 in /Users/apple/miniconda3/lib/python3.8/site-packages (from matplotlib->chencrafts) (1.4.4)\n",
      "Requirement already satisfied: packaging>=20.0 in /Users/apple/miniconda3/lib/python3.8/site-packages (from matplotlib->chencrafts) (23.2)\n",
      "Requirement already satisfied: pillow>=6.2.0 in /Users/apple/miniconda3/lib/python3.8/site-packages (from matplotlib->chencrafts) (9.2.0)\n",
      "Requirement already satisfied: pyparsing>=2.2.1 in /Users/apple/miniconda3/lib/python3.8/site-packages (from matplotlib->chencrafts) (3.0.9)\n",
      "Requirement already satisfied: python-dateutil>=2.7 in /Users/apple/miniconda3/lib/python3.8/site-packages (from matplotlib->chencrafts) (2.8.2)\n",
      "Requirement already satisfied: pytz>=2017.2 in /Users/apple/miniconda3/lib/python3.8/site-packages (from pandas->chencrafts) (2022.1)\n",
      "Requirement already satisfied: ppft>=1.7.6.5 in /Users/apple/miniconda3/lib/python3.8/site-packages (from pathos->chencrafts) (1.7.6.5)\n",
      "Requirement already satisfied: pox>=0.3.1 in /Users/apple/miniconda3/lib/python3.8/site-packages (from pathos->chencrafts) (0.3.1)\n",
      "Requirement already satisfied: multiprocess>=0.70.13 in /Users/apple/miniconda3/lib/python3.8/site-packages (from pathos->chencrafts) (0.70.13)\n",
      "Requirement already satisfied: cython>=0.29.20 in /Users/apple/miniconda3/lib/python3.8/site-packages (from scqubits->chencrafts) (0.29.36)\n",
      "Requirement already satisfied: sympy in /Users/apple/miniconda3/lib/python3.8/site-packages (from scqubits->chencrafts) (1.11.1)\n",
      "Requirement already satisfied: typing-extensions in /Users/apple/miniconda3/lib/python3.8/site-packages (from scqubits->chencrafts) (4.12.2)\n",
      "Requirement already satisfied: qutip<5.0 in /Users/apple/miniconda3/lib/python3.8/site-packages (from scqubits->chencrafts) (4.7.1)\n",
      "Requirement already satisfied: parso<0.9.0,>=0.8.0 in /Users/apple/miniconda3/lib/python3.8/site-packages (from jedi>=0.16->IPython->chencrafts) (0.8.3)\n",
      "Requirement already satisfied: ptyprocess>=0.5 in /Users/apple/miniconda3/lib/python3.8/site-packages (from pexpect>4.3->IPython->chencrafts) (0.7.0)\n",
      "Requirement already satisfied: six>=1.7.3 in /Users/apple/miniconda3/lib/python3.8/site-packages (from ppft>=1.7.6.5->pathos->chencrafts) (1.15.0)\n",
      "Requirement already satisfied: wcwidth in /Users/apple/miniconda3/lib/python3.8/site-packages (from prompt-toolkit!=3.0.0,!=3.0.1,<3.1.0,>=2.0.0->IPython->chencrafts) (0.2.5)\n",
      "Requirement already satisfied: click>=8.0.0 in /Users/apple/miniconda3/lib/python3.8/site-packages (from black->IPython->chencrafts) (8.0.3)\n",
      "Requirement already satisfied: platformdirs>=2 in /Users/apple/miniconda3/lib/python3.8/site-packages (from black->IPython->chencrafts) (2.5.0)\n",
      "Requirement already satisfied: tomli>=1.1.0 in /Users/apple/miniconda3/lib/python3.8/site-packages (from black->IPython->chencrafts) (2.0.1)\n",
      "Requirement already satisfied: pathspec>=0.9.0 in /Users/apple/miniconda3/lib/python3.8/site-packages (from black->IPython->chencrafts) (0.9.0)\n",
      "Requirement already satisfied: mypy-extensions>=0.4.3 in /Users/apple/miniconda3/lib/python3.8/site-packages (from black->IPython->chencrafts) (0.4.3)\n",
      "Requirement already satisfied: executing in /Users/apple/miniconda3/lib/python3.8/site-packages (from stack-data->IPython->chencrafts) (0.8.2)\n",
      "Requirement already satisfied: asttokens in /Users/apple/miniconda3/lib/python3.8/site-packages (from stack-data->IPython->chencrafts) (2.0.5)\n",
      "Requirement already satisfied: pure-eval in /Users/apple/miniconda3/lib/python3.8/site-packages (from stack-data->IPython->chencrafts) (0.2.2)\n",
      "Requirement already satisfied: mpmath>=0.19 in /Users/apple/miniconda3/lib/python3.8/site-packages (from sympy->scqubits->chencrafts) (1.2.1)\n",
      "Downloading chencrafts-1.3-py3-none-any.whl (129 kB)\n",
      "\u001b[2K   \u001b[90m━━━━━━━━━━━━━━━━━━━━━━━━━━━━━━━━━━━━━━━━\u001b[0m \u001b[32m129.5/129.5 kB\u001b[0m \u001b[31m2.5 MB/s\u001b[0m eta \u001b[36m0:00:00\u001b[0ma \u001b[36m0:00:01\u001b[0m\n",
      "\u001b[?25hInstalling collected packages: chencrafts\n",
      "Successfully installed chencrafts-1.3\n",
      "Note: you may need to restart the kernel to use updated packages.\n"
     ]
    }
   ],
   "source": [
    "pip install chencrafts"
   ]
  },
  {
   "cell_type": "code",
   "execution_count": 2,
   "metadata": {},
   "outputs": [
    {
     "ename": "TypeError",
     "evalue": "unsupported operand type(s) for |: 'type' and 'type'",
     "output_type": "error",
     "traceback": [
      "\u001b[0;31m---------------------------------------------------------------------------\u001b[0m",
      "\u001b[0;31mTypeError\u001b[0m                                 Traceback (most recent call last)",
      "Input \u001b[0;32mIn [2]\u001b[0m, in \u001b[0;36m<module>\u001b[0;34m\u001b[0m\n\u001b[1;32m      3\u001b[0m \u001b[38;5;28;01mimport\u001b[39;00m \u001b[38;5;21;01mmatplotlib\u001b[39;00m\u001b[38;5;21;01m.\u001b[39;00m\u001b[38;5;21;01mpyplot\u001b[39;00m \u001b[38;5;28;01mas\u001b[39;00m \u001b[38;5;21;01mplt\u001b[39;00m\n\u001b[1;32m      4\u001b[0m \u001b[38;5;28;01mimport\u001b[39;00m \u001b[38;5;21;01mqutip\u001b[39;00m \u001b[38;5;28;01mas\u001b[39;00m \u001b[38;5;21;01mqt\u001b[39;00m\n\u001b[0;32m----> 5\u001b[0m \u001b[38;5;28;01mimport\u001b[39;00m \u001b[38;5;21;01mchencrafts\u001b[39;00m \u001b[38;5;28;01mas\u001b[39;00m \u001b[38;5;21;01mcc\u001b[39;00m\n",
      "File \u001b[0;32m~/miniconda3/lib/python3.8/site-packages/chencrafts/__init__.py:5\u001b[0m, in \u001b[0;36m<module>\u001b[0;34m\u001b[0m\n\u001b[1;32m      1\u001b[0m \u001b[38;5;28;01mfrom\u001b[39;00m \u001b[38;5;21;01mchencrafts\u001b[39;00m\u001b[38;5;21;01m.\u001b[39;00m\u001b[38;5;21;01mversion\u001b[39;00m \u001b[38;5;28;01mimport\u001b[39;00m version \u001b[38;5;28;01mas\u001b[39;00m __version__\n\u001b[1;32m      3\u001b[0m \u001b[38;5;66;03m# import submodules\u001b[39;00m\n\u001b[1;32m      4\u001b[0m \u001b[38;5;66;03m# when changed, remember to change setup.py\u001b[39;00m\n\u001b[0;32m----> 5\u001b[0m \u001b[38;5;28;01mimport\u001b[39;00m \u001b[38;5;21;01mchencrafts\u001b[39;00m\u001b[38;5;21;01m.\u001b[39;00m\u001b[38;5;21;01mbsqubits\u001b[39;00m \u001b[38;5;28;01mas\u001b[39;00m \u001b[38;5;21;01mbsq\u001b[39;00m\n\u001b[1;32m      6\u001b[0m \u001b[38;5;28;01mimport\u001b[39;00m \u001b[38;5;21;01mchencrafts\u001b[39;00m\u001b[38;5;21;01m.\u001b[39;00m\u001b[38;5;21;01mcqed\u001b[39;00m \u001b[38;5;28;01mas\u001b[39;00m \u001b[38;5;21;01mcqed\u001b[39;00m\n\u001b[1;32m      7\u001b[0m \u001b[38;5;28;01mimport\u001b[39;00m \u001b[38;5;21;01mchencrafts\u001b[39;00m\u001b[38;5;21;01m.\u001b[39;00m\u001b[38;5;21;01mprojects\u001b[39;00m \u001b[38;5;28;01mas\u001b[39;00m \u001b[38;5;21;01mprj\u001b[39;00m\n",
      "File \u001b[0;32m~/miniconda3/lib/python3.8/site-packages/chencrafts/bsqubits/__init__.py:3\u001b[0m, in \u001b[0;36m<module>\u001b[0;34m\u001b[0m\n\u001b[1;32m      1\u001b[0m \u001b[38;5;28;01mimport\u001b[39;00m \u001b[38;5;21;01mscqubits\u001b[39;00m \u001b[38;5;28;01mas\u001b[39;00m \u001b[38;5;21;01mscq\u001b[39;00m\n\u001b[0;32m----> 3\u001b[0m \u001b[38;5;28;01mfrom\u001b[39;00m \u001b[38;5;21;01mchencrafts\u001b[39;00m\u001b[38;5;21;01m.\u001b[39;00m\u001b[38;5;21;01mbsqubits\u001b[39;00m\u001b[38;5;21;01m.\u001b[39;00m\u001b[38;5;21;01merror_rates\u001b[39;00m \u001b[38;5;28;01mimport\u001b[39;00m (\n\u001b[1;32m      4\u001b[0m     ErrorChannel, \n\u001b[1;32m      5\u001b[0m     ErrorRate, \n\u001b[1;32m      6\u001b[0m     basic_channels,\n\u001b[1;32m      7\u001b[0m     flxn_hf_flx_channels,\n\u001b[1;32m      8\u001b[0m )\n\u001b[1;32m     10\u001b[0m \u001b[38;5;28;01mfrom\u001b[39;00m \u001b[38;5;21;01mchencrafts\u001b[39;00m\u001b[38;5;21;01m.\u001b[39;00m\u001b[38;5;21;01mbsqubits\u001b[39;00m\u001b[38;5;21;01m.\u001b[39;00m\u001b[38;5;21;01msystems\u001b[39;00m \u001b[38;5;28;01mimport\u001b[39;00m (\n\u001b[1;32m     11\u001b[0m     ResonatorTransmon,\n\u001b[1;32m     12\u001b[0m     ResonatorFluxonium,\n\u001b[1;32m     13\u001b[0m     FluxoniumResonatorFluxonium,\n\u001b[1;32m     14\u001b[0m ) \n\u001b[1;32m     16\u001b[0m \u001b[38;5;28;01mfrom\u001b[39;00m \u001b[38;5;21;01mchencrafts\u001b[39;00m\u001b[38;5;21;01m.\u001b[39;00m\u001b[38;5;21;01mbsqubits\u001b[39;00m\u001b[38;5;21;01m.\u001b[39;00m\u001b[38;5;21;01mbatched_custom_sweeps\u001b[39;00m \u001b[38;5;28;01mimport\u001b[39;00m (\n\u001b[1;32m     17\u001b[0m     batched_sweep_general,\n\u001b[1;32m     18\u001b[0m     batched_sweep_bare_decoherence,\n\u001b[0;32m   (...)\u001b[0m\n\u001b[1;32m     24\u001b[0m     batched_sweep_cat_code,\n\u001b[1;32m     25\u001b[0m )\n",
      "File \u001b[0;32m~/miniconda3/lib/python3.8/site-packages/chencrafts/bsqubits/error_rates.py:7\u001b[0m, in \u001b[0;36m<module>\u001b[0;34m\u001b[0m\n\u001b[1;32m      5\u001b[0m \u001b[38;5;28;01mfrom\u001b[39;00m \u001b[38;5;21;01mmatplotlib\u001b[39;00m \u001b[38;5;28;01mimport\u001b[39;00m colormaps\n\u001b[1;32m      6\u001b[0m \u001b[38;5;28;01mfrom\u001b[39;00m \u001b[38;5;21;01mmatplotlib\u001b[39;00m \u001b[38;5;28;01mimport\u001b[39;00m rcParams\n\u001b[0;32m----> 7\u001b[0m \u001b[38;5;28;01mfrom\u001b[39;00m \u001b[38;5;21;01mchencrafts\u001b[39;00m\u001b[38;5;21;01m.\u001b[39;00m\u001b[38;5;21;01mtoolbox\u001b[39;00m \u001b[38;5;28;01mimport\u001b[39;00m bar_plot_compare\n\u001b[1;32m      9\u001b[0m \u001b[38;5;28;01mfrom\u001b[39;00m \u001b[38;5;21;01mtyping\u001b[39;00m \u001b[38;5;28;01mimport\u001b[39;00m Callable, List, Dict\n\u001b[1;32m     11\u001b[0m \u001b[38;5;28;01mclass\u001b[39;00m \u001b[38;5;21;01mErrorChannel\u001b[39;00m:\n",
      "File \u001b[0;32m~/miniconda3/lib/python3.8/site-packages/chencrafts/toolbox/__init__.py:1\u001b[0m, in \u001b[0;36m<module>\u001b[0;34m\u001b[0m\n\u001b[0;32m----> 1\u001b[0m \u001b[38;5;28;01mfrom\u001b[39;00m \u001b[38;5;21;01mchencrafts\u001b[39;00m\u001b[38;5;21;01m.\u001b[39;00m\u001b[38;5;21;01mtoolbox\u001b[39;00m\u001b[38;5;21;01m.\u001b[39;00m\u001b[38;5;21;01mdata_processing\u001b[39;00m \u001b[38;5;28;01mimport\u001b[39;00m (\n\u001b[1;32m      2\u001b[0m     DimensionModify,\n\u001b[1;32m      3\u001b[0m     NSArray,\n\u001b[1;32m      4\u001b[0m     nd_interpolation,\n\u001b[1;32m      5\u001b[0m     scatter_to_mesh,    \n\u001b[1;32m      6\u001b[0m     find_envelope,\n\u001b[1;32m      7\u001b[0m     decay_rate,\n\u001b[1;32m      8\u001b[0m )\n\u001b[1;32m      9\u001b[0m \u001b[38;5;28;01mfrom\u001b[39;00m \u001b[38;5;21;01mchencrafts\u001b[39;00m\u001b[38;5;21;01m.\u001b[39;00m\u001b[38;5;21;01mtoolbox\u001b[39;00m\u001b[38;5;21;01m.\u001b[39;00m\u001b[38;5;21;01moptimize\u001b[39;00m \u001b[38;5;28;01mimport\u001b[39;00m (\n\u001b[1;32m     10\u001b[0m     nan_2_flat_val, \n\u001b[1;32m     11\u001b[0m     \u001b[38;5;66;03m# nan_2_constr, \u001b[39;00m\n\u001b[0;32m   (...)\u001b[0m\n\u001b[1;32m     15\u001b[0m     MultiOpt,\n\u001b[1;32m     16\u001b[0m )\n\u001b[1;32m     17\u001b[0m \u001b[38;5;28;01mfrom\u001b[39;00m \u001b[38;5;21;01mchencrafts\u001b[39;00m\u001b[38;5;21;01m.\u001b[39;00m\u001b[38;5;21;01mtoolbox\u001b[39;00m\u001b[38;5;21;01m.\u001b[39;00m\u001b[38;5;21;01msave\u001b[39;00m \u001b[38;5;28;01mimport\u001b[39;00m (\n\u001b[1;32m     18\u001b[0m     datetime_dir,\n\u001b[1;32m     19\u001b[0m     save_variable_list_dict,\n\u001b[0;32m   (...)\u001b[0m\n\u001b[1;32m     24\u001b[0m     dill_load,\n\u001b[1;32m     25\u001b[0m )\n",
      "File \u001b[0;32m~/miniconda3/lib/python3.8/site-packages/chencrafts/toolbox/data_processing.py:79\u001b[0m, in \u001b[0;36m<module>\u001b[0;34m\u001b[0m\n\u001b[1;32m     74\u001b[0m             new_shape[idx] \u001b[38;5;241m=\u001b[39m length\n\u001b[1;32m     76\u001b[0m         \u001b[38;5;28;01mreturn\u001b[39;00m new_data\n\u001b[0;32m---> 79\u001b[0m \u001b[38;5;28;01mclass\u001b[39;00m \u001b[38;5;21;01mNSArray\u001b[39;00m(NamedSlotsNdarray):\n\u001b[1;32m     80\u001b[0m     \u001b[38;5;28;01mdef\u001b[39;00m \u001b[38;5;21m__new__\u001b[39m(\n\u001b[1;32m     81\u001b[0m         \u001b[38;5;28mcls\u001b[39m, \n\u001b[1;32m     82\u001b[0m         input_array: np\u001b[38;5;241m.\u001b[39mndarray \u001b[38;5;241m|\u001b[39m \u001b[38;5;28mfloat\u001b[39m, \n\u001b[1;32m     83\u001b[0m         values_by_name: Dict[\u001b[38;5;28mstr\u001b[39m, \u001b[38;5;28mrange\u001b[39m \u001b[38;5;241m|\u001b[39m np\u001b[38;5;241m.\u001b[39mndarray \u001b[38;5;241m|\u001b[39m \u001b[38;5;28;01mNone\u001b[39;00m] \u001b[38;5;241m=\u001b[39m {}\n\u001b[1;32m     84\u001b[0m     ) \u001b[38;5;241m-\u001b[39m\u001b[38;5;241m>\u001b[39m \u001b[38;5;124m\"\u001b[39m\u001b[38;5;124mNamedSlotsNdarray\u001b[39m\u001b[38;5;124m\"\u001b[39m:\n\u001b[1;32m     85\u001b[0m         \u001b[38;5;28;01mif\u001b[39;00m \u001b[38;5;28misinstance\u001b[39m(input_array, \u001b[38;5;28mfloat\u001b[39m \u001b[38;5;241m|\u001b[39m \u001b[38;5;28mint\u001b[39m):\n",
      "File \u001b[0;32m~/miniconda3/lib/python3.8/site-packages/chencrafts/toolbox/data_processing.py:82\u001b[0m, in \u001b[0;36mNSArray\u001b[0;34m()\u001b[0m\n\u001b[1;32m     79\u001b[0m \u001b[38;5;28;01mclass\u001b[39;00m \u001b[38;5;21;01mNSArray\u001b[39;00m(NamedSlotsNdarray):\n\u001b[1;32m     80\u001b[0m     \u001b[38;5;28;01mdef\u001b[39;00m \u001b[38;5;21m__new__\u001b[39m(\n\u001b[1;32m     81\u001b[0m         \u001b[38;5;28mcls\u001b[39m, \n\u001b[0;32m---> 82\u001b[0m         input_array: \u001b[43mnp\u001b[49m\u001b[38;5;241;43m.\u001b[39;49m\u001b[43mndarray\u001b[49m\u001b[43m \u001b[49m\u001b[38;5;241;43m|\u001b[39;49m\u001b[43m \u001b[49m\u001b[38;5;28;43mfloat\u001b[39;49m, \n\u001b[1;32m     83\u001b[0m         values_by_name: Dict[\u001b[38;5;28mstr\u001b[39m, \u001b[38;5;28mrange\u001b[39m \u001b[38;5;241m|\u001b[39m np\u001b[38;5;241m.\u001b[39mndarray \u001b[38;5;241m|\u001b[39m \u001b[38;5;28;01mNone\u001b[39;00m] \u001b[38;5;241m=\u001b[39m {}\n\u001b[1;32m     84\u001b[0m     ) \u001b[38;5;241m-\u001b[39m\u001b[38;5;241m>\u001b[39m \u001b[38;5;124m\"\u001b[39m\u001b[38;5;124mNamedSlotsNdarray\u001b[39m\u001b[38;5;124m\"\u001b[39m:\n\u001b[1;32m     85\u001b[0m         \u001b[38;5;28;01mif\u001b[39;00m \u001b[38;5;28misinstance\u001b[39m(input_array, \u001b[38;5;28mfloat\u001b[39m \u001b[38;5;241m|\u001b[39m \u001b[38;5;28mint\u001b[39m):\n\u001b[1;32m     86\u001b[0m             \u001b[38;5;28;01mreturn\u001b[39;00m \u001b[38;5;28msuper\u001b[39m()\u001b[38;5;241m.\u001b[39m\u001b[38;5;21m__new__\u001b[39m(\u001b[38;5;28mcls\u001b[39m, np\u001b[38;5;241m.\u001b[39marray(input_array), {})\n",
      "\u001b[0;31mTypeError\u001b[0m: unsupported operand type(s) for |: 'type' and 'type'"
     ]
    }
   ],
   "source": [
    "import numpy as np\n",
    "import scqubits as scq\n",
    "import matplotlib.pyplot as plt\n",
    "import qutip as qt\n",
    "import chencrafts as cc"
   ]
  },
  {
   "cell_type": "code",
   "execution_count": 3,
   "metadata": {},
   "outputs": [],
   "source": [
    "exp_params = {\n",
    "    'E_Ja': 5.645,\n",
    "    'E_Jb': 4.85,\n",
    "    'E_Ca': 0.952,\n",
    "    'E_Cb': 0.9,\n",
    "    'E_J': 4.246,\n",
    "    'E_C': 12,\n",
    "    'ECm': 8,\n",
    "    'E_L1': 3.52,\n",
    "    'E_L2': 3.52,\n",
    "    # 'E_La': 0.292,\n",
    "    # 'E_Lb': 0.287,\n",
    "    'E_La': 0.29,\n",
    "    'E_Lb': 0.29,\n",
    "\n",
    "    'flux_s': 0.5 - 0.4483319171817633,\n",
    "    'flux_c': 0.31710517597502225,\n",
    "}\n",
    "\n",
    "para = exp_params\n",
    "para[\"flux_a\"] = 0.5 + para[\"flux_s\"]\n",
    "para[\"flux_b\"] = 0.5 - para[\"flux_s\"]"
   ]
  },
  {
   "cell_type": "code",
   "execution_count": 4,
   "metadata": {},
   "outputs": [],
   "source": [
    "sim_params = {\n",
    "    \"qa_cutoff\": 110,\n",
    "    \"qb_cutoff\": 110,\n",
    "    \"p_cutoff\": 110,\n",
    "    \"m_cutoff\": 110,\n",
    "    \"qa_dim\": 5,\n",
    "    \"qb_dim\": 5,\n",
    "    \"p_dim\": 5,\n",
    "    \"m_dim\": 7,\n",
    "}"
   ]
  },
  {
   "cell_type": "code",
   "execution_count": 5,
   "metadata": {},
   "outputs": [
    {
     "data": {
      "text/latex": [
       "$ \\left(24.0 Q_{3}^{2} + 96.0 Q_{4}^{2} + 3.6 Q_{2}^{2} + 3.808 Q_{1}^{2}\\right) - \\left(- 0.145 θ_{1}^{2} - 0.145 θ_{2}^{2} - 0.9525 θ_{3}^{2} - 0.9525 θ_{4}^{2} + E_{J} \\cos{\\left((2πΦ_{3}) - 1.0 θ_{3} \\right)} + E_{Ja} \\cos{\\left((2πΦ_{1}) + θ_{1} \\right)} + E_{Jb} \\cos{\\left((2πΦ_{2}) + θ_{2} \\right)} + 0.145 θ_{1} θ_{3} + 0.145 θ_{1} θ_{4} + 0.145 θ_{2} θ_{4} - 0.145 θ_{2} θ_{3}\\right) $"
      ],
      "text/plain": [
       "<IPython.core.display.Latex object>"
      ]
     },
     "metadata": {},
     "output_type": "display_data"
    }
   ],
   "source": [
    "circ_yaml = f\"\"\"\n",
    "branches:\n",
    "# qubit a\n",
    "- [\"JJ\", 0, 1, E_Ja = {para[\"E_Ja\"]}, E_Ca = {para[\"E_Ca\"]}]\n",
    "- [\"L\", 1, 2, E_La = {para[\"E_La\"]}]\n",
    "\n",
    "# coupler\n",
    "- [\"C\", 0, 2, E_C = {para[\"E_C\"]}]\n",
    "- [\"L\", 0, 2, E_L1 = {para[\"E_L1\"]}]\n",
    "- [\"C\", 0, 3, E_C]\n",
    "- [\"L\", 0, 3, E_L2 = {para[\"E_L2\"]}]\n",
    "- [\"JJ\", 2, 3, E_J = {para[\"E_J\"]}, ECm = {para[\"ECm\"]}]\n",
    "\n",
    "# qubit b\n",
    "- [\"JJ\", 0, 4, E_Jb = {para[\"E_Jb\"]}, E_Cb = {para[\"E_Cb\"]}]\n",
    "- [\"L\", 3, 4, E_Lb = {para[\"E_Lb\"]}]\n",
    "\"\"\"\n",
    "\n",
    "ftc = scq.Circuit(circ_yaml, from_file=False)\n",
    "\n",
    "trans_mat = np.linalg.inv([\n",
    "    [1, 0, 0, 0],\n",
    "    [0, 0, 0, 1],\n",
    "    [0, 1, -1, 0],\n",
    "    [0, 1, 1, 0],\n",
    "])\n",
    "\n",
    "brch = ftc.branches\n",
    "ftc.configure(\n",
    "    transformation_matrix=trans_mat, \n",
    "    system_hierarchy=[[1], [2], [[3], [4]]], \n",
    "    subsystem_trunc_dims=[\n",
    "        sim_params[\"qa_dim\"], \n",
    "        sim_params[\"qb_dim\"],\n",
    "        [sim_params[\"m_dim\"] * 2, [\n",
    "            sim_params[\"m_dim\"], \n",
    "            sim_params[\"p_dim\"]\n",
    "        ]], \n",
    "    ],\n",
    "    closure_branches=[\n",
    "        brch[0], brch[7], brch[6]   # flux in junctions\n",
    "    ],\n",
    "    # closure_branches=[circ.branches[1], circ.branches[4]]   # flux in inductors\n",
    ")\n",
    "ftc.cutoff_ext_1 = sim_params[\"qa_cutoff\"]\n",
    "ftc.cutoff_ext_2 = sim_params[\"qb_cutoff\"]\n",
    "ftc.cutoff_ext_3 = sim_params[\"m_cutoff\"]\n",
    "ftc.cutoff_ext_4 = sim_params[\"p_cutoff\"]\n",
    "\n",
    "ftc.Φ1 = -para[\"flux_a\"]\n",
    "ftc.Φ2 = -para[\"flux_b\"]\n",
    "ftc.Φ3 = para[\"flux_c\"]\n",
    "\n",
    "ftc.sym_hamiltonian()"
   ]
  },
  {
   "cell_type": "code",
   "execution_count": 6,
   "metadata": {},
   "outputs": [
    {
     "data": {
      "text/plain": [
       "array([0.      , 0.048191, 0.062287, 0.110434])"
      ]
     },
     "execution_count": 6,
     "metadata": {},
     "output_type": "execute_result"
    }
   ],
   "source": [
    "evals = ftc.eigenvals(4)\n",
    "evals - evals[0]"
   ]
  },
  {
   "cell_type": "markdown",
   "metadata": {},
   "source": [
    "## Sweet spot identification"
   ]
  },
  {
   "cell_type": "code",
   "execution_count": 8,
   "metadata": {},
   "outputs": [],
   "source": [
    "from typing import Tuple\n",
    "\n",
    "def find_sweetspot_by_spectrum(\n",
    "    self,   # the ftc circuit\n",
    "    flux_c = None, \n",
    "    evals_count=4,\n",
    "    ftol = 1e-8,\n",
    "    gtol = 1e-8,\n",
    "    eps = 1e-11,\n",
    "    mode = \"l3\",\n",
    "    flux_s_bounds = [0, 0.1],\n",
    "    flux_sb_bounds = None,      # if not None, flux_a and b are independent\n",
    "    flux_c_bounds = [0.25, 0.3],\n",
    "    run_num = 1,\n",
    "    **kwargs\n",
    ") -> Tuple[float, float, float]:\n",
    "    \n",
    "    def freq_ab(params, evals_count, mode):\n",
    "        try:\n",
    "            self.flux_a = 0.5 + params[\"flux_s\"]\n",
    "            self.flux_c = params[\"flux_c\"]\n",
    "            if flux_sb_bounds is None:\n",
    "                self.flux_b = 0.5 - params[\"flux_s\"]\n",
    "            else:\n",
    "                self.flux_b = 0.5 + params[\"flux_sb\"]\n",
    "        except Exception:\n",
    "            self.Φ1 = 0.5 + params[\"flux_s\"]\n",
    "            if flux_sb_bounds is None:\n",
    "                self.Φ2 = 0.5 - params[\"flux_s\"]\n",
    "            else:\n",
    "                self.Φ2 = 0.5 + params[\"flux_sb\"]\n",
    "            self.Φ3 = params[\"flux_c\"]\n",
    "\n",
    "        eigs = self.eigenvals(evals_count)\n",
    "        if mode == \"l3\":\n",
    "            return eigs[3] - eigs[0]\n",
    "        elif mode == \"l1+l2\":\n",
    "            return eigs[1] + eigs[2] - 2 * eigs[0]\n",
    "        elif mode == \"l2-l1\":\n",
    "            return np.abs(eigs[2] - eigs[1])\n",
    "        elif mode == \"zz\":\n",
    "            abszz = np.abs(eigs[3] - eigs[2] - eigs[1] + eigs[0])\n",
    "            return abszz\n",
    "        elif mode == \"l1+l2+zz\":\n",
    "            abszz = np.abs(eigs[3] - eigs[2] - eigs[1] + eigs[0])\n",
    "            return eigs[1] + eigs[2] - 2 * eigs[0] + abszz\n",
    "        else:\n",
    "            raise ValueError(\"mode not supported\")\n",
    "        \n",
    "    free_params = {\"flux_s\": flux_s_bounds, \"flux_c\": flux_c_bounds}\n",
    "    if flux_sb_bounds is not None:\n",
    "        free_params[\"flux_sb\"] = flux_sb_bounds\n",
    "    \n",
    "    opt = cc.tb.Optimization(\n",
    "        {}, free_params,\n",
    "        freq_ab,\n",
    "        optimizer=\"L-BFGS-B\",\n",
    "        target_kwargs={\"evals_count\": evals_count, \"mode\": mode},\n",
    "        opt_options={\"ftol\": ftol, \"gtol\": gtol, \"disp\": False, \"eps\": eps, \"maxls\": 100}\n",
    "    )\n",
    "\n",
    "    if flux_c is not None:\n",
    "        opt.fix(flux_c=flux_c)\n",
    "    \n",
    "    multi_opt = cc.tb.MultiOpt(opt)\n",
    "    multi_traj = multi_opt.run(run_num)\n",
    "    traj = multi_traj.best_traj()\n",
    "\n",
    "    try:\n",
    "        self.flux_a = 0.5 + traj.final_full_para[\"flux_s\"]\n",
    "        self.flux_c = traj.final_full_para[\"flux_c\"]\n",
    "        if flux_sb_bounds is None:\n",
    "            self.flux_b = 0.5 - traj.final_full_para[\"flux_s\"]\n",
    "        else:\n",
    "            self.flux_b = 0.5 + traj.final_full_para[\"flux_sb\"]\n",
    "        \n",
    "        return self.flux_a, self.flux_b, self.flux_c\n",
    "    except Exception:\n",
    "        self.Φ1 = 0.5 + traj.final_full_para[\"flux_s\"]\n",
    "        if flux_sb_bounds is None:\n",
    "            self.Φ2 = 0.5 - traj.final_full_para[\"flux_s\"]\n",
    "        else:\n",
    "            self.Φ2 = 0.5 + traj.final_full_para[\"flux_sb\"]\n",
    "        self.Φ3 = traj.final_full_para[\"flux_c\"]\n",
    "        \n",
    "        return self.Φ1, self.Φ2, self.Φ3\n"
   ]
  },
  {
   "cell_type": "code",
   "execution_count": 11,
   "metadata": {},
   "outputs": [],
   "source": [
    "phi1, phi2, phi3 = find_sweetspot_by_spectrum(\n",
    "    ftc, \n",
    "    # flux_c = 0.1,\n",
    "    flux_s_bounds = [-0.1, 0.1],\n",
    "    flux_c_bounds = [0.0, 0.5],\n",
    "    run_num=,\n",
    ")\n",
    "# print(phi1, phi2, phi3)"
   ]
  },
  {
   "cell_type": "code",
   "execution_count": 12,
   "metadata": {},
   "outputs": [
    {
     "data": {
      "text/plain": [
       "array([0.      , 0.048132, 0.062242, 0.110372])"
      ]
     },
     "execution_count": 12,
     "metadata": {},
     "output_type": "execute_result"
    }
   ],
   "source": [
    "evals = ftc.eigenvals(4)\n",
    "evals - evals[0]\n"
   ]
  },
  {
   "cell_type": "markdown",
   "metadata": {},
   "source": [
    "## Drive & eff coupling"
   ]
  },
  {
   "cell_type": "code",
   "execution_count": 14,
   "metadata": {},
   "outputs": [],
   "source": [
    "hspace = ftc.hilbert_space\n",
    "dims = hspace.subsystem_dims\n",
    "hamiltonian = qt.Qobj(ftc.hamiltonian(), dims=[dims, dims])\n",
    "\n",
    "theta1_op = qt.Qobj(ftc.θ1_operator(), dims=[dims, dims])\n",
    "theta2_op = qt.Qobj(ftc.θ2_operator(), dims=[dims, dims])\n",
    "theta3_op = qt.Qobj(ftc.θ3_operator(), dims=[dims, dims])\n",
    "drive_op = (\n",
    "    (ftc.E_La + ftc.E_Lb) / 2 * (theta1_op - theta2_op) / 2\n",
    "    - (ftc.E_L1 + ftc.E_L2 + ftc.E_La + ftc.E_Lb) / 4 * theta3_op\n",
    ")\n",
    "\n",
    "# Q2_op = qt.Qobj(ftc.Q2_operator(), dims=[dims, dims])\n",
    "# drive_op = Q2_op"
   ]
  },
  {
   "cell_type": "code",
   "execution_count": 16,
   "metadata": {},
   "outputs": [
    {
     "name": "stderr",
     "output_type": "stream",
     "text": [
      "UserWarning: Cannot confirm that the unperturbed Hamiltonian is diagonal, which is required if ``solve_sylvester`` is not provided. The algorithm will assume that it is diagonal.\n",
      " /opt/miniconda3/envs/scq311/lib/python3.11/site-packages/pymablock/block_diagonalization.py: 1091"
     ]
    }
   ],
   "source": [
    "flux_shift = 0.1\n",
    "\n",
    "evals, evecs = hamiltonian.eigenstates(hspace.dimension, tol=1e-10)\n",
    "\n",
    "subspace_state_idx = [0, 1, 2, 3]\n",
    "subspace1_evecs = [evecs[idx] for idx in subspace_state_idx]\n",
    "subspace2_evecs = [evec for idx, evec in enumerate(evecs) if idx not in subspace_state_idx]\n",
    "\n",
    "H_sw, _, _ = cc.cqed.block_diagonalize_pymablock(\n",
    "    [hamiltonian, drive_op * flux_shift * np.pi * 2],     \n",
    "    # flux drive amp\n",
    "    subspace_eigenvectors=[subspace1_evecs, subspace2_evecs],\n",
    "    atol=1e-10,\n",
    ")"
   ]
  },
  {
   "cell_type": "code",
   "execution_count": 17,
   "metadata": {},
   "outputs": [
    {
     "data": {
      "text/plain": [
       "array([[ 1.210159e+01+2.848007e-16j,  5.740357e-13+3.787514e-13j, -4.343925e-13+2.414789e-13j, -5.835175e-13-8.878056e-14j],\n",
       "       [ 5.717622e-13-3.791680e-13j,  1.214972e+01-3.845680e-16j, -9.822677e-13-6.483153e-15j, -7.313273e-13-4.713756e-14j],\n",
       "       [-4.323206e-13-2.395468e-13j, -9.824810e-13+4.818848e-15j,  1.216383e+01-1.696410e-15j,  1.613652e-13+3.596424e-13j],\n",
       "       [-5.870016e-13+8.873276e-14j, -7.337363e-13+4.824967e-14j,  1.610970e-13-3.600252e-13j,  1.221196e+01+1.088474e-15j]])"
      ]
     },
     "execution_count": 17,
     "metadata": {},
     "output_type": "execute_result"
    }
   ],
   "source": [
    "H_sw[0, 0, 0]"
   ]
  },
  {
   "cell_type": "code",
   "execution_count": 18,
   "metadata": {},
   "outputs": [
    {
     "data": {
      "text/plain": [
       "array([[-0.70733 -7.454376e-17j, -0.001275-6.908624e-03j, -0.00586 -4.497584e-04j, -0.035554+1.741362e-02j],\n",
       "       [-0.001275+6.908624e-03j, -0.701068-8.250222e-18j,  0.010052-3.791771e-02j, -0.00192 -6.860591e-03j],\n",
       "       [-0.00586 +4.497584e-04j,  0.010052+3.791771e-02j, -0.713378-2.892756e-18j,  0.005125-3.017149e-03j],\n",
       "       [-0.035554-1.741362e-02j, -0.00192 +6.860591e-03j,  0.005125+3.017149e-03j, -0.707377+1.349705e-17j]])"
      ]
     },
     "execution_count": 18,
     "metadata": {},
     "output_type": "execute_result"
    }
   ],
   "source": [
    "H_sw[0, 0, 1]"
   ]
  },
  {
   "cell_type": "code",
   "execution_count": 19,
   "metadata": {},
   "outputs": [
    {
     "data": {
      "text/plain": [
       "array([[-0.389153+0.j      ,  0.011208+0.060713j,  0.051834+0.003979j,  0.012217-0.005984j],\n",
       "       [ 0.011208-0.060713j, -0.392841+0.j      , -0.003721+0.014035j,  0.016158+0.057734j],\n",
       "       [ 0.051834-0.003979j, -0.003721-0.014035j, -0.387826+0.j      , -0.044625+0.026269j],\n",
       "       [ 0.012217+0.005984j,  0.016158-0.057734j, -0.044625-0.026269j, -0.389236+0.j      ]])"
      ]
     },
     "execution_count": 19,
     "metadata": {},
     "output_type": "execute_result"
    }
   ],
   "source": [
    "H_sw[0, 0, 2]"
   ]
  },
  {
   "cell_type": "code",
   "execution_count": 20,
   "metadata": {},
   "outputs": [
    {
     "data": {
      "text/plain": [
       "array([[ 0.053263-4.870582e-18j, -0.002496-1.351886e-02j, -0.011534-8.852598e-04j, -0.000884+4.329248e-04j],\n",
       "       [-0.002496+1.351886e-02j,  0.053817-1.274514e-17j,  0.000311-1.172414e-03j, -0.003597-1.285377e-02j],\n",
       "       [-0.011534+8.852598e-04j,  0.000311+1.172414e-03j,  0.053345-4.096659e-18j,  0.009964-5.865143e-03j],\n",
       "       [-0.000884-4.329248e-04j, -0.003597+1.285377e-02j,  0.009964+5.865143e-03j,  0.053392+1.363272e-18j]])"
      ]
     },
     "execution_count": 20,
     "metadata": {},
     "output_type": "execute_result"
    }
   ],
   "source": [
    "H_sw[0, 0, 3]"
   ]
  },
  {
   "cell_type": "code",
   "execution_count": 21,
   "metadata": {},
   "outputs": [
    {
     "data": {
      "text/plain": [
       "array([[-8.155527e-03-4.793215e-18j,  2.337041e-05+1.265993e-04j,  1.000330e-04+7.677970e-06j, -1.542994e-03+7.557250e-04j],\n",
       "       [ 2.337041e-05-1.265993e-04j, -7.940199e-03+1.036592e-17j,  4.342247e-04-1.637891e-03j,  2.940570e-05+1.050682e-04j],\n",
       "       [ 1.000330e-04-7.677970e-06j,  4.342247e-04+1.637891e-03j, -8.487374e-03+1.015562e-17j, -1.019357e-04+6.000568e-05j],\n",
       "       [-1.542994e-03-7.557250e-04j,  2.940570e-05-1.050682e-04j, -1.019357e-04-6.000568e-05j, -8.267494e-03+9.655399e-18j]])"
      ]
     },
     "execution_count": 21,
     "metadata": {},
     "output_type": "execute_result"
    }
   ],
   "source": [
    "H_sw[0, 0, 4]"
   ]
  },
  {
   "cell_type": "code",
   "execution_count": 22,
   "metadata": {},
   "outputs": [
    {
     "data": {
      "text/plain": [
       "array([[-0.000335+8.819492e-19j,  0.000241+1.307243e-03j,  0.00112 +8.592790e-05j,  0.001016-4.974699e-04j],\n",
       "       [ 0.000241-1.307243e-03j, -0.000527-2.024955e-18j, -0.000292+1.102070e-03j,  0.000352+1.255994e-03j],\n",
       "       [ 0.00112 -8.592790e-05j, -0.000292-1.102070e-03j, -0.000154-2.424863e-18j, -0.000963+5.670819e-04j],\n",
       "       [ 0.001016+4.974699e-04j,  0.000352-1.255994e-03j, -0.000963-5.670819e-04j, -0.000297-2.299607e-18j]])"
      ]
     },
     "execution_count": 22,
     "metadata": {},
     "output_type": "execute_result"
    }
   ],
   "source": [
    "H_sw[0, 0, 5]"
   ]
  }
 ],
 "metadata": {
  "kernelspec": {
   "display_name": "Python 3 (ipykernel)",
   "language": "python",
   "name": "python3"
  },
  "language_info": {
   "codemirror_mode": {
    "name": "ipython",
    "version": 3
   },
   "file_extension": ".py",
   "mimetype": "text/x-python",
   "name": "python",
   "nbconvert_exporter": "python",
   "pygments_lexer": "ipython3",
   "version": "3.8.3"
  }
 },
 "nbformat": 4,
 "nbformat_minor": 2
}
