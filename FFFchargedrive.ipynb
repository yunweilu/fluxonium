{
 "cells": [
  {
   "cell_type": "code",
   "execution_count": 1,
   "metadata": {},
   "outputs": [],
   "source": [
    "import numpy as np\n",
    "import scqubits as scq\n",
    "import matplotlib.pyplot as plt\n",
    "import qutip as qt\n",
    "import chencrafts as cc"
   ]
  },
  {
   "cell_type": "code",
   "execution_count": 25,
   "metadata": {},
   "outputs": [],
   "source": [
    "exp_params = {\n",
    "    'E_Ja': 4.6,\n",
    "    'E_Jb': 5.5,\n",
    "    'E_Ca': 0.9,\n",
    "    'E_Cb': 0.9,\n",
    "    'E_J': 3,\n",
    "    'E_C': 50,\n",
    "    'ECm': 16.686114352392064,\n",
    "    'E_L1': 2,\n",
    "    'E_L2': 2,\n",
    "    # 'E_La': 0.292,\n",
    "    # 'E_Lb': 0.287,\n",
    "    'E_La': 0.21,\n",
    "    'E_Lb': 0.21,\n",
    "\n",
    "    'flux_s': 0,\n",
    "    'flux_c': 0.32,\n",
    "}\n",
    "\n",
    "\n",
    "para = exp_params\n",
    "para[\"flux_a\"] = 0.5 + para[\"flux_s\"]\n",
    "para[\"flux_b\"] = 0.5 - para[\"flux_s\"]"
   ]
  },
  {
   "cell_type": "code",
   "execution_count": 26,
   "metadata": {},
   "outputs": [],
   "source": [
    "sim_params = {\n",
    "    \"qa_cutoff\": 110,\n",
    "    \"qb_cutoff\": 110,\n",
    "    \"p_cutoff\": 110,\n",
    "    \"m_cutoff\": 110,\n",
    "    \"qa_dim\": 5,\n",
    "    \"qb_dim\": 5,\n",
    "    \"p_dim\": 5,\n",
    "    \"m_dim\": 7,\n",
    "}"
   ]
  },
  {
   "cell_type": "code",
   "execution_count": 27,
   "metadata": {},
   "outputs": [
    {
     "data": {
      "text/latex": [
       "$ \\left(400.0 Q_{4}^{2} + 3.6 Q_{1}^{2} + 3.6 Q_{2}^{2} + 57.2 Q_{3}^{2}\\right) - \\left(- 0.5525 θ_{3}^{2} - 0.5525 θ_{4}^{2} - 0.105 θ_{1}^{2} - 0.105 θ_{2}^{2} + E_{J} \\cos{\\left((2πΦ_{3}) - 1.0 θ_{3} \\right)} + E_{Ja} \\cos{\\left((2πΦ_{1}) + θ_{1} \\right)} + E_{Jb} \\cos{\\left((2πΦ_{2}) + θ_{2} \\right)} + 0.105 θ_{1} θ_{3} + 0.105 θ_{1} θ_{4} + 0.105 θ_{2} θ_{4} - 0.105 θ_{2} θ_{3}\\right) $"
      ],
      "text/plain": [
       "<IPython.core.display.Latex object>"
      ]
     },
     "metadata": {},
     "output_type": "display_data"
    }
   ],
   "source": [
    "circ_yaml = f\"\"\"\n",
    "branches:\n",
    "# qubit a\n",
    "- [\"JJ\", 0, 1, E_Ja = {para[\"E_Ja\"]}, E_Ca = {para[\"E_Ca\"]}]\n",
    "- [\"L\", 1, 2, E_La = {para[\"E_La\"]}]\n",
    "\n",
    "# coupler\n",
    "- [\"C\", 0, 2, E_C = {para[\"E_C\"]}]\n",
    "- [\"L\", 0, 2, E_L1 = {para[\"E_L1\"]}]\n",
    "- [\"C\", 0, 3, E_C]\n",
    "- [\"L\", 0, 3, E_L2 = {para[\"E_L2\"]}]\n",
    "- [\"JJ\", 2, 3, E_J = {para[\"E_J\"]}, ECm = {para[\"ECm\"]}]\n",
    "\n",
    "# qubit b\n",
    "- [\"JJ\", 0, 4, E_Jb = {para[\"E_Jb\"]}, E_Cb = {para[\"E_Cb\"]}]\n",
    "- [\"L\", 3, 4, E_Lb = {para[\"E_Lb\"]}]\n",
    "\"\"\"\n",
    "\n",
    "ftc = scq.Circuit(circ_yaml, from_file=False)\n",
    "\n",
    "trans_mat = np.linalg.inv([\n",
    "    [1, 0, 0, 0],\n",
    "    [0, 0, 0, 1],\n",
    "    [0, 1, -1, 0],\n",
    "    [0, 1, 1, 0],\n",
    "])\n",
    "\n",
    "brch = ftc.branches\n",
    "ftc.configure(\n",
    "    transformation_matrix=trans_mat, \n",
    "    system_hierarchy=[[1], [2], [[3], [4]]], \n",
    "    subsystem_trunc_dims=[\n",
    "        sim_params[\"qa_dim\"], \n",
    "        sim_params[\"qb_dim\"],\n",
    "        [sim_params[\"m_dim\"] * 2, [\n",
    "            sim_params[\"m_dim\"], \n",
    "            sim_params[\"p_dim\"]\n",
    "        ]], \n",
    "    ],\n",
    "    closure_branches=[\n",
    "        brch[0], brch[7], brch[6]   # flux in junctions\n",
    "    ],\n",
    "    # closure_branches=[circ.branches[1], circ.branches[4]]   # flux in inductors\n",
    ")\n",
    "ftc.cutoff_ext_1 = sim_params[\"qa_cutoff\"]\n",
    "ftc.cutoff_ext_2 = sim_params[\"qb_cutoff\"]\n",
    "ftc.cutoff_ext_3 = sim_params[\"m_cutoff\"]\n",
    "ftc.cutoff_ext_4 = sim_params[\"p_cutoff\"]\n",
    "\n",
    "ftc.Φ1 = para[\"flux_a\"]\n",
    "ftc.Φ2 = para[\"flux_b\"]\n",
    "ftc.Φ3 = -para[\"flux_c\"]\n",
    "\n",
    "ftc.sym_hamiltonian()"
   ]
  },
  {
   "cell_type": "code",
   "execution_count": 28,
   "metadata": {},
   "outputs": [],
   "source": [
    "from typing import Tuple\n",
    "\n",
    "def find_sweetspot_by_spectrum(\n",
    "    self,   # the ftc circuit\n",
    "    flux_c = None, \n",
    "    evals_count=4,\n",
    "    ftol = 1e-8,\n",
    "    gtol = 1e-8,\n",
    "    eps = 1e-11,\n",
    "    mode = \"l3\",\n",
    "    flux_s_bounds = [0, 0.1],\n",
    "    flux_sb_bounds = None,      # if not None, flux_a and b are independent\n",
    "    flux_c_bounds = [0.25, 0.3],\n",
    "    run_num = 1,\n",
    "    **kwargs\n",
    ") -> Tuple[float, float, float]:\n",
    "    \n",
    "    def freq_ab(params, evals_count, mode):\n",
    "        try:\n",
    "            self.flux_a = 0.5 + params[\"flux_s\"]\n",
    "            self.flux_c = params[\"flux_c\"]\n",
    "            if flux_sb_bounds is None:\n",
    "                self.flux_b = 0.5 - params[\"flux_s\"]\n",
    "            else:\n",
    "                self.flux_b = 0.5 + params[\"flux_sb\"]\n",
    "        except Exception:\n",
    "            self.Φ1 = 0.5 + params[\"flux_s\"]\n",
    "            if flux_sb_bounds is None:\n",
    "                self.Φ2 = 0.5 - params[\"flux_s\"]\n",
    "            else:\n",
    "                self.Φ2 = 0.5 + params[\"flux_sb\"]\n",
    "            self.Φ3 = params[\"flux_c\"]\n",
    "\n",
    "        eigs = self.eigenvals(evals_count)\n",
    "        if mode == \"l3\":\n",
    "            return eigs[3] - eigs[0]\n",
    "        elif mode == \"l1+l2\":\n",
    "            return eigs[1] + eigs[2] - 2 * eigs[0]\n",
    "        elif mode == \"l2-l1\":\n",
    "            return np.abs(eigs[2] - eigs[1])\n",
    "        elif mode == \"zz\":\n",
    "            abszz = np.abs(eigs[3] - eigs[2] - eigs[1] + eigs[0])\n",
    "            return abszz\n",
    "        elif mode == \"l1+l2+zz\":\n",
    "            abszz = np.abs(eigs[3] - eigs[2] - eigs[1] + eigs[0])\n",
    "            return eigs[1] + eigs[2] - 2 * eigs[0] + 1e-3*abszz\n",
    "        else:\n",
    "            raise ValueError(\"mode not supported\")\n",
    "        \n",
    "    free_params = {\"flux_s\": flux_s_bounds, \"flux_c\": flux_c_bounds}\n",
    "    if flux_sb_bounds is not None:\n",
    "        free_params[\"flux_sb\"] = flux_sb_bounds\n",
    "    \n",
    "    opt = cc.tb.Optimization(\n",
    "        {}, free_params,\n",
    "        freq_ab,\n",
    "        optimizer=\"L-BFGS-B\",\n",
    "        target_kwargs={\"evals_count\": evals_count, \"mode\": mode},\n",
    "        opt_options={\"ftol\": ftol, \"gtol\": gtol, \"disp\": False, \"eps\": eps, \"maxls\": 100}\n",
    "    )\n",
    "\n",
    "    if flux_c is not None:\n",
    "        opt.fix(flux_c=flux_c)\n",
    "    \n",
    "    multi_opt = cc.tb.MultiOpt(opt)\n",
    "    multi_traj = multi_opt.run(run_num)\n",
    "    traj = multi_traj.best_traj()\n",
    "\n",
    "    try:\n",
    "        self.flux_a = 0.5 + traj.final_full_para[\"flux_s\"]\n",
    "        self.flux_c = traj.final_full_para[\"flux_c\"]\n",
    "        if flux_sb_bounds is None:\n",
    "            self.flux_b = 0.5 - traj.final_full_para[\"flux_s\"]\n",
    "        else:\n",
    "            self.flux_b = 0.5 + traj.final_full_para[\"flux_sb\"]\n",
    "        \n",
    "        return self.flux_a, self.flux_b, self.flux_c\n",
    "    except Exception:\n",
    "        self.Φ1 = 0.5 + traj.final_full_para[\"flux_s\"]\n",
    "        if flux_sb_bounds is None:\n",
    "            self.Φ2 = 0.5 - traj.final_full_para[\"flux_s\"]\n",
    "        else:\n",
    "            self.Φ2 = 0.5 + traj.final_full_para[\"flux_sb\"]\n",
    "        self.Φ3 = traj.final_full_para[\"flux_c\"]\n",
    "        \n",
    "        return self.Φ1, self.Φ2, self.Φ3\n"
   ]
  },
  {
   "cell_type": "code",
   "execution_count": 29,
   "metadata": {},
   "outputs": [],
   "source": [
    "phi1, phi2, phi3 = find_sweetspot_by_spectrum(\n",
    "        ftc, \n",
    "        flux_c=0.3,\n",
    "        flux_s_bounds=[-0.1, 0.1],\n",
    "        run_num=1,\n",
    "        mode=\"l1+l2+zz\"\n",
    "    )"
   ]
  },
  {
   "cell_type": "code",
   "execution_count": 30,
   "metadata": {},
   "outputs": [
    {
     "data": {
      "text/plain": [
       "(0.4827500339592362, 0.5172499660407638, 0.3)"
      ]
     },
     "execution_count": 30,
     "metadata": {},
     "output_type": "execute_result"
    }
   ],
   "source": [
    "phi1,phi2,phi3"
   ]
  },
  {
   "cell_type": "code",
   "execution_count": 31,
   "metadata": {},
   "outputs": [
    {
     "ename": "KeyboardInterrupt",
     "evalue": "",
     "output_type": "error",
     "traceback": [
      "\u001b[0;31m---------------------------------------------------------------------------\u001b[0m",
      "\u001b[0;31mKeyboardInterrupt\u001b[0m                         Traceback (most recent call last)",
      "Cell \u001b[0;32mIn[31], line 8\u001b[0m\n\u001b[1;32m      5\u001b[0m evals_array \u001b[38;5;241m=\u001b[39m []\n\u001b[1;32m      7\u001b[0m \u001b[38;5;28;01mfor\u001b[39;00m flux_c \u001b[38;5;129;01min\u001b[39;00m flux_c_values:\n\u001b[0;32m----> 8\u001b[0m     phi1, phi2, phi3 \u001b[38;5;241m=\u001b[39m \u001b[43mfind_sweetspot_by_spectrum\u001b[49m\u001b[43m(\u001b[49m\n\u001b[1;32m      9\u001b[0m \u001b[43m        \u001b[49m\u001b[43mftc\u001b[49m\u001b[43m,\u001b[49m\u001b[43m \u001b[49m\n\u001b[1;32m     10\u001b[0m \u001b[43m        \u001b[49m\u001b[43mflux_c\u001b[49m\u001b[38;5;241;43m=\u001b[39;49m\u001b[43mflux_c\u001b[49m\u001b[43m,\u001b[49m\n\u001b[1;32m     11\u001b[0m \u001b[43m        \u001b[49m\u001b[43mflux_s_bounds\u001b[49m\u001b[38;5;241;43m=\u001b[39;49m\u001b[43m[\u001b[49m\u001b[38;5;241;43m-\u001b[39;49m\u001b[38;5;241;43m0.15\u001b[39;49m\u001b[43m,\u001b[49m\u001b[43m \u001b[49m\u001b[38;5;241;43m0.15\u001b[39;49m\u001b[43m]\u001b[49m\u001b[43m,\u001b[49m\n\u001b[1;32m     12\u001b[0m \u001b[43m        \u001b[49m\u001b[43mrun_num\u001b[49m\u001b[38;5;241;43m=\u001b[39;49m\u001b[38;5;241;43m1\u001b[39;49m\u001b[43m,\u001b[49m\n\u001b[1;32m     13\u001b[0m \u001b[43m        \u001b[49m\u001b[43mmode\u001b[49m\u001b[38;5;241;43m=\u001b[39;49m\u001b[38;5;124;43m\"\u001b[39;49m\u001b[38;5;124;43ml1+l2+zz\u001b[39;49m\u001b[38;5;124;43m\"\u001b[39;49m\n\u001b[1;32m     14\u001b[0m \u001b[43m    \u001b[49m\u001b[43m)\u001b[49m\n\u001b[1;32m     15\u001b[0m     evals \u001b[38;5;241m=\u001b[39m ftc\u001b[38;5;241m.\u001b[39meigenvals(\u001b[38;5;241m4\u001b[39m)\n\u001b[1;32m     16\u001b[0m     evals_relative \u001b[38;5;241m=\u001b[39m evals \u001b[38;5;241m-\u001b[39m evals[\u001b[38;5;241m0\u001b[39m]\n",
      "Cell \u001b[0;32mIn[28], line 66\u001b[0m, in \u001b[0;36mfind_sweetspot_by_spectrum\u001b[0;34m(self, flux_c, evals_count, ftol, gtol, eps, mode, flux_s_bounds, flux_sb_bounds, flux_c_bounds, run_num, **kwargs)\u001b[0m\n\u001b[1;32m     63\u001b[0m     opt\u001b[38;5;241m.\u001b[39mfix(flux_c\u001b[38;5;241m=\u001b[39mflux_c)\n\u001b[1;32m     65\u001b[0m multi_opt \u001b[38;5;241m=\u001b[39m cc\u001b[38;5;241m.\u001b[39mtb\u001b[38;5;241m.\u001b[39mMultiOpt(opt)\n\u001b[0;32m---> 66\u001b[0m multi_traj \u001b[38;5;241m=\u001b[39m \u001b[43mmulti_opt\u001b[49m\u001b[38;5;241;43m.\u001b[39;49m\u001b[43mrun\u001b[49m\u001b[43m(\u001b[49m\u001b[43mrun_num\u001b[49m\u001b[43m)\u001b[49m\n\u001b[1;32m     67\u001b[0m traj \u001b[38;5;241m=\u001b[39m multi_traj\u001b[38;5;241m.\u001b[39mbest_traj()\n\u001b[1;32m     69\u001b[0m \u001b[38;5;28;01mtry\u001b[39;00m:\n",
      "File \u001b[0;32m/opt/anaconda3/envs/flux/lib/python3.12/site-packages/chencrafts/toolbox/optimize.py:1226\u001b[0m, in \u001b[0;36mMultiOpt.run\u001b[0;34m(self, run_num, call_back, check_func, check_kwargs, save_path, cpu_num)\u001b[0m\n\u001b[1;32m   1224\u001b[0m \u001b[38;5;66;03m# Filter out None results and append valid ones to multi_result\u001b[39;00m\n\u001b[1;32m   1225\u001b[0m multi_result \u001b[38;5;241m=\u001b[39m MultiTraj()\n\u001b[0;32m-> 1226\u001b[0m \u001b[43m\u001b[49m\u001b[38;5;28;43;01mfor\u001b[39;49;00m\u001b[43m \u001b[49m\u001b[43mresult\u001b[49m\u001b[43m \u001b[49m\u001b[38;5;129;43;01min\u001b[39;49;00m\u001b[43m \u001b[49m\u001b[43mresults\u001b[49m\u001b[43m:\u001b[49m\n\u001b[1;32m   1227\u001b[0m \u001b[43m    \u001b[49m\u001b[38;5;28;43;01mif\u001b[39;49;00m\u001b[43m \u001b[49m\u001b[43mresult\u001b[49m\u001b[43m \u001b[49m\u001b[38;5;129;43;01mis\u001b[39;49;00m\u001b[43m \u001b[49m\u001b[38;5;129;43;01mnot\u001b[39;49;00m\u001b[43m \u001b[49m\u001b[38;5;28;43;01mNone\u001b[39;49;00m\u001b[43m:\u001b[49m\n\u001b[1;32m   1228\u001b[0m \u001b[43m        \u001b[49m\u001b[43mmulti_result\u001b[49m\u001b[38;5;241;43m.\u001b[39;49m\u001b[43mappend\u001b[49m\u001b[43m(\u001b[49m\u001b[43mresult\u001b[49m\u001b[43m)\u001b[49m\n",
      "File \u001b[0;32m/opt/anaconda3/envs/flux/lib/python3.12/site-packages/chencrafts/toolbox/optimize.py:1157\u001b[0m, in \u001b[0;36mMultiOpt._worker\u001b[0;34m(self, args)\u001b[0m\n\u001b[1;32m   1154\u001b[0m     save_kwargs \u001b[38;5;241m=\u001b[39m {}\n\u001b[1;32m   1156\u001b[0m \u001b[38;5;28;01mtry\u001b[39;00m: \n\u001b[0;32m-> 1157\u001b[0m     result \u001b[38;5;241m=\u001b[39m \u001b[38;5;28;43mself\u001b[39;49m\u001b[38;5;241;43m.\u001b[39;49m\u001b[43moptimize\u001b[49m\u001b[38;5;241;43m.\u001b[39;49m\u001b[43mrun\u001b[49m\u001b[43m(\u001b[49m\n\u001b[1;32m   1158\u001b[0m \u001b[43m        \u001b[49m\u001b[43minit_x\u001b[49m\u001b[38;5;241;43m=\u001b[39;49m\u001b[43minit_x\u001b[49m\u001b[43m,\u001b[49m\u001b[43m  \u001b[49m\n\u001b[1;32m   1159\u001b[0m \u001b[43m        \u001b[49m\u001b[43mcall_back\u001b[49m\u001b[38;5;241;43m=\u001b[39;49m\u001b[43mcall_back\u001b[49m\u001b[43m,\u001b[49m\n\u001b[1;32m   1160\u001b[0m \u001b[43m        \u001b[49m\u001b[43mcheck_func\u001b[49m\u001b[38;5;241;43m=\u001b[39;49m\u001b[43mcheck_func\u001b[49m\u001b[43m,\u001b[49m\n\u001b[1;32m   1161\u001b[0m \u001b[43m        \u001b[49m\u001b[43mcheck_kwargs\u001b[49m\u001b[38;5;241;43m=\u001b[39;49m\u001b[43mcheck_kwargs\u001b[49m\u001b[43m,\u001b[49m\n\u001b[1;32m   1162\u001b[0m \u001b[43m        \u001b[49m\u001b[38;5;241;43m*\u001b[39;49m\u001b[38;5;241;43m*\u001b[39;49m\u001b[43msave_kwargs\u001b[49m\u001b[43m,\u001b[49m\n\u001b[1;32m   1163\u001b[0m \u001b[43m    \u001b[49m\u001b[43m)\u001b[49m\n\u001b[1;32m   1165\u001b[0m \u001b[38;5;28;01mexcept\u001b[39;00m \u001b[38;5;167;01mValueError\u001b[39;00m \u001b[38;5;28;01mas\u001b[39;00m e:\n\u001b[1;32m   1166\u001b[0m     \u001b[38;5;28mprint\u001b[39m(\u001b[38;5;124mf\u001b[39m\u001b[38;5;124m\"\u001b[39m\u001b[38;5;124mCapture a ValueError from optimization: \u001b[39m\u001b[38;5;132;01m{\u001b[39;00me\u001b[38;5;132;01m}\u001b[39;00m\u001b[38;5;124m\"\u001b[39m)\n",
      "File \u001b[0;32m/opt/anaconda3/envs/flux/lib/python3.12/site-packages/chencrafts/toolbox/optimize.py:1077\u001b[0m, in \u001b[0;36mOptimization.run\u001b[0;34m(self, init_x, call_back, check_func, check_kwargs, file_name, fixed_para_file_name)\u001b[0m\n\u001b[1;32m   1075\u001b[0m \u001b[38;5;66;03m# run the scipy optimizer\u001b[39;00m\n\u001b[1;32m   1076\u001b[0m \u001b[38;5;28;01mif\u001b[39;00m \u001b[38;5;28mself\u001b[39m\u001b[38;5;241m.\u001b[39moptimizer \u001b[38;5;129;01min\u001b[39;00m (\u001b[38;5;124m\"\u001b[39m\u001b[38;5;124mL-BFGS-B\u001b[39m\u001b[38;5;124m\"\u001b[39m, \u001b[38;5;124m\"\u001b[39m\u001b[38;5;124mNelder-Mead\u001b[39m\u001b[38;5;124m\"\u001b[39m, \u001b[38;5;124m\"\u001b[39m\u001b[38;5;124mPowell\u001b[39m\u001b[38;5;124m\"\u001b[39m, \u001b[38;5;124m\"\u001b[39m\u001b[38;5;124mTNC\u001b[39m\u001b[38;5;124m\"\u001b[39m, \u001b[38;5;124m\"\u001b[39m\u001b[38;5;124mSLSQP\u001b[39m\u001b[38;5;124m\"\u001b[39m):\n\u001b[0;32m-> 1077\u001b[0m     scipy_res \u001b[38;5;241m=\u001b[39m \u001b[43mminimize\u001b[49m\u001b[43m(\u001b[49m\n\u001b[1;32m   1078\u001b[0m \u001b[43m        \u001b[49m\u001b[43mfun\u001b[49m\u001b[38;5;241;43m=\u001b[39;49m\u001b[38;5;28;43mself\u001b[39;49m\u001b[38;5;241;43m.\u001b[39;49m\u001b[43m_opt_func\u001b[49m\u001b[43m,\u001b[49m\n\u001b[1;32m   1079\u001b[0m \u001b[43m        \u001b[49m\u001b[38;5;241;43m*\u001b[39;49m\u001b[38;5;241;43m*\u001b[39;49m\u001b[43mopt_kwargs\u001b[49m\u001b[43m,\u001b[49m\n\u001b[1;32m   1080\u001b[0m \u001b[43m        \u001b[49m\u001b[43mx0\u001b[49m\u001b[38;5;241;43m=\u001b[39;49m\u001b[43minit_x_arr\u001b[49m\u001b[43m,\u001b[49m\n\u001b[1;32m   1081\u001b[0m \u001b[43m        \u001b[49m\u001b[43mmethod\u001b[49m\u001b[38;5;241;43m=\u001b[39;49m\u001b[38;5;28;43mself\u001b[39;49m\u001b[38;5;241;43m.\u001b[39;49m\u001b[43moptimizer\u001b[49m\u001b[43m,\u001b[49m\n\u001b[1;32m   1082\u001b[0m \u001b[43m        \u001b[49m\u001b[43moptions\u001b[49m\u001b[38;5;241;43m=\u001b[39;49m\u001b[38;5;28;43mself\u001b[39;49m\u001b[38;5;241;43m.\u001b[39;49m\u001b[43mopt_options\u001b[49m\u001b[43m,\u001b[49m\n\u001b[1;32m   1083\u001b[0m \u001b[43m    \u001b[49m\u001b[43m)\u001b[49m\n\u001b[1;32m   1084\u001b[0m \u001b[38;5;28;01melif\u001b[39;00m \u001b[38;5;28mself\u001b[39m\u001b[38;5;241m.\u001b[39moptimizer \u001b[38;5;241m==\u001b[39m \u001b[38;5;124m\"\u001b[39m\u001b[38;5;124mshgo\u001b[39m\u001b[38;5;124m\"\u001b[39m:\n\u001b[1;32m   1085\u001b[0m     opt_options \u001b[38;5;241m=\u001b[39m \u001b[38;5;28mself\u001b[39m\u001b[38;5;241m.\u001b[39mopt_options\u001b[38;5;241m.\u001b[39mcopy()\n",
      "File \u001b[0;32m/opt/anaconda3/envs/flux/lib/python3.12/site-packages/scipy/optimize/_minimize.py:713\u001b[0m, in \u001b[0;36mminimize\u001b[0;34m(fun, x0, args, method, jac, hess, hessp, bounds, constraints, tol, callback, options)\u001b[0m\n\u001b[1;32m    710\u001b[0m     res \u001b[38;5;241m=\u001b[39m _minimize_newtoncg(fun, x0, args, jac, hess, hessp, callback,\n\u001b[1;32m    711\u001b[0m                              \u001b[38;5;241m*\u001b[39m\u001b[38;5;241m*\u001b[39moptions)\n\u001b[1;32m    712\u001b[0m \u001b[38;5;28;01melif\u001b[39;00m meth \u001b[38;5;241m==\u001b[39m \u001b[38;5;124m'\u001b[39m\u001b[38;5;124ml-bfgs-b\u001b[39m\u001b[38;5;124m'\u001b[39m:\n\u001b[0;32m--> 713\u001b[0m     res \u001b[38;5;241m=\u001b[39m \u001b[43m_minimize_lbfgsb\u001b[49m\u001b[43m(\u001b[49m\u001b[43mfun\u001b[49m\u001b[43m,\u001b[49m\u001b[43m \u001b[49m\u001b[43mx0\u001b[49m\u001b[43m,\u001b[49m\u001b[43m \u001b[49m\u001b[43margs\u001b[49m\u001b[43m,\u001b[49m\u001b[43m \u001b[49m\u001b[43mjac\u001b[49m\u001b[43m,\u001b[49m\u001b[43m \u001b[49m\u001b[43mbounds\u001b[49m\u001b[43m,\u001b[49m\n\u001b[1;32m    714\u001b[0m \u001b[43m                           \u001b[49m\u001b[43mcallback\u001b[49m\u001b[38;5;241;43m=\u001b[39;49m\u001b[43mcallback\u001b[49m\u001b[43m,\u001b[49m\u001b[43m \u001b[49m\u001b[38;5;241;43m*\u001b[39;49m\u001b[38;5;241;43m*\u001b[39;49m\u001b[43moptions\u001b[49m\u001b[43m)\u001b[49m\n\u001b[1;32m    715\u001b[0m \u001b[38;5;28;01melif\u001b[39;00m meth \u001b[38;5;241m==\u001b[39m \u001b[38;5;124m'\u001b[39m\u001b[38;5;124mtnc\u001b[39m\u001b[38;5;124m'\u001b[39m:\n\u001b[1;32m    716\u001b[0m     res \u001b[38;5;241m=\u001b[39m _minimize_tnc(fun, x0, args, jac, bounds, callback\u001b[38;5;241m=\u001b[39mcallback,\n\u001b[1;32m    717\u001b[0m                         \u001b[38;5;241m*\u001b[39m\u001b[38;5;241m*\u001b[39moptions)\n",
      "File \u001b[0;32m/opt/anaconda3/envs/flux/lib/python3.12/site-packages/scipy/optimize/_lbfgsb_py.py:369\u001b[0m, in \u001b[0;36m_minimize_lbfgsb\u001b[0;34m(fun, x0, args, jac, bounds, disp, maxcor, ftol, gtol, eps, maxfun, maxiter, iprint, callback, maxls, finite_diff_rel_step, **unknown_options)\u001b[0m\n\u001b[1;32m    363\u001b[0m task_str \u001b[38;5;241m=\u001b[39m task\u001b[38;5;241m.\u001b[39mtobytes()\n\u001b[1;32m    364\u001b[0m \u001b[38;5;28;01mif\u001b[39;00m task_str\u001b[38;5;241m.\u001b[39mstartswith(\u001b[38;5;124mb\u001b[39m\u001b[38;5;124m'\u001b[39m\u001b[38;5;124mFG\u001b[39m\u001b[38;5;124m'\u001b[39m):\n\u001b[1;32m    365\u001b[0m     \u001b[38;5;66;03m# The minimization routine wants f and g at the current x.\u001b[39;00m\n\u001b[1;32m    366\u001b[0m     \u001b[38;5;66;03m# Note that interruptions due to maxfun are postponed\u001b[39;00m\n\u001b[1;32m    367\u001b[0m     \u001b[38;5;66;03m# until the completion of the current minimization iteration.\u001b[39;00m\n\u001b[1;32m    368\u001b[0m     \u001b[38;5;66;03m# Overwrite f and g:\u001b[39;00m\n\u001b[0;32m--> 369\u001b[0m     f, g \u001b[38;5;241m=\u001b[39m \u001b[43mfunc_and_grad\u001b[49m\u001b[43m(\u001b[49m\u001b[43mx\u001b[49m\u001b[43m)\u001b[49m\n\u001b[1;32m    370\u001b[0m \u001b[38;5;28;01melif\u001b[39;00m task_str\u001b[38;5;241m.\u001b[39mstartswith(\u001b[38;5;124mb\u001b[39m\u001b[38;5;124m'\u001b[39m\u001b[38;5;124mNEW_X\u001b[39m\u001b[38;5;124m'\u001b[39m):\n\u001b[1;32m    371\u001b[0m     \u001b[38;5;66;03m# new iteration\u001b[39;00m\n\u001b[1;32m    372\u001b[0m     n_iterations \u001b[38;5;241m+\u001b[39m\u001b[38;5;241m=\u001b[39m \u001b[38;5;241m1\u001b[39m\n",
      "File \u001b[0;32m/opt/anaconda3/envs/flux/lib/python3.12/site-packages/scipy/optimize/_differentiable_functions.py:296\u001b[0m, in \u001b[0;36mScalarFunction.fun_and_grad\u001b[0;34m(self, x)\u001b[0m\n\u001b[1;32m    294\u001b[0m \u001b[38;5;28;01mif\u001b[39;00m \u001b[38;5;129;01mnot\u001b[39;00m np\u001b[38;5;241m.\u001b[39marray_equal(x, \u001b[38;5;28mself\u001b[39m\u001b[38;5;241m.\u001b[39mx):\n\u001b[1;32m    295\u001b[0m     \u001b[38;5;28mself\u001b[39m\u001b[38;5;241m.\u001b[39m_update_x_impl(x)\n\u001b[0;32m--> 296\u001b[0m \u001b[38;5;28;43mself\u001b[39;49m\u001b[38;5;241;43m.\u001b[39;49m\u001b[43m_update_fun\u001b[49m\u001b[43m(\u001b[49m\u001b[43m)\u001b[49m\n\u001b[1;32m    297\u001b[0m \u001b[38;5;28mself\u001b[39m\u001b[38;5;241m.\u001b[39m_update_grad()\n\u001b[1;32m    298\u001b[0m \u001b[38;5;28;01mreturn\u001b[39;00m \u001b[38;5;28mself\u001b[39m\u001b[38;5;241m.\u001b[39mf, \u001b[38;5;28mself\u001b[39m\u001b[38;5;241m.\u001b[39mg\n",
      "File \u001b[0;32m/opt/anaconda3/envs/flux/lib/python3.12/site-packages/scipy/optimize/_differentiable_functions.py:262\u001b[0m, in \u001b[0;36mScalarFunction._update_fun\u001b[0;34m(self)\u001b[0m\n\u001b[1;32m    260\u001b[0m \u001b[38;5;28;01mdef\u001b[39;00m \u001b[38;5;21m_update_fun\u001b[39m(\u001b[38;5;28mself\u001b[39m):\n\u001b[1;32m    261\u001b[0m     \u001b[38;5;28;01mif\u001b[39;00m \u001b[38;5;129;01mnot\u001b[39;00m \u001b[38;5;28mself\u001b[39m\u001b[38;5;241m.\u001b[39mf_updated:\n\u001b[0;32m--> 262\u001b[0m         \u001b[38;5;28;43mself\u001b[39;49m\u001b[38;5;241;43m.\u001b[39;49m\u001b[43m_update_fun_impl\u001b[49m\u001b[43m(\u001b[49m\u001b[43m)\u001b[49m\n\u001b[1;32m    263\u001b[0m         \u001b[38;5;28mself\u001b[39m\u001b[38;5;241m.\u001b[39mf_updated \u001b[38;5;241m=\u001b[39m \u001b[38;5;28;01mTrue\u001b[39;00m\n",
      "File \u001b[0;32m/opt/anaconda3/envs/flux/lib/python3.12/site-packages/scipy/optimize/_differentiable_functions.py:163\u001b[0m, in \u001b[0;36mScalarFunction.__init__.<locals>.update_fun\u001b[0;34m()\u001b[0m\n\u001b[1;32m    162\u001b[0m \u001b[38;5;28;01mdef\u001b[39;00m \u001b[38;5;21mupdate_fun\u001b[39m():\n\u001b[0;32m--> 163\u001b[0m     \u001b[38;5;28mself\u001b[39m\u001b[38;5;241m.\u001b[39mf \u001b[38;5;241m=\u001b[39m \u001b[43mfun_wrapped\u001b[49m\u001b[43m(\u001b[49m\u001b[38;5;28;43mself\u001b[39;49m\u001b[38;5;241;43m.\u001b[39;49m\u001b[43mx\u001b[49m\u001b[43m)\u001b[49m\n",
      "File \u001b[0;32m/opt/anaconda3/envs/flux/lib/python3.12/site-packages/scipy/optimize/_differentiable_functions.py:145\u001b[0m, in \u001b[0;36mScalarFunction.__init__.<locals>.fun_wrapped\u001b[0;34m(x)\u001b[0m\n\u001b[1;32m    141\u001b[0m \u001b[38;5;28mself\u001b[39m\u001b[38;5;241m.\u001b[39mnfev \u001b[38;5;241m+\u001b[39m\u001b[38;5;241m=\u001b[39m \u001b[38;5;241m1\u001b[39m\n\u001b[1;32m    142\u001b[0m \u001b[38;5;66;03m# Send a copy because the user may overwrite it.\u001b[39;00m\n\u001b[1;32m    143\u001b[0m \u001b[38;5;66;03m# Overwriting results in undefined behaviour because\u001b[39;00m\n\u001b[1;32m    144\u001b[0m \u001b[38;5;66;03m# fun(self.x) will change self.x, with the two no longer linked.\u001b[39;00m\n\u001b[0;32m--> 145\u001b[0m fx \u001b[38;5;241m=\u001b[39m \u001b[43mfun\u001b[49m\u001b[43m(\u001b[49m\u001b[43mnp\u001b[49m\u001b[38;5;241;43m.\u001b[39;49m\u001b[43mcopy\u001b[49m\u001b[43m(\u001b[49m\u001b[43mx\u001b[49m\u001b[43m)\u001b[49m\u001b[43m,\u001b[49m\u001b[43m \u001b[49m\u001b[38;5;241;43m*\u001b[39;49m\u001b[43margs\u001b[49m\u001b[43m)\u001b[49m\n\u001b[1;32m    146\u001b[0m \u001b[38;5;66;03m# Make sure the function returns a true scalar\u001b[39;00m\n\u001b[1;32m    147\u001b[0m \u001b[38;5;28;01mif\u001b[39;00m \u001b[38;5;129;01mnot\u001b[39;00m np\u001b[38;5;241m.\u001b[39misscalar(fx):\n",
      "File \u001b[0;32m/opt/anaconda3/envs/flux/lib/python3.12/site-packages/chencrafts/toolbox/optimize.py:893\u001b[0m, in \u001b[0;36mOptimization._opt_func\u001b[0;34m(self, x)\u001b[0m\n\u001b[1;32m    890\u001b[0m x_dict \u001b[38;5;241m=\u001b[39m \u001b[38;5;28mself\u001b[39m\u001b[38;5;241m.\u001b[39m_x_arr_2_dict(x)\n\u001b[1;32m    891\u001b[0m denorm_x \u001b[38;5;241m=\u001b[39m \u001b[38;5;28mself\u001b[39m\u001b[38;5;241m.\u001b[39m_denormalize_input(x_dict)\n\u001b[0;32m--> 893\u001b[0m target \u001b[38;5;241m=\u001b[39m \u001b[38;5;28mself\u001b[39m\u001b[38;5;241m.\u001b[39m_normalize_output(\u001b[38;5;28;43mself\u001b[39;49m\u001b[38;5;241;43m.\u001b[39;49m\u001b[43mtarget_w_free_var\u001b[49m\u001b[43m(\u001b[49m\u001b[43mdenorm_x\u001b[49m\u001b[43m)\u001b[49m)\n\u001b[1;32m    895\u001b[0m \u001b[38;5;28;01mreturn\u001b[39;00m target\n",
      "File \u001b[0;32m/opt/anaconda3/envs/flux/lib/python3.12/site-packages/chencrafts/toolbox/optimize.py:881\u001b[0m, in \u001b[0;36mOptimization.target_w_free_var\u001b[0;34m(self, free_var)\u001b[0m\n\u001b[1;32m    877\u001b[0m \u001b[38;5;28;01mdef\u001b[39;00m \u001b[38;5;21mtarget_w_free_var\u001b[39m(\u001b[38;5;28mself\u001b[39m, free_var: Dict[\u001b[38;5;28mstr\u001b[39m, \u001b[38;5;28mfloat\u001b[39m]):\n\u001b[1;32m    878\u001b[0m \u001b[38;5;250m    \u001b[39m\u001b[38;5;124;03m\"\"\"\u001b[39;00m\n\u001b[1;32m    879\u001b[0m \u001b[38;5;124;03m    Calculate the target function value with the free variables.\u001b[39;00m\n\u001b[1;32m    880\u001b[0m \u001b[38;5;124;03m    \"\"\"\u001b[39;00m\n\u001b[0;32m--> 881\u001b[0m     \u001b[38;5;28;01mreturn\u001b[39;00m \u001b[38;5;28;43mself\u001b[39;49m\u001b[38;5;241;43m.\u001b[39;49m\u001b[43mtarget_func\u001b[49m\u001b[43m(\u001b[49m\u001b[38;5;28;43mself\u001b[39;49m\u001b[38;5;241;43m.\u001b[39;49m\u001b[43mfixed_variables\u001b[49m\u001b[43m \u001b[49m\u001b[38;5;241;43m|\u001b[39;49m\u001b[43m \u001b[49m\u001b[43mfree_var\u001b[49m\u001b[43m,\u001b[49m\u001b[43m \u001b[49m\u001b[38;5;241;43m*\u001b[39;49m\u001b[38;5;241;43m*\u001b[39;49m\u001b[38;5;28;43mself\u001b[39;49m\u001b[38;5;241;43m.\u001b[39;49m\u001b[43mtarget_kwargs\u001b[49m\u001b[43m)\u001b[49m\n",
      "Cell \u001b[0;32mIn[28], line 34\u001b[0m, in \u001b[0;36mfind_sweetspot_by_spectrum.<locals>.freq_ab\u001b[0;34m(params, evals_count, mode)\u001b[0m\n\u001b[1;32m     31\u001b[0m         \u001b[38;5;28mself\u001b[39m\u001b[38;5;241m.\u001b[39mΦ2 \u001b[38;5;241m=\u001b[39m \u001b[38;5;241m0.5\u001b[39m \u001b[38;5;241m+\u001b[39m params[\u001b[38;5;124m\"\u001b[39m\u001b[38;5;124mflux_sb\u001b[39m\u001b[38;5;124m\"\u001b[39m]\n\u001b[1;32m     32\u001b[0m     \u001b[38;5;28mself\u001b[39m\u001b[38;5;241m.\u001b[39mΦ3 \u001b[38;5;241m=\u001b[39m params[\u001b[38;5;124m\"\u001b[39m\u001b[38;5;124mflux_c\u001b[39m\u001b[38;5;124m\"\u001b[39m]\n\u001b[0;32m---> 34\u001b[0m eigs \u001b[38;5;241m=\u001b[39m \u001b[38;5;28;43mself\u001b[39;49m\u001b[38;5;241;43m.\u001b[39;49m\u001b[43meigenvals\u001b[49m\u001b[43m(\u001b[49m\u001b[43mevals_count\u001b[49m\u001b[43m)\u001b[49m\n\u001b[1;32m     35\u001b[0m \u001b[38;5;28;01mif\u001b[39;00m mode \u001b[38;5;241m==\u001b[39m \u001b[38;5;124m\"\u001b[39m\u001b[38;5;124ml3\u001b[39m\u001b[38;5;124m\"\u001b[39m:\n\u001b[1;32m     36\u001b[0m     \u001b[38;5;28;01mreturn\u001b[39;00m eigs[\u001b[38;5;241m3\u001b[39m] \u001b[38;5;241m-\u001b[39m eigs[\u001b[38;5;241m0\u001b[39m]\n",
      "File \u001b[0;32m/opt/anaconda3/envs/flux/lib/python3.12/site-packages/scqubits/core/qubit_base.py:359\u001b[0m, in \u001b[0;36mQubitBaseClass.eigenvals\u001b[0;34m(self, evals_count, filename, return_spectrumdata)\u001b[0m\n\u001b[1;32m    340\u001b[0m \u001b[38;5;250m\u001b[39m\u001b[38;5;124;03m\"\"\"Calculates eigenvalues using `scipy.linalg.eigh`, returns numpy array of\u001b[39;00m\n\u001b[1;32m    341\u001b[0m \u001b[38;5;124;03meigenvalues.\u001b[39;00m\n\u001b[1;32m    342\u001b[0m \n\u001b[0;32m   (...)\u001b[0m\n\u001b[1;32m    356\u001b[0m \u001b[38;5;124;03m    eigenvalues as ndarray or in form of a SpectrumData object\u001b[39;00m\n\u001b[1;32m    357\u001b[0m \u001b[38;5;124;03m\"\"\"\u001b[39;00m\n\u001b[1;32m    358\u001b[0m \u001b[38;5;28;01mif\u001b[39;00m \u001b[38;5;129;01mnot\u001b[39;00m \u001b[38;5;28mhasattr\u001b[39m(\u001b[38;5;28mself\u001b[39m, \u001b[38;5;124m\"\u001b[39m\u001b[38;5;124mevals_method\u001b[39m\u001b[38;5;124m\"\u001b[39m) \u001b[38;5;129;01mor\u001b[39;00m \u001b[38;5;28mself\u001b[39m\u001b[38;5;241m.\u001b[39mevals_method \u001b[38;5;129;01mis\u001b[39;00m \u001b[38;5;28;01mNone\u001b[39;00m:\n\u001b[0;32m--> 359\u001b[0m     evals \u001b[38;5;241m=\u001b[39m \u001b[38;5;28;43mself\u001b[39;49m\u001b[38;5;241;43m.\u001b[39;49m\u001b[43m_evals_calc\u001b[49m\u001b[43m(\u001b[49m\u001b[43mevals_count\u001b[49m\u001b[43m)\u001b[49m\n\u001b[1;32m    360\u001b[0m \u001b[38;5;28;01melse\u001b[39;00m:\n\u001b[1;32m    361\u001b[0m     diagonalizer \u001b[38;5;241m=\u001b[39m (\n\u001b[1;32m    362\u001b[0m         diag\u001b[38;5;241m.\u001b[39mDIAG_METHODS[\u001b[38;5;28mself\u001b[39m\u001b[38;5;241m.\u001b[39mevals_method]\n\u001b[1;32m    363\u001b[0m         \u001b[38;5;28;01mif\u001b[39;00m \u001b[38;5;28misinstance\u001b[39m(\u001b[38;5;28mself\u001b[39m\u001b[38;5;241m.\u001b[39mevals_method, \u001b[38;5;28mstr\u001b[39m)\n\u001b[1;32m    364\u001b[0m         \u001b[38;5;28;01melse\u001b[39;00m \u001b[38;5;28mself\u001b[39m\u001b[38;5;241m.\u001b[39mevals_method\n\u001b[1;32m    365\u001b[0m     )\n",
      "File \u001b[0;32m/opt/anaconda3/envs/flux/lib/python3.12/site-packages/scqubits/core/circuit_routines.py:2610\u001b[0m, in \u001b[0;36mCircuitRoutines._evals_calc\u001b[0;34m(self, evals_count)\u001b[0m\n\u001b[1;32m   2608\u001b[0m hamiltonian_mat \u001b[38;5;241m=\u001b[39m \u001b[38;5;28mself\u001b[39m\u001b[38;5;241m.\u001b[39mhamiltonian()\n\u001b[1;32m   2609\u001b[0m \u001b[38;5;28;01mif\u001b[39;00m \u001b[38;5;28mself\u001b[39m\u001b[38;5;241m.\u001b[39mtype_of_matrices \u001b[38;5;241m==\u001b[39m \u001b[38;5;124m\"\u001b[39m\u001b[38;5;124msparse\u001b[39m\u001b[38;5;124m\"\u001b[39m:\n\u001b[0;32m-> 2610\u001b[0m     evals \u001b[38;5;241m=\u001b[39m \u001b[43mutils\u001b[49m\u001b[38;5;241;43m.\u001b[39;49m\u001b[43meigsh_safe\u001b[49m\u001b[43m(\u001b[49m\n\u001b[1;32m   2611\u001b[0m \u001b[43m        \u001b[49m\u001b[43mhamiltonian_mat\u001b[49m\u001b[43m,\u001b[49m\n\u001b[1;32m   2612\u001b[0m \u001b[43m        \u001b[49m\u001b[43mreturn_eigenvectors\u001b[49m\u001b[38;5;241;43m=\u001b[39;49m\u001b[38;5;28;43;01mFalse\u001b[39;49;00m\u001b[43m,\u001b[49m\n\u001b[1;32m   2613\u001b[0m \u001b[43m        \u001b[49m\u001b[43mk\u001b[49m\u001b[38;5;241;43m=\u001b[39;49m\u001b[43mevals_count\u001b[49m\u001b[43m,\u001b[49m\n\u001b[1;32m   2614\u001b[0m \u001b[43m        \u001b[49m\u001b[43mwhich\u001b[49m\u001b[38;5;241;43m=\u001b[39;49m\u001b[38;5;124;43m\"\u001b[39;49m\u001b[38;5;124;43mSA\u001b[39;49m\u001b[38;5;124;43m\"\u001b[39;49m\u001b[43m,\u001b[49m\n\u001b[1;32m   2615\u001b[0m \u001b[43m    \u001b[49m\u001b[43m)\u001b[49m\n\u001b[1;32m   2616\u001b[0m \u001b[38;5;28;01melif\u001b[39;00m \u001b[38;5;28mself\u001b[39m\u001b[38;5;241m.\u001b[39mtype_of_matrices \u001b[38;5;241m==\u001b[39m \u001b[38;5;124m\"\u001b[39m\u001b[38;5;124mdense\u001b[39m\u001b[38;5;124m\"\u001b[39m:\n\u001b[1;32m   2617\u001b[0m     evals \u001b[38;5;241m=\u001b[39m sp\u001b[38;5;241m.\u001b[39mlinalg\u001b[38;5;241m.\u001b[39meigvalsh(\n\u001b[1;32m   2618\u001b[0m         hamiltonian_mat, subset_by_index\u001b[38;5;241m=\u001b[39m[\u001b[38;5;241m0\u001b[39m, evals_count \u001b[38;5;241m-\u001b[39m \u001b[38;5;241m1\u001b[39m]\n\u001b[1;32m   2619\u001b[0m     )\n",
      "File \u001b[0;32m/opt/anaconda3/envs/flux/lib/python3.12/site-packages/scqubits/utils/spectrum_utils.py:51\u001b[0m, in \u001b[0;36meigsh_safe\u001b[0;34m(*args, **kwargs)\u001b[0m\n\u001b[1;32m     49\u001b[0m         evecs, _ \u001b[38;5;241m=\u001b[39m sp\u001b[38;5;241m.\u001b[39mlinalg\u001b[38;5;241m.\u001b[39mqr(evecs, mode\u001b[38;5;241m=\u001b[39m\u001b[38;5;124m\"\u001b[39m\u001b[38;5;124meconomic\u001b[39m\u001b[38;5;124m\"\u001b[39m)\n\u001b[1;32m     50\u001b[0m     \u001b[38;5;28;01mreturn\u001b[39;00m evals, evecs\n\u001b[0;32m---> 51\u001b[0m \u001b[38;5;28;01mreturn\u001b[39;00m \u001b[43msp\u001b[49m\u001b[38;5;241;43m.\u001b[39;49m\u001b[43msparse\u001b[49m\u001b[38;5;241;43m.\u001b[39;49m\u001b[43mlinalg\u001b[49m\u001b[38;5;241;43m.\u001b[39;49m\u001b[43meigsh\u001b[49m\u001b[43m(\u001b[49m\u001b[38;5;241;43m*\u001b[39;49m\u001b[43margs\u001b[49m\u001b[43m,\u001b[49m\u001b[43m \u001b[49m\u001b[38;5;241;43m*\u001b[39;49m\u001b[38;5;241;43m*\u001b[39;49m\u001b[43mkwargs\u001b[49m\u001b[43m)\u001b[49m\n",
      "File \u001b[0;32m/opt/anaconda3/envs/flux/lib/python3.12/site-packages/scipy/sparse/linalg/_eigen/arpack/arpack.py:1577\u001b[0m, in \u001b[0;36meigsh\u001b[0;34m(A, k, M, sigma, which, v0, ncv, maxiter, tol, return_eigenvectors, Minv, OPinv, mode)\u001b[0m\n\u001b[1;32m   1575\u001b[0m \u001b[38;5;28;01melif\u001b[39;00m which \u001b[38;5;241m==\u001b[39m \u001b[38;5;124m'\u001b[39m\u001b[38;5;124mSA\u001b[39m\u001b[38;5;124m'\u001b[39m:\n\u001b[1;32m   1576\u001b[0m     which \u001b[38;5;241m=\u001b[39m \u001b[38;5;124m'\u001b[39m\u001b[38;5;124mSR\u001b[39m\u001b[38;5;124m'\u001b[39m\n\u001b[0;32m-> 1577\u001b[0m ret \u001b[38;5;241m=\u001b[39m \u001b[43meigs\u001b[49m\u001b[43m(\u001b[49m\u001b[43mA\u001b[49m\u001b[43m,\u001b[49m\u001b[43m \u001b[49m\u001b[43mk\u001b[49m\u001b[43m,\u001b[49m\u001b[43m \u001b[49m\u001b[43mM\u001b[49m\u001b[38;5;241;43m=\u001b[39;49m\u001b[43mM\u001b[49m\u001b[43m,\u001b[49m\u001b[43m \u001b[49m\u001b[43msigma\u001b[49m\u001b[38;5;241;43m=\u001b[39;49m\u001b[43msigma\u001b[49m\u001b[43m,\u001b[49m\u001b[43m \u001b[49m\u001b[43mwhich\u001b[49m\u001b[38;5;241;43m=\u001b[39;49m\u001b[43mwhich\u001b[49m\u001b[43m,\u001b[49m\u001b[43m \u001b[49m\u001b[43mv0\u001b[49m\u001b[38;5;241;43m=\u001b[39;49m\u001b[43mv0\u001b[49m\u001b[43m,\u001b[49m\n\u001b[1;32m   1578\u001b[0m \u001b[43m           \u001b[49m\u001b[43mncv\u001b[49m\u001b[38;5;241;43m=\u001b[39;49m\u001b[43mncv\u001b[49m\u001b[43m,\u001b[49m\u001b[43m \u001b[49m\u001b[43mmaxiter\u001b[49m\u001b[38;5;241;43m=\u001b[39;49m\u001b[43mmaxiter\u001b[49m\u001b[43m,\u001b[49m\u001b[43m \u001b[49m\u001b[43mtol\u001b[49m\u001b[38;5;241;43m=\u001b[39;49m\u001b[43mtol\u001b[49m\u001b[43m,\u001b[49m\n\u001b[1;32m   1579\u001b[0m \u001b[43m           \u001b[49m\u001b[43mreturn_eigenvectors\u001b[49m\u001b[38;5;241;43m=\u001b[39;49m\u001b[43mreturn_eigenvectors\u001b[49m\u001b[43m,\u001b[49m\u001b[43m \u001b[49m\u001b[43mMinv\u001b[49m\u001b[38;5;241;43m=\u001b[39;49m\u001b[43mMinv\u001b[49m\u001b[43m,\u001b[49m\n\u001b[1;32m   1580\u001b[0m \u001b[43m           \u001b[49m\u001b[43mOPinv\u001b[49m\u001b[38;5;241;43m=\u001b[39;49m\u001b[43mOPinv\u001b[49m\u001b[43m)\u001b[49m\n\u001b[1;32m   1582\u001b[0m \u001b[38;5;28;01mif\u001b[39;00m return_eigenvectors:\n\u001b[1;32m   1583\u001b[0m     \u001b[38;5;28;01mreturn\u001b[39;00m ret[\u001b[38;5;241m0\u001b[39m]\u001b[38;5;241m.\u001b[39mreal, ret[\u001b[38;5;241m1\u001b[39m]\n",
      "File \u001b[0;32m/opt/anaconda3/envs/flux/lib/python3.12/site-packages/scipy/sparse/linalg/_eigen/arpack/arpack.py:1355\u001b[0m, in \u001b[0;36meigs\u001b[0;34m(A, k, M, sigma, which, v0, ncv, maxiter, tol, return_eigenvectors, Minv, OPinv, OPpart)\u001b[0m\n\u001b[1;32m   1353\u001b[0m \u001b[38;5;28;01mwith\u001b[39;00m _ARPACK_LOCK:\n\u001b[1;32m   1354\u001b[0m     \u001b[38;5;28;01mwhile\u001b[39;00m \u001b[38;5;129;01mnot\u001b[39;00m params\u001b[38;5;241m.\u001b[39mconverged:\n\u001b[0;32m-> 1355\u001b[0m         \u001b[43mparams\u001b[49m\u001b[38;5;241;43m.\u001b[39;49m\u001b[43miterate\u001b[49m\u001b[43m(\u001b[49m\u001b[43m)\u001b[49m\n\u001b[1;32m   1357\u001b[0m     \u001b[38;5;28;01mreturn\u001b[39;00m params\u001b[38;5;241m.\u001b[39mextract(return_eigenvectors)\n",
      "File \u001b[0;32m/opt/anaconda3/envs/flux/lib/python3.12/site-packages/scipy/sparse/linalg/_eigen/arpack/arpack.py:730\u001b[0m, in \u001b[0;36m_UnsymmetricArpackParams.iterate\u001b[0;34m(self)\u001b[0m\n\u001b[1;32m    726\u001b[0m     \u001b[38;5;28mself\u001b[39m\u001b[38;5;241m.\u001b[39mido, \u001b[38;5;28mself\u001b[39m\u001b[38;5;241m.\u001b[39mtol, \u001b[38;5;28mself\u001b[39m\u001b[38;5;241m.\u001b[39mresid, \u001b[38;5;28mself\u001b[39m\u001b[38;5;241m.\u001b[39mv, \\\n\u001b[1;32m    727\u001b[0m         \u001b[38;5;28mself\u001b[39m\u001b[38;5;241m.\u001b[39miparam, \u001b[38;5;28mself\u001b[39m\u001b[38;5;241m.\u001b[39mipntr, \u001b[38;5;28mself\u001b[39m\u001b[38;5;241m.\u001b[39minfo \u001b[38;5;241m=\u001b[39m results\n\u001b[1;32m    729\u001b[0m \u001b[38;5;28;01melse\u001b[39;00m:\n\u001b[0;32m--> 730\u001b[0m     results \u001b[38;5;241m=\u001b[39m \u001b[38;5;28;43mself\u001b[39;49m\u001b[38;5;241;43m.\u001b[39;49m\u001b[43m_arpack_solver\u001b[49m\u001b[43m(\u001b[49m\u001b[38;5;28;43mself\u001b[39;49m\u001b[38;5;241;43m.\u001b[39;49m\u001b[43mido\u001b[49m\u001b[43m,\u001b[49m\u001b[43m \u001b[49m\u001b[38;5;28;43mself\u001b[39;49m\u001b[38;5;241;43m.\u001b[39;49m\u001b[43mbmat\u001b[49m\u001b[43m,\u001b[49m\u001b[43m \u001b[49m\u001b[38;5;28;43mself\u001b[39;49m\u001b[38;5;241;43m.\u001b[39;49m\u001b[43mwhich\u001b[49m\u001b[43m,\u001b[49m\u001b[43m \u001b[49m\u001b[38;5;28;43mself\u001b[39;49m\u001b[38;5;241;43m.\u001b[39;49m\u001b[43mk\u001b[49m\u001b[43m,\u001b[49m\n\u001b[1;32m    731\u001b[0m \u001b[43m                                  \u001b[49m\u001b[38;5;28;43mself\u001b[39;49m\u001b[38;5;241;43m.\u001b[39;49m\u001b[43mtol\u001b[49m\u001b[43m,\u001b[49m\u001b[43m \u001b[49m\u001b[38;5;28;43mself\u001b[39;49m\u001b[38;5;241;43m.\u001b[39;49m\u001b[43mresid\u001b[49m\u001b[43m,\u001b[49m\u001b[43m \u001b[49m\u001b[38;5;28;43mself\u001b[39;49m\u001b[38;5;241;43m.\u001b[39;49m\u001b[43mv\u001b[49m\u001b[43m,\u001b[49m\u001b[43m \u001b[49m\u001b[38;5;28;43mself\u001b[39;49m\u001b[38;5;241;43m.\u001b[39;49m\u001b[43miparam\u001b[49m\u001b[43m,\u001b[49m\n\u001b[1;32m    732\u001b[0m \u001b[43m                                  \u001b[49m\u001b[38;5;28;43mself\u001b[39;49m\u001b[38;5;241;43m.\u001b[39;49m\u001b[43mipntr\u001b[49m\u001b[43m,\u001b[49m\u001b[43m \u001b[49m\u001b[38;5;28;43mself\u001b[39;49m\u001b[38;5;241;43m.\u001b[39;49m\u001b[43mworkd\u001b[49m\u001b[43m,\u001b[49m\u001b[43m \u001b[49m\u001b[38;5;28;43mself\u001b[39;49m\u001b[38;5;241;43m.\u001b[39;49m\u001b[43mworkl\u001b[49m\u001b[43m,\u001b[49m\n\u001b[1;32m    733\u001b[0m \u001b[43m                                  \u001b[49m\u001b[38;5;28;43mself\u001b[39;49m\u001b[38;5;241;43m.\u001b[39;49m\u001b[43mrwork\u001b[49m\u001b[43m,\u001b[49m\u001b[43m \u001b[49m\u001b[38;5;28;43mself\u001b[39;49m\u001b[38;5;241;43m.\u001b[39;49m\u001b[43minfo\u001b[49m\u001b[43m)\u001b[49m\n\u001b[1;32m    734\u001b[0m     \u001b[38;5;28mself\u001b[39m\u001b[38;5;241m.\u001b[39mido, \u001b[38;5;28mself\u001b[39m\u001b[38;5;241m.\u001b[39mtol, \u001b[38;5;28mself\u001b[39m\u001b[38;5;241m.\u001b[39mresid, \u001b[38;5;28mself\u001b[39m\u001b[38;5;241m.\u001b[39mv, \\\n\u001b[1;32m    735\u001b[0m         \u001b[38;5;28mself\u001b[39m\u001b[38;5;241m.\u001b[39miparam, \u001b[38;5;28mself\u001b[39m\u001b[38;5;241m.\u001b[39mipntr, \u001b[38;5;28mself\u001b[39m\u001b[38;5;241m.\u001b[39minfo \u001b[38;5;241m=\u001b[39m results\n\u001b[1;32m    738\u001b[0m xslice \u001b[38;5;241m=\u001b[39m \u001b[38;5;28mslice\u001b[39m(\u001b[38;5;28mself\u001b[39m\u001b[38;5;241m.\u001b[39mipntr[\u001b[38;5;241m0\u001b[39m] \u001b[38;5;241m-\u001b[39m \u001b[38;5;241m1\u001b[39m, \u001b[38;5;28mself\u001b[39m\u001b[38;5;241m.\u001b[39mipntr[\u001b[38;5;241m0\u001b[39m] \u001b[38;5;241m-\u001b[39m \u001b[38;5;241m1\u001b[39m \u001b[38;5;241m+\u001b[39m \u001b[38;5;28mself\u001b[39m\u001b[38;5;241m.\u001b[39mn)\n",
      "\u001b[0;31mKeyboardInterrupt\u001b[0m: "
     ]
    }
   ],
   "source": [
    "import scqubits as scq\n",
    "from scqubits.utils.cpu_switch import get_map_method\n",
    "\n",
    "flux_c_values = np.linspace(0., 0.5, 20)  # Create 100 points between 0 and 0.5\n",
    "evals_array = []\n",
    "\n",
    "for flux_c in flux_c_values:\n",
    "    phi1, phi2, phi3 = find_sweetspot_by_spectrum(\n",
    "        ftc, \n",
    "        flux_c=flux_c,\n",
    "        flux_s_bounds=[-0.15, 0.15],\n",
    "        run_num=1,\n",
    "        mode=\"l1+l2+zz\"\n",
    "    )\n",
    "    evals = ftc.eigenvals(4)\n",
    "    evals_relative = evals - evals[0]\n",
    "    evals_array.append(evals_relative)\n",
    "\n",
    "evals_array = np.array(evals_array)\n",
    "\n",
    "\n",
    "# Plotting\n",
    "plt.figure(figsize=(10, 6))\n",
    "for i in range(4):\n",
    "    plt.plot(flux_c_values, evals_array[:, i], label=f'Eigenvalue {i+1}')\n",
    "\n",
    "plt.xlabel('flux_c')\n",
    "plt.ylabel('Relative Eigenvalues')\n",
    "plt.title('Eigenvalues vs flux_c')\n",
    "plt.legend()\n",
    "plt.grid(True)\n",
    "plt.show()"
   ]
  },
  {
   "cell_type": "code",
   "execution_count": 24,
   "metadata": {},
   "outputs": [
    {
     "data": {
      "image/png": "[encoded data removed]",
      "text/plain": [
       "<Figure size 640x480 with 1 Axes>"
      ]
     },
     "metadata": {},
     "output_type": "display_data"
    }
   ],
   "source": [
    "plt.plot(flux_c_values,evals_array[:, 3]-evals_array[:, 2]-evals_array[:, 1])\n",
    "plt.show()"
   ]
  },
  {
   "cell_type": "code",
   "execution_count": 252,
   "metadata": {},
   "outputs": [
    {
     "data": {
      "text/plain": [
       "array([-2.900302e-06, -2.876444e-06, -2.711722e-06, -2.886396e-06, -2.682440e-06, -2.637909e-06, -5.447972e-07, -2.528319e-06,\n",
       "       -2.375658e-06, -2.742128e-06, -1.098630e-06, -1.947611e-06, -2.293671e-06, -3.942196e-06, -7.551005e-06, -2.082620e-05,\n",
       "       -1.070341e-04, -8.957078e-04, -3.291328e-03, -1.725285e-04])"
      ]
     },
     "execution_count": 252,
     "metadata": {},
     "output_type": "execute_result"
    }
   ],
   "source": [
    "evals_array[:, 3]-evals_array[:, 2]-evals_array[:, 1]"
   ]
  },
  {
   "cell_type": "code",
   "execution_count": 243,
   "metadata": {},
   "outputs": [],
   "source": [
    "\n",
    "phi1, phi2, phi3 = find_sweetspot_by_spectrum(\n",
    "        ftc, \n",
    "        # flux_c=0.3,\n",
    "        flux_s_bounds=[-0.15, 0.15],\n",
    "        run_num=1,\n",
    "        flux_c_bounds=[0.4,0.5],\n",
    "        mode = \"l1+l2+zz\"\n",
    "    )"
   ]
  },
  {
   "cell_type": "code",
   "execution_count": 244,
   "metadata": {},
   "outputs": [
    {
     "data": {
      "text/plain": [
       "(0.3935979170590708, 0.6064020829409291, 0.465598921071544)"
      ]
     },
     "execution_count": 244,
     "metadata": {},
     "output_type": "execute_result"
    }
   ],
   "source": [
    "phi1, phi2, phi3"
   ]
  },
  {
   "cell_type": "code",
   "execution_count": 245,
   "metadata": {},
   "outputs": [
    {
     "name": "stdout",
     "output_type": "stream",
     "text": [
      "Derivative matrix:\n",
      "[[ 1.367031e-03  1.325788e-01 -2.328992e+00]\n",
      " [-1.557476e-01 -2.902123e-01  2.322861e+00]\n",
      " [-1.041516e-01  3.720370e-01  6.870902e-01]]\n"
     ]
    }
   ],
   "source": [
    "import numpy as np\n",
    "\n",
    "# Initialize parameters\n",
    "# ftc.Φ1, ftc.Φ2, ftc.Φ3 = [0.41535310554298277, 0.5846468944570172, 0.36415030940792337]\n",
    "h = 1e-6  # Small step size for finite differences\n",
    "\n",
    "# Compute original eigenvalues\n",
    "evals = ftc.eigenvals() - ftc.eigenvals()[0]\n",
    "\n",
    "# Function to compute the eigenvalues given parameters\n",
    "def compute_evals(ftc):\n",
    "    return ftc.eigenvals() - ftc.eigenvals()[0]\n",
    "\n",
    "# Initialize the derivative matrix\n",
    "derivative_matrix = np.zeros((3, 3))\n",
    "\n",
    "# Compute derivatives w.r.t ftc.Φ1\n",
    "ftc.Φ1 += h\n",
    "evals_Φ1_plus = compute_evals(ftc)\n",
    "ftc.Φ1 -= 2 * h\n",
    "evals_Φ1_minus = compute_evals(ftc)\n",
    "ftc.Φ1 += h  # Reset to original value\n",
    "\n",
    "derivative_matrix[0, 0] = (evals_Φ1_plus[1] - evals_Φ1_minus[1]) / (2 * h)\n",
    "derivative_matrix[1, 0] = (evals_Φ1_plus[2] - evals_Φ1_minus[2]) / (2 * h)\n",
    "derivative_matrix[2, 0] = (evals_Φ1_plus[3] - evals_Φ1_minus[3]) / (2 * h)\n",
    "\n",
    "# Compute derivatives w.r.t ftc.Φ2\n",
    "ftc.Φ2 += h\n",
    "evals_Φ2_plus = compute_evals(ftc)\n",
    "ftc.Φ2 -= 2 * h\n",
    "evals_Φ2_minus = compute_evals(ftc)\n",
    "ftc.Φ2 += h  # Reset to original value\n",
    "\n",
    "derivative_matrix[0, 1] = (evals_Φ2_plus[1] - evals_Φ2_minus[1]) / (2 * h)\n",
    "derivative_matrix[1, 1] = (evals_Φ2_plus[2] - evals_Φ2_minus[2]) / (2 * h)\n",
    "derivative_matrix[2, 1] = (evals_Φ2_plus[3] - evals_Φ2_minus[3]) / (2 * h)\n",
    "\n",
    "# Compute derivatives w.r.t ftc.Φ3\n",
    "ftc.Φ3 += h\n",
    "evals_Φ3_plus = compute_evals(ftc)\n",
    "ftc.Φ3 -= 2 * h\n",
    "evals_Φ3_minus = compute_evals(ftc)\n",
    "ftc.Φ3 += h  # Reset to original value\n",
    "\n",
    "derivative_matrix[0, 2] = (evals_Φ3_plus[1] - evals_Φ3_minus[1]) / (2 * h)\n",
    "derivative_matrix[1, 2] = (evals_Φ3_plus[2] - evals_Φ3_minus[2]) / (2 * h)\n",
    "derivative_matrix[2, 2] = (evals_Φ3_plus[3] - evals_Φ3_minus[3]) / (2 * h)\n",
    "\n",
    "# Print the derivative matrix\n",
    "print(\"Derivative matrix:\")\n",
    "print(derivative_matrix)\n"
   ]
  },
  {
   "cell_type": "code",
   "execution_count": 246,
   "metadata": {},
   "outputs": [],
   "source": [
    "# ftc.Φ1, ftc.Φ2, ftc.Φ3 = [0.4823500501369615,0.5176499498630385,0.2647067359584053]\n",
    "hamiltonian = ftc.hamiltonian().toarray()\n",
    "charge_op3 = ftc.Q3_operator().toarray()\n",
    "charge_op4 = ftc.Q4_operator().toarray()"
   ]
  },
  {
   "cell_type": "code",
   "execution_count": 247,
   "metadata": {},
   "outputs": [],
   "source": [
    "# Extract the diagonal elements of the Hamiltonian and their indices\n",
    "diag_elements = np.diag(hamiltonian)\n",
    "indices = np.argsort(diag_elements)\n",
    "\n",
    "# Sort the Hamiltonian matrix by rearranging rows and columns according to the sorted indices\n",
    "sorted_hamiltonian = hamiltonian[np.ix_(indices, indices)]\n",
    "\n",
    "# Apply the same rearrangement to the coupling matrix\n",
    "charge_op3 = charge_op3[np.ix_(indices, indices)]\n",
    "charge_op4 = charge_op4[np.ix_(indices, indices)]"
   ]
  },
  {
   "cell_type": "code",
   "execution_count": 248,
   "metadata": {},
   "outputs": [
    {
     "data": {
      "text/plain": [
       "array([[0.+1.906025e-17j, 0.-1.655081e-02j, 0.+1.029987e-02j, 0.-2.203786e-02j],\n",
       "       [0.+1.655081e-02j, 0.+7.880583e-18j, 0.-5.382020e-03j, 0.+2.781757e-02j],\n",
       "       [0.-1.029987e-02j, 0.+5.382020e-03j, 0.+1.016080e-17j, 0.-4.054870e-03j],\n",
       "       [0.+2.203786e-02j, 0.-2.781757e-02j, 0.+4.054870e-03j, 0.+5.193159e-18j]])"
      ]
     },
     "execution_count": 248,
     "metadata": {},
     "output_type": "execute_result"
    }
   ],
   "source": [
    "evals,U = np.linalg.eigh(sorted_hamiltonian)\n",
    "Ud = U.transpose().conjugate()\n",
    "(Ud@charge_op3@U)[:4,:4]\n"
   ]
  },
  {
   "cell_type": "code",
   "execution_count": 253,
   "metadata": {},
   "outputs": [
    {
     "data": {
      "text/plain": [
       "array([[0.+3.903300e-19j, 0.+2.911603e-04j, 0.+2.181352e-03j, 0.+1.816826e-04j],\n",
       "       [0.-2.911603e-04j, 0.-3.377014e-19j, 0.+1.213266e-04j, 0.+7.444763e-04j],\n",
       "       [0.-2.181352e-03j, 0.-1.213266e-04j, 0.-2.841690e-18j, 0.+1.340759e-03j],\n",
       "       [0.-1.816826e-04j, 0.-7.444763e-04j, 0.-1.340759e-03j, 0.-1.663361e-18j]])"
      ]
     },
     "execution_count": 253,
     "metadata": {},
     "output_type": "execute_result"
    }
   ],
   "source": [
    "(Ud@charge_op4@U)[:4,:4]"
   ]
  },
  {
   "cell_type": "code",
   "execution_count": 254,
   "metadata": {},
   "outputs": [
    {
     "data": {
      "text/plain": [
       "-0.003020311180510493"
      ]
     },
     "execution_count": 254,
     "metadata": {},
     "output_type": "execute_result"
    }
   ],
   "source": [
    "evals = evals-evals[0]\n",
    "evals[3]-evals[1]-evals[2]"
   ]
  }
 ],
 "metadata": {
  "kernelspec": {
   "display_name": "flux",
   "language": "python",
   "name": "python3"
  },
  "language_info": {
   "codemirror_mode": {
    "name": "ipython",
    "version": 3
   },
   "file_extension": ".py",
   "mimetype": "text/x-python",
   "name": "python",
   "nbconvert_exporter": "python",
   "pygments_lexer": "ipython3",
   "version": "3.12.2"
  }
 },
 "nbformat": 4,
 "nbformat_minor": 2
}
