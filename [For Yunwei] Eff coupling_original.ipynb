{
 "cells": [
  {
   "cell_type": "markdown",
   "metadata": {},
   "source": [
    "Install chencrafts:\n",
    "`pip install chencrafts`"
   ]
  },
  {
   "cell_type": "code",
   "execution_count": 287,
   "metadata": {},
   "outputs": [],
   "source": [
    "import numpy as np\n",
    "import scqubits as scq\n",
    "import matplotlib.pyplot as plt\n",
    "import qutip as qt\n",
    "import chencrafts as cc"
   ]
  },
  {
   "cell_type": "code",
   "execution_count": 506,
   "metadata": {},
   "outputs": [],
   "source": [
    "exp_params = {\n",
    "    'E_Ja': 4.6,\n",
    "    'E_Jb': 5.5,\n",
    "    'E_Ca': 0.9,\n",
    "    'E_Cb': 0.9,\n",
    "    'E_J': 3,\n",
    "    'E_C': 50,\n",
    "    'ECm': 16.686114352392064,\n",
    "    'E_L1': 2,\n",
    "    'E_L2': 2,\n",
    "    # 'E_La': 0.292,\n",
    "    # 'E_Lb': 0.287,\n",
    "    'E_La': 0.21,\n",
    "    'E_Lb': 0.21,\n",
    "\n",
    "    'flux_s': 0.5 - 0.4483319171817633,\n",
    "    'flux_c': 0.31710517597502225,\n",
    "}\n",
    "\n",
    "para = exp_params\n",
    "para[\"flux_a\"] = 0.5 + para[\"flux_s\"]\n",
    "para[\"flux_b\"] = 0.5 - para[\"flux_s\"]"
   ]
  },
  {
   "cell_type": "code",
   "execution_count": 507,
   "metadata": {},
   "outputs": [],
   "source": [
    "sim_params = {\n",
    "    \"qa_cutoff\": 110,\n",
    "    \"qb_cutoff\": 110,\n",
    "    \"p_cutoff\": 110,\n",
    "    \"m_cutoff\": 110,\n",
    "    \"qa_dim\": 5,\n",
    "    \"qb_dim\": 5,\n",
    "    \"p_dim\": 5,\n",
    "    \"m_dim\": 7,\n",
    "}"
   ]
  },
  {
   "cell_type": "code",
   "execution_count": 508,
   "metadata": {},
   "outputs": [
    {
     "data": {
      "text/latex": [
       "$ \\left(400.0 Q_{4}^{2} + 3.6 Q_{1}^{2} + 3.6 Q_{2}^{2} + 57.2 Q_{3}^{2}\\right) - \\left(- 0.5525 θ_{3}^{2} - 0.5525 θ_{4}^{2} - 0.105 θ_{1}^{2} - 0.105 θ_{2}^{2} + E_{J} \\cos{\\left((2πΦ_{3}) - 1.0 θ_{3} \\right)} + E_{Ja} \\cos{\\left((2πΦ_{1}) + θ_{1} \\right)} + E_{Jb} \\cos{\\left((2πΦ_{2}) + θ_{2} \\right)} + 0.105 θ_{1} θ_{3} + 0.105 θ_{1} θ_{4} + 0.105 θ_{2} θ_{4} - 0.105 θ_{2} θ_{3}\\right) $"
      ],
      "text/plain": [
       "<IPython.core.display.Latex object>"
      ]
     },
     "metadata": {},
     "output_type": "display_data"
    }
   ],
   "source": [
    "circ_yaml = f\"\"\"\n",
    "branches:\n",
    "# qubit a\n",
    "- [\"JJ\", 0, 1, E_Ja = {para[\"E_Ja\"]}, E_Ca = {para[\"E_Ca\"]}]\n",
    "- [\"L\", 1, 2, E_La = {para[\"E_La\"]}]\n",
    "\n",
    "# coupler\n",
    "- [\"C\", 0, 2, E_C = {para[\"E_C\"]}]\n",
    "- [\"L\", 0, 2, E_L1 = {para[\"E_L1\"]}]\n",
    "- [\"C\", 0, 3, E_C]\n",
    "- [\"L\", 0, 3, E_L2 = {para[\"E_L2\"]}]\n",
    "- [\"JJ\", 2, 3, E_J = {para[\"E_J\"]}, ECm = {para[\"ECm\"]}]\n",
    "\n",
    "# qubit b\n",
    "- [\"JJ\", 0, 4, E_Jb = {para[\"E_Jb\"]}, E_Cb = {para[\"E_Cb\"]}]\n",
    "- [\"L\", 3, 4, E_Lb = {para[\"E_Lb\"]}]\n",
    "\"\"\"\n",
    "\n",
    "ftc = scq.Circuit(circ_yaml, from_file=False)\n",
    "\n",
    "trans_mat = np.linalg.inv([\n",
    "    [1, 0, 0, 0],\n",
    "    [0, 0, 0, 1],\n",
    "    [0, 1, -1, 0],\n",
    "    [0, 1, 1, 0],\n",
    "])\n",
    "\n",
    "brch = ftc.branches\n",
    "ftc.configure(\n",
    "    transformation_matrix=trans_mat, \n",
    "    system_hierarchy=[[1], [2], [[3], [4]]], \n",
    "    subsystem_trunc_dims=[\n",
    "        sim_params[\"qa_dim\"], \n",
    "        sim_params[\"qb_dim\"],\n",
    "        [sim_params[\"m_dim\"] * 2, [\n",
    "            sim_params[\"m_dim\"], \n",
    "            sim_params[\"p_dim\"]\n",
    "        ]], \n",
    "    ],\n",
    "    closure_branches=[\n",
    "        brch[0], brch[7], brch[6]   # flux in junctions\n",
    "    ],\n",
    "    # closure_branches=[circ.branches[1], circ.branches[4]]   # flux in inductors\n",
    ")\n",
    "ftc.cutoff_ext_1 = sim_params[\"qa_cutoff\"]\n",
    "ftc.cutoff_ext_2 = sim_params[\"qb_cutoff\"]\n",
    "ftc.cutoff_ext_3 = sim_params[\"m_cutoff\"]\n",
    "ftc.cutoff_ext_4 = sim_params[\"p_cutoff\"]\n",
    "\n",
    "ftc.Φ1 = para[\"flux_a\"]\n",
    "ftc.Φ2 = para[\"flux_b\"]\n",
    "ftc.Φ3 = -para[\"flux_c\"]\n",
    "\n",
    "ftc.sym_hamiltonian()"
   ]
  },
  {
   "cell_type": "code",
   "execution_count": 509,
   "metadata": {},
   "outputs": [],
   "source": [
    "Ecp = 100\n",
    "C = 2*cc.tb.C_by_EC(Ecp)\n",
    "Ec = cc.tb.EC_by_C(C)\n",
    "Cc = cc.tb.C_by_EC(14.3)-cc.tb.C_by_EC(Ecp)\n",
    "Ecc = cc.tb.EC_by_C(Cc)"
   ]
  },
  {
   "cell_type": "code",
   "execution_count": 510,
   "metadata": {},
   "outputs": [
    {
     "name": "stdout",
     "output_type": "stream",
     "text": [
      "50.0 16.686114352392064\n"
     ]
    }
   ],
   "source": [
    "print(Ec,Ecc)"
   ]
  },
  {
   "cell_type": "code",
   "execution_count": 511,
   "metadata": {},
   "outputs": [
    {
     "data": {
      "text/plain": [
       "2.017732221318659"
      ]
     },
     "execution_count": 511,
     "metadata": {},
     "output_type": "execute_result"
    }
   ],
   "source": [
    "cc.tb.EC_by_C(9.6)"
   ]
  },
  {
   "cell_type": "code",
   "execution_count": 512,
   "metadata": {},
   "outputs": [
    {
     "data": {
      "text/plain": [
       "array([0.      , 0.260634, 0.261994, 0.502685])"
      ]
     },
     "execution_count": 512,
     "metadata": {},
     "output_type": "execute_result"
    }
   ],
   "source": [
    "evals = ftc.eigenvals(4)\n",
    "evals - evals[0]"
   ]
  },
  {
   "cell_type": "markdown",
   "metadata": {},
   "source": [
    "## Sweet spot identification"
   ]
  },
  {
   "cell_type": "code",
   "execution_count": 513,
   "metadata": {},
   "outputs": [],
   "source": [
    "from typing import Tuple\n",
    "\n",
    "def find_sweetspot_by_spectrum(\n",
    "    self,   # the ftc circuit\n",
    "    flux_c = None, \n",
    "    evals_count=4,\n",
    "    ftol = 1e-8,\n",
    "    gtol = 1e-8,\n",
    "    eps = 1e-11,\n",
    "    mode = \"l3\",\n",
    "    flux_s_bounds = [0, 0.1],\n",
    "    flux_sb_bounds = None,      # if not None, flux_a and b are independent\n",
    "    flux_c_bounds = [0.25, 0.3],\n",
    "    run_num = 1,\n",
    "    **kwargs\n",
    ") -> Tuple[float, float, float]:\n",
    "    \n",
    "    def freq_ab(params, evals_count, mode):\n",
    "        try:\n",
    "            self.flux_a = 0.5 + params[\"flux_s\"]\n",
    "            self.flux_c = params[\"flux_c\"]\n",
    "            if flux_sb_bounds is None:\n",
    "                self.flux_b = 0.5 - params[\"flux_s\"]\n",
    "            else:\n",
    "                self.flux_b = 0.5 + params[\"flux_sb\"]\n",
    "        except Exception:\n",
    "            self.Φ1 = 0.5 + params[\"flux_s\"]\n",
    "            if flux_sb_bounds is None:\n",
    "                self.Φ2 = 0.5 - params[\"flux_s\"]\n",
    "            else:\n",
    "                self.Φ2 = 0.5 + params[\"flux_sb\"]\n",
    "            self.Φ3 = params[\"flux_c\"]\n",
    "\n",
    "        eigs = self.eigenvals(evals_count)\n",
    "        if mode == \"l3\":\n",
    "            return eigs[3] - eigs[0]\n",
    "        elif mode == \"l1+l2\":\n",
    "            return eigs[1] + eigs[2] - 2 * eigs[0]\n",
    "        elif mode == \"l2-l1\":\n",
    "            return np.abs(eigs[2] - eigs[1])\n",
    "        elif mode == \"zz\":\n",
    "            abszz = np.abs(eigs[3] - eigs[2] - eigs[1] + eigs[0])\n",
    "            return abszz\n",
    "        elif mode == \"l1+l2+zz\":\n",
    "            abszz = np.abs(eigs[3] - eigs[2] - eigs[1] + eigs[0])\n",
    "            return eigs[1] + eigs[2] - 2 * eigs[0] + abszz\n",
    "        else:\n",
    "            raise ValueError(\"mode not supported\")\n",
    "        \n",
    "    free_params = {\"flux_s\": flux_s_bounds, \"flux_c\": flux_c_bounds}\n",
    "    if flux_sb_bounds is not None:\n",
    "        free_params[\"flux_sb\"] = flux_sb_bounds\n",
    "    \n",
    "    opt = cc.tb.Optimization(\n",
    "        {}, free_params,\n",
    "        freq_ab,\n",
    "        optimizer=\"L-BFGS-B\",\n",
    "        target_kwargs={\"evals_count\": evals_count, \"mode\": mode},\n",
    "        opt_options={\"ftol\": ftol, \"gtol\": gtol, \"disp\": False, \"eps\": eps, \"maxls\": 100}\n",
    "    )\n",
    "\n",
    "    if flux_c is not None:\n",
    "        opt.fix(flux_c=flux_c)\n",
    "    \n",
    "    multi_opt = cc.tb.MultiOpt(opt)\n",
    "    multi_traj = multi_opt.run(run_num)\n",
    "    traj = multi_traj.best_traj()\n",
    "\n",
    "    try:\n",
    "        self.flux_a = 0.5 + traj.final_full_para[\"flux_s\"]\n",
    "        self.flux_c = traj.final_full_para[\"flux_c\"]\n",
    "        if flux_sb_bounds is None:\n",
    "            self.flux_b = 0.5 - traj.final_full_para[\"flux_s\"]\n",
    "        else:\n",
    "            self.flux_b = 0.5 + traj.final_full_para[\"flux_sb\"]\n",
    "        \n",
    "        return self.flux_a, self.flux_b, self.flux_c\n",
    "    except Exception:\n",
    "        self.Φ1 = 0.5 + traj.final_full_para[\"flux_s\"]\n",
    "        if flux_sb_bounds is None:\n",
    "            self.Φ2 = 0.5 - traj.final_full_para[\"flux_s\"]\n",
    "        else:\n",
    "            self.Φ2 = 0.5 + traj.final_full_para[\"flux_sb\"]\n",
    "        self.Φ3 = traj.final_full_para[\"flux_c\"]\n",
    "        \n",
    "        return self.Φ1, self.Φ2, self.Φ3\n"
   ]
  },
  {
   "cell_type": "code",
   "execution_count": 514,
   "metadata": {},
   "outputs": [
    {
     "data": {
      "image/png": "[encoded data removed]",
      "text/plain": [
       "<Figure size 1000x600 with 1 Axes>"
      ]
     },
     "metadata": {},
     "output_type": "display_data"
    }
   ],
   "source": [
    "flux_c_values = np.linspace(0, 0.5, 20)  # Create 100 points between 0 and 0.5\n",
    "evals_array = []\n",
    "\n",
    "for flux_c in flux_c_values:\n",
    "    phi1, phi2, phi3 = find_sweetspot_by_spectrum(\n",
    "        ftc, \n",
    "        flux_c=flux_c,\n",
    "        flux_s_bounds=[-0.1, 0.1],\n",
    "        run_num=1,\n",
    "    )\n",
    "    evals = ftc.eigenvals(4)\n",
    "    evals_relative = evals - evals[0]\n",
    "    evals_array.append(evals_relative)\n",
    "\n",
    "evals_array = np.array(evals_array)\n",
    "\n",
    "# Plotting\n",
    "plt.figure(figsize=(10, 6))\n",
    "for i in range(4):\n",
    "    plt.plot(flux_c_values, evals_array[:, i], label=f'Eigenvalue {i+1}')\n",
    "\n",
    "plt.xlabel('flux_c')\n",
    "plt.ylabel('Relative Eigenvalues')\n",
    "plt.title('Eigenvalues vs flux_c')\n",
    "plt.legend()\n",
    "plt.grid(True)\n",
    "plt.show()"
   ]
  },
  {
   "cell_type": "code",
   "execution_count": 520,
   "metadata": {},
   "outputs": [
    {
     "name": "stdout",
     "output_type": "stream",
     "text": [
      "0.4999969295826865 0.5000030704173135 0.0\n"
     ]
    },
    {
     "data": {
      "text/plain": [
       "array([0.      , 0.029809, 0.070236, 0.100045])"
      ]
     },
     "execution_count": 520,
     "metadata": {},
     "output_type": "execute_result"
    }
   ],
   "source": [
    "phi1, phi2, phi3 = find_sweetspot_by_spectrum(\n",
    "    ftc, \n",
    "    flux_c = 0.,\n",
    "    flux_s_bounds = [-0.1, 0.1],\n",
    "    # flux_c_bounds = [0.0, 0.5],\n",
    "    run_num=1,\n",
    ")\n",
    "on = [phi1, phi2, phi3]\n",
    "print(phi1, phi2, phi3)\n",
    "evals = ftc.eigenvals(4)\n",
    "evals - evals[0]\n"
   ]
  },
  {
   "cell_type": "code",
   "execution_count": 521,
   "metadata": {},
   "outputs": [],
   "source": [
    "# phi1, phi2, phi3 = find_sweetspot_by_spectrum(\n",
    "#     ftc, \n",
    "#     # flux_c = 0.4,\n",
    "#     flux_s_bounds = [-0.1, 0.1],\n",
    "#     flux_c_bounds = [0.0, 0.5],\n",
    "#     run_num=1,\n",
    "# )\n",
    "# print(phi1, phi2, phi3)\n",
    "# off = [phi1, phi2, phi3]\n",
    "# evals = ftc.eigenvals(4)\n",
    "# evals - evals[0]\n",
    "ftc.Φ1,ftc.Φ2,ftc.Φ3 = 0.4823993253847567,0.5176006746152433,0.27578709780859395"
   ]
  },
  {
   "cell_type": "markdown",
   "metadata": {},
   "source": [
    "## Drive & eff coupling"
   ]
  },
  {
   "cell_type": "code",
   "execution_count": 522,
   "metadata": {},
   "outputs": [],
   "source": [
    "hspace = ftc.hilbert_space\n",
    "dims = hspace.subsystem_dims\n",
    "hamiltonian = qt.Qobj(ftc.hamiltonian(), dims=[dims, dims])\n",
    "\n",
    "theta1_op = qt.Qobj(ftc.θ1_operator(), dims=[dims, dims])\n",
    "theta2_op = qt.Qobj(ftc.θ2_operator(), dims=[dims, dims])\n",
    "theta3_op = qt.Qobj(ftc.θ3_operator(), dims=[dims, dims])\n",
    "theta4_op = qt.Qobj(ftc.θ4_operator(), dims=[dims, dims])\n",
    "drive_c = (\n",
    "    (ftc.E_La + ftc.E_Lb) / 2 * (theta1_op - theta2_op) / 2\n",
    "    - (ftc.E_L1 + ftc.E_L2 + ftc.E_La + ftc.E_Lb) / 4 * theta3_op\n",
    ")\n",
    "drive_a = (ftc.E_La + ftc.E_Lb)/2 / 2* (-2*theta1_op+theta3_op+theta4_op)\n",
    "drive_b = (ftc.E_La + ftc.E_Lb)/2 / 2* (-2*theta2_op-theta3_op+theta4_op)\n",
    "\n",
    "# Q2_op = qt.Qobj(ftc.Q2_operator(), dims=[dims, dims])\n",
    "# drive_op = Q2_op"
   ]
  },
  {
   "cell_type": "code",
   "execution_count": 523,
   "metadata": {},
   "outputs": [
    {
     "data": {
      "text/plain": [
       "array([0.000000e+00, 2.981679e-02, 7.024647e-02, 1.000632e-01, 4.401862e+00, 4.437609e+00, 5.026176e+00, 5.084651e+00,\n",
       "       5.174315e+00, 5.210073e+00, 5.610975e+00, 5.669449e+00, 7.204187e+00, 7.209571e+00, 7.296277e+00, 7.311743e+00,\n",
       "       9.425658e+00, 1.000887e+01, 1.019863e+01, 1.078183e+01, 1.162655e+01, 1.225694e+01, 1.231114e+01, 1.232190e+01,\n",
       "       1.240305e+01, 1.249200e+01, 1.250273e+01, 1.284542e+01, 1.455716e+01, 1.675602e+01, 1.678979e+01, 1.737508e+01,\n",
       "       1.743049e+01, 1.752462e+01, 1.755991e+01, 1.796775e+01, 1.802208e+01, 1.904636e+01, 1.916835e+01, 1.947677e+01,\n",
       "       1.954789e+01, 2.178285e+01, 2.196910e+01, 2.198104e+01, 2.214210e+01, 2.215588e+01, 2.233634e+01, 2.256310e+01,\n",
       "       2.311545e+01, 2.358734e+01, 2.431527e+01, 2.442630e+01, 2.498053e+01, 2.581272e+01, 2.639372e+01, 2.642849e+01,\n",
       "       2.701223e+01, 2.706957e+01, 2.716455e+01, 2.719984e+01, 2.759740e+01, 2.765418e+01, 2.922291e+01, 2.927755e+01,\n",
       "       2.958013e+01, 2.967424e+01, 2.974143e+01, 2.977372e+01, 2.980637e+01, 2.983866e+01, 3.140308e+01, 3.195060e+01,\n",
       "       3.218478e+01, 3.273222e+01, 3.352707e+01, 3.354983e+01, 3.360855e+01, 3.372022e+01, 3.379879e+01, 3.414080e+01,\n",
       "       3.417657e+01, 3.435083e+01, 3.463529e+01, 3.476489e+01, 3.482345e+01, 3.491095e+01, 3.494672e+01, 3.500620e+01,\n",
       "       3.534679e+01, 3.540535e+01, 3.697663e+01, 3.698307e+01, 3.703296e+01, 3.705508e+01, 3.719677e+01, 3.792395e+01,\n",
       "       3.798834e+01, 3.854947e+01, 3.862674e+01, 3.868361e+01, 3.875829e+01, 3.912013e+01, 3.916309e+01, 3.921019e+01,\n",
       "       3.974422e+01, 3.993347e+01, 4.051459e+01, 4.073469e+01, 4.075407e+01, 4.089389e+01, 4.094649e+01, 4.138632e+01,\n",
       "       4.200779e+01, 4.205508e+01, 4.209904e+01, 4.215771e+01, 4.236303e+01, 4.237006e+01, 4.259087e+01, 4.294830e+01,\n",
       "       4.351029e+01, 4.371679e+01, 4.427977e+01, 4.428876e+01, 4.520155e+01, 4.573090e+01, 4.579850e+01, 4.597605e+01,\n",
       "       4.615246e+01, 4.615705e+01, 4.638180e+01, 4.654491e+01, 4.659100e+01, 4.684473e+01, 4.716260e+01, 4.722576e+01,\n",
       "       4.734294e+01, 4.738379e+01, 4.779305e+01, 4.784703e+01, 4.832134e+01, 4.880004e+01, 4.891780e+01, 4.946650e+01,\n",
       "       4.952082e+01, 5.025197e+01, 5.074500e+01, 5.087089e+01, 5.109318e+01, 5.134392e+01, 5.155727e+01, 5.157827e+01,\n",
       "       5.171683e+01, 5.188860e+01, 5.204874e+01, 5.205410e+01, 5.210533e+01, 5.218983e+01, 5.227471e+01, 5.239704e+01,\n",
       "       5.270236e+01, 5.274915e+01, 5.292231e+01, 5.309208e+01, 5.313921e+01, 5.339536e+01, 5.410794e+01, 5.434772e+01,\n",
       "       5.489890e+01, 5.540804e+01, 5.555067e+01, 5.612418e+01, 5.627920e+01, 5.631168e+01, 5.648836e+01, 5.694021e+01,\n",
       "       5.707429e+01, 5.708820e+01, 5.712087e+01, 5.721493e+01, 5.727854e+01, 5.752564e+01, 5.771929e+01, 5.788046e+01,\n",
       "       5.799235e+01, 5.804021e+01, 5.854699e+01, 5.951000e+01, 5.961767e+01, 5.967850e+01, 5.973099e+01, 5.983834e+01,\n",
       "       5.985374e+01, 5.988302e+01, 6.009187e+01, 6.014918e+01, 6.026263e+01, 6.027371e+01, 6.136683e+01, 6.195493e+01,\n",
       "       6.214752e+01, 6.248676e+01, 6.273841e+01, 6.274362e+01, 6.330060e+01, 6.369436e+01, 6.419259e+01, 6.425164e+01,\n",
       "       6.431134e+01, 6.432399e+01, 6.451974e+01, 6.462363e+01, 6.468667e+01, 6.471019e+01, 6.478168e+01, 6.478985e+01,\n",
       "       6.480990e+01, 6.509761e+01, 6.514673e+01, 6.514905e+01, 6.516608e+01, 6.521445e+01, 6.526679e+01, 6.531869e+01,\n",
       "       6.560054e+01, 6.562823e+01, 6.576328e+01, 6.581513e+01, 6.595831e+01, 6.695744e+01, 6.709462e+01, 6.725879e+01,\n",
       "       6.729493e+01, 6.773030e+01, 6.805779e+01, 6.834710e+01, 6.839388e+01, 6.876362e+01, 6.892785e+01, 6.900369e+01,\n",
       "       6.932057e+01, 6.945398e+01, 6.957288e+01, 6.960392e+01, 6.990748e+01, 6.995237e+01, 7.000101e+01, 7.008007e+01,\n",
       "       7.009141e+01, 7.027041e+01, 7.035134e+01, 7.074656e+01, 7.080172e+01, 7.092858e+01, 7.095989e+01, 7.106294e+01,\n",
       "       7.110118e+01, 7.125137e+01, 7.201093e+01, 7.202798e+01, 7.216567e+01, 7.236438e+01, 7.250347e+01, 7.266265e+01,\n",
       "       7.326275e+01, 7.349825e+01, 7.358197e+01, 7.368899e+01, 7.411587e+01, 7.475419e+01, 7.482521e+01, 7.571859e+01,\n",
       "       7.582476e+01, 7.586335e+01, 7.604833e+01, 7.616312e+01, 7.663537e+01, 7.693796e+01, 7.696103e+01, 7.732415e+01,\n",
       "       7.735540e+01, 7.744084e+01, 7.784305e+01, 7.804590e+01, 7.807778e+01, 7.809686e+01, 7.826668e+01, 7.862581e+01,\n",
       "       7.868744e+01, 7.941600e+01, 7.948476e+01, 8.050669e+01, 8.060938e+01, 8.063032e+01, 8.110967e+01, 8.114890e+01,\n",
       "       8.116056e+01, 8.149387e+01, 8.213709e+01, 8.228658e+01, 8.234548e+01, 8.243198e+01, 8.245365e+01, 8.247448e+01,\n",
       "       8.249198e+01, 8.260143e+01, 8.273049e+01, 8.274713e+01, 8.293457e+01, 8.304710e+01, 8.310467e+01, 8.343818e+01,\n",
       "       8.347663e+01, 8.365989e+01, 8.370274e+01, 8.419736e+01, 8.422840e+01, 8.425345e+01, 8.486600e+01, 8.527874e+01,\n",
       "       8.536545e+01, 8.587642e+01, 8.593833e+01, 8.621653e+01, 8.640724e+01, 8.718828e+01, 8.720693e+01, 8.722588e+01,\n",
       "       8.722924e+01, 8.749155e+01, 8.759451e+01, 8.774556e+01, 8.781033e+01, 8.787101e+01, 8.796087e+01, 8.799287e+01,\n",
       "       8.800378e+01, 8.822968e+01, 8.856257e+01, 8.898204e+01, 8.951261e+01, 8.975897e+01, 9.099062e+01, 9.146562e+01,\n",
       "       9.198415e+01, 9.246983e+01, 9.271128e+01, 9.279899e+01, 9.320497e+01, 9.623927e+01])"
      ]
     },
     "execution_count": 523,
     "metadata": {},
     "output_type": "execute_result"
    }
   ],
   "source": [
    "\n",
    "flux_shiftc = -(on[2]-off[2])\n",
    "flux_shift_a = on[0]-off[0]\n",
    "flux_shift_b = on[1] - off[1]\n",
    "hamiltonian1 = hamiltonian + (flux_shift_a*drive_a + flux_shift_b*drive_b + flux_shiftc*drive_c)*2*np.pi\n",
    "evals, evecs = hamiltonian1.eigenstates(hspace.dimension, tol=1e-10)\n",
    "evals-evals[0]"
   ]
  },
  {
   "cell_type": "code",
   "execution_count": 524,
   "metadata": {},
   "outputs": [
    {
     "name": "stderr",
     "output_type": "stream",
     "text": [
      "UserWarning: Cannot confirm that the unperturbed Hamiltonian is diagonal, which is required if ``solve_sylvester`` is not provided. The algorithm will assume that it is diagonal.\n",
      " /Users/apple/miniconda3/envs/flux/lib/python3.12/site-packages/pymablock/block_diagonalization.py: 1091"
     ]
    }
   ],
   "source": [
    "\n",
    "evals, evecs = hamiltonian.eigenstates(hspace.dimension, tol=1e-10)\n",
    "\n",
    "subspace_state_idx = [0, 1, 2, 3]\n",
    "subspace1_evecs = [evecs[idx] for idx in subspace_state_idx]\n",
    "subspace2_evecs = [evec for idx, evec in enumerate(evecs) if idx not in subspace_state_idx]\n",
    "\n",
    "H_sw, _, _ = cc.cqed.block_diagonalize_pymablock(\n",
    "    [hamiltonian, (flux_shift_a*drive_a + flux_shift_b*drive_b + flux_shiftc*drive_c)*2*np.pi],     \n",
    "    # flux drive amp\n",
    "    subspace_eigenvectors=[subspace1_evecs, subspace2_evecs],\n",
    "    atol=1e-10,\n",
    ")\n"
   ]
  },
  {
   "cell_type": "code",
   "execution_count": 525,
   "metadata": {},
   "outputs": [],
   "source": [
    "H_eff = 0\n",
    "for i in range(100):\n",
    "    if np.linalg.norm(H_sw[0,0,i])<1e-8:\n",
    "        break\n",
    "    H_eff += H_sw[0,0,i]\n",
    "    "
   ]
  },
  {
   "cell_type": "code",
   "execution_count": 527,
   "metadata": {},
   "outputs": [
    {
     "data": {
      "text/plain": [
       "0.017680117760159743"
      ]
     },
     "execution_count": 527,
     "metadata": {},
     "output_type": "execute_result"
    }
   ],
   "source": [
    "np.abs(H_eff[1,2])"
   ]
  },
  {
   "cell_type": "code",
   "execution_count": 528,
   "metadata": {},
   "outputs": [
    {
     "name": "stdout",
     "output_type": "stream",
     "text": [
      "0.48491588041516187 0.5150841195848381 0.35\n"
     ]
    },
    {
     "ename": "KeyboardInterrupt",
     "evalue": "",
     "output_type": "error",
     "traceback": [
      "\u001b[0;31m---------------------------------------------------------------------------\u001b[0m",
      "\u001b[0;31mKeyboardInterrupt\u001b[0m                         Traceback (most recent call last)",
      "Cell \u001b[0;32mIn[528], line 50\u001b[0m\n\u001b[1;32m     48\u001b[0m H_eff \u001b[38;5;241m=\u001b[39m \u001b[38;5;241m0\u001b[39m\n\u001b[1;32m     49\u001b[0m \u001b[38;5;28;01mfor\u001b[39;00m i \u001b[38;5;129;01min\u001b[39;00m \u001b[38;5;28mrange\u001b[39m(\u001b[38;5;241m100\u001b[39m):\n\u001b[0;32m---> 50\u001b[0m     \u001b[38;5;28;01mif\u001b[39;00m np\u001b[38;5;241m.\u001b[39mlinalg\u001b[38;5;241m.\u001b[39mnorm(H_sw[\u001b[38;5;241m0\u001b[39m,\u001b[38;5;241m0\u001b[39m,i])\u001b[38;5;241m<\u001b[39m\u001b[38;5;241m1e-8\u001b[39m:\n\u001b[1;32m     51\u001b[0m         \u001b[38;5;28;01mbreak\u001b[39;00m\n\u001b[1;32m     52\u001b[0m     H_eff \u001b[38;5;241m+\u001b[39m\u001b[38;5;241m=\u001b[39m H_sw[\u001b[38;5;241m0\u001b[39m,\u001b[38;5;241m0\u001b[39m,i]\n",
      "File \u001b[0;32m~/miniconda3/envs/flux/lib/python3.12/site-packages/pymablock/series.py:172\u001b[0m, in \u001b[0;36mBlockSeries.__getitem__\u001b[0;34m(self, item)\u001b[0m\n\u001b[1;32m    170\u001b[0m data[index] \u001b[38;5;241m=\u001b[39m PENDING\n\u001b[1;32m    171\u001b[0m \u001b[38;5;28;01mtry\u001b[39;00m:\n\u001b[0;32m--> 172\u001b[0m     data[index] \u001b[38;5;241m=\u001b[39m \u001b[38;5;28mself\u001b[39m\u001b[38;5;241m.\u001b[39meval(\u001b[38;5;241m*\u001b[39mindex)\n\u001b[1;32m    173\u001b[0m \u001b[38;5;28;01mexcept\u001b[39;00m \u001b[38;5;167;01mRuntimeError\u001b[39;00m \u001b[38;5;28;01mas\u001b[39;00m error:\n\u001b[1;32m    174\u001b[0m     \u001b[38;5;66;03m# Catch recursion errors with an informative message\u001b[39;00m\n\u001b[1;32m    175\u001b[0m     data\u001b[38;5;241m.\u001b[39mpop(index, \u001b[38;5;28;01mNone\u001b[39;00m)\n",
      "File \u001b[0;32m~/miniconda3/envs/flux/lib/python3.12/site-packages/pymablock/block_diagonalization.py:657\u001b[0m, in \u001b[0;36m_block_diagonalize.<locals>.H_tilde_eval\u001b[0;34m(*index)\u001b[0m\n\u001b[1;32m    647\u001b[0m series \u001b[38;5;241m=\u001b[39m linear_operator_or_explicit(index)\n\u001b[1;32m    648\u001b[0m \u001b[38;5;28;01mif\u001b[39;00m index[\u001b[38;5;241m0\u001b[39m] \u001b[38;5;241m==\u001b[39m index[\u001b[38;5;241m1\u001b[39m]:\n\u001b[1;32m    649\u001b[0m     \u001b[38;5;66;03m# Because diagonal part of X is anti-Hermitian and cancels the\u001b[39;00m\n\u001b[1;32m    650\u001b[0m     \u001b[38;5;66;03m# anti-Hermitian part of U'† @ X, we save some computations\u001b[39;00m\n\u001b[1;32m    651\u001b[0m     \u001b[38;5;66;03m# by taking the Hermitian part of U'† @ X and not including X.\u001b[39;00m\n\u001b[1;32m    652\u001b[0m     result \u001b[38;5;241m=\u001b[39m _zero_sum(\n\u001b[1;32m    653\u001b[0m         series[\u001b[38;5;124m\"\u001b[39m\u001b[38;5;124mH\u001b[39m\u001b[38;5;124m'\u001b[39m\u001b[38;5;124m_diag\u001b[39m\u001b[38;5;124m\"\u001b[39m][index],\n\u001b[1;32m    654\u001b[0m         series[\u001b[38;5;124m\"\u001b[39m\u001b[38;5;124mH\u001b[39m\u001b[38;5;124m'\u001b[39m\u001b[38;5;124m_diag @ U\u001b[39m\u001b[38;5;124m'\u001b[39m\u001b[38;5;124m\"\u001b[39m][index] \u001b[38;5;241m+\u001b[39m Dagger(series[\u001b[38;5;124m\"\u001b[39m\u001b[38;5;124mH\u001b[39m\u001b[38;5;124m'\u001b[39m\u001b[38;5;124m_diag @ U\u001b[39m\u001b[38;5;124m'\u001b[39m\u001b[38;5;124m\"\u001b[39m][index]),\n\u001b[1;32m    655\u001b[0m         _safe_divide(\n\u001b[1;32m    656\u001b[0m             (\n\u001b[0;32m--> 657\u001b[0m                 series[\u001b[38;5;124m\"\u001b[39m\u001b[38;5;124mH\u001b[39m\u001b[38;5;124m'\u001b[39m\u001b[38;5;124m_offdiag @ U\u001b[39m\u001b[38;5;124m'\u001b[39m\u001b[38;5;124m\"\u001b[39m][index]\n\u001b[1;32m    658\u001b[0m                 \u001b[38;5;241m+\u001b[39m Dagger(series[\u001b[38;5;124m\"\u001b[39m\u001b[38;5;124mH\u001b[39m\u001b[38;5;124m'\u001b[39m\u001b[38;5;124m_offdiag @ U\u001b[39m\u001b[38;5;124m'\u001b[39m\u001b[38;5;124m\"\u001b[39m][index])\n\u001b[1;32m    659\u001b[0m             ),\n\u001b[1;32m    660\u001b[0m             \u001b[38;5;241m2\u001b[39m,\n\u001b[1;32m    661\u001b[0m         ),\n\u001b[1;32m    662\u001b[0m         series[\u001b[38;5;124m\"\u001b[39m\u001b[38;5;124mU\u001b[39m\u001b[38;5;124m'\u001b[39m\u001b[38;5;124m† @ H\u001b[39m\u001b[38;5;124m'\u001b[39m\u001b[38;5;124m @ U\u001b[39m\u001b[38;5;124m'\u001b[39m\u001b[38;5;124m\"\u001b[39m][index],\n\u001b[1;32m    663\u001b[0m         _safe_divide(\n\u001b[1;32m    664\u001b[0m             series[\u001b[38;5;124m\"\u001b[39m\u001b[38;5;124mU\u001b[39m\u001b[38;5;124m'\u001b[39m\u001b[38;5;124m† @ (X - H\u001b[39m\u001b[38;5;124m'\u001b[39m\u001b[38;5;124m_offdiag)\u001b[39m\u001b[38;5;124m\"\u001b[39m][index]\n\u001b[1;32m    665\u001b[0m             \u001b[38;5;241m+\u001b[39m Dagger(series[\u001b[38;5;124m\"\u001b[39m\u001b[38;5;124mU\u001b[39m\u001b[38;5;124m'\u001b[39m\u001b[38;5;124m† @ (X - H\u001b[39m\u001b[38;5;124m'\u001b[39m\u001b[38;5;124m_offdiag)\u001b[39m\u001b[38;5;124m\"\u001b[39m][index]),\n\u001b[1;32m    666\u001b[0m             \u001b[38;5;241m-\u001b[39m\u001b[38;5;241m2\u001b[39m,\n\u001b[1;32m    667\u001b[0m         ),\n\u001b[1;32m    668\u001b[0m     )\n\u001b[1;32m    669\u001b[0m     del_(\u001b[38;5;124m\"\u001b[39m\u001b[38;5;124mU\u001b[39m\u001b[38;5;124m'\u001b[39m\u001b[38;5;124m† @ H\u001b[39m\u001b[38;5;124m'\u001b[39m\u001b[38;5;124m @ U\u001b[39m\u001b[38;5;124m'\u001b[39m\u001b[38;5;124m\"\u001b[39m, index)\n\u001b[1;32m    670\u001b[0m     \u001b[38;5;28;01mreturn\u001b[39;00m result\n",
      "File \u001b[0;32m~/miniconda3/envs/flux/lib/python3.12/site-packages/pymablock/series.py:172\u001b[0m, in \u001b[0;36mBlockSeries.__getitem__\u001b[0;34m(self, item)\u001b[0m\n\u001b[1;32m    170\u001b[0m data[index] \u001b[38;5;241m=\u001b[39m PENDING\n\u001b[1;32m    171\u001b[0m \u001b[38;5;28;01mtry\u001b[39;00m:\n\u001b[0;32m--> 172\u001b[0m     data[index] \u001b[38;5;241m=\u001b[39m \u001b[38;5;28mself\u001b[39m\u001b[38;5;241m.\u001b[39meval(\u001b[38;5;241m*\u001b[39mindex)\n\u001b[1;32m    173\u001b[0m \u001b[38;5;28;01mexcept\u001b[39;00m \u001b[38;5;167;01mRuntimeError\u001b[39;00m \u001b[38;5;28;01mas\u001b[39;00m error:\n\u001b[1;32m    174\u001b[0m     \u001b[38;5;66;03m# Catch recursion errors with an informative message\u001b[39;00m\n\u001b[1;32m    175\u001b[0m     data\u001b[38;5;241m.\u001b[39mpop(index, \u001b[38;5;28;01mNone\u001b[39;00m)\n",
      "File \u001b[0;32m~/miniconda3/envs/flux/lib/python3.12/site-packages/pymablock/series.py:337\u001b[0m, in \u001b[0;36mcauchy_dot_product.<locals>.eval\u001b[0;34m(*index)\u001b[0m\n\u001b[1;32m    335\u001b[0m \u001b[38;5;28;01mif\u001b[39;00m index[\u001b[38;5;241m0\u001b[39m] \u001b[38;5;241m>\u001b[39m index[\u001b[38;5;241m1\u001b[39m] \u001b[38;5;129;01mand\u001b[39;00m hermitian:\n\u001b[1;32m    336\u001b[0m     \u001b[38;5;28;01mreturn\u001b[39;00m Dagger(product[(index[\u001b[38;5;241m1\u001b[39m], index[\u001b[38;5;241m0\u001b[39m], \u001b[38;5;241m*\u001b[39mindex[\u001b[38;5;241m2\u001b[39m:])])\n\u001b[0;32m--> 337\u001b[0m \u001b[38;5;28;01mreturn\u001b[39;00m product_by_order(\n\u001b[1;32m    338\u001b[0m     index,\n\u001b[1;32m    339\u001b[0m     first,\n\u001b[1;32m    340\u001b[0m     second,\n\u001b[1;32m    341\u001b[0m     operator\u001b[38;5;241m=\u001b[39moperator,\n\u001b[1;32m    342\u001b[0m     hermitian\u001b[38;5;241m=\u001b[39mhermitian,\n\u001b[1;32m    343\u001b[0m )\n",
      "File \u001b[0;32m~/miniconda3/envs/flux/lib/python3.12/site-packages/pymablock/series.py:408\u001b[0m, in \u001b[0;36mproduct_by_order\u001b[0;34m(index, first, second, operator, hermitian)\u001b[0m\n\u001b[1;32m    406\u001b[0m     \u001b[38;5;28;01mif\u001b[39;00m (first_value \u001b[38;5;241m:=\u001b[39m first[first_index]) \u001b[38;5;129;01mis\u001b[39;00m zero:\n\u001b[1;32m    407\u001b[0m         \u001b[38;5;28;01mcontinue\u001b[39;00m\n\u001b[0;32m--> 408\u001b[0m     \u001b[38;5;28;01mif\u001b[39;00m (second_value \u001b[38;5;241m:=\u001b[39m second[second_index]) \u001b[38;5;129;01mis\u001b[39;00m zero:\n\u001b[1;32m    409\u001b[0m         \u001b[38;5;28;01mcontinue\u001b[39;00m\n\u001b[1;32m    410\u001b[0m \u001b[38;5;28;01melse\u001b[39;00m:\n",
      "File \u001b[0;32m~/miniconda3/envs/flux/lib/python3.12/site-packages/pymablock/series.py:172\u001b[0m, in \u001b[0;36mBlockSeries.__getitem__\u001b[0;34m(self, item)\u001b[0m\n\u001b[1;32m    170\u001b[0m data[index] \u001b[38;5;241m=\u001b[39m PENDING\n\u001b[1;32m    171\u001b[0m \u001b[38;5;28;01mtry\u001b[39;00m:\n\u001b[0;32m--> 172\u001b[0m     data[index] \u001b[38;5;241m=\u001b[39m \u001b[38;5;28mself\u001b[39m\u001b[38;5;241m.\u001b[39meval(\u001b[38;5;241m*\u001b[39mindex)\n\u001b[1;32m    173\u001b[0m \u001b[38;5;28;01mexcept\u001b[39;00m \u001b[38;5;167;01mRuntimeError\u001b[39;00m \u001b[38;5;28;01mas\u001b[39;00m error:\n\u001b[1;32m    174\u001b[0m     \u001b[38;5;66;03m# Catch recursion errors with an informative message\u001b[39;00m\n\u001b[1;32m    175\u001b[0m     data\u001b[38;5;241m.\u001b[39mpop(index, \u001b[38;5;28;01mNone\u001b[39;00m)\n",
      "File \u001b[0;32m~/miniconda3/envs/flux/lib/python3.12/site-packages/pymablock/block_diagonalization.py:616\u001b[0m, in \u001b[0;36m_block_diagonalize.<locals>.U_p_eval\u001b[0;34m(*index)\u001b[0m\n\u001b[1;32m    613\u001b[0m     \u001b[38;5;28;01mreturn\u001b[39;00m \u001b[38;5;241m-\u001b[39msolve_sylvester(Y) \u001b[38;5;28;01mif\u001b[39;00m zero \u001b[38;5;241m!=\u001b[39m Y \u001b[38;5;28;01melse\u001b[39;00m zero\n\u001b[1;32m    614\u001b[0m \u001b[38;5;28;01melif\u001b[39;00m index[:\u001b[38;5;241m2\u001b[39m] \u001b[38;5;241m==\u001b[39m (\u001b[38;5;241m1\u001b[39m, \u001b[38;5;241m0\u001b[39m):\n\u001b[1;32m    615\u001b[0m     \u001b[38;5;66;03m# off-diagonal of U is anti-Hermitian\u001b[39;00m\n\u001b[0;32m--> 616\u001b[0m     \u001b[38;5;28;01mreturn\u001b[39;00m \u001b[38;5;241m-\u001b[39mDagger(series[\u001b[38;5;124m\"\u001b[39m\u001b[38;5;124mU\u001b[39m\u001b[38;5;124m'\u001b[39m\u001b[38;5;124m\"\u001b[39m][(\u001b[38;5;241m0\u001b[39m, \u001b[38;5;241m1\u001b[39m) \u001b[38;5;241m+\u001b[39m \u001b[38;5;28mtuple\u001b[39m(index[\u001b[38;5;241m2\u001b[39m:])])\n",
      "File \u001b[0;32m~/miniconda3/envs/flux/lib/python3.12/site-packages/pymablock/series.py:172\u001b[0m, in \u001b[0;36mBlockSeries.__getitem__\u001b[0;34m(self, item)\u001b[0m\n\u001b[1;32m    170\u001b[0m data[index] \u001b[38;5;241m=\u001b[39m PENDING\n\u001b[1;32m    171\u001b[0m \u001b[38;5;28;01mtry\u001b[39;00m:\n\u001b[0;32m--> 172\u001b[0m     data[index] \u001b[38;5;241m=\u001b[39m \u001b[38;5;28mself\u001b[39m\u001b[38;5;241m.\u001b[39meval(\u001b[38;5;241m*\u001b[39mindex)\n\u001b[1;32m    173\u001b[0m \u001b[38;5;28;01mexcept\u001b[39;00m \u001b[38;5;167;01mRuntimeError\u001b[39;00m \u001b[38;5;28;01mas\u001b[39;00m error:\n\u001b[1;32m    174\u001b[0m     \u001b[38;5;66;03m# Catch recursion errors with an informative message\u001b[39;00m\n\u001b[1;32m    175\u001b[0m     data\u001b[38;5;241m.\u001b[39mpop(index, \u001b[38;5;28;01mNone\u001b[39;00m)\n",
      "File \u001b[0;32m~/miniconda3/envs/flux/lib/python3.12/site-packages/pymablock/block_diagonalization.py:611\u001b[0m, in \u001b[0;36m_block_diagonalize.<locals>.U_p_eval\u001b[0;34m(*index)\u001b[0m\n\u001b[1;32m    608\u001b[0m     \u001b[38;5;28;01mreturn\u001b[39;00m result\n\u001b[1;32m    609\u001b[0m \u001b[38;5;28;01melif\u001b[39;00m index[:\u001b[38;5;241m2\u001b[39m] \u001b[38;5;241m==\u001b[39m (\u001b[38;5;241m0\u001b[39m, \u001b[38;5;241m1\u001b[39m):\n\u001b[1;32m    610\u001b[0m     \u001b[38;5;66;03m# off-diagonal block nullifies the off-diagonal part of H_tilde\u001b[39;00m\n\u001b[0;32m--> 611\u001b[0m     Y \u001b[38;5;241m=\u001b[39m series[\u001b[38;5;124m\"\u001b[39m\u001b[38;5;124mX\u001b[39m\u001b[38;5;124m\"\u001b[39m][index]\n\u001b[1;32m    612\u001b[0m     del_(\u001b[38;5;124m\"\u001b[39m\u001b[38;5;124mX\u001b[39m\u001b[38;5;124m\"\u001b[39m, index)\n\u001b[1;32m    613\u001b[0m     \u001b[38;5;28;01mreturn\u001b[39;00m \u001b[38;5;241m-\u001b[39msolve_sylvester(Y) \u001b[38;5;28;01mif\u001b[39;00m zero \u001b[38;5;241m!=\u001b[39m Y \u001b[38;5;28;01melse\u001b[39;00m zero\n",
      "File \u001b[0;32m~/miniconda3/envs/flux/lib/python3.12/site-packages/pymablock/series.py:172\u001b[0m, in \u001b[0;36mBlockSeries.__getitem__\u001b[0;34m(self, item)\u001b[0m\n\u001b[1;32m    170\u001b[0m data[index] \u001b[38;5;241m=\u001b[39m PENDING\n\u001b[1;32m    171\u001b[0m \u001b[38;5;28;01mtry\u001b[39;00m:\n\u001b[0;32m--> 172\u001b[0m     data[index] \u001b[38;5;241m=\u001b[39m \u001b[38;5;28mself\u001b[39m\u001b[38;5;241m.\u001b[39meval(\u001b[38;5;241m*\u001b[39mindex)\n\u001b[1;32m    173\u001b[0m \u001b[38;5;28;01mexcept\u001b[39;00m \u001b[38;5;167;01mRuntimeError\u001b[39;00m \u001b[38;5;28;01mas\u001b[39;00m error:\n\u001b[1;32m    174\u001b[0m     \u001b[38;5;66;03m# Catch recursion errors with an informative message\u001b[39;00m\n\u001b[1;32m    175\u001b[0m     data\u001b[38;5;241m.\u001b[39mpop(index, \u001b[38;5;28;01mNone\u001b[39;00m)\n",
      "File \u001b[0;32m~/miniconda3/envs/flux/lib/python3.12/site-packages/pymablock/block_diagonalization.py:506\u001b[0m, in \u001b[0;36m_block_diagonalize.<locals>.<lambda>\u001b[0;34m(*index)\u001b[0m\n\u001b[1;32m    462\u001b[0m series_kwargs \u001b[38;5;241m=\u001b[39m \u001b[38;5;28mdict\u001b[39m(\n\u001b[1;32m    463\u001b[0m     shape\u001b[38;5;241m=\u001b[39m(\u001b[38;5;241m2\u001b[39m, \u001b[38;5;241m2\u001b[39m),\n\u001b[1;32m    464\u001b[0m     n_infinite\u001b[38;5;241m=\u001b[39mH\u001b[38;5;241m.\u001b[39mn_infinite,\n\u001b[1;32m    465\u001b[0m     dimension_names\u001b[38;5;241m=\u001b[39mH\u001b[38;5;241m.\u001b[39mdimension_names,\n\u001b[1;32m    466\u001b[0m )\n\u001b[1;32m    468\u001b[0m \u001b[38;5;66;03m# The main algorithm closely follows the notation in the notes, and is hard\u001b[39;00m\n\u001b[1;32m    469\u001b[0m \u001b[38;5;66;03m# to understand otherwise. Consult the docs/source/algorithms.md in order to\u001b[39;00m\n\u001b[1;32m    470\u001b[0m \u001b[38;5;66;03m# understand the logic of what is happening.\u001b[39;00m\n\u001b[1;32m    472\u001b[0m series_data \u001b[38;5;241m=\u001b[39m {\n\u001b[1;32m    473\u001b[0m     \u001b[38;5;66;03m# Only perturbative parts of H\u001b[39;00m\n\u001b[1;32m    474\u001b[0m     \u001b[38;5;124m\"\u001b[39m\u001b[38;5;124mH\u001b[39m\u001b[38;5;124m'\u001b[39m\u001b[38;5;124m_diag\u001b[39m\u001b[38;5;124m\"\u001b[39m: {\n\u001b[1;32m    475\u001b[0m         \u001b[38;5;124m\"\u001b[39m\u001b[38;5;124meval\u001b[39m\u001b[38;5;124m\"\u001b[39m: (\u001b[38;5;28;01mlambda\u001b[39;00m \u001b[38;5;241m*\u001b[39mindex: H[index] \u001b[38;5;28;01mif\u001b[39;00m index[\u001b[38;5;241m0\u001b[39m] \u001b[38;5;241m==\u001b[39m index[\u001b[38;5;241m1\u001b[39m] \u001b[38;5;28;01melse\u001b[39;00m zero),\n\u001b[1;32m    476\u001b[0m         \u001b[38;5;124m\"\u001b[39m\u001b[38;5;124mdata\u001b[39m\u001b[38;5;124m\"\u001b[39m: zero_data,\n\u001b[1;32m    477\u001b[0m     },\n\u001b[1;32m    478\u001b[0m     \u001b[38;5;124m\"\u001b[39m\u001b[38;5;124mH\u001b[39m\u001b[38;5;124m'\u001b[39m\u001b[38;5;124m_offdiag\u001b[39m\u001b[38;5;124m\"\u001b[39m: {\n\u001b[1;32m    479\u001b[0m         \u001b[38;5;124m\"\u001b[39m\u001b[38;5;124meval\u001b[39m\u001b[38;5;124m\"\u001b[39m: (\u001b[38;5;28;01mlambda\u001b[39;00m \u001b[38;5;241m*\u001b[39mindex: H[index] \u001b[38;5;28;01mif\u001b[39;00m index[\u001b[38;5;241m0\u001b[39m] \u001b[38;5;241m!=\u001b[39m index[\u001b[38;5;241m1\u001b[39m] \u001b[38;5;28;01melse\u001b[39;00m zero),\n\u001b[1;32m    480\u001b[0m         \u001b[38;5;124m\"\u001b[39m\u001b[38;5;124mdata\u001b[39m\u001b[38;5;124m\"\u001b[39m: zero_data,\n\u001b[1;32m    481\u001b[0m     },\n\u001b[1;32m    482\u001b[0m     \u001b[38;5;66;03m# Only perturbative parts of the unitary transformation\u001b[39;00m\n\u001b[1;32m    483\u001b[0m     \u001b[38;5;124m\"\u001b[39m\u001b[38;5;124mU\u001b[39m\u001b[38;5;124m'\u001b[39m\u001b[38;5;124m\"\u001b[39m: {\u001b[38;5;124m\"\u001b[39m\u001b[38;5;124mdata\u001b[39m\u001b[38;5;124m\"\u001b[39m: zero_data},\n\u001b[1;32m    484\u001b[0m     \u001b[38;5;66;03m# Full unitary transformation\u001b[39;00m\n\u001b[1;32m    485\u001b[0m     \u001b[38;5;124m\"\u001b[39m\u001b[38;5;124mU\u001b[39m\u001b[38;5;124m\"\u001b[39m: {\u001b[38;5;124m\"\u001b[39m\u001b[38;5;124meval\u001b[39m\u001b[38;5;124m\"\u001b[39m: (\u001b[38;5;28;01mlambda\u001b[39;00m \u001b[38;5;241m*\u001b[39mindex: series[\u001b[38;5;124m\"\u001b[39m\u001b[38;5;124mU\u001b[39m\u001b[38;5;124m'\u001b[39m\u001b[38;5;124m\"\u001b[39m][index]), \u001b[38;5;124m\"\u001b[39m\u001b[38;5;124mdata\u001b[39m\u001b[38;5;124m\"\u001b[39m: identity_data},\n\u001b[1;32m    486\u001b[0m     \u001b[38;5;66;03m# Diagonal parts of U' are Hermitian, off-diagonal parts are anti-Hermitian\u001b[39;00m\n\u001b[1;32m    487\u001b[0m     \u001b[38;5;124m\"\u001b[39m\u001b[38;5;124mU\u001b[39m\u001b[38;5;124m'\u001b[39m\u001b[38;5;124m†\u001b[39m\u001b[38;5;124m\"\u001b[39m: {\n\u001b[1;32m    488\u001b[0m         \u001b[38;5;124m\"\u001b[39m\u001b[38;5;124meval\u001b[39m\u001b[38;5;124m\"\u001b[39m: (\n\u001b[1;32m    489\u001b[0m             \u001b[38;5;28;01mlambda\u001b[39;00m \u001b[38;5;241m*\u001b[39mindex: (\n\u001b[1;32m    490\u001b[0m                 series[\u001b[38;5;124m\"\u001b[39m\u001b[38;5;124mU\u001b[39m\u001b[38;5;124m'\u001b[39m\u001b[38;5;124m\"\u001b[39m][index]\n\u001b[1;32m    491\u001b[0m                 \u001b[38;5;28;01mif\u001b[39;00m index[\u001b[38;5;241m0\u001b[39m] \u001b[38;5;241m==\u001b[39m index[\u001b[38;5;241m1\u001b[39m]\n\u001b[1;32m    492\u001b[0m                 \u001b[38;5;28;01melse\u001b[39;00m \u001b[38;5;241m-\u001b[39mseries[\u001b[38;5;124m\"\u001b[39m\u001b[38;5;124mU\u001b[39m\u001b[38;5;124m'\u001b[39m\u001b[38;5;124m\"\u001b[39m][index]\n\u001b[1;32m    493\u001b[0m             )\n\u001b[1;32m    494\u001b[0m         )\n\u001b[1;32m    495\u001b[0m     },\n\u001b[1;32m    496\u001b[0m     \u001b[38;5;124m\"\u001b[39m\u001b[38;5;124mU†\u001b[39m\u001b[38;5;124m\"\u001b[39m: {\n\u001b[1;32m    497\u001b[0m         \u001b[38;5;124m\"\u001b[39m\u001b[38;5;124meval\u001b[39m\u001b[38;5;124m\"\u001b[39m: (\u001b[38;5;28;01mlambda\u001b[39;00m \u001b[38;5;241m*\u001b[39mindex: series[\u001b[38;5;124m\"\u001b[39m\u001b[38;5;124mU\u001b[39m\u001b[38;5;124m'\u001b[39m\u001b[38;5;124m†\u001b[39m\u001b[38;5;124m\"\u001b[39m][index]),\n\u001b[1;32m    498\u001b[0m         \u001b[38;5;124m\"\u001b[39m\u001b[38;5;124mdata\u001b[39m\u001b[38;5;124m\"\u001b[39m: identity_data,\n\u001b[1;32m    499\u001b[0m     },\n\u001b[1;32m    500\u001b[0m     \u001b[38;5;66;03m# X = [U', H_0], computed using a recurrent relation. Diagonal parts are\u001b[39;00m\n\u001b[1;32m    501\u001b[0m     \u001b[38;5;66;03m# anti-Hermitian, off-diagonal parts are Hermitian.\u001b[39;00m\n\u001b[1;32m    502\u001b[0m     \u001b[38;5;124m\"\u001b[39m\u001b[38;5;124m(X - H\u001b[39m\u001b[38;5;124m'\u001b[39m\u001b[38;5;124m_offdiag)\u001b[39m\u001b[38;5;124m\"\u001b[39m: {\u001b[38;5;124m\"\u001b[39m\u001b[38;5;124mdata\u001b[39m\u001b[38;5;124m\"\u001b[39m: zero_data},\n\u001b[1;32m    503\u001b[0m     \u001b[38;5;124m\"\u001b[39m\u001b[38;5;124mX\u001b[39m\u001b[38;5;124m\"\u001b[39m: {\n\u001b[1;32m    504\u001b[0m         \u001b[38;5;124m\"\u001b[39m\u001b[38;5;124meval\u001b[39m\u001b[38;5;124m\"\u001b[39m: (\n\u001b[1;32m    505\u001b[0m             \u001b[38;5;28;01mlambda\u001b[39;00m \u001b[38;5;241m*\u001b[39mindex: _zero_sum(\n\u001b[0;32m--> 506\u001b[0m                 series[\u001b[38;5;124m\"\u001b[39m\u001b[38;5;124m(X - H\u001b[39m\u001b[38;5;124m'\u001b[39m\u001b[38;5;124m_offdiag)\u001b[39m\u001b[38;5;124m\"\u001b[39m][index], series[\u001b[38;5;124m\"\u001b[39m\u001b[38;5;124mH\u001b[39m\u001b[38;5;124m'\u001b[39m\u001b[38;5;124m_offdiag\u001b[39m\u001b[38;5;124m\"\u001b[39m][index]\n\u001b[1;32m    507\u001b[0m             )\n\u001b[1;32m    508\u001b[0m         ),\n\u001b[1;32m    509\u001b[0m         \u001b[38;5;124m\"\u001b[39m\u001b[38;5;124mdata\u001b[39m\u001b[38;5;124m\"\u001b[39m: zero_data,\n\u001b[1;32m    510\u001b[0m     },\n\u001b[1;32m    511\u001b[0m     \u001b[38;5;124m\"\u001b[39m\u001b[38;5;124mH\u001b[39m\u001b[38;5;124m'\u001b[39m\u001b[38;5;124m @ U\u001b[39m\u001b[38;5;124m'\u001b[39m\u001b[38;5;124m\"\u001b[39m: {\n\u001b[1;32m    512\u001b[0m         \u001b[38;5;124m\"\u001b[39m\u001b[38;5;124mdata\u001b[39m\u001b[38;5;124m\"\u001b[39m: zero_data,\n\u001b[1;32m    513\u001b[0m     },\n\u001b[1;32m    514\u001b[0m }\n\u001b[1;32m    515\u001b[0m series \u001b[38;5;241m=\u001b[39m {\n\u001b[1;32m    516\u001b[0m     key: BlockSeries(name\u001b[38;5;241m=\u001b[39mkey, \u001b[38;5;241m*\u001b[39m\u001b[38;5;241m*\u001b[39mseries_kwargs, \u001b[38;5;241m*\u001b[39m\u001b[38;5;241m*\u001b[39mvalue)\n\u001b[1;32m    517\u001b[0m     \u001b[38;5;28;01mfor\u001b[39;00m key, value \u001b[38;5;129;01min\u001b[39;00m series_data\u001b[38;5;241m.\u001b[39mitems()\n\u001b[1;32m    518\u001b[0m }\n\u001b[1;32m    520\u001b[0m \u001b[38;5;66;03m# List of products and whether they are Hermitian\u001b[39;00m\n",
      "File \u001b[0;32m~/miniconda3/envs/flux/lib/python3.12/site-packages/pymablock/series.py:172\u001b[0m, in \u001b[0;36mBlockSeries.__getitem__\u001b[0;34m(self, item)\u001b[0m\n\u001b[1;32m    170\u001b[0m data[index] \u001b[38;5;241m=\u001b[39m PENDING\n\u001b[1;32m    171\u001b[0m \u001b[38;5;28;01mtry\u001b[39;00m:\n\u001b[0;32m--> 172\u001b[0m     data[index] \u001b[38;5;241m=\u001b[39m \u001b[38;5;28mself\u001b[39m\u001b[38;5;241m.\u001b[39meval(\u001b[38;5;241m*\u001b[39mindex)\n\u001b[1;32m    173\u001b[0m \u001b[38;5;28;01mexcept\u001b[39;00m \u001b[38;5;167;01mRuntimeError\u001b[39;00m \u001b[38;5;28;01mas\u001b[39;00m error:\n\u001b[1;32m    174\u001b[0m     \u001b[38;5;66;03m# Catch recursion errors with an informative message\u001b[39;00m\n\u001b[1;32m    175\u001b[0m     data\u001b[38;5;241m.\u001b[39mpop(index, \u001b[38;5;28;01mNone\u001b[39;00m)\n",
      "File \u001b[0;32m~/miniconda3/envs/flux/lib/python3.12/site-packages/pymablock/block_diagonalization.py:635\u001b[0m, in \u001b[0;36m_block_diagonalize.<locals>.X_min_H_offdiag_eval\u001b[0;34m(*index)\u001b[0m\n\u001b[1;32m    628\u001b[0m \u001b[38;5;28;01melif\u001b[39;00m index[:\u001b[38;5;241m2\u001b[39m] \u001b[38;5;241m==\u001b[39m (\u001b[38;5;241m0\u001b[39m, \u001b[38;5;241m1\u001b[39m):\n\u001b[1;32m    629\u001b[0m     index_dag \u001b[38;5;241m=\u001b[39m (index[\u001b[38;5;241m1\u001b[39m], index[\u001b[38;5;241m0\u001b[39m], \u001b[38;5;241m*\u001b[39mindex[\u001b[38;5;241m2\u001b[39m:])\n\u001b[1;32m    630\u001b[0m     result \u001b[38;5;241m=\u001b[39m _zero_sum(\n\u001b[1;32m    631\u001b[0m         \u001b[38;5;241m-\u001b[39mseries[\u001b[38;5;124m\"\u001b[39m\u001b[38;5;124mU\u001b[39m\u001b[38;5;124m'\u001b[39m\u001b[38;5;124m† @ (X - H\u001b[39m\u001b[38;5;124m'\u001b[39m\u001b[38;5;124m_offdiag)\u001b[39m\u001b[38;5;124m\"\u001b[39m][index],\n\u001b[1;32m    632\u001b[0m         series[\u001b[38;5;124m\"\u001b[39m\u001b[38;5;124mH\u001b[39m\u001b[38;5;124m'\u001b[39m\u001b[38;5;124m_offdiag @ U\u001b[39m\u001b[38;5;124m'\u001b[39m\u001b[38;5;124m\"\u001b[39m][index],\n\u001b[1;32m    633\u001b[0m         series[\u001b[38;5;124m\"\u001b[39m\u001b[38;5;124mH\u001b[39m\u001b[38;5;124m'\u001b[39m\u001b[38;5;124m_diag @ U\u001b[39m\u001b[38;5;124m'\u001b[39m\u001b[38;5;124m\"\u001b[39m][index],\n\u001b[1;32m    634\u001b[0m         Dagger(series[\u001b[38;5;124m\"\u001b[39m\u001b[38;5;124mH\u001b[39m\u001b[38;5;124m'\u001b[39m\u001b[38;5;124m_diag @ U\u001b[39m\u001b[38;5;124m'\u001b[39m\u001b[38;5;124m\"\u001b[39m][index_dag]),\n\u001b[0;32m--> 635\u001b[0m         series[\u001b[38;5;124m\"\u001b[39m\u001b[38;5;124mU\u001b[39m\u001b[38;5;124m'\u001b[39m\u001b[38;5;124m† @ H\u001b[39m\u001b[38;5;124m'\u001b[39m\u001b[38;5;124m @ U\u001b[39m\u001b[38;5;124m'\u001b[39m\u001b[38;5;124m\"\u001b[39m][index],\n\u001b[1;32m    636\u001b[0m     )\n\u001b[1;32m    637\u001b[0m     del_(\u001b[38;5;124m\"\u001b[39m\u001b[38;5;124mU\u001b[39m\u001b[38;5;124m'\u001b[39m\u001b[38;5;124m† @ H\u001b[39m\u001b[38;5;124m'\u001b[39m\u001b[38;5;124m @ U\u001b[39m\u001b[38;5;124m'\u001b[39m\u001b[38;5;124m\"\u001b[39m, index)\n\u001b[1;32m    638\u001b[0m     del_(\u001b[38;5;124m\"\u001b[39m\u001b[38;5;124mU\u001b[39m\u001b[38;5;124m'\u001b[39m\u001b[38;5;124m† @ (X - H\u001b[39m\u001b[38;5;124m'\u001b[39m\u001b[38;5;124m_offdiag)\u001b[39m\u001b[38;5;124m\"\u001b[39m, index)\n",
      "File \u001b[0;32m~/miniconda3/envs/flux/lib/python3.12/site-packages/pymablock/series.py:172\u001b[0m, in \u001b[0;36mBlockSeries.__getitem__\u001b[0;34m(self, item)\u001b[0m\n\u001b[1;32m    170\u001b[0m data[index] \u001b[38;5;241m=\u001b[39m PENDING\n\u001b[1;32m    171\u001b[0m \u001b[38;5;28;01mtry\u001b[39;00m:\n\u001b[0;32m--> 172\u001b[0m     data[index] \u001b[38;5;241m=\u001b[39m \u001b[38;5;28mself\u001b[39m\u001b[38;5;241m.\u001b[39meval(\u001b[38;5;241m*\u001b[39mindex)\n\u001b[1;32m    173\u001b[0m \u001b[38;5;28;01mexcept\u001b[39;00m \u001b[38;5;167;01mRuntimeError\u001b[39;00m \u001b[38;5;28;01mas\u001b[39;00m error:\n\u001b[1;32m    174\u001b[0m     \u001b[38;5;66;03m# Catch recursion errors with an informative message\u001b[39;00m\n\u001b[1;32m    175\u001b[0m     data\u001b[38;5;241m.\u001b[39mpop(index, \u001b[38;5;28;01mNone\u001b[39;00m)\n",
      "File \u001b[0;32m~/miniconda3/envs/flux/lib/python3.12/site-packages/pymablock/series.py:337\u001b[0m, in \u001b[0;36mcauchy_dot_product.<locals>.eval\u001b[0;34m(*index)\u001b[0m\n\u001b[1;32m    335\u001b[0m \u001b[38;5;28;01mif\u001b[39;00m index[\u001b[38;5;241m0\u001b[39m] \u001b[38;5;241m>\u001b[39m index[\u001b[38;5;241m1\u001b[39m] \u001b[38;5;129;01mand\u001b[39;00m hermitian:\n\u001b[1;32m    336\u001b[0m     \u001b[38;5;28;01mreturn\u001b[39;00m Dagger(product[(index[\u001b[38;5;241m1\u001b[39m], index[\u001b[38;5;241m0\u001b[39m], \u001b[38;5;241m*\u001b[39mindex[\u001b[38;5;241m2\u001b[39m:])])\n\u001b[0;32m--> 337\u001b[0m \u001b[38;5;28;01mreturn\u001b[39;00m product_by_order(\n\u001b[1;32m    338\u001b[0m     index,\n\u001b[1;32m    339\u001b[0m     first,\n\u001b[1;32m    340\u001b[0m     second,\n\u001b[1;32m    341\u001b[0m     operator\u001b[38;5;241m=\u001b[39moperator,\n\u001b[1;32m    342\u001b[0m     hermitian\u001b[38;5;241m=\u001b[39mhermitian,\n\u001b[1;32m    343\u001b[0m )\n",
      "File \u001b[0;32m~/miniconda3/envs/flux/lib/python3.12/site-packages/pymablock/series.py:408\u001b[0m, in \u001b[0;36mproduct_by_order\u001b[0;34m(index, first, second, operator, hermitian)\u001b[0m\n\u001b[1;32m    406\u001b[0m     \u001b[38;5;28;01mif\u001b[39;00m (first_value \u001b[38;5;241m:=\u001b[39m first[first_index]) \u001b[38;5;129;01mis\u001b[39;00m zero:\n\u001b[1;32m    407\u001b[0m         \u001b[38;5;28;01mcontinue\u001b[39;00m\n\u001b[0;32m--> 408\u001b[0m     \u001b[38;5;28;01mif\u001b[39;00m (second_value \u001b[38;5;241m:=\u001b[39m second[second_index]) \u001b[38;5;129;01mis\u001b[39;00m zero:\n\u001b[1;32m    409\u001b[0m         \u001b[38;5;28;01mcontinue\u001b[39;00m\n\u001b[1;32m    410\u001b[0m \u001b[38;5;28;01melse\u001b[39;00m:\n",
      "File \u001b[0;32m~/miniconda3/envs/flux/lib/python3.12/site-packages/pymablock/series.py:172\u001b[0m, in \u001b[0;36mBlockSeries.__getitem__\u001b[0;34m(self, item)\u001b[0m\n\u001b[1;32m    170\u001b[0m data[index] \u001b[38;5;241m=\u001b[39m PENDING\n\u001b[1;32m    171\u001b[0m \u001b[38;5;28;01mtry\u001b[39;00m:\n\u001b[0;32m--> 172\u001b[0m     data[index] \u001b[38;5;241m=\u001b[39m \u001b[38;5;28mself\u001b[39m\u001b[38;5;241m.\u001b[39meval(\u001b[38;5;241m*\u001b[39mindex)\n\u001b[1;32m    173\u001b[0m \u001b[38;5;28;01mexcept\u001b[39;00m \u001b[38;5;167;01mRuntimeError\u001b[39;00m \u001b[38;5;28;01mas\u001b[39;00m error:\n\u001b[1;32m    174\u001b[0m     \u001b[38;5;66;03m# Catch recursion errors with an informative message\u001b[39;00m\n\u001b[1;32m    175\u001b[0m     data\u001b[38;5;241m.\u001b[39mpop(index, \u001b[38;5;28;01mNone\u001b[39;00m)\n",
      "File \u001b[0;32m~/miniconda3/envs/flux/lib/python3.12/site-packages/pymablock/block_diagonalization.py:594\u001b[0m, in \u001b[0;36m_block_diagonalize.<locals>.H_p_U_p_eval\u001b[0;34m(*index)\u001b[0m\n\u001b[1;32m    591\u001b[0m \u001b[38;5;28;01mdef\u001b[39;00m \u001b[38;5;21mH_p_U_p_eval\u001b[39m(\u001b[38;5;241m*\u001b[39mindex: \u001b[38;5;28mint\u001b[39m) \u001b[38;5;241m-\u001b[39m\u001b[38;5;241m>\u001b[39m Any:\n\u001b[1;32m    592\u001b[0m     which \u001b[38;5;241m=\u001b[39m linear_operator_or_explicit(index)\n\u001b[1;32m    593\u001b[0m     result \u001b[38;5;241m=\u001b[39m _zero_sum(\n\u001b[0;32m--> 594\u001b[0m         which[\u001b[38;5;124m\"\u001b[39m\u001b[38;5;124mH\u001b[39m\u001b[38;5;124m'\u001b[39m\u001b[38;5;124m_diag @ U\u001b[39m\u001b[38;5;124m'\u001b[39m\u001b[38;5;124m\"\u001b[39m][index], which[\u001b[38;5;124m\"\u001b[39m\u001b[38;5;124mH\u001b[39m\u001b[38;5;124m'\u001b[39m\u001b[38;5;124m_offdiag @ U\u001b[39m\u001b[38;5;124m'\u001b[39m\u001b[38;5;124m\"\u001b[39m][index]\n\u001b[1;32m    595\u001b[0m     )\n\u001b[1;32m    596\u001b[0m     \u001b[38;5;28;01mif\u001b[39;00m index[:\u001b[38;5;241m2\u001b[39m] \u001b[38;5;241m==\u001b[39m (\u001b[38;5;241m1\u001b[39m, \u001b[38;5;241m0\u001b[39m):\n\u001b[1;32m    597\u001b[0m         del_(\u001b[38;5;124m\"\u001b[39m\u001b[38;5;124mH\u001b[39m\u001b[38;5;124m'\u001b[39m\u001b[38;5;124m_offdiag @ U\u001b[39m\u001b[38;5;124m'\u001b[39m\u001b[38;5;124m\"\u001b[39m, index)\n",
      "File \u001b[0;32m~/miniconda3/envs/flux/lib/python3.12/site-packages/pymablock/series.py:172\u001b[0m, in \u001b[0;36mBlockSeries.__getitem__\u001b[0;34m(self, item)\u001b[0m\n\u001b[1;32m    170\u001b[0m data[index] \u001b[38;5;241m=\u001b[39m PENDING\n\u001b[1;32m    171\u001b[0m \u001b[38;5;28;01mtry\u001b[39;00m:\n\u001b[0;32m--> 172\u001b[0m     data[index] \u001b[38;5;241m=\u001b[39m \u001b[38;5;28mself\u001b[39m\u001b[38;5;241m.\u001b[39meval(\u001b[38;5;241m*\u001b[39mindex)\n\u001b[1;32m    173\u001b[0m \u001b[38;5;28;01mexcept\u001b[39;00m \u001b[38;5;167;01mRuntimeError\u001b[39;00m \u001b[38;5;28;01mas\u001b[39;00m error:\n\u001b[1;32m    174\u001b[0m     \u001b[38;5;66;03m# Catch recursion errors with an informative message\u001b[39;00m\n\u001b[1;32m    175\u001b[0m     data\u001b[38;5;241m.\u001b[39mpop(index, \u001b[38;5;28;01mNone\u001b[39;00m)\n",
      "File \u001b[0;32m~/miniconda3/envs/flux/lib/python3.12/site-packages/pymablock/series.py:337\u001b[0m, in \u001b[0;36mcauchy_dot_product.<locals>.eval\u001b[0;34m(*index)\u001b[0m\n\u001b[1;32m    335\u001b[0m \u001b[38;5;28;01mif\u001b[39;00m index[\u001b[38;5;241m0\u001b[39m] \u001b[38;5;241m>\u001b[39m index[\u001b[38;5;241m1\u001b[39m] \u001b[38;5;129;01mand\u001b[39;00m hermitian:\n\u001b[1;32m    336\u001b[0m     \u001b[38;5;28;01mreturn\u001b[39;00m Dagger(product[(index[\u001b[38;5;241m1\u001b[39m], index[\u001b[38;5;241m0\u001b[39m], \u001b[38;5;241m*\u001b[39mindex[\u001b[38;5;241m2\u001b[39m:])])\n\u001b[0;32m--> 337\u001b[0m \u001b[38;5;28;01mreturn\u001b[39;00m product_by_order(\n\u001b[1;32m    338\u001b[0m     index,\n\u001b[1;32m    339\u001b[0m     first,\n\u001b[1;32m    340\u001b[0m     second,\n\u001b[1;32m    341\u001b[0m     operator\u001b[38;5;241m=\u001b[39moperator,\n\u001b[1;32m    342\u001b[0m     hermitian\u001b[38;5;241m=\u001b[39mhermitian,\n\u001b[1;32m    343\u001b[0m )\n",
      "File \u001b[0;32m~/miniconda3/envs/flux/lib/python3.12/site-packages/pymablock/series.py:423\u001b[0m, in \u001b[0;36mproduct_by_order\u001b[0;34m(index, first, second, operator, hermitian)\u001b[0m\n\u001b[1;32m    421\u001b[0m     term \u001b[38;5;241m=\u001b[39m values[\u001b[38;5;241m0\u001b[39m]\n\u001b[1;32m    422\u001b[0m \u001b[38;5;28;01melse\u001b[39;00m:\n\u001b[0;32m--> 423\u001b[0m     term \u001b[38;5;241m=\u001b[39m operator(values[\u001b[38;5;241m0\u001b[39m], values[\u001b[38;5;241m1\u001b[39m])\n\u001b[1;32m    424\u001b[0m \u001b[38;5;28;01mif\u001b[39;00m \u001b[38;5;129;01mnot\u001b[39;00m hermitian \u001b[38;5;129;01mor\u001b[39;00m orders_1st \u001b[38;5;241m==\u001b[39m orders_2nd:\n\u001b[1;32m    425\u001b[0m     result \u001b[38;5;241m=\u001b[39m result \u001b[38;5;241m+\u001b[39m term  \u001b[38;5;66;03m# No += to avoid mutating data.\u001b[39;00m\n",
      "\u001b[0;31mKeyboardInterrupt\u001b[0m: "
     ]
    }
   ],
   "source": [
    "phi1, phi2, phi3 = find_sweetspot_by_spectrum(\n",
    "    ftc, \n",
    "    flux_c = 0.35,\n",
    "    flux_s_bounds = [-0.1, 0.1],\n",
    "    # flux_c_bounds = [0.0, 0.5],\n",
    "    run_num=1,\n",
    ")\n",
    "on = [phi1, phi2, phi3]\n",
    "print(phi1, phi2, phi3)\n",
    "evals = ftc.eigenvals(4)\n",
    "evals - evals[0]\n",
    "\n",
    "ftc.Φ1,ftc.Φ2,ftc.Φ3 = 0.4481395706587772,0.5518604293412228,0.3169069290007238\n",
    "\n",
    "flux_shiftc = -(on[2]-off[2])\n",
    "flux_shift_a = on[0]-off[0]\n",
    "flux_shift_b = on[1] - off[1]\n",
    "\n",
    "hspace = ftc.hilbert_space\n",
    "dims = hspace.subsystem_dims\n",
    "hamiltonian = qt.Qobj(ftc.hamiltonian(), dims=[dims, dims])\n",
    "\n",
    "theta1_op = qt.Qobj(ftc.θ1_operator(), dims=[dims, dims])\n",
    "theta2_op = qt.Qobj(ftc.θ2_operator(), dims=[dims, dims])\n",
    "theta3_op = qt.Qobj(ftc.θ3_operator(), dims=[dims, dims])\n",
    "theta4_op = qt.Qobj(ftc.θ4_operator(), dims=[dims, dims])\n",
    "drive_c = (\n",
    "    (ftc.E_La + ftc.E_Lb) / 2 * (theta1_op - theta2_op) / 2\n",
    "    - (ftc.E_L1 + ftc.E_L2 + ftc.E_La + ftc.E_Lb) / 4 * theta3_op\n",
    ")\n",
    "drive_a = (ftc.E_La + ftc.E_Lb)/2 / 2* (-2*theta1_op+theta3_op+theta4_op)\n",
    "drive_b = (ftc.E_La + ftc.E_Lb)/2 / 2* (-2*theta2_op-theta3_op+theta4_op)\n",
    "\n",
    "\n",
    "evals, evecs = hamiltonian.eigenstates(hspace.dimension, tol=1e-10)\n",
    "\n",
    "subspace_state_idx = [0, 1, 2, 3]\n",
    "subspace1_evecs = [evecs[idx] for idx in subspace_state_idx]\n",
    "subspace2_evecs = [evec for idx, evec in enumerate(evecs) if idx not in subspace_state_idx]\n",
    "\n",
    "H_sw, _, _ = cc.cqed.block_diagonalize_pymablock(\n",
    "    [hamiltonian, (flux_shift_a*drive_a + flux_shift_b*drive_b + flux_shiftc*drive_c)*2*np.pi],     \n",
    "    # flux drive amp\n",
    "    subspace_eigenvectors=[subspace1_evecs, subspace2_evecs],\n",
    "    atol=1e-10,\n",
    ")\n",
    "\n",
    "H_eff = 0\n",
    "for i in range(100):\n",
    "    if np.linalg.norm(H_sw[0,0,i])<1e-8:\n",
    "        break\n",
    "    H_eff += H_sw[0,0,i]\n",
    "    \n",
    "print(np.abs(H_eff[0,3]))"
   ]
  },
  {
   "cell_type": "code",
   "execution_count": 547,
   "metadata": {},
   "outputs": [
    {
     "name": "stderr",
     "output_type": "stream",
     "text": [
      "UserWarning: Cannot confirm that the unperturbed Hamiltonian is diagonal, which is required if ``solve_sylvester`` is not provided. The algorithm will assume that it is diagonal.\n",
      " /Users/apple/miniconda3/envs/flux/lib/python3.12/site-packages/pymablock/block_diagonalization.py: 1091"
     ]
    }
   ],
   "source": [
    "\n",
    "from joblib import Parallel, delayed\n",
    "\n",
    "\n",
    "def calculate_H_eff(flux_c):\n",
    "    phi1, phi2, phi3 = find_sweetspot_by_spectrum(\n",
    "        ftc, \n",
    "        flux_c=flux_c,\n",
    "        flux_s_bounds=[-0.1, 0.1],\n",
    "        run_num=1,\n",
    "    )\n",
    "    on = [phi1, phi2, phi3]\n",
    "    \n",
    "    evals = ftc.eigenvals(4)\n",
    "    evals - evals[0]\n",
    "    off = [0.4823993253847567,0.5176006746152433,0.27578709780859395]\n",
    "    ftc.Φ1, ftc.Φ2, ftc.Φ3 = off\n",
    "\n",
    "    flux_shiftc = -(on[2]-off[2])\n",
    "    flux_shift_a = on[0]-off[0]\n",
    "    flux_shift_b = on[1] - off[1]\n",
    "\n",
    "    hspace = ftc.hilbert_space\n",
    "    dims = hspace.subsystem_dims\n",
    "    hamiltonian = qt.Qobj(ftc.hamiltonian(), dims=[dims, dims])\n",
    "\n",
    "    theta1_op = qt.Qobj(ftc.θ1_operator(), dims=[dims, dims])\n",
    "    theta2_op = qt.Qobj(ftc.θ2_operator(), dims=[dims, dims])\n",
    "    theta3_op = qt.Qobj(ftc.θ3_operator(), dims=[dims, dims])\n",
    "    theta4_op = qt.Qobj(ftc.θ4_operator(), dims=[dims, dims])\n",
    "    drive_c = (\n",
    "        (ftc.E_La + ftc.E_Lb) / 2 * (theta1_op - theta2_op) / 2\n",
    "        - (ftc.E_L1 + ftc.E_L2 + ftc.E_La + ftc.E_Lb) / 4 * theta3_op\n",
    "    )\n",
    "    drive_a = (ftc.E_La + ftc.E_Lb)/2 / 2* (-2*theta1_op+theta3_op+theta4_op)\n",
    "    drive_b = (ftc.E_La + ftc.E_Lb)/2 / 2* (-2*theta2_op-theta3_op+theta4_op)\n",
    "\n",
    "    evals, evecs = hamiltonian.eigenstates(hspace.dimension, tol=1e-10)\n",
    "\n",
    "    subspace_state_idx = [0, 1, 2, 3]\n",
    "    subspace1_evecs = [evecs[idx] for idx in subspace_state_idx]\n",
    "    subspace2_evecs = [evec for idx, evec in enumerate(evecs) if idx not in subspace_state_idx]\n",
    "\n",
    "    H_sw, _, _ = cc.cqed.block_diagonalize_pymablock(\n",
    "        [hamiltonian, (flux_shift_a*drive_a + flux_shift_b*drive_b + flux_shiftc*drive_c)*2*np.pi],     \n",
    "        subspace_eigenvectors=[subspace1_evecs, subspace2_evecs],\n",
    "        atol=1e-10,\n",
    "    )\n",
    "\n",
    "    H_eff = 0\n",
    "    for i in range(100):\n",
    "        if np.linalg.norm(H_sw[0,0,i])<1e-8:\n",
    "            break\n",
    "        H_eff += H_sw[0,0,i]\n",
    "    evals = np.linalg.eigh(H_eff)[0]\n",
    "    return np.abs(H_eff[1,2]),(evals-evals[0])\n",
    "\n",
    "# Generate 20 flux_c values between 0.2 and 0.4\n",
    "flux_c_values = np.linspace(0., 0.5, 6)\n",
    "\n",
    "# Use joblib to parallelize the computation\n",
    "results = Parallel(n_jobs=1)(delayed(calculate_H_eff)(flux_c) for flux_c in flux_c_values)\n",
    "\n"
   ]
  },
  {
   "cell_type": "code",
   "execution_count": 553,
   "metadata": {},
   "outputs": [
    {
     "data": {
      "text/plain": [
       "[(0.017680150198956024, array([0.      , 0.029817, 0.070246, 0.100063])),\n",
       " (0.015245122670769218, array([0.      , 0.030993, 0.067474, 0.098467])),\n",
       " (0.00805707986588077, array([0.      , 0.034182, 0.060894, 0.095075])),\n",
       " (0.0028437212817444273, array([0.      , 0.035048, 0.058966, 0.094014])),\n",
       " (0.01384148563189359, array([0.      , 0.030297, 0.067719, 0.098016])),\n",
       " (0.01870214698403364, array([0.      , 0.027852, 0.073428, 0.10128 ]))]"
      ]
     },
     "execution_count": 553,
     "metadata": {},
     "output_type": "execute_result"
    }
   ],
   "source": [
    "results"
   ]
  },
  {
   "cell_type": "code",
   "execution_count": 554,
   "metadata": {},
   "outputs": [
    {
     "data": {
      "text/plain": [
       "array([[0.      , 0.029809, 0.070236, 0.100045],\n",
       "       [0.      , 0.029891, 0.070038, 0.099929],\n",
       "       [0.      , 0.030137, 0.069449, 0.099585],\n",
       "       [0.      , 0.030546, 0.068486, 0.099032],\n",
       "       [0.      , 0.031117, 0.067183, 0.0983  ],\n",
       "       [0.      , 0.031839, 0.065597, 0.097436],\n",
       "       [0.      , 0.032692, 0.063813, 0.096505],\n",
       "       [0.      , 0.033623, 0.061961, 0.095584],\n",
       "       [0.      , 0.034536, 0.06023 , 0.094765],\n",
       "       [0.      , 0.035263, 0.058885, 0.094147],\n",
       "       [0.      , 0.035584, 0.058243, 0.093826],\n",
       "       [0.      , 0.035322, 0.058556, 0.093878],\n",
       "       [0.      , 0.034481, 0.059861, 0.094342],\n",
       "       [0.      , 0.033248, 0.061954, 0.095202],\n",
       "       [0.      , 0.031867, 0.064512, 0.096379],\n",
       "       [0.      , 0.030541, 0.067191, 0.097732],\n",
       "       [0.      , 0.029409, 0.06967 , 0.099079],\n",
       "       [0.      , 0.028555, 0.071668, 0.100223],\n",
       "       [0.      , 0.028026, 0.072962, 0.100988],\n",
       "       [0.      , 0.027847, 0.073409, 0.101257]])"
      ]
     },
     "execution_count": 554,
     "metadata": {},
     "output_type": "execute_result"
    }
   ],
   "source": [
    "evals_array"
   ]
  },
  {
   "cell_type": "code",
   "execution_count": 545,
   "metadata": {},
   "outputs": [
    {
     "data": {
      "image/png": "[encoded data removed]",
      "text/plain": [
       "<Figure size 1000x600 with 1 Axes>"
      ]
     },
     "metadata": {},
     "output_type": "display_data"
    }
   ],
   "source": [
    "# Plot the results\n",
    "plt.figure(figsize=(10, 6))\n",
    "plt.plot(flux_c_values, results, 'b-o')\n",
    "plt.xlabel('flux_c')\n",
    "plt.ylabel('|H_eff[0,3]|')\n",
    "plt.title('|H_eff[0,3]| vs flux_c')\n",
    "plt.ylim(-0.025,0.025)\n",
    "plt.grid(True)\n",
    "plt.show()"
   ]
  },
  {
   "cell_type": "code",
   "execution_count": 546,
   "metadata": {},
   "outputs": [
    {
     "data": {
      "text/plain": [
       "[0.01768017989145324, 0.015245134153573738, 0.00805710878592466, 0.0028436454779514958, 0.013841492172637915, 0.01870215003194353]"
      ]
     },
     "execution_count": 546,
     "metadata": {},
     "output_type": "execute_result"
    }
   ],
   "source": [
    "results"
   ]
  },
  {
   "cell_type": "code",
   "execution_count": null,
   "metadata": {},
   "outputs": [],
   "source": []
  }
 ],
 "metadata": {
  "kernelspec": {
   "display_name": "scq311",
   "language": "python",
   "name": "python3"
  },
  "language_info": {
   "codemirror_mode": {
    "name": "ipython",
    "version": 3
   },
   "file_extension": ".py",
   "mimetype": "text/x-python",
   "name": "python",
   "nbconvert_exporter": "python",
   "pygments_lexer": "ipython3",
   "version": "3.12.2"
  }
 },
 "nbformat": 4,
 "nbformat_minor": 2
}
