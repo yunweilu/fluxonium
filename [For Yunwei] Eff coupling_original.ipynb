{
 "cells": [
  {
   "cell_type": "markdown",
   "metadata": {},
   "source": [
    "Install chencrafts:\n",
    "`pip install chencrafts`"
   ]
  },
  {
   "cell_type": "code",
   "execution_count": 1,
   "metadata": {},
   "outputs": [],
   "source": [
    "import numpy as np\n",
    "import scqubits as scq\n",
    "import matplotlib.pyplot as plt\n",
    "import qutip as qt\n",
    "import chencrafts as cc"
   ]
  },
  {
   "cell_type": "code",
   "execution_count": 3,
   "metadata": {},
   "outputs": [],
   "source": [
    "exp_params = {\n",
    "    'E_Ja': 4.6,\n",
    "    'E_Jb': 5.5,\n",
    "    'E_Ca': 0.9,\n",
    "    'E_Cb': 0.9,\n",
    "    'E_J': 3,\n",
    "    'E_C': 50,\n",
    "    'ECm': 16.686114352392064,\n",
    "    'E_L1': 2,\n",
    "    'E_L2': 2,\n",
    "    # 'E_La': 0.292,\n",
    "    # 'E_Lb': 0.287,\n",
    "    'E_La': 0.21,\n",
    "    'E_Lb': 0.21,\n",
    "\n",
    "    'flux_s': 0,\n",
    "    'flux_c': 0.32,\n",
    "}\n",
    "\n",
    "para = exp_params\n",
    "para[\"flux_a\"] = 0.5 + para[\"flux_s\"]\n",
    "para[\"flux_b\"] = 0.5 - para[\"flux_s\"]"
   ]
  },
  {
   "cell_type": "code",
   "execution_count": 4,
   "metadata": {},
   "outputs": [],
   "source": [
    "sim_params = {\n",
    "    \"qa_cutoff\": 110,\n",
    "    \"qb_cutoff\": 110,\n",
    "    \"p_cutoff\": 110,\n",
    "    \"m_cutoff\": 110,\n",
    "    \"qa_dim\": 5,\n",
    "    \"qb_dim\": 5,\n",
    "    \"p_dim\": 5,\n",
    "    \"m_dim\": 7,\n",
    "}"
   ]
  },
  {
   "cell_type": "code",
   "execution_count": 6,
   "metadata": {},
   "outputs": [
    {
     "data": {
      "text/latex": [
       "$ \\left(400.0 Q_{4}^{2} + 3.6 Q_{1}^{2} + 3.6 Q_{2}^{2} + 57.2 Q_{3}^{2}\\right) + \\left(0.5525 θ_{3}^{2} + 0.5525 θ_{4}^{2} + 0.498521 (2πΦ_{3})^{2} + 0.188341 (2πΦ_{1})^{2} + 0.188341 (2πΦ_{2})^{2} + 0.105 θ_{1}^{2} + 0.105 θ_{2}^{2} - E_{J} \\cos{\\left(0.050105 (2πΦ_{3}) + 0.025053 (2πΦ_{1}) - 1.0 θ_{3} - 0.025053 (2πΦ_{2}) \\right)} - E_{Ja} \\cos{\\left(θ_{1} \\right)} - E_{Jb} \\cos{\\left(θ_{2} \\right)} + 0.077317 (2πΦ_{1}) θ_{3} + 0.073443 (2πΦ_{1}) (2πΦ_{3}) + 0.049869 (2πΦ_{1}) θ_{2} + 0.049869 (2πΦ_{2}) θ_{1} + 0.099739 (2πΦ_{3}) θ_{2} + 0.175818 (2πΦ_{1}) (2πΦ_{2}) + 0.105 θ_{2} θ_{3} + 1.049634 (2πΦ_{3}) θ_{3} - 0.077317 (2πΦ_{2}) θ_{3} - 0.073443 (2πΦ_{2}) (2πΦ_{3}) - 0.099739 (2πΦ_{3}) θ_{1} - 0.4475 (2πΦ_{1}) θ_{4} - 0.4475 (2πΦ_{2}) θ_{4} - 0.154869 (2πΦ_{1}) θ_{1} - 0.154869 (2πΦ_{2}) θ_{2} - 0.105 θ_{1} θ_{3} - 0.105 θ_{1} θ_{4} - 0.105 θ_{2} θ_{4}\\right) $"
      ],
      "text/plain": [
       "<IPython.core.display.Latex object>"
      ]
     },
     "metadata": {},
     "output_type": "display_data"
    }
   ],
   "source": [
    "circ_yaml = f\"\"\"\n",
    "branches:\n",
    "# qubit a\n",
    "- [\"JJ\", 0, 1, E_Ja = {para[\"E_Ja\"]}, E_Ca = {para[\"E_Ca\"]}]\n",
    "- [\"L\", 1, 2, E_La = {para[\"E_La\"]}]\n",
    "\n",
    "# coupler\n",
    "- [\"C\", 0, 2, E_C = {para[\"E_C\"]}]\n",
    "- [\"L\", 0, 2, E_L1 = {para[\"E_L1\"]}]\n",
    "- [\"C\", 0, 3, E_C]\n",
    "- [\"L\", 0, 3, E_L2 = {para[\"E_L2\"]}]\n",
    "- [\"JJ\", 2, 3, E_J = {para[\"E_J\"]}, ECm = {para[\"ECm\"]}]\n",
    "\n",
    "# qubit b\n",
    "- [\"JJ\", 0, 4, E_Jb = {para[\"E_Jb\"]}, E_Cb = {para[\"E_Cb\"]}]\n",
    "- [\"L\", 3, 4, E_Lb = {para[\"E_Lb\"]}]\n",
    "\"\"\"\n",
    "\n",
    "ftc = scq.Circuit(circ_yaml, from_file=False, use_dynamic_flux_grouping=True, generate_noise_methods=True)\n",
    "\n",
    "trans_mat = np.linalg.inv([\n",
    "    [1, 0, 0, 0],\n",
    "    [0, 0, 0, 1],\n",
    "    [0, 1, -1, 0],\n",
    "    [0, 1, 1, 0],\n",
    "])\n",
    "\n",
    "brch = ftc.branches\n",
    "ftc.configure(\n",
    "    transformation_matrix=trans_mat, \n",
    "    system_hierarchy=[[1], [2], [[3], [4]]], \n",
    "    subsystem_trunc_dims=[\n",
    "        sim_params[\"qa_dim\"], \n",
    "        sim_params[\"qb_dim\"],\n",
    "        [sim_params[\"m_dim\"] * 2, [\n",
    "            sim_params[\"m_dim\"], \n",
    "            sim_params[\"p_dim\"]\n",
    "        ]], \n",
    "    ],\n",
    "    closure_branches=[\n",
    "        brch[0], brch[7], brch[6]   # flux in junctions\n",
    "    ],\n",
    "    # closure_branches=[circ.branches[1], circ.branches[4]]   # flux in inductors\n",
    ")\n",
    "ftc.cutoff_ext_1 = sim_params[\"qa_cutoff\"]\n",
    "ftc.cutoff_ext_2 = sim_params[\"qb_cutoff\"]\n",
    "ftc.cutoff_ext_3 = sim_params[\"m_cutoff\"]\n",
    "ftc.cutoff_ext_4 = sim_params[\"p_cutoff\"]\n",
    "\n",
    "ftc.Φ1 = para[\"flux_a\"]\n",
    "ftc.Φ2 = para[\"flux_b\"]\n",
    "ftc.Φ3 = -para[\"flux_c\"]\n",
    "\n",
    "ftc.sym_hamiltonian()"
   ]
  },
  {
   "cell_type": "code",
   "execution_count": 13,
   "metadata": {},
   "outputs": [
    {
     "data": {
      "text/plain": [
       "5144.3523491997685"
      ]
     },
     "execution_count": 13,
     "metadata": {},
     "output_type": "execute_result"
    }
   ],
   "source": [
    "ftc.tphi_1_over_f_flux(common_noise_options=dict(i=3, j=0))"
   ]
  },
  {
   "cell_type": "code",
   "execution_count": 20,
   "metadata": {},
   "outputs": [
    {
     "data": {
      "text/plain": [
       "array([0.      , 0.134265, 0.14146 , 0.252927, 4.437446, 4.562357])"
      ]
     },
     "execution_count": 20,
     "metadata": {},
     "output_type": "execute_result"
    }
   ],
   "source": [
    "a = ftc.eigenvals()\n",
    "a-a[0]"
   ]
  },
  {
   "cell_type": "markdown",
   "metadata": {},
   "source": [
    "## spectrum reproducee"
   ]
  },
  {
   "cell_type": "code",
   "execution_count": 5,
   "metadata": {},
   "outputs": [],
   "source": [
    "from typing import Tuple\n",
    "\n",
    "def find_sweetspot_by_spectrum(\n",
    "    self,   # the ftc circuit\n",
    "    flux_c = None, \n",
    "    evals_count=4,\n",
    "    ftol = 1e-8,\n",
    "    gtol = 1e-8,\n",
    "    eps = 1e-11,\n",
    "    mode = \"l3\",\n",
    "    flux_s_bounds = [0, 0.1],\n",
    "    flux_sb_bounds = None,      # if not None, flux_a and b are independent\n",
    "    flux_c_bounds = [0.25, 0.3],\n",
    "    run_num = 1,\n",
    "    **kwargs\n",
    ") -> Tuple[float, float, float]:\n",
    "    \n",
    "    def freq_ab(params, evals_count, mode):\n",
    "        try:\n",
    "            self.flux_a = 0.5 + params[\"flux_s\"]\n",
    "            self.flux_c = params[\"flux_c\"]\n",
    "            if flux_sb_bounds is None:\n",
    "                self.flux_b = 0.5 - params[\"flux_s\"]\n",
    "            else:\n",
    "                self.flux_b = 0.5 + params[\"flux_sb\"]\n",
    "        except Exception:\n",
    "            self.Φ1 = 0.5 + params[\"flux_s\"]\n",
    "            if flux_sb_bounds is None:\n",
    "                self.Φ2 = 0.5 - params[\"flux_s\"]\n",
    "            else:\n",
    "                self.Φ2 = 0.5 + params[\"flux_sb\"]\n",
    "            self.Φ3 = params[\"flux_c\"]\n",
    "\n",
    "        eigs = self.eigenvals(evals_count)\n",
    "        if mode == \"l3\":\n",
    "            return eigs[3] - eigs[0]\n",
    "        elif mode == \"l1+l2\":\n",
    "            return eigs[1] + eigs[2] - 2 * eigs[0]\n",
    "        elif mode == \"l2-l1\":\n",
    "            return np.abs(eigs[2] - eigs[1])\n",
    "        elif mode == \"zz\":\n",
    "            abszz = np.abs(eigs[3] - eigs[2] - eigs[1] + eigs[0])\n",
    "            return abszz\n",
    "        elif mode == \"l1+l2+zz\":\n",
    "            abszz = np.abs(eigs[3] - eigs[2] - eigs[1] + eigs[0])\n",
    "            return eigs[1] + eigs[2] - 2 * eigs[0] + abszz\n",
    "        else:\n",
    "            raise ValueError(\"mode not supported\")\n",
    "        \n",
    "    free_params = {\"flux_s\": flux_s_bounds, \"flux_c\": flux_c_bounds}\n",
    "    if flux_sb_bounds is not None:\n",
    "        free_params[\"flux_sb\"] = flux_sb_bounds\n",
    "    \n",
    "    opt = cc.tb.Optimization(\n",
    "        {}, free_params,\n",
    "        freq_ab,\n",
    "        optimizer=\"L-BFGS-B\",\n",
    "        target_kwargs={\"evals_count\": evals_count, \"mode\": mode},\n",
    "        opt_options={\"ftol\": ftol, \"gtol\": gtol, \"disp\": False, \"eps\": eps, \"maxls\": 100}\n",
    "    )\n",
    "\n",
    "    if flux_c is not None:\n",
    "        opt.fix(flux_c=flux_c)\n",
    "    \n",
    "    multi_opt = cc.tb.MultiOpt(opt)\n",
    "    multi_traj = multi_opt.run(run_num)\n",
    "    traj = multi_traj.best_traj()\n",
    "\n",
    "    try:\n",
    "        self.flux_a = 0.5 + traj.final_full_para[\"flux_s\"]\n",
    "        self.flux_c = traj.final_full_para[\"flux_c\"]\n",
    "        if flux_sb_bounds is None:\n",
    "            self.flux_b = 0.5 - traj.final_full_para[\"flux_s\"]\n",
    "        else:\n",
    "            self.flux_b = 0.5 + traj.final_full_para[\"flux_sb\"]\n",
    "        \n",
    "        return self.flux_a, self.flux_b, self.flux_c\n",
    "    except Exception:\n",
    "        self.Φ1 = 0.5 + traj.final_full_para[\"flux_s\"]\n",
    "        if flux_sb_bounds is None:\n",
    "            self.Φ2 = 0.5 - traj.final_full_para[\"flux_s\"]\n",
    "        else:\n",
    "            self.Φ2 = 0.5 + traj.final_full_para[\"flux_sb\"]\n",
    "        self.Φ3 = traj.final_full_para[\"flux_c\"]\n",
    "        \n",
    "        return self.Φ1, self.Φ2, self.Φ3\n"
   ]
  },
  {
   "cell_type": "code",
   "execution_count": 7,
   "metadata": {},
   "outputs": [
    {
     "data": {
      "image/png": "[encoded data removed]",
      "text/plain": [
       "<Figure size 1000x600 with 1 Axes>"
      ]
     },
     "metadata": {},
     "output_type": "display_data"
    }
   ],
   "source": [
    "flux_c_values = np.linspace(0, 0.5, 20)  # Create 100 points between 0 and 0.5\n",
    "evals_array = []\n",
    "\n",
    "for flux_c in flux_c_values:\n",
    "    phi1, phi2, phi3 = find_sweetspot_by_spectrum(\n",
    "        ftc, \n",
    "        flux_c=flux_c,\n",
    "        flux_s_bounds=[-0.1, 0.1],\n",
    "        run_num=1,\n",
    "    )\n",
    "    evals = ftc.eigenvals(4)\n",
    "    evals_relative = evals - evals[0]\n",
    "    evals_array.append(evals_relative)\n",
    "\n",
    "evals_array = np.array(evals_array)\n",
    "\n",
    "# Plotting\n",
    "plt.figure(figsize=(10, 6))\n",
    "for i in range(4):\n",
    "    plt.plot(flux_c_values, evals_array[:, i], label=f'Eigenvalue {i+1}')\n",
    "\n",
    "plt.xlabel('flux_c')\n",
    "plt.ylabel('Relative Eigenvalues')\n",
    "plt.title('Eigenvalues vs flux_c')\n",
    "plt.legend()\n",
    "plt.grid(True)\n",
    "plt.show()"
   ]
  },
  {
   "cell_type": "code",
   "execution_count": 8,
   "metadata": {},
   "outputs": [
    {
     "data": {
      "image/png": "[encoded data removed]",
      "text/plain": [
       "<Figure size 640x480 with 1 Axes>"
      ]
     },
     "metadata": {},
     "output_type": "display_data"
    }
   ],
   "source": [
    "plt.plot(flux_c_values,evals_array[:, 3]-evals_array[:, 2]-evals_array[:, 1])\n",
    "plt.show()"
   ]
  },
  {
   "cell_type": "code",
   "execution_count": 17,
   "metadata": {},
   "outputs": [],
   "source": [
    "# #specify off position, specific choice of flux_c is from danny's paper\n",
    "# phi1, phi2, phi3 = find_sweetspot_by_spectrum(\n",
    "#         ftc, \n",
    "#         # flux_c=0.4,\n",
    "#         flux_s_bounds=[-0.1, 0.1],\n",
    "#         flux_c_bounds=[0.2,0.35],\n",
    "#         run_num=1,\n",
    "#     )\n",
    "# print(phi1, phi2, phi3)\n",
    "off = [0.4823500501369615,0.5176499498630385,0.2647067359584053]"
   ]
  },
  {
   "cell_type": "markdown",
   "metadata": {},
   "source": [
    "## eff coupling reproduce"
   ]
  },
  {
   "cell_type": "code",
   "execution_count": 8,
   "metadata": {},
   "outputs": [
    {
     "name": "stderr",
     "output_type": "stream",
     "text": [
      "UserWarning: Cannot confirm that the unperturbed Hamiltonian is diagonal, which is required if ``solve_sylvester`` is not provided. The algorithm will assume that it is diagonal.\n",
      " /opt/anaconda3/envs/flux/lib/python3.12/site-packages/pymablock/block_diagonalization.py: 1091"
     ]
    }
   ],
   "source": [
    "\n",
    "from joblib import Parallel, delayed\n",
    "\n",
    "\n",
    "def calculate_H_eff(flux_c):\n",
    "    phi1, phi2, phi3 = find_sweetspot_by_spectrum(\n",
    "        ftc, \n",
    "        flux_c=flux_c,\n",
    "        flux_s_bounds=[-0.1, 0.1],\n",
    "        run_num=1,\n",
    "    )\n",
    "    on = [phi1, phi2, phi3]\n",
    "\n",
    "    off = [0.4823500501369615,0.5176499498630385,0.2647067359584053]\n",
    "    ftc.Φ1, ftc.Φ2, ftc.Φ3 = off\n",
    "\n",
    "    flux_shiftc = -(on[2]-off[2])\n",
    "    flux_shift_a = on[0]-off[0]\n",
    "    flux_shift_b = on[1] - off[1]\n",
    "\n",
    "    hspace = ftc.hilbert_space\n",
    "    dims = hspace.subsystem_dims\n",
    "    hamiltonian = qt.Qobj(ftc.hamiltonian(), dims=[dims, dims])\n",
    "\n",
    "    theta1_op = qt.Qobj(ftc.θ1_operator(), dims=[dims, dims])\n",
    "    theta2_op = qt.Qobj(ftc.θ2_operator(), dims=[dims, dims])\n",
    "    theta3_op = qt.Qobj(ftc.θ3_operator(), dims=[dims, dims])\n",
    "    theta4_op = qt.Qobj(ftc.θ4_operator(), dims=[dims, dims])\n",
    "    drive_c = (\n",
    "        (ftc.E_La + ftc.E_Lb) / 2 * (theta1_op - theta2_op) / 2\n",
    "        - (ftc.E_L1 + ftc.E_L2 + ftc.E_La + ftc.E_Lb) / 4 * theta3_op\n",
    "    )\n",
    "    drive_a = (ftc.E_La + ftc.E_Lb)/2 / 2* (-2*theta1_op+theta3_op+theta4_op)\n",
    "    drive_b = (ftc.E_La + ftc.E_Lb)/2 / 2* (-2*theta2_op-theta3_op+theta4_op)\n",
    "\n",
    "    evals, evecs = hamiltonian.eigenstates(hspace.dimension, tol=1e-10)\n",
    "\n",
    "    subspace_state_idx = [0, 1, 2, 3]\n",
    "    subspace1_evecs = [evecs[idx] for idx in subspace_state_idx]\n",
    "    subspace2_evecs = [evec for idx, evec in enumerate(evecs) if idx not in subspace_state_idx]\n",
    "\n",
    "    H_sw, _, _ = cc.cqed.block_diagonalize_pymablock(\n",
    "        [hamiltonian, (flux_shift_a*drive_a + flux_shift_b*drive_b + flux_shiftc*drive_c)*2*np.pi],     \n",
    "        subspace_eigenvectors=[subspace1_evecs, subspace2_evecs],\n",
    "        atol=1e-10,\n",
    "    )\n",
    "\n",
    "    H_eff = 0\n",
    "    for i in range(100):\n",
    "        if np.linalg.norm(H_sw[0,0,i])<1e-8:\n",
    "            break\n",
    "        H_eff += H_sw[0,0,i]\n",
    "    return np.abs(H_eff[1,2])\n",
    "\n",
    "# Generate 20 flux_c values between 0.2 and 0.4\n",
    "flux_c_values = np.linspace(0., 0.5, 6)\n",
    "\n",
    "# Use joblib to parallelize the computation\n",
    "results = Parallel(n_jobs=1)(delayed(calculate_H_eff)(flux_c) for flux_c in flux_c_values)\n",
    "\n"
   ]
  },
  {
   "cell_type": "code",
   "execution_count": 9,
   "metadata": {},
   "outputs": [
    {
     "data": {
      "image/png": "[encoded data removed]",
      "text/plain": [
       "<Figure size 1000x600 with 1 Axes>"
      ]
     },
     "metadata": {},
     "output_type": "display_data"
    }
   ],
   "source": [
    "# Plot the results\n",
    "plt.figure(figsize=(10, 6))\n",
    "plt.plot(flux_c_values, results, 'b-o')\n",
    "plt.xlabel('flux_c')\n",
    "plt.ylabel('|H_eff[0,3]|')\n",
    "plt.title('|H_eff[0,3]| vs flux_c')\n",
    "# plt.ylim(-0.025,0.025)\n",
    "plt.grid(True)\n",
    "plt.show()"
   ]
  },
  {
   "cell_type": "markdown",
   "metadata": {},
   "source": [
    "## check the charge operator in bare basis at ~0.27 sweet spot"
   ]
  },
  {
   "cell_type": "code",
   "execution_count": 6,
   "metadata": {},
   "outputs": [],
   "source": [
    "ftc.Φ1, ftc.Φ2, ftc.Φ3 = [0.4823500501369615,0.5176499498630385,0.2647067359584053]\n",
    "hamiltonian = ftc.hamiltonian().toarray()\n",
    "charge_op3 = ftc.Q3_operator().toarray()\n",
    "charge_op4 = ftc.Q4_operator().toarray()"
   ]
  },
  {
   "cell_type": "code",
   "execution_count": 25,
   "metadata": {},
   "outputs": [],
   "source": [
    "\n",
    "phi1, phi2, phi3 = find_sweetspot_by_spectrum(\n",
    "        ftc, \n",
    "        # flux_c=0.3,\n",
    "        flux_s_bounds=[-0.1, 0.1],\n",
    "        run_num=20,\n",
    "        flux_c_bounds=[0.25,0.28],\n",
    "        mode = \"l1+l2\"\n",
    "    )"
   ]
  },
  {
   "cell_type": "code",
   "execution_count": 26,
   "metadata": {},
   "outputs": [
    {
     "data": {
      "text/plain": [
       "(0.48235440694628967, 0.5176455930537104, 0.2740731827162718)"
      ]
     },
     "execution_count": 26,
     "metadata": {},
     "output_type": "execute_result"
    }
   ],
   "source": [
    "phi1, phi2, phi3"
   ]
  },
  {
   "cell_type": "code",
   "execution_count": 27,
   "metadata": {},
   "outputs": [
    {
     "name": "stdout",
     "output_type": "stream",
     "text": [
      "Derivative matrix:\n",
      "[[ 0.006819  0.000996 -0.007934]\n",
      " [-0.017628 -0.020479  0.008499]\n",
      " [-0.02407   0.020347  0.00088 ]]\n"
     ]
    }
   ],
   "source": [
    "import numpy as np\n",
    "\n",
    "# Initialize parameters\n",
    "ftc.Φ1, ftc.Φ2, ftc.Φ3 = [0.48235440694628967, 0.5176455930537104, 0.2740731827162718]\n",
    "h = 1e-5  # Small step size for finite differences\n",
    "\n",
    "# Compute original eigenvalues\n",
    "evals = ftc.eigenvals() - ftc.eigenvals()[0]\n",
    "\n",
    "# Function to compute the eigenvalues given parameters\n",
    "def compute_evals(ftc):\n",
    "    return ftc.eigenvals() - ftc.eigenvals()[0]\n",
    "\n",
    "# Initialize the derivative matrix\n",
    "derivative_matrix = np.zeros((3, 3))\n",
    "\n",
    "# Compute derivatives w.r.t ftc.Φ1\n",
    "ftc.Φ1 += h\n",
    "evals_Φ1_plus = compute_evals(ftc)\n",
    "ftc.Φ1 -= 2 * h\n",
    "evals_Φ1_minus = compute_evals(ftc)\n",
    "ftc.Φ1 += h  # Reset to original value\n",
    "\n",
    "derivative_matrix[0, 0] = (evals_Φ1_plus[1] - evals_Φ1_minus[1]) / (2 * h)\n",
    "derivative_matrix[1, 0] = (evals_Φ1_plus[2] - evals_Φ1_minus[2]) / (2 * h)\n",
    "derivative_matrix[2, 0] = (evals_Φ1_plus[3] - evals_Φ1_minus[3]) / (2 * h)\n",
    "\n",
    "# Compute derivatives w.r.t ftc.Φ2\n",
    "ftc.Φ2 += h\n",
    "evals_Φ2_plus = compute_evals(ftc)\n",
    "ftc.Φ2 -= 2 * h\n",
    "evals_Φ2_minus = compute_evals(ftc)\n",
    "ftc.Φ2 += h  # Reset to original value\n",
    "\n",
    "derivative_matrix[0, 1] = (evals_Φ2_plus[1] - evals_Φ2_minus[1]) / (2 * h)\n",
    "derivative_matrix[1, 1] = (evals_Φ2_plus[2] - evals_Φ2_minus[2]) / (2 * h)\n",
    "derivative_matrix[2, 1] = (evals_Φ2_plus[3] - evals_Φ2_minus[3]) / (2 * h)\n",
    "\n",
    "# Compute derivatives w.r.t ftc.Φ3\n",
    "ftc.Φ3 += h\n",
    "evals_Φ3_plus = compute_evals(ftc)\n",
    "ftc.Φ3 -= 2 * h\n",
    "evals_Φ3_minus = compute_evals(ftc)\n",
    "ftc.Φ3 += h  # Reset to original value\n",
    "\n",
    "derivative_matrix[0, 2] = (evals_Φ3_plus[1] - evals_Φ3_minus[1]) / (2 * h)\n",
    "derivative_matrix[1, 2] = (evals_Φ3_plus[2] - evals_Φ3_minus[2]) / (2 * h)\n",
    "derivative_matrix[2, 2] = (evals_Φ3_plus[3] - evals_Φ3_minus[3]) / (2 * h)\n",
    "\n",
    "# Print the derivative matrix\n",
    "print(\"Derivative matrix:\")\n",
    "print(derivative_matrix)\n"
   ]
  },
  {
   "cell_type": "code",
   "execution_count": 12,
   "metadata": {},
   "outputs": [],
   "source": [
    "# Extract the diagonal elements of the Hamiltonian and their indices\n",
    "diag_elements = np.diag(hamiltonian)\n",
    "indices = np.argsort(diag_elements)\n",
    "\n",
    "# Sort the Hamiltonian matrix by rearranging rows and columns according to the sorted indices\n",
    "sorted_hamiltonian = hamiltonian[np.ix_(indices, indices)]\n",
    "\n",
    "# Apply the same rearrangement to the coupling matrix\n",
    "charge_op3 = charge_op3[np.ix_(indices, indices)]\n",
    "charge_op4 = charge_op4[np.ix_(indices, indices)]"
   ]
  },
  {
   "cell_type": "code",
   "execution_count": 13,
   "metadata": {},
   "outputs": [],
   "source": [
    "evals,U = np.linalg.eigh(sorted_hamiltonian)\n",
    "Ud = U.transpose().conjugate()\n"
   ]
  },
  {
   "cell_type": "code",
   "execution_count": 14,
   "metadata": {},
   "outputs": [
    {
     "data": {
      "text/plain": [
       "array([0.000000e+00, 3.558536e-02, 5.823323e-02, 9.381833e-02, 4.399984e+00, 4.435574e+00, 5.024114e+00, 5.082360e+00,\n",
       "       5.169787e+00, 5.205398e+00, 5.607070e+00, 5.665294e+00, 7.140239e+00, 7.172739e+00, 7.210144e+00, 7.217575e+00,\n",
       "       9.424112e+00, 1.000703e+01, 1.019390e+01, 1.058294e+01, 1.077684e+01, 1.118058e+01, 1.118701e+01, 1.154628e+01,\n",
       "       1.183719e+01, 1.220150e+01, 1.231453e+01, 1.278401e+01, 1.423831e+01, 1.516500e+01, 1.577584e+01, 1.578380e+01,\n",
       "       1.608464e+01, 1.638528e+01, 1.656882e+01, 1.672399e+01, 1.720895e+01, 1.731337e+01, 1.740995e+01, 1.774225e+01,\n",
       "       1.789288e+01, 2.036128e+01, 2.116244e+01, 2.128607e+01, 2.184698e+01, 2.209877e+01, 2.239689e+01, 2.257652e+01,\n",
       "       2.269665e+01, 2.276512e+01, 2.276661e+01, 2.307325e+01, 2.329905e+01, 2.431619e+01, 2.691419e+01, 2.726710e+01,\n",
       "       2.753494e+01, 2.773958e+01, 2.788984e+01, 2.807117e+01, 2.819688e+01, 2.852487e+01, 2.973637e+01, 2.977185e+01,\n",
       "       2.979473e+01, 2.983021e+01, 3.016377e+01, 3.021678e+01, 3.034129e+01, 3.035296e+01, 3.204949e+01, 3.270285e+01,\n",
       "       3.287079e+01, 3.351462e+01, 3.367956e+01, 3.387716e+01, 3.387956e+01, 3.409446e+01, 3.413542e+01, 3.417098e+01,\n",
       "       3.465136e+01, 3.475924e+01, 3.481748e+01, 3.490318e+01, 3.493879e+01, 3.524521e+01, 3.533969e+01, 3.539790e+01,\n",
       "       3.541615e+01, 3.583755e+01, 3.688324e+01, 3.691018e+01, 3.697624e+01, 3.698291e+01, 3.745299e+01, 3.813181e+01,\n",
       "       3.833745e+01, 3.875882e+01, 3.890445e+01, 3.896536e+01, 3.910997e+01, 3.915831e+01, 3.934888e+01, 3.955784e+01,\n",
       "       3.973868e+01, 3.992605e+01, 4.031785e+01, 4.050644e+01, 4.091901e+01, 4.092548e+01, 4.118956e+01, 4.122969e+01,\n",
       "       4.130031e+01, 4.133335e+01, 4.134899e+01, 4.157224e+01, 4.194648e+01, 4.206908e+01, 4.252818e+01, 4.321413e+01,\n",
       "       4.380531e+01, 4.397003e+01, 4.398677e+01, 4.457722e+01, 4.481585e+01, 4.490020e+01, 4.514469e+01, 4.514558e+01,\n",
       "       4.546384e+01, 4.551015e+01, 4.552143e+01, 4.564968e+01, 4.582053e+01, 4.612225e+01, 4.624845e+01, 4.630395e+01,\n",
       "       4.640117e+01, 4.645946e+01, 4.682108e+01, 4.694236e+01, 4.708660e+01, 4.716193e+01, 4.755521e+01, 4.767107e+01,\n",
       "       4.843808e+01, 4.931055e+01, 4.963997e+01, 4.992952e+01, 5.009572e+01, 5.010548e+01, 5.025961e+01, 5.043267e+01,\n",
       "       5.055924e+01, 5.088664e+01, 5.089716e+01, 5.102078e+01, 5.163154e+01, 5.175839e+01, 5.178110e+01, 5.183173e+01,\n",
       "       5.202817e+01, 5.207345e+01, 5.214478e+01, 5.233302e+01, 5.249451e+01, 5.279655e+01, 5.285642e+01, 5.287966e+01,\n",
       "       5.306845e+01, 5.405316e+01, 5.442565e+01, 5.505578e+01, 5.522132e+01, 5.585089e+01, 5.585548e+01, 5.623116e+01,\n",
       "       5.652760e+01, 5.653327e+01, 5.673794e+01, 5.688218e+01, 5.697085e+01, 5.700754e+01, 5.719008e+01, 5.734005e+01,\n",
       "       5.749406e+01, 5.773076e+01, 5.782396e+01, 5.795494e+01, 5.821048e+01, 5.839689e+01, 5.885353e+01, 5.953171e+01,\n",
       "       5.954020e+01, 6.005046e+01, 6.005498e+01, 6.026961e+01, 6.039196e+01, 6.043624e+01, 6.096608e+01, 6.103451e+01,\n",
       "       6.105222e+01, 6.126510e+01, 6.138344e+01, 6.166088e+01, 6.185731e+01, 6.188822e+01, 6.189616e+01, 6.234476e+01,\n",
       "       6.254873e+01, 6.285862e+01, 6.302496e+01, 6.313516e+01, 6.340428e+01, 6.346578e+01, 6.359783e+01, 6.360432e+01,\n",
       "       6.384726e+01, 6.397058e+01, 6.398349e+01, 6.406478e+01, 6.409713e+01, 6.467323e+01, 6.472375e+01, 6.496643e+01,\n",
       "       6.500150e+01, 6.502091e+01, 6.542304e+01, 6.546515e+01, 6.547185e+01, 6.560599e+01, 6.609653e+01, 6.631499e+01,\n",
       "       6.638423e+01, 6.653410e+01, 6.697761e+01, 6.715802e+01, 6.724598e+01, 6.728816e+01, 6.765117e+01, 6.776439e+01,\n",
       "       6.777211e+01, 6.800283e+01, 6.817851e+01, 6.825860e+01, 6.827982e+01, 6.829804e+01, 6.850947e+01, 6.861639e+01,\n",
       "       6.867904e+01, 6.887960e+01, 6.889577e+01, 6.893561e+01, 6.902358e+01, 6.910036e+01, 6.916148e+01, 6.934325e+01,\n",
       "       6.946489e+01, 6.957663e+01, 7.004503e+01, 7.036369e+01, 7.052048e+01, 7.091300e+01, 7.119169e+01, 7.120032e+01,\n",
       "       7.148209e+01, 7.168615e+01, 7.172469e+01, 7.188274e+01, 7.202085e+01, 7.225105e+01, 7.226690e+01, 7.234152e+01,\n",
       "       7.243688e+01, 7.289057e+01, 7.300403e+01, 7.309871e+01, 7.317509e+01, 7.338665e+01, 7.358927e+01, 7.364349e+01,\n",
       "       7.366352e+01, 7.390756e+01, 7.392810e+01, 7.396210e+01, 7.442496e+01, 7.449191e+01, 7.496871e+01, 7.524748e+01,\n",
       "       7.526413e+01, 7.538982e+01, 7.556644e+01, 7.561766e+01, 7.572503e+01, 7.604535e+01, 7.607169e+01, 7.609501e+01,\n",
       "       7.629093e+01, 7.633703e+01, 7.652848e+01, 7.661760e+01, 7.663903e+01, 7.707120e+01, 7.722401e+01, 7.737847e+01,\n",
       "       7.738171e+01, 7.742201e+01, 7.776644e+01, 7.807207e+01, 7.812906e+01, 7.840143e+01, 7.843134e+01, 7.913659e+01,\n",
       "       7.919946e+01, 7.921231e+01, 7.950964e+01, 7.963249e+01, 7.985584e+01, 8.016155e+01, 8.027049e+01, 8.041031e+01,\n",
       "       8.045528e+01, 8.083548e+01, 8.085598e+01, 8.090204e+01, 8.093992e+01, 8.105515e+01, 8.121564e+01, 8.141052e+01,\n",
       "       8.198530e+01, 8.270102e+01, 8.286797e+01, 8.305800e+01, 8.330422e+01, 8.335642e+01, 8.386251e+01, 8.419913e+01,\n",
       "       8.431869e+01, 8.444138e+01, 8.471219e+01, 8.485900e+01, 8.522904e+01, 8.560755e+01, 8.583641e+01, 8.628427e+01,\n",
       "       8.812055e+01, 8.848345e+01, 8.854355e+01, 8.953020e+01, 8.968232e+01, 9.410576e+01])"
      ]
     },
     "execution_count": 14,
     "metadata": {},
     "output_type": "execute_result"
    }
   ],
   "source": [
    "evals-evals[0]"
   ]
  },
  {
   "cell_type": "code",
   "execution_count": 20,
   "metadata": {},
   "outputs": [
    {
     "data": {
      "text/plain": [
       "array([[0.+2.334457e-17j, 0.-8.716518e-05j, 0.+1.437585e-04j, 0.-1.268180e-05j],\n",
       "       [0.+8.716518e-05j, 0.+2.819479e-17j, 0.-3.499035e-06j, 0.+1.415612e-04j],\n",
       "       [0.-1.437585e-04j, 0.+3.499035e-06j, 0.+2.776458e-17j, 0.-8.937458e-05j],\n",
       "       [0.+1.268180e-05j, 0.-1.415612e-04j, 0.+8.937458e-05j, 0.+2.950420e-17j]])"
      ]
     },
     "execution_count": 20,
     "metadata": {},
     "output_type": "execute_result"
    }
   ],
   "source": [
    "(Ud@charge_op3@U)[:4,:4]"
   ]
  },
  {
   "cell_type": "code",
   "execution_count": 18,
   "metadata": {},
   "outputs": [
    {
     "data": {
      "text/plain": [
       "array([[0.+2.879912e-20j, 0.+1.279460e-05j, 0.+2.026237e-05j, 0.+6.114244e-08j],\n",
       "       [0.-1.279460e-05j, 0.+5.733354e-20j, 0.-1.532716e-08j, 0.+2.058080e-05j],\n",
       "       [0.-2.026237e-05j, 0.+1.532716e-08j, 0.+1.379605e-19j, 0.+1.247826e-05j],\n",
       "       [0.-6.114244e-08j, 0.-2.058080e-05j, 0.-1.247826e-05j, 0.+4.053439e-19j]])"
      ]
     },
     "execution_count": 18,
     "metadata": {},
     "output_type": "execute_result"
    }
   ],
   "source": [
    "(Ud@charge_op4@U)[:4,:4]"
   ]
  },
  {
   "cell_type": "code",
   "execution_count": null,
   "metadata": {},
   "outputs": [],
   "source": []
  }
 ],
 "metadata": {
  "kernelspec": {
   "display_name": "fluxonium",
   "language": "python",
   "name": "python3"
  },
  "language_info": {
   "codemirror_mode": {
    "name": "ipython",
    "version": 3
   },
   "file_extension": ".py",
   "mimetype": "text/x-python",
   "name": "python",
   "nbconvert_exporter": "python",
   "pygments_lexer": "ipython3",
   "version": "3.11.10"
  }
 },
 "nbformat": 4,
 "nbformat_minor": 2
}
