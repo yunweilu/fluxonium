{
 "cells": [
  {
   "cell_type": "code",
   "execution_count": 1,
   "metadata": {},
   "outputs": [],
   "source": [
    "import sys \n",
    "import os\n",
    "from sympy.physics.secondquant import *\n",
    "from sympy import symbols,I\n",
    "import sympy as sp\n"
   ]
  },
  {
   "cell_type": "code",
   "execution_count": 2,
   "metadata": {},
   "outputs": [],
   "source": [
    "from sympy import symbols, Matrix\n",
    "n = 6\n",
    "# Define the symbolic variables for the matrix elements\n",
    "phi_s = symbols('phi_s')\n",
    "phi_sij = symbols('phi_sij', cls=symbols)\n",
    "\n",
    "# Initialize the matrix with zeros\n",
    "Vs_symbolic = Matrix.zeros(n)\n",
    "\n",
    "# Define the symbolic variables for the matrix elements\n",
    "phi_sij = sp.symbols('phi_s:6:6')\n",
    "\n",
    "# Fill the diagonal and first two upper diagonal elements with specific symbols\n",
    "for i in range(n):\n",
    "    Vs_symbolic[i, i] = phi_sij[i * n + i]\n",
    "    if i < n - 1:\n",
    "        Vs_symbolic[i, i + 1] = phi_sij[i * n + i + 1]\n",
    "        Vs_symbolic[i + 1, i] = phi_sij[i * n + i + 1]  # Ensure symmetry\n",
    "    if i < n - 2:\n",
    "        Vs_symbolic[i, i + 2] = phi_sij[i * n + i + 2]\n",
    "        Vs_symbolic[i + 2, i] = phi_sij[i * n + i + 2]  # Ensure symmetry\n",
    "\n",
    "Vs = Vs_symbolic\n"
   ]
  },
  {
   "cell_type": "code",
   "execution_count": 3,
   "metadata": {},
   "outputs": [
    {
     "data": {
      "text/latex": [
       "$\\displaystyle \\left[\\begin{matrix}\\phi_{s00} & \\phi_{s01} & \\phi_{s02} & 0 & 0 & 0\\\\\\phi_{s01} & \\phi_{s11} & \\phi_{s12} & \\phi_{s13} & 0 & 0\\\\\\phi_{s02} & \\phi_{s12} & \\phi_{s22} & \\phi_{s23} & \\phi_{s24} & 0\\\\0 & \\phi_{s13} & \\phi_{s23} & \\phi_{s33} & \\phi_{s34} & \\phi_{s35}\\\\0 & 0 & \\phi_{s24} & \\phi_{s34} & \\phi_{s44} & \\phi_{s45}\\\\0 & 0 & 0 & \\phi_{s35} & \\phi_{s45} & \\phi_{s55}\\end{matrix}\\right]$"
      ],
      "text/plain": [
       "Matrix([\n",
       "[phi_s00, phi_s01, phi_s02,       0,       0,       0],\n",
       "[phi_s01, phi_s11, phi_s12, phi_s13,       0,       0],\n",
       "[phi_s02, phi_s12, phi_s22, phi_s23, phi_s24,       0],\n",
       "[      0, phi_s13, phi_s23, phi_s33, phi_s34, phi_s35],\n",
       "[      0,       0, phi_s24, phi_s34, phi_s44, phi_s45],\n",
       "[      0,       0,       0, phi_s35, phi_s45, phi_s55]])"
      ]
     },
     "execution_count": 3,
     "metadata": {},
     "output_type": "execute_result"
    }
   ],
   "source": [
    "Vs"
   ]
  },
  {
   "cell_type": "code",
   "execution_count": 4,
   "metadata": {},
   "outputs": [],
   "source": [
    "import sympy as sp\n",
    "omega_s = sp.Symbol('omega_s')\n",
    "alpha = sp.Symbol('alpha')\n",
    "# Generate the diagonal elements\n",
    "diagonal = [i*omega_s + alpha*i*(i-1)/2 for i in range(0, n)]\n",
    "\n",
    "# Create the diagonal matrix\n",
    "Hs = sp.diag(*diagonal)\n",
    "def generate_H1_H2(d):\n",
    "    # Create symbolic variables for epsilon1 and epsilon2, but set the first element to 0\n",
    "    epsilon1 = [0] + [sp.Symbol(f'epsilon^1_{i}') for i in range(1, d)]\n",
    "    epsilon2 = [0] + [sp.Symbol(f'epsilon^2_{i}') for i in range(1, d)]\n",
    "\n",
    "    # Generate H1 (diagonal matrix with epsilon^1_i, first element is 0)\n",
    "    H1 = sp.diag(*epsilon1)\n",
    "\n",
    "    # Generate H2 (diagonal matrix with epsilon^2_i, first element is 0)\n",
    "    H2 = sp.diag(*epsilon2)\n",
    "\n",
    "    return H1, H2\n",
    "\n",
    "\n",
    "def generate_V1_V2(n):\n",
    "    # Create symbolic variables for V1\n",
    "    V1 = sp.zeros(n, n)\n",
    "    for i in range(n):\n",
    "        for j in range(n):\n",
    "            if i != j:\n",
    "                # Check if both i and j are either both even or both odd\n",
    "                if (i % 2 == j % 2):\n",
    "                    V1[i, j] = 0  # Set to 0 if both are odd or both are even\n",
    "                else:\n",
    "                    V1[i, j] = sp.Symbol(f'phi^1_{i}{j}')\n",
    "                    V1[j, i] = V1[i, j]  # Ensure symmetry\n",
    "\n",
    "    # Create symbolic variables for V2\n",
    "    V2 = sp.zeros(n, n)\n",
    "    for i in range(n):\n",
    "        for j in range(n):\n",
    "            if i != j:\n",
    "                # Check if both i and j are either both even or both odd\n",
    "                if (i % 2 == j % 2):\n",
    "                    V2[i, j] = 0  # Set to 0 if both are odd or both are even\n",
    "                else:\n",
    "                    V2[i, j] = sp.Symbol(f'phi^2_{i}{j}')\n",
    "                    V2[j, i] = V2[i, j]  # Ensure symmetry\n",
    "\n",
    "    return V1, V2\n",
    "\n",
    "\n",
    "# Set the dimension\n",
    "d = 2\n",
    "\n",
    "# Generate H1 and H2\n",
    "H1, H2 = generate_H1_H2(d)\n",
    "V1, V2 = generate_V1_V2(d)\n",
    "\n",
    "Is = sp.eye(n)\n",
    "I1 = I2 = sp.eye(d)\n"
   ]
  },
  {
   "cell_type": "code",
   "execution_count": 5,
   "metadata": {},
   "outputs": [],
   "source": [
    "from sympy.physics.quantum import TensorProduct\n",
    "EL = sp.Symbol('E_L')\n",
    "phis = sp.Symbol('phi_s')\n",
    "Hs = TensorProduct(Hs,TensorProduct(I2,I1))\n",
    "H1 = TensorProduct(Is,TensorProduct(I2,H1))\n",
    "H2 = TensorProduct(Is,TensorProduct(H2,I1))\n",
    "H_int1 = -EL/2*TensorProduct(Vs,TensorProduct(I2,V1))\n",
    "H_int2 = EL/2*TensorProduct(Vs,TensorProduct(V2,I1))\n"
   ]
  },
  {
   "cell_type": "code",
   "execution_count": 6,
   "metadata": {},
   "outputs": [
    {
     "data": {
      "text/latex": [
       "$\\displaystyle \\left[\\begin{matrix}0 & \\phi^{1}_{10}\\\\\\phi^{1}_{10} & 0\\end{matrix}\\right]$"
      ],
      "text/plain": [
       "Matrix([\n",
       "[       0, phi^1_10],\n",
       "[phi^1_10,        0]])"
      ]
     },
     "execution_count": 6,
     "metadata": {},
     "output_type": "execute_result"
    }
   ],
   "source": [
    "V1"
   ]
  },
  {
   "cell_type": "code",
   "execution_count": 7,
   "metadata": {},
   "outputs": [],
   "source": [
    "H0 = Hs + H1 + H2\n",
    "V = H_int1 + H_int2"
   ]
  },
  {
   "cell_type": "code",
   "execution_count": 8,
   "metadata": {},
   "outputs": [],
   "source": [
    "import sympy as sp\n",
    "\n",
    "def shuffle_H0_and_V(H0, V, d):\n",
    "    # Make H0 mutable to allow modifications\n",
    "    H0_new = H0.as_mutable()\n",
    "    \n",
    "    # Make V mutable to allow modifications\n",
    "    V_new = V.as_mutable()\n",
    "\n",
    "        \n",
    "    # Swap diagonal elements at indices 3 and d+1\n",
    "    H0_new[3, 3], H0_new[d+1, d+1] = H0[d+1, d+1], H0[3, 3]\n",
    "    \n",
    "    # Swap rows and columns at indices 3 and d+1 in V\n",
    "    V_new[3, :], V_new[d+1, :] = V[d+1, :], V[3, :]\n",
    "    V_new[:, 3], V_new[:, d+1] = V[:, d+1], V[:, 3]\n",
    "    \n",
    "    # Swap diagonal elements at indices 2 and d\n",
    "    H0_new[2, 2], H0_new[d, d] = H0[d, d], H0[2, 2]\n",
    "    \n",
    "    # Swap rows and columns at indices 2 and d in V\n",
    "    V_new[2, :], V_new[d, :] = V_new[d, :], V_new[2, :]\n",
    "    V_new[:, 2], V_new[:, d] = V_new[:, d], V_new[:, 2]\n",
    "\n",
    "    \n",
    "    # Optionally convert back to immutable matrices if needed\n",
    "    H0_new = H0_new.as_immutable()\n",
    "    V_new = V_new.as_immutable()\n",
    "\n",
    "    return H0_new, V_new\n",
    "import sympy as sp\n",
    "\n",
    "def commutator(A, B):\n",
    "    return A * B - B * A\n",
    "\n",
    "def nested_commutator(A, B, n):\n",
    "    if n == 1:\n",
    "        return commutator(A, B)\n",
    "    else:\n",
    "        return commutator(A, nested_commutator(A, B, n-1))\n",
    "\n",
    "def create_subspace_projector(dim, subspace_indices):\n",
    "    \"\"\"\n",
    "    Create a projector for the given subspace using SymPy.\n",
    "\n",
    "    Args:\n",
    "        dim (int): The total dimension of the Hilbert space.\n",
    "        subspace_indices (list): The indices of the subspace.\n",
    "\n",
    "    Returns:\n",
    "        tuple: The projector P for the given subspace and the complementary projector Q (both SymPy matrices).\n",
    "    \"\"\"\n",
    "    # Initialize the projector matrix P as a zero matrix of size dim x dim\n",
    "    P = sp.zeros(dim, dim)\n",
    "    \n",
    "    # Create the basis states and compute the projector for each\n",
    "    for idx in subspace_indices:\n",
    "        # Create a basis state (column vector) with 1 at the index 'idx'\n",
    "        state = sp.zeros(dim, 1)\n",
    "        state[idx, 0] = 1\n",
    "        \n",
    "        # Compute the rank-1 projector for this basis state: |state><state|\n",
    "        P += state * state.T  # Outer product in SymPy is `*`\n",
    "    # The complementary projector Q = I - P\n",
    "    Q = sp.eye(dim) - P\n",
    "    \n",
    "    return P, Q\n",
    "\n",
    "def swt_subspace(H0, V, subspace_indices):\n",
    "    \"\"\"\n",
    "    Compute the Schrieffer-Wolff transformation on a subspace of the Hamiltonian.\n",
    "\n",
    "    Args:\n",
    "        H0 (sp.Matrix): The unperturbed Hamiltonian.\n",
    "        V (sp.Matrix): The perturbation Hamiltonian.\n",
    "        subspace_indices (list): The indices of the subspace to consider.\n",
    "\n",
    "    Returns:\n",
    "        tuple: The Schrieffer-Wolff transformation operators (S1, S2, S3) and \n",
    "               the transformed Hamiltonian components (H1, H2, H3, H4).\n",
    "    \"\"\"\n",
    "    dim = H0.shape[0]\n",
    "    P, Q = create_subspace_projector(dim, subspace_indices)\n",
    "    \n",
    "    # Extract the subspace of H0 and V\n",
    "    Vd = P * V * P + Q * V * Q\n",
    "    Vod = P * V * Q + Q * V * P\n",
    "\n",
    "    # Compute the energy differences in the subspace\n",
    "    delta = sp.Matrix([[H0[i,i] - H0[j,j] if i != j else 1 for j in range(dim)] for i in range(dim)])\n",
    "\n",
    "    # Compute the Schrieffer-Wolff transformation components\n",
    "    H1 = Vd\n",
    "    S1 = sp.Matrix([[Vod[i,j] / delta[i,j] for j in range(dim)] for i in range(dim)])\n",
    "    H2 = sp.Rational(1, 2) * commutator(S1, Vod)\n",
    "    S2 = sp.Matrix([[-commutator(Vd, S1)[i,j] / delta[i,j] for j in range(dim)] for i in range(dim)])\n",
    "\n",
    "    # H3 = sp.Rational(1, 2) * commutator(S2, Vod)\n",
    "    # S3 = sp.Matrix([[(commutator(S2, Vd)[i,j] + sp.Rational(1, 3) * nested_commutator(S1, Vod, 2)[i,j]) / delta[i,j] for j in range(dim)] for i in range(dim)])\n",
    "    # H4 = sp.Rational(1, 2) * commutator(S3, Vod) - sp.Rational(1, 24) * nested_commutator(S1, Vod, 3)\n",
    "\n",
    "    return [S1,S2], [H1, H2,]\n"
   ]
  },
  {
   "cell_type": "code",
   "execution_count": 9,
   "metadata": {},
   "outputs": [],
   "source": [
    "H0,V = shuffle_H0_and_V(H0, V, d)"
   ]
  },
  {
   "cell_type": "code",
   "execution_count": 10,
   "metadata": {},
   "outputs": [],
   "source": [
    "indices = [0,1,2,3]\n",
    "result = swt_subspace(H0, V, indices)"
   ]
  },
  {
   "cell_type": "code",
   "execution_count": 11,
   "metadata": {},
   "outputs": [],
   "source": [
    "S1,S2 = result[0]"
   ]
  },
  {
   "cell_type": "code",
   "execution_count": 15,
   "metadata": {},
   "outputs": [],
   "source": [
    "# Initialize chargeop as a zero matrix\n",
    "chargeop = sp.zeros(n, n)\n",
    "\n",
    "# Fill in the subdiagonal elements\n",
    "for i in range(n):\n",
    "    if i < n - 1:\n",
    "        chargeop[i, i + 1] = I * sp.Symbol(f'n_{i}{i + 1}')\n",
    "        chargeop[i + 1, i] = -I * sp.Symbol(f'n_{i}{i + 1}')  # Ensure symmetry\n",
    "    if i < n - 2:\n",
    "        chargeop[i, i + 2] = I * sp.Symbol(f'n_{i}{i + 2}')\n",
    "        chargeop[i + 2, i] = -I * sp.Symbol(f'n_{i}{i + 2}')  # Ensure symmetry\n",
    "\n",
    "# Apply the tensor product and other operations\n",
    "chargeop = TensorProduct(chargeop, TensorProduct(I2, I1))\n",
    "\n"
   ]
  },
  {
   "cell_type": "code",
   "execution_count": 16,
   "metadata": {},
   "outputs": [],
   "source": [
    "\n",
    "# Define the commutator function\n",
    "def comm(X, Y):\n",
    "    return X*Y - Y*X"
   ]
  },
  {
   "cell_type": "code",
   "execution_count": 19,
   "metadata": {},
   "outputs": [],
   "source": [
    "x= comm(S2, chargeop)[0,3]"
   ]
  },
  {
   "cell_type": "code",
   "execution_count": 20,
   "metadata": {},
   "outputs": [
    {
     "data": {
      "text/latex": [
       "$\\displaystyle - \\frac{i n_{01} \\left(- \\frac{E_{L}^{2} \\phi^{1}_{10} \\phi^{2}_{10} \\phi_{s00} \\phi_{s01}}{4 \\left(- \\epsilon^{2}_{1} + \\omega_{s}\\right)} - \\frac{E_{L}^{2} \\phi^{1}_{10} \\phi^{2}_{10} \\phi_{s00} \\phi_{s01}}{4 \\left(- \\epsilon^{1}_{1} + \\omega_{s}\\right)} + \\frac{E_{L}^{2} \\phi^{1}_{10} \\phi^{2}_{10} \\phi_{s01} \\phi_{s11}}{4 \\left(- \\epsilon^{2}_{1} + \\omega_{s}\\right)} + \\frac{E_{L}^{2} \\phi^{1}_{10} \\phi^{2}_{10} \\phi_{s01} \\phi_{s11}}{4 \\left(- \\epsilon^{1}_{1} + \\omega_{s}\\right)} + \\frac{E_{L}^{2} \\phi^{1}_{10} \\phi^{2}_{10} \\phi_{s02} \\phi_{s12}}{4 \\left(\\alpha - \\epsilon^{2}_{1} + 2 \\omega_{s}\\right)} + \\frac{E_{L}^{2} \\phi^{1}_{10} \\phi^{2}_{10} \\phi_{s02} \\phi_{s12}}{4 \\left(\\alpha - \\epsilon^{1}_{1} + 2 \\omega_{s}\\right)}\\right)}{- \\epsilon^{1}_{1} - \\epsilon^{2}_{1} + \\omega_{s}} - \\frac{i n_{01} \\left(\\frac{E_{L}^{2} \\phi^{1}_{10} \\phi^{2}_{10} \\phi_{s00} \\phi_{s01}}{4 \\left(- \\epsilon^{2}_{1} - \\omega_{s}\\right)} + \\frac{E_{L}^{2} \\phi^{1}_{10} \\phi^{2}_{10} \\phi_{s00} \\phi_{s01}}{4 \\left(- \\epsilon^{1}_{1} - \\omega_{s}\\right)} - \\frac{E_{L}^{2} \\phi^{1}_{10} \\phi^{2}_{10} \\phi_{s01} \\phi_{s11}}{4 \\left(- \\epsilon^{2}_{1} - \\omega_{s}\\right)} - \\frac{E_{L}^{2} \\phi^{1}_{10} \\phi^{2}_{10} \\phi_{s01} \\phi_{s11}}{4 \\left(- \\epsilon^{1}_{1} - \\omega_{s}\\right)} - \\frac{E_{L}^{2} \\phi^{1}_{10} \\phi^{2}_{10} \\phi_{s02} \\phi_{s12}}{4 \\left(- \\alpha - \\epsilon^{2}_{1} - 2 \\omega_{s}\\right)} - \\frac{E_{L}^{2} \\phi^{1}_{10} \\phi^{2}_{10} \\phi_{s02} \\phi_{s12}}{4 \\left(- \\alpha - \\epsilon^{1}_{1} - 2 \\omega_{s}\\right)}\\right)}{- \\epsilon^{1}_{1} - \\epsilon^{2}_{1} - \\omega_{s}} - \\frac{i n_{02} \\left(- \\frac{E_{L}^{2} \\phi^{1}_{10} \\phi^{2}_{10} \\phi_{s00} \\phi_{s02}}{4 \\left(\\alpha - \\epsilon^{2}_{1} + 2 \\omega_{s}\\right)} - \\frac{E_{L}^{2} \\phi^{1}_{10} \\phi^{2}_{10} \\phi_{s00} \\phi_{s02}}{4 \\left(\\alpha - \\epsilon^{1}_{1} + 2 \\omega_{s}\\right)} + \\frac{E_{L}^{2} \\phi^{1}_{10} \\phi^{2}_{10} \\phi_{s01} \\phi_{s12}}{4 \\left(- \\epsilon^{2}_{1} + \\omega_{s}\\right)} + \\frac{E_{L}^{2} \\phi^{1}_{10} \\phi^{2}_{10} \\phi_{s01} \\phi_{s12}}{4 \\left(- \\epsilon^{1}_{1} + \\omega_{s}\\right)} + \\frac{E_{L}^{2} \\phi^{1}_{10} \\phi^{2}_{10} \\phi_{s02} \\phi_{s22}}{4 \\left(\\alpha - \\epsilon^{2}_{1} + 2 \\omega_{s}\\right)} + \\frac{E_{L}^{2} \\phi^{1}_{10} \\phi^{2}_{10} \\phi_{s02} \\phi_{s22}}{4 \\left(\\alpha - \\epsilon^{1}_{1} + 2 \\omega_{s}\\right)}\\right)}{\\alpha - \\epsilon^{1}_{1} - \\epsilon^{2}_{1} + 2 \\omega_{s}} - \\frac{i n_{02} \\left(\\frac{E_{L}^{2} \\phi^{1}_{10} \\phi^{2}_{10} \\phi_{s00} \\phi_{s02}}{4 \\left(- \\alpha - \\epsilon^{2}_{1} - 2 \\omega_{s}\\right)} + \\frac{E_{L}^{2} \\phi^{1}_{10} \\phi^{2}_{10} \\phi_{s00} \\phi_{s02}}{4 \\left(- \\alpha - \\epsilon^{1}_{1} - 2 \\omega_{s}\\right)} - \\frac{E_{L}^{2} \\phi^{1}_{10} \\phi^{2}_{10} \\phi_{s01} \\phi_{s12}}{4 \\left(- \\epsilon^{2}_{1} - \\omega_{s}\\right)} - \\frac{E_{L}^{2} \\phi^{1}_{10} \\phi^{2}_{10} \\phi_{s01} \\phi_{s12}}{4 \\left(- \\epsilon^{1}_{1} - \\omega_{s}\\right)} - \\frac{E_{L}^{2} \\phi^{1}_{10} \\phi^{2}_{10} \\phi_{s02} \\phi_{s22}}{4 \\left(- \\alpha - \\epsilon^{2}_{1} - 2 \\omega_{s}\\right)} - \\frac{E_{L}^{2} \\phi^{1}_{10} \\phi^{2}_{10} \\phi_{s02} \\phi_{s22}}{4 \\left(- \\alpha - \\epsilon^{1}_{1} - 2 \\omega_{s}\\right)}\\right)}{- \\alpha - \\epsilon^{1}_{1} - \\epsilon^{2}_{1} - 2 \\omega_{s}}$"
      ],
      "text/plain": [
       "-I*n_01*(-E_L**2*phi^1_10*phi^2_10*phi_s00*phi_s01/(4*(-epsilon^2_1 + omega_s)) - E_L**2*phi^1_10*phi^2_10*phi_s00*phi_s01/(4*(-epsilon^1_1 + omega_s)) + E_L**2*phi^1_10*phi^2_10*phi_s01*phi_s11/(4*(-epsilon^2_1 + omega_s)) + E_L**2*phi^1_10*phi^2_10*phi_s01*phi_s11/(4*(-epsilon^1_1 + omega_s)) + E_L**2*phi^1_10*phi^2_10*phi_s02*phi_s12/(4*(alpha - epsilon^2_1 + 2*omega_s)) + E_L**2*phi^1_10*phi^2_10*phi_s02*phi_s12/(4*(alpha - epsilon^1_1 + 2*omega_s)))/(-epsilon^1_1 - epsilon^2_1 + omega_s) - I*n_01*(E_L**2*phi^1_10*phi^2_10*phi_s00*phi_s01/(4*(-epsilon^2_1 - omega_s)) + E_L**2*phi^1_10*phi^2_10*phi_s00*phi_s01/(4*(-epsilon^1_1 - omega_s)) - E_L**2*phi^1_10*phi^2_10*phi_s01*phi_s11/(4*(-epsilon^2_1 - omega_s)) - E_L**2*phi^1_10*phi^2_10*phi_s01*phi_s11/(4*(-epsilon^1_1 - omega_s)) - E_L**2*phi^1_10*phi^2_10*phi_s02*phi_s12/(4*(-alpha - epsilon^2_1 - 2*omega_s)) - E_L**2*phi^1_10*phi^2_10*phi_s02*phi_s12/(4*(-alpha - epsilon^1_1 - 2*omega_s)))/(-epsilon^1_1 - epsilon^2_1 - omega_s) - I*n_02*(-E_L**2*phi^1_10*phi^2_10*phi_s00*phi_s02/(4*(alpha - epsilon^2_1 + 2*omega_s)) - E_L**2*phi^1_10*phi^2_10*phi_s00*phi_s02/(4*(alpha - epsilon^1_1 + 2*omega_s)) + E_L**2*phi^1_10*phi^2_10*phi_s01*phi_s12/(4*(-epsilon^2_1 + omega_s)) + E_L**2*phi^1_10*phi^2_10*phi_s01*phi_s12/(4*(-epsilon^1_1 + omega_s)) + E_L**2*phi^1_10*phi^2_10*phi_s02*phi_s22/(4*(alpha - epsilon^2_1 + 2*omega_s)) + E_L**2*phi^1_10*phi^2_10*phi_s02*phi_s22/(4*(alpha - epsilon^1_1 + 2*omega_s)))/(alpha - epsilon^1_1 - epsilon^2_1 + 2*omega_s) - I*n_02*(E_L**2*phi^1_10*phi^2_10*phi_s00*phi_s02/(4*(-alpha - epsilon^2_1 - 2*omega_s)) + E_L**2*phi^1_10*phi^2_10*phi_s00*phi_s02/(4*(-alpha - epsilon^1_1 - 2*omega_s)) - E_L**2*phi^1_10*phi^2_10*phi_s01*phi_s12/(4*(-epsilon^2_1 - omega_s)) - E_L**2*phi^1_10*phi^2_10*phi_s01*phi_s12/(4*(-epsilon^1_1 - omega_s)) - E_L**2*phi^1_10*phi^2_10*phi_s02*phi_s22/(4*(-alpha - epsilon^2_1 - 2*omega_s)) - E_L**2*phi^1_10*phi^2_10*phi_s02*phi_s22/(4*(-alpha - epsilon^1_1 - 2*omega_s)))/(-alpha - epsilon^1_1 - epsilon^2_1 - 2*omega_s)"
      ]
     },
     "execution_count": 20,
     "metadata": {},
     "output_type": "execute_result"
    }
   ],
   "source": [
    "x"
   ]
  },
  {
   "cell_type": "code",
   "execution_count": 23,
   "metadata": {},
   "outputs": [
    {
     "data": {
      "text/latex": [
       "$\\displaystyle - \\frac{i n_{01} \\left(- \\frac{E_{L}^{2} \\phi^{1}_{10} \\phi^{2}_{10} \\phi_{s00} \\phi_{s01}}{4 \\left(- \\epsilon^{2}_{1} + \\omega_{s}\\right)} - \\frac{E_{L}^{2} \\phi^{1}_{10} \\phi^{2}_{10} \\phi_{s00} \\phi_{s01}}{4 \\left(- \\epsilon^{1}_{1} + \\omega_{s}\\right)} + \\frac{E_{L}^{2} \\phi^{1}_{10} \\phi^{2}_{10} \\phi_{s01} \\phi_{s11}}{4 \\left(- \\epsilon^{2}_{1} + \\omega_{s}\\right)} + \\frac{E_{L}^{2} \\phi^{1}_{10} \\phi^{2}_{10} \\phi_{s01} \\phi_{s11}}{4 \\left(- \\epsilon^{1}_{1} + \\omega_{s}\\right)} + \\frac{E_{L}^{2} \\phi^{1}_{10} \\phi^{2}_{10} \\phi_{s02} \\phi_{s12}}{4 \\left(\\alpha - \\epsilon^{2}_{1} + 2 \\omega_{s}\\right)} + \\frac{E_{L}^{2} \\phi^{1}_{10} \\phi^{2}_{10} \\phi_{s02} \\phi_{s12}}{4 \\left(\\alpha - \\epsilon^{1}_{1} + 2 \\omega_{s}\\right)}\\right)}{- \\epsilon^{1}_{1} - \\epsilon^{2}_{1} + \\omega_{s}} - \\frac{i n_{01} \\left(\\frac{E_{L}^{2} \\phi^{1}_{10} \\phi^{2}_{10} \\phi_{s00} \\phi_{s01}}{4 \\left(- \\epsilon^{2}_{1} - \\omega_{s}\\right)} + \\frac{E_{L}^{2} \\phi^{1}_{10} \\phi^{2}_{10} \\phi_{s00} \\phi_{s01}}{4 \\left(- \\epsilon^{1}_{1} - \\omega_{s}\\right)} - \\frac{E_{L}^{2} \\phi^{1}_{10} \\phi^{2}_{10} \\phi_{s01} \\phi_{s11}}{4 \\left(- \\epsilon^{2}_{1} - \\omega_{s}\\right)} - \\frac{E_{L}^{2} \\phi^{1}_{10} \\phi^{2}_{10} \\phi_{s01} \\phi_{s11}}{4 \\left(- \\epsilon^{1}_{1} - \\omega_{s}\\right)} - \\frac{E_{L}^{2} \\phi^{1}_{10} \\phi^{2}_{10} \\phi_{s02} \\phi_{s12}}{4 \\left(- \\alpha - \\epsilon^{2}_{1} - 2 \\omega_{s}\\right)} - \\frac{E_{L}^{2} \\phi^{1}_{10} \\phi^{2}_{10} \\phi_{s02} \\phi_{s12}}{4 \\left(- \\alpha - \\epsilon^{1}_{1} - 2 \\omega_{s}\\right)}\\right)}{- \\epsilon^{1}_{1} - \\epsilon^{2}_{1} - \\omega_{s}} - \\frac{i n_{02} \\left(- \\frac{E_{L}^{2} \\phi^{1}_{10} \\phi^{2}_{10} \\phi_{s00} \\phi_{s02}}{4 \\left(\\alpha - \\epsilon^{2}_{1} + 2 \\omega_{s}\\right)} - \\frac{E_{L}^{2} \\phi^{1}_{10} \\phi^{2}_{10} \\phi_{s00} \\phi_{s02}}{4 \\left(\\alpha - \\epsilon^{1}_{1} + 2 \\omega_{s}\\right)} + \\frac{E_{L}^{2} \\phi^{1}_{10} \\phi^{2}_{10} \\phi_{s01} \\phi_{s12}}{4 \\left(- \\epsilon^{2}_{1} + \\omega_{s}\\right)} + \\frac{E_{L}^{2} \\phi^{1}_{10} \\phi^{2}_{10} \\phi_{s01} \\phi_{s12}}{4 \\left(- \\epsilon^{1}_{1} + \\omega_{s}\\right)} + \\frac{E_{L}^{2} \\phi^{1}_{10} \\phi^{2}_{10} \\phi_{s02} \\phi_{s22}}{4 \\left(\\alpha - \\epsilon^{2}_{1} + 2 \\omega_{s}\\right)} + \\frac{E_{L}^{2} \\phi^{1}_{10} \\phi^{2}_{10} \\phi_{s02} \\phi_{s22}}{4 \\left(\\alpha - \\epsilon^{1}_{1} + 2 \\omega_{s}\\right)}\\right)}{\\alpha - \\epsilon^{1}_{1} - \\epsilon^{2}_{1} + 2 \\omega_{s}} - \\frac{i n_{02} \\left(\\frac{E_{L}^{2} \\phi^{1}_{10} \\phi^{2}_{10} \\phi_{s00} \\phi_{s02}}{4 \\left(- \\alpha - \\epsilon^{2}_{1} - 2 \\omega_{s}\\right)} + \\frac{E_{L}^{2} \\phi^{1}_{10} \\phi^{2}_{10} \\phi_{s00} \\phi_{s02}}{4 \\left(- \\alpha - \\epsilon^{1}_{1} - 2 \\omega_{s}\\right)} - \\frac{E_{L}^{2} \\phi^{1}_{10} \\phi^{2}_{10} \\phi_{s01} \\phi_{s12}}{4 \\left(- \\epsilon^{2}_{1} - \\omega_{s}\\right)} - \\frac{E_{L}^{2} \\phi^{1}_{10} \\phi^{2}_{10} \\phi_{s01} \\phi_{s12}}{4 \\left(- \\epsilon^{1}_{1} - \\omega_{s}\\right)} - \\frac{E_{L}^{2} \\phi^{1}_{10} \\phi^{2}_{10} \\phi_{s02} \\phi_{s22}}{4 \\left(- \\alpha - \\epsilon^{2}_{1} - 2 \\omega_{s}\\right)} - \\frac{E_{L}^{2} \\phi^{1}_{10} \\phi^{2}_{10} \\phi_{s02} \\phi_{s22}}{4 \\left(- \\alpha - \\epsilon^{1}_{1} - 2 \\omega_{s}\\right)}\\right)}{- \\alpha - \\epsilon^{1}_{1} - \\epsilon^{2}_{1} - 2 \\omega_{s}}$"
      ],
      "text/plain": [
       "-I*n_01*(-E_L**2*phi^1_10*phi^2_10*phi_s00*phi_s01/(4*(-epsilon^2_1 + omega_s)) - E_L**2*phi^1_10*phi^2_10*phi_s00*phi_s01/(4*(-epsilon^1_1 + omega_s)) + E_L**2*phi^1_10*phi^2_10*phi_s01*phi_s11/(4*(-epsilon^2_1 + omega_s)) + E_L**2*phi^1_10*phi^2_10*phi_s01*phi_s11/(4*(-epsilon^1_1 + omega_s)) + E_L**2*phi^1_10*phi^2_10*phi_s02*phi_s12/(4*(alpha - epsilon^2_1 + 2*omega_s)) + E_L**2*phi^1_10*phi^2_10*phi_s02*phi_s12/(4*(alpha - epsilon^1_1 + 2*omega_s)))/(-epsilon^1_1 - epsilon^2_1 + omega_s) - I*n_01*(E_L**2*phi^1_10*phi^2_10*phi_s00*phi_s01/(4*(-epsilon^2_1 - omega_s)) + E_L**2*phi^1_10*phi^2_10*phi_s00*phi_s01/(4*(-epsilon^1_1 - omega_s)) - E_L**2*phi^1_10*phi^2_10*phi_s01*phi_s11/(4*(-epsilon^2_1 - omega_s)) - E_L**2*phi^1_10*phi^2_10*phi_s01*phi_s11/(4*(-epsilon^1_1 - omega_s)) - E_L**2*phi^1_10*phi^2_10*phi_s02*phi_s12/(4*(-alpha - epsilon^2_1 - 2*omega_s)) - E_L**2*phi^1_10*phi^2_10*phi_s02*phi_s12/(4*(-alpha - epsilon^1_1 - 2*omega_s)))/(-epsilon^1_1 - epsilon^2_1 - omega_s) - I*n_02*(-E_L**2*phi^1_10*phi^2_10*phi_s00*phi_s02/(4*(alpha - epsilon^2_1 + 2*omega_s)) - E_L**2*phi^1_10*phi^2_10*phi_s00*phi_s02/(4*(alpha - epsilon^1_1 + 2*omega_s)) + E_L**2*phi^1_10*phi^2_10*phi_s01*phi_s12/(4*(-epsilon^2_1 + omega_s)) + E_L**2*phi^1_10*phi^2_10*phi_s01*phi_s12/(4*(-epsilon^1_1 + omega_s)) + E_L**2*phi^1_10*phi^2_10*phi_s02*phi_s22/(4*(alpha - epsilon^2_1 + 2*omega_s)) + E_L**2*phi^1_10*phi^2_10*phi_s02*phi_s22/(4*(alpha - epsilon^1_1 + 2*omega_s)))/(alpha - epsilon^1_1 - epsilon^2_1 + 2*omega_s) - I*n_02*(E_L**2*phi^1_10*phi^2_10*phi_s00*phi_s02/(4*(-alpha - epsilon^2_1 - 2*omega_s)) + E_L**2*phi^1_10*phi^2_10*phi_s00*phi_s02/(4*(-alpha - epsilon^1_1 - 2*omega_s)) - E_L**2*phi^1_10*phi^2_10*phi_s01*phi_s12/(4*(-epsilon^2_1 - omega_s)) - E_L**2*phi^1_10*phi^2_10*phi_s01*phi_s12/(4*(-epsilon^1_1 - omega_s)) - E_L**2*phi^1_10*phi^2_10*phi_s02*phi_s22/(4*(-alpha - epsilon^2_1 - 2*omega_s)) - E_L**2*phi^1_10*phi^2_10*phi_s02*phi_s22/(4*(-alpha - epsilon^1_1 - 2*omega_s)))/(-alpha - epsilon^1_1 - epsilon^2_1 - 2*omega_s)"
      ]
     },
     "execution_count": 23,
     "metadata": {},
     "output_type": "execute_result"
    }
   ],
   "source": [
    "x"
   ]
  },
  {
   "cell_type": "code",
   "execution_count": 24,
   "metadata": {},
   "outputs": [],
   "source": [
    "y = comm(S2, chargeop)[1,2]"
   ]
  },
  {
   "cell_type": "code",
   "execution_count": 25,
   "metadata": {},
   "outputs": [
    {
     "data": {
      "text/latex": [
       "$\\displaystyle - \\frac{i n_{01} \\left(- \\frac{E_{L}^{2} \\phi^{1}_{10} \\phi^{2}_{10} \\phi_{s00} \\phi_{s01}}{4 \\left(- \\epsilon^{2}_{1} + \\omega_{s}\\right)} - \\frac{E_{L}^{2} \\phi^{1}_{10} \\phi^{2}_{10} \\phi_{s00} \\phi_{s01}}{4 \\left(\\epsilon^{1}_{1} + \\omega_{s}\\right)} + \\frac{E_{L}^{2} \\phi^{1}_{10} \\phi^{2}_{10} \\phi_{s01} \\phi_{s11}}{4 \\left(- \\epsilon^{2}_{1} + \\omega_{s}\\right)} + \\frac{E_{L}^{2} \\phi^{1}_{10} \\phi^{2}_{10} \\phi_{s01} \\phi_{s11}}{4 \\left(\\epsilon^{1}_{1} + \\omega_{s}\\right)} + \\frac{E_{L}^{2} \\phi^{1}_{10} \\phi^{2}_{10} \\phi_{s02} \\phi_{s12}}{4 \\left(\\alpha - \\epsilon^{2}_{1} + 2 \\omega_{s}\\right)} + \\frac{E_{L}^{2} \\phi^{1}_{10} \\phi^{2}_{10} \\phi_{s02} \\phi_{s12}}{4 \\left(\\alpha + \\epsilon^{1}_{1} + 2 \\omega_{s}\\right)}\\right)}{\\epsilon^{1}_{1} - \\epsilon^{2}_{1} + \\omega_{s}} - \\frac{i n_{01} \\left(\\frac{E_{L}^{2} \\phi^{1}_{10} \\phi^{2}_{10} \\phi_{s00} \\phi_{s01}}{4 \\left(- \\epsilon^{2}_{1} - \\omega_{s}\\right)} + \\frac{E_{L}^{2} \\phi^{1}_{10} \\phi^{2}_{10} \\phi_{s00} \\phi_{s01}}{4 \\left(\\epsilon^{1}_{1} - \\omega_{s}\\right)} - \\frac{E_{L}^{2} \\phi^{1}_{10} \\phi^{2}_{10} \\phi_{s01} \\phi_{s11}}{4 \\left(- \\epsilon^{2}_{1} - \\omega_{s}\\right)} - \\frac{E_{L}^{2} \\phi^{1}_{10} \\phi^{2}_{10} \\phi_{s01} \\phi_{s11}}{4 \\left(\\epsilon^{1}_{1} - \\omega_{s}\\right)} - \\frac{E_{L}^{2} \\phi^{1}_{10} \\phi^{2}_{10} \\phi_{s02} \\phi_{s12}}{4 \\left(- \\alpha - \\epsilon^{2}_{1} - 2 \\omega_{s}\\right)} - \\frac{E_{L}^{2} \\phi^{1}_{10} \\phi^{2}_{10} \\phi_{s02} \\phi_{s12}}{4 \\left(- \\alpha + \\epsilon^{1}_{1} - 2 \\omega_{s}\\right)}\\right)}{\\epsilon^{1}_{1} - \\epsilon^{2}_{1} - \\omega_{s}} - \\frac{i n_{02} \\left(- \\frac{E_{L}^{2} \\phi^{1}_{10} \\phi^{2}_{10} \\phi_{s00} \\phi_{s02}}{4 \\left(\\alpha - \\epsilon^{2}_{1} + 2 \\omega_{s}\\right)} - \\frac{E_{L}^{2} \\phi^{1}_{10} \\phi^{2}_{10} \\phi_{s00} \\phi_{s02}}{4 \\left(\\alpha + \\epsilon^{1}_{1} + 2 \\omega_{s}\\right)} + \\frac{E_{L}^{2} \\phi^{1}_{10} \\phi^{2}_{10} \\phi_{s01} \\phi_{s12}}{4 \\left(- \\epsilon^{2}_{1} + \\omega_{s}\\right)} + \\frac{E_{L}^{2} \\phi^{1}_{10} \\phi^{2}_{10} \\phi_{s01} \\phi_{s12}}{4 \\left(\\epsilon^{1}_{1} + \\omega_{s}\\right)} + \\frac{E_{L}^{2} \\phi^{1}_{10} \\phi^{2}_{10} \\phi_{s02} \\phi_{s22}}{4 \\left(\\alpha - \\epsilon^{2}_{1} + 2 \\omega_{s}\\right)} + \\frac{E_{L}^{2} \\phi^{1}_{10} \\phi^{2}_{10} \\phi_{s02} \\phi_{s22}}{4 \\left(\\alpha + \\epsilon^{1}_{1} + 2 \\omega_{s}\\right)}\\right)}{\\alpha + \\epsilon^{1}_{1} - \\epsilon^{2}_{1} + 2 \\omega_{s}} - \\frac{i n_{02} \\left(\\frac{E_{L}^{2} \\phi^{1}_{10} \\phi^{2}_{10} \\phi_{s00} \\phi_{s02}}{4 \\left(- \\alpha - \\epsilon^{2}_{1} - 2 \\omega_{s}\\right)} + \\frac{E_{L}^{2} \\phi^{1}_{10} \\phi^{2}_{10} \\phi_{s00} \\phi_{s02}}{4 \\left(- \\alpha + \\epsilon^{1}_{1} - 2 \\omega_{s}\\right)} - \\frac{E_{L}^{2} \\phi^{1}_{10} \\phi^{2}_{10} \\phi_{s01} \\phi_{s12}}{4 \\left(- \\epsilon^{2}_{1} - \\omega_{s}\\right)} - \\frac{E_{L}^{2} \\phi^{1}_{10} \\phi^{2}_{10} \\phi_{s01} \\phi_{s12}}{4 \\left(\\epsilon^{1}_{1} - \\omega_{s}\\right)} - \\frac{E_{L}^{2} \\phi^{1}_{10} \\phi^{2}_{10} \\phi_{s02} \\phi_{s22}}{4 \\left(- \\alpha - \\epsilon^{2}_{1} - 2 \\omega_{s}\\right)} - \\frac{E_{L}^{2} \\phi^{1}_{10} \\phi^{2}_{10} \\phi_{s02} \\phi_{s22}}{4 \\left(- \\alpha + \\epsilon^{1}_{1} - 2 \\omega_{s}\\right)}\\right)}{- \\alpha + \\epsilon^{1}_{1} - \\epsilon^{2}_{1} - 2 \\omega_{s}}$"
      ],
      "text/plain": [
       "-I*n_01*(-E_L**2*phi^1_10*phi^2_10*phi_s00*phi_s01/(4*(-epsilon^2_1 + omega_s)) - E_L**2*phi^1_10*phi^2_10*phi_s00*phi_s01/(4*(epsilon^1_1 + omega_s)) + E_L**2*phi^1_10*phi^2_10*phi_s01*phi_s11/(4*(-epsilon^2_1 + omega_s)) + E_L**2*phi^1_10*phi^2_10*phi_s01*phi_s11/(4*(epsilon^1_1 + omega_s)) + E_L**2*phi^1_10*phi^2_10*phi_s02*phi_s12/(4*(alpha - epsilon^2_1 + 2*omega_s)) + E_L**2*phi^1_10*phi^2_10*phi_s02*phi_s12/(4*(alpha + epsilon^1_1 + 2*omega_s)))/(epsilon^1_1 - epsilon^2_1 + omega_s) - I*n_01*(E_L**2*phi^1_10*phi^2_10*phi_s00*phi_s01/(4*(-epsilon^2_1 - omega_s)) + E_L**2*phi^1_10*phi^2_10*phi_s00*phi_s01/(4*(epsilon^1_1 - omega_s)) - E_L**2*phi^1_10*phi^2_10*phi_s01*phi_s11/(4*(-epsilon^2_1 - omega_s)) - E_L**2*phi^1_10*phi^2_10*phi_s01*phi_s11/(4*(epsilon^1_1 - omega_s)) - E_L**2*phi^1_10*phi^2_10*phi_s02*phi_s12/(4*(-alpha - epsilon^2_1 - 2*omega_s)) - E_L**2*phi^1_10*phi^2_10*phi_s02*phi_s12/(4*(-alpha + epsilon^1_1 - 2*omega_s)))/(epsilon^1_1 - epsilon^2_1 - omega_s) - I*n_02*(-E_L**2*phi^1_10*phi^2_10*phi_s00*phi_s02/(4*(alpha - epsilon^2_1 + 2*omega_s)) - E_L**2*phi^1_10*phi^2_10*phi_s00*phi_s02/(4*(alpha + epsilon^1_1 + 2*omega_s)) + E_L**2*phi^1_10*phi^2_10*phi_s01*phi_s12/(4*(-epsilon^2_1 + omega_s)) + E_L**2*phi^1_10*phi^2_10*phi_s01*phi_s12/(4*(epsilon^1_1 + omega_s)) + E_L**2*phi^1_10*phi^2_10*phi_s02*phi_s22/(4*(alpha - epsilon^2_1 + 2*omega_s)) + E_L**2*phi^1_10*phi^2_10*phi_s02*phi_s22/(4*(alpha + epsilon^1_1 + 2*omega_s)))/(alpha + epsilon^1_1 - epsilon^2_1 + 2*omega_s) - I*n_02*(E_L**2*phi^1_10*phi^2_10*phi_s00*phi_s02/(4*(-alpha - epsilon^2_1 - 2*omega_s)) + E_L**2*phi^1_10*phi^2_10*phi_s00*phi_s02/(4*(-alpha + epsilon^1_1 - 2*omega_s)) - E_L**2*phi^1_10*phi^2_10*phi_s01*phi_s12/(4*(-epsilon^2_1 - omega_s)) - E_L**2*phi^1_10*phi^2_10*phi_s01*phi_s12/(4*(epsilon^1_1 - omega_s)) - E_L**2*phi^1_10*phi^2_10*phi_s02*phi_s22/(4*(-alpha - epsilon^2_1 - 2*omega_s)) - E_L**2*phi^1_10*phi^2_10*phi_s02*phi_s22/(4*(-alpha + epsilon^1_1 - 2*omega_s)))/(-alpha + epsilon^1_1 - epsilon^2_1 - 2*omega_s)"
      ]
     },
     "execution_count": 25,
     "metadata": {},
     "output_type": "execute_result"
    }
   ],
   "source": [
    "y"
   ]
  },
  {
   "cell_type": "code",
   "execution_count": 26,
   "metadata": {},
   "outputs": [],
   "source": [
    "# from sympy import expand, collect\n",
    "# # Define symbolic variables and operators\n",
    "# lambda_sym = sp.Symbol('lambda')\n",
    "# # A = sp.Symbol('A', commutative=False)\n",
    "# # S1 = sp.Symbol('S1', commutative=False)\n",
    "# # S2 = sp.Symbol('S2', commutative=False)\n",
    "# # S3 = sp.Symbol('S3', commutative=False)\n",
    "\n",
    "# # Define S up to third order in lambda\n",
    "# S = lambda_sym * S1 + lambda_sym**2 * S2 \n",
    "# # + lambda_sym**3 * S3\n",
    "\n",
    "\n",
    "# # Perform BCH expansion\n",
    "# result = chargeop + comm(S, chargeop) + (1/2) * comm(S, comm(S, chargeop))\n",
    "# # + (1/6) * comm(S, comm(S, comm(S, A)))\n",
    "\n",
    "# # Expand the result\n",
    "# expanded_result = expand(result)\n",
    "\n",
    "# # Collect terms by order of lambda\n",
    "# collected = collect(expanded_result, lambda_sym, evaluate=False)\n",
    "\n",
    "# first_order = collected.get(lambda_sym, 0)\n",
    "# second_order = collected.get(lambda_sym**2, 0)\n",
    "# # third_order = collected.get(lambda_sym**3, 0)\n",
    "    "
   ]
  },
  {
   "cell_type": "code",
   "execution_count": 27,
   "metadata": {},
   "outputs": [],
   "source": [
    "# second_order"
   ]
  },
  {
   "cell_type": "code",
   "execution_count": 28,
   "metadata": {},
   "outputs": [],
   "source": [
    "chargeop_trans = sp.Rational(1,2)*chargeop*S1@S1 - chargeop*S2 - S1*chargeop*S1 + sp.Rational(1,2)*S1*S1*chargeop + S2*chargeop"
   ]
  },
  {
   "cell_type": "code",
   "execution_count": 33,
   "metadata": {},
   "outputs": [],
   "source": [
    "# Create symbolic variables for epsilon1 and epsilon2, but set the first element to 0\n",
    "x = chargeop_trans[0,3].subs(alpha,0)"
   ]
  },
  {
   "cell_type": "code",
   "execution_count": 94,
   "metadata": {},
   "outputs": [],
   "source": [
    "epsilon1 = [0] + [sp.Symbol(f'epsilon^1_{i}') for i in range(1, d)]\n",
    "epsilon2 = [0] + [sp.Symbol(f'epsilon^2_{i}') for i in range(1, d)]"
   ]
  },
  {
   "cell_type": "code",
   "execution_count": 96,
   "metadata": {},
   "outputs": [
    {
     "data": {
      "text/latex": [
       "$\\displaystyle \\frac{i E_{L}^{2} n_{12} \\phi^{1}_{10} \\phi^{2}_{10} \\phi_{s01} \\phi_{s02}}{4 \\left(- \\epsilon^{1}_{1} + 2 \\omega_{s}\\right) \\left(- \\epsilon^{2}_{1} - \\omega_{s}\\right)} - \\frac{i E_{L}^{2} n_{12} \\phi^{1}_{10} \\phi^{2}_{10} \\phi_{s01} \\phi_{s02}}{4 \\left(- \\epsilon^{1}_{1} + \\omega_{s}\\right) \\left(- \\epsilon^{2}_{1} - 2 \\omega_{s}\\right)} + \\frac{i E_{L}^{2} n_{12} \\phi^{1}_{10} \\phi^{2}_{10} \\phi_{s01} \\phi_{s02}}{4 \\left(- \\epsilon^{1}_{1} - \\omega_{s}\\right) \\left(- \\epsilon^{2}_{1} + 2 \\omega_{s}\\right)} - \\frac{i E_{L}^{2} n_{12} \\phi^{1}_{10} \\phi^{2}_{10} \\phi_{s01} \\phi_{s02}}{4 \\left(- \\epsilon^{1}_{1} - 2 \\omega_{s}\\right) \\left(- \\epsilon^{2}_{1} + \\omega_{s}\\right)} - \\frac{i n_{01} \\left(- \\frac{E_{L}^{2} \\phi^{1}_{10} \\phi^{2}_{10} \\phi_{s00} \\phi_{s01}}{4 \\left(- \\epsilon^{2}_{1} + \\omega_{s}\\right)} - \\frac{E_{L}^{2} \\phi^{1}_{10} \\phi^{2}_{10} \\phi_{s00} \\phi_{s01}}{4 \\left(- \\epsilon^{1}_{1} + \\omega_{s}\\right)} + \\frac{E_{L}^{2} \\phi^{1}_{10} \\phi^{2}_{10} \\phi_{s01} \\phi_{s11}}{4 \\left(- \\epsilon^{2}_{1} + \\omega_{s}\\right)} + \\frac{E_{L}^{2} \\phi^{1}_{10} \\phi^{2}_{10} \\phi_{s01} \\phi_{s11}}{4 \\left(- \\epsilon^{1}_{1} + \\omega_{s}\\right)} + \\frac{E_{L}^{2} \\phi^{1}_{10} \\phi^{2}_{10} \\phi_{s02} \\phi_{s12}}{4 \\left(- \\epsilon^{2}_{1} + 2 \\omega_{s}\\right)} + \\frac{E_{L}^{2} \\phi^{1}_{10} \\phi^{2}_{10} \\phi_{s02} \\phi_{s12}}{4 \\left(- \\epsilon^{1}_{1} + 2 \\omega_{s}\\right)}\\right)}{- \\epsilon^{1}_{1} - \\epsilon^{2}_{1} + \\omega_{s}} - \\frac{i n_{01} \\left(\\frac{E_{L}^{2} \\phi^{1}_{10} \\phi^{2}_{10} \\phi_{s00} \\phi_{s01}}{4 \\left(- \\epsilon^{2}_{1} - \\omega_{s}\\right)} + \\frac{E_{L}^{2} \\phi^{1}_{10} \\phi^{2}_{10} \\phi_{s00} \\phi_{s01}}{4 \\left(- \\epsilon^{1}_{1} - \\omega_{s}\\right)} - \\frac{E_{L}^{2} \\phi^{1}_{10} \\phi^{2}_{10} \\phi_{s01} \\phi_{s11}}{4 \\left(- \\epsilon^{2}_{1} - \\omega_{s}\\right)} - \\frac{E_{L}^{2} \\phi^{1}_{10} \\phi^{2}_{10} \\phi_{s01} \\phi_{s11}}{4 \\left(- \\epsilon^{1}_{1} - \\omega_{s}\\right)} - \\frac{E_{L}^{2} \\phi^{1}_{10} \\phi^{2}_{10} \\phi_{s02} \\phi_{s12}}{4 \\left(- \\epsilon^{2}_{1} - 2 \\omega_{s}\\right)} - \\frac{E_{L}^{2} \\phi^{1}_{10} \\phi^{2}_{10} \\phi_{s02} \\phi_{s12}}{4 \\left(- \\epsilon^{1}_{1} - 2 \\omega_{s}\\right)}\\right)}{- \\epsilon^{1}_{1} - \\epsilon^{2}_{1} - \\omega_{s}} - \\frac{i n_{02} \\left(- \\frac{E_{L}^{2} \\phi^{1}_{10} \\phi^{2}_{10} \\phi_{s00} \\phi_{s02}}{4 \\left(- \\epsilon^{2}_{1} + 2 \\omega_{s}\\right)} - \\frac{E_{L}^{2} \\phi^{1}_{10} \\phi^{2}_{10} \\phi_{s00} \\phi_{s02}}{4 \\left(- \\epsilon^{1}_{1} + 2 \\omega_{s}\\right)} + \\frac{E_{L}^{2} \\phi^{1}_{10} \\phi^{2}_{10} \\phi_{s01} \\phi_{s12}}{4 \\left(- \\epsilon^{2}_{1} + \\omega_{s}\\right)} + \\frac{E_{L}^{2} \\phi^{1}_{10} \\phi^{2}_{10} \\phi_{s01} \\phi_{s12}}{4 \\left(- \\epsilon^{1}_{1} + \\omega_{s}\\right)} + \\frac{E_{L}^{2} \\phi^{1}_{10} \\phi^{2}_{10} \\phi_{s02} \\phi_{s22}}{4 \\left(- \\epsilon^{2}_{1} + 2 \\omega_{s}\\right)} + \\frac{E_{L}^{2} \\phi^{1}_{10} \\phi^{2}_{10} \\phi_{s02} \\phi_{s22}}{4 \\left(- \\epsilon^{1}_{1} + 2 \\omega_{s}\\right)}\\right)}{- \\epsilon^{1}_{1} - \\epsilon^{2}_{1} + 2 \\omega_{s}} - \\frac{i n_{02} \\left(\\frac{E_{L}^{2} \\phi^{1}_{10} \\phi^{2}_{10} \\phi_{s00} \\phi_{s02}}{4 \\left(- \\epsilon^{2}_{1} - 2 \\omega_{s}\\right)} + \\frac{E_{L}^{2} \\phi^{1}_{10} \\phi^{2}_{10} \\phi_{s00} \\phi_{s02}}{4 \\left(- \\epsilon^{1}_{1} - 2 \\omega_{s}\\right)} - \\frac{E_{L}^{2} \\phi^{1}_{10} \\phi^{2}_{10} \\phi_{s01} \\phi_{s12}}{4 \\left(- \\epsilon^{2}_{1} - \\omega_{s}\\right)} - \\frac{E_{L}^{2} \\phi^{1}_{10} \\phi^{2}_{10} \\phi_{s01} \\phi_{s12}}{4 \\left(- \\epsilon^{1}_{1} - \\omega_{s}\\right)} - \\frac{E_{L}^{2} \\phi^{1}_{10} \\phi^{2}_{10} \\phi_{s02} \\phi_{s22}}{4 \\left(- \\epsilon^{2}_{1} - 2 \\omega_{s}\\right)} - \\frac{E_{L}^{2} \\phi^{1}_{10} \\phi^{2}_{10} \\phi_{s02} \\phi_{s22}}{4 \\left(- \\epsilon^{1}_{1} - 2 \\omega_{s}\\right)}\\right)}{- \\epsilon^{1}_{1} - \\epsilon^{2}_{1} - 2 \\omega_{s}}$"
      ],
      "text/plain": [
       "I*E_L**2*n_12*phi^1_10*phi^2_10*phi_s01*phi_s02/(4*(-epsilon^1_1 + 2*omega_s)*(-epsilon^2_1 - omega_s)) - I*E_L**2*n_12*phi^1_10*phi^2_10*phi_s01*phi_s02/(4*(-epsilon^1_1 + omega_s)*(-epsilon^2_1 - 2*omega_s)) + I*E_L**2*n_12*phi^1_10*phi^2_10*phi_s01*phi_s02/(4*(-epsilon^1_1 - omega_s)*(-epsilon^2_1 + 2*omega_s)) - I*E_L**2*n_12*phi^1_10*phi^2_10*phi_s01*phi_s02/(4*(-epsilon^1_1 - 2*omega_s)*(-epsilon^2_1 + omega_s)) - I*n_01*(-E_L**2*phi^1_10*phi^2_10*phi_s00*phi_s01/(4*(-epsilon^2_1 + omega_s)) - E_L**2*phi^1_10*phi^2_10*phi_s00*phi_s01/(4*(-epsilon^1_1 + omega_s)) + E_L**2*phi^1_10*phi^2_10*phi_s01*phi_s11/(4*(-epsilon^2_1 + omega_s)) + E_L**2*phi^1_10*phi^2_10*phi_s01*phi_s11/(4*(-epsilon^1_1 + omega_s)) + E_L**2*phi^1_10*phi^2_10*phi_s02*phi_s12/(4*(-epsilon^2_1 + 2*omega_s)) + E_L**2*phi^1_10*phi^2_10*phi_s02*phi_s12/(4*(-epsilon^1_1 + 2*omega_s)))/(-epsilon^1_1 - epsilon^2_1 + omega_s) - I*n_01*(E_L**2*phi^1_10*phi^2_10*phi_s00*phi_s01/(4*(-epsilon^2_1 - omega_s)) + E_L**2*phi^1_10*phi^2_10*phi_s00*phi_s01/(4*(-epsilon^1_1 - omega_s)) - E_L**2*phi^1_10*phi^2_10*phi_s01*phi_s11/(4*(-epsilon^2_1 - omega_s)) - E_L**2*phi^1_10*phi^2_10*phi_s01*phi_s11/(4*(-epsilon^1_1 - omega_s)) - E_L**2*phi^1_10*phi^2_10*phi_s02*phi_s12/(4*(-epsilon^2_1 - 2*omega_s)) - E_L**2*phi^1_10*phi^2_10*phi_s02*phi_s12/(4*(-epsilon^1_1 - 2*omega_s)))/(-epsilon^1_1 - epsilon^2_1 - omega_s) - I*n_02*(-E_L**2*phi^1_10*phi^2_10*phi_s00*phi_s02/(4*(-epsilon^2_1 + 2*omega_s)) - E_L**2*phi^1_10*phi^2_10*phi_s00*phi_s02/(4*(-epsilon^1_1 + 2*omega_s)) + E_L**2*phi^1_10*phi^2_10*phi_s01*phi_s12/(4*(-epsilon^2_1 + omega_s)) + E_L**2*phi^1_10*phi^2_10*phi_s01*phi_s12/(4*(-epsilon^1_1 + omega_s)) + E_L**2*phi^1_10*phi^2_10*phi_s02*phi_s22/(4*(-epsilon^2_1 + 2*omega_s)) + E_L**2*phi^1_10*phi^2_10*phi_s02*phi_s22/(4*(-epsilon^1_1 + 2*omega_s)))/(-epsilon^1_1 - epsilon^2_1 + 2*omega_s) - I*n_02*(E_L**2*phi^1_10*phi^2_10*phi_s00*phi_s02/(4*(-epsilon^2_1 - 2*omega_s)) + E_L**2*phi^1_10*phi^2_10*phi_s00*phi_s02/(4*(-epsilon^1_1 - 2*omega_s)) - E_L**2*phi^1_10*phi^2_10*phi_s01*phi_s12/(4*(-epsilon^2_1 - omega_s)) - E_L**2*phi^1_10*phi^2_10*phi_s01*phi_s12/(4*(-epsilon^1_1 - omega_s)) - E_L**2*phi^1_10*phi^2_10*phi_s02*phi_s22/(4*(-epsilon^2_1 - 2*omega_s)) - E_L**2*phi^1_10*phi^2_10*phi_s02*phi_s22/(4*(-epsilon^1_1 - 2*omega_s)))/(-epsilon^1_1 - epsilon^2_1 - 2*omega_s)"
      ]
     },
     "execution_count": 96,
     "metadata": {},
     "output_type": "execute_result"
    }
   ],
   "source": [
    "x"
   ]
  },
  {
   "cell_type": "code",
   "execution_count": 222,
   "metadata": {},
   "outputs": [],
   "source": [
    "term11 = x.args[4]+x.args[6]\n",
    "term12 = x.args[5]+x.args[7]\n",
    "first_term = (term11 + term12).simplify()\n",
    "first_term = ((first_term/first_term.args[-1]).subs(epsilon1[1],0).subs(epsilon2[1],0)*first_term.args[-1]).expand().subs(epsilon1[1],p-epsilon2[1]).expand()\n",
    "\n",
    "# Keep only the linear term with respect to p\n",
    "first_term = sp.collect(first_term, p).coeff(p)\n",
    "first_term = first_term.subs(epsilon1[1], 0).subs(epsilon2[1], 0)\n",
    "first_term = first_term*p"
   ]
  },
  {
   "cell_type": "code",
   "execution_count": 223,
   "metadata": {},
   "outputs": [],
   "source": [
    "second_term = (x.args[0] + x.args[1]).expand()\n",
    "simplified_args = [arg.factor() for arg in second_term.args]\n",
    "simplified_second_term = sum(simplified_args)\n",
    "second_term = simplified_second_term.subs(epsilon1[1],p-epsilon2[1]).subs(epsilon1[1],0).subs(epsilon2[1],0).simplify()\n",
    "n,d = sp.fraction(second_term)\n",
    "second_term = (n/d.subs(p,0)).expand()\n",
    "second_term = (sp.collect(second_term, p).coeff(p)*p).simplify()\n"
   ]
  },
  {
   "cell_type": "code",
   "execution_count": 224,
   "metadata": {},
   "outputs": [
    {
     "data": {
      "text/latex": [
       "$\\displaystyle \\frac{i E_{L}^{2} n_{01} p \\phi^{1}_{10} \\phi^{2}_{10} \\left(12 \\phi_{s00} \\phi_{s01} - 12 \\phi_{s01} \\phi_{s11} - 5 \\phi_{s02} \\phi_{s12}\\right)}{8 \\omega_{s}^{3}}$"
      ],
      "text/plain": [
       "I*E_L**2*n_01*p*phi^1_10*phi^2_10*(12*phi_s00*phi_s01 - 12*phi_s01*phi_s11 - 5*phi_s02*phi_s12)/(8*omega_s**3)"
      ]
     },
     "execution_count": 224,
     "metadata": {},
     "output_type": "execute_result"
    }
   ],
   "source": [
    "second_term"
   ]
  },
  {
   "cell_type": "code",
   "execution_count": 225,
   "metadata": {},
   "outputs": [],
   "source": [
    "third_term = (x.args[2] + x.args[3]).expand()\n",
    "simplified_args = [arg.factor() for arg in third_term.args]\n",
    "simplified_third_term = sum(simplified_args)\n",
    "third_term = simplified_third_term.subs(epsilon1[1], p - epsilon2[1]).subs(epsilon1[1], 0).subs(epsilon2[1], 0).simplify()\n",
    "n, d = sp.fraction(third_term)\n",
    "third_term = (n / d.subs(p, 0)).expand()\n",
    "third_term = (sp.collect(third_term, p).coeff(p) * p).simplify()\n"
   ]
  },
  {
   "cell_type": "code",
   "execution_count": 233,
   "metadata": {},
   "outputs": [],
   "source": [
    "x_app = first_term + second_term + third_term\n",
    "x_app = x_app.subs(p,epsilon1[1]+epsilon2[1])"
   ]
  },
  {
   "cell_type": "code",
   "execution_count": 234,
   "metadata": {},
   "outputs": [
    {
     "data": {
      "text/latex": [
       "$\\displaystyle \\frac{i E_{L}^{2} \\phi^{1}_{10} \\phi^{2}_{10} \\left(\\epsilon^{1}_{1} + \\epsilon^{2}_{1}\\right) \\left(- 2 n_{01} \\left(- 12 \\phi_{s00} \\phi_{s01} + 12 \\phi_{s01} \\phi_{s11} + 5 \\phi_{s02} \\phi_{s12}\\right) - n_{02} \\left(- 3 \\phi_{s00} \\phi_{s02} + 8 \\phi_{s01} \\phi_{s12} + 3 \\phi_{s02} \\phi_{s22}\\right) + 2 n_{12} \\phi_{s01} \\phi_{s02}\\right)}{16 \\omega_{s}^{3}}$"
      ],
      "text/plain": [
       "I*E_L**2*phi^1_10*phi^2_10*(epsilon^1_1 + epsilon^2_1)*(-2*n_01*(-12*phi_s00*phi_s01 + 12*phi_s01*phi_s11 + 5*phi_s02*phi_s12) - n_02*(-3*phi_s00*phi_s02 + 8*phi_s01*phi_s12 + 3*phi_s02*phi_s22) + 2*n_12*phi_s01*phi_s02)/(16*omega_s**3)"
      ]
     },
     "execution_count": 234,
     "metadata": {},
     "output_type": "execute_result"
    }
   ],
   "source": [
    "x_app.simplify()"
   ]
  },
  {
   "cell_type": "code",
   "execution_count": null,
   "metadata": {},
   "outputs": [],
   "source": []
  },
  {
   "cell_type": "code",
   "execution_count": 235,
   "metadata": {},
   "outputs": [],
   "source": [
    "import pickle\n",
    "\n",
    "# Store x in a file\n",
    "with open('x_variable.pkl', 'wb') as file:\n",
    "    pickle.dump(x, file)\n",
    "\n",
    "# Store x in a file\n",
    "with open('S2.pkl', 'wb') as file:\n",
    "    pickle.dump(x_app, file)\n",
    "\n"
   ]
  },
  {
   "cell_type": "code",
   "execution_count": null,
   "metadata": {},
   "outputs": [],
   "source": []
  }
 ],
 "metadata": {
  "kernelspec": {
   "display_name": "fluxonium",
   "language": "python",
   "name": "python3"
  },
  "language_info": {
   "codemirror_mode": {
    "name": "ipython",
    "version": 3
   },
   "file_extension": ".py",
   "mimetype": "text/x-python",
   "name": "python",
   "nbconvert_exporter": "python",
   "pygments_lexer": "ipython3",
   "version": "3.11.10"
  }
 },
 "nbformat": 4,
 "nbformat_minor": 2
}
